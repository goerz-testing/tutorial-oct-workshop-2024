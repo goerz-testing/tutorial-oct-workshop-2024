{
 "cells": [
  {
   "cell_type": "markdown",
   "id": "2bf2894c",
   "metadata": {},
   "source": [
    "<!-- Autoheader begin -->\n",
    "<hr/>\n",
    "<div id=\"navtitle_3_1_jl\" style=\"text-align:center; font-size:16px\">III.1 Population Inversion in a Two-Level-System using Krotov's Method and GRAPE</div>\n",
    "<hr/>\n",
    "<table style=\"width: 100%\">\n",
    "  <tr>\n",
    "    <th rowspan=\"2\" style=\"width:33%; text-align:center; font-size:16px\">\n",
    "        <a href=\"jl_exercise_2_3_chiral.ipynb\">$\\leftarrow$ previous notebook </a><br>\n",
    "        <a href=\"jl_exercise_2_3_chiral.ipynb\" style=\"font-size:13px\">II.3 Parameter Optimization of Three-Wave Mixing in a Three-Level System</a>\n",
    "    </th>\n",
    "    <td style=\"width:33%; text-align:center; font-size:16px\">\n",
    "        <a href=\"jl_exercise_2_1_TLS.ipynb\">$\\uparrow$ previous part $\\uparrow$</a><br>\n",
    "        <a href=\"jl_exercise_2_1_TLS.ipynb\" style=\"font-size:13px\">II.1 Population Inversion in a Two-Level-System using Parameter Optimization</a>\n",
    "    </td>\n",
    "    <th rowspan=\"2\" style=\"width:33%; text-align:center; font-size:16px\">\n",
    "        <a href=\"jl_exercise_3_2_lambda.ipynb\">next notebook $\\rightarrow$</a><br>\n",
    "        <a href=\"jl_exercise_3_2_lambda.ipynb\" style=\"font-size:13px\">III.2 Optimal Control for STIRAP</a>\n",
    "    </th>\n",
    "  </tr>\n",
    "  <tr style=\"width: 100%\">\n",
    "    <td style=\"width:33%; text-align:center; font-size:16px\">\n",
    "    </td>\n",
    "  </tr>\n",
    "</table>\n",
    "\n",
    "<div style=\"text-align: right;font-size: 16px\"><a href=\"../Python/py_exercise_3_1_TLS.ipynb\">👉 Python version</a></div>\n",
    "\n",
    "---\n",
    "<!-- Autoheader end -->"
   ]
  },
  {
   "cell_type": "markdown",
   "id": "7c4dfcc4",
   "metadata": {},
   "source": [
    "# Population Inversion in a Two-Level-System using Krotov's Method and GRAPE"
   ]
  },
  {
   "cell_type": "markdown",
   "id": "e5d3d381",
   "metadata": {
    "slideshow": {
     "slide_type": ""
    }
   },
   "source": [
    "$\\newcommand{tr}[0]{\\operatorname{tr}}\n",
    "\\newcommand{diag}[0]{\\operatorname{diag}}\n",
    "\\newcommand{abs}[0]{\\operatorname{abs}}\n",
    "\\newcommand{pop}[0]{\\operatorname{pop}}\n",
    "\\newcommand{aux}[0]{\\text{aux}}\n",
    "\\newcommand{opt}[0]{\\text{opt}}\n",
    "\\newcommand{tgt}[0]{\\text{tgt}}\n",
    "\\newcommand{init}[0]{\\text{init}}\n",
    "\\newcommand{lab}[0]{\\text{lab}}\n",
    "\\newcommand{rwa}[0]{\\text{rwa}}\n",
    "\\newcommand{bra}[1]{\\langle#1\\vert}\n",
    "\\newcommand{ket}[1]{\\vert#1\\rangle}\n",
    "\\newcommand{Bra}[1]{\\left\\langle#1\\right\\vert}\n",
    "\\newcommand{Ket}[1]{\\left\\vert#1\\right\\rangle}\n",
    "\\newcommand{Braket}[2]{\\left\\langle #1\\vphantom{#2} \\mid\n",
    "#2\\vphantom{#1}\\right\\rangle}\n",
    "\\newcommand{op}[1]{\\hat{#1}}\n",
    "\\newcommand{Op}[1]{\\hat{#1}}\n",
    "\\newcommand{dd}[0]{\\,\\text{d}}\n",
    "\\newcommand{Liouville}[0]{\\mathcal{L}}\n",
    "\\newcommand{DynMap}[0]{\\mathcal{E}}\n",
    "\\newcommand{identity}[0]{\\mathbf{1}}\n",
    "\\newcommand{Norm}[1]{\\lVert#1\\rVert}\n",
    "\\newcommand{Abs}[1]{\\left\\vert#1\\right\\vert}\n",
    "\\newcommand{avg}[1]{\\langle#1\\rangle}\n",
    "\\newcommand{Avg}[1]{\\left\\langle#1\\right\\rangle}\n",
    "\\newcommand{AbsSq}[1]{\\left\\vert#1\\right\\vert^2}\n",
    "\\newcommand{Re}[0]{\\operatorname{Re}}\n",
    "\\newcommand{Im}[0]{\\operatorname{Im}}$"
   ]
  },
  {
   "cell_type": "markdown",
   "id": "c9a3afa0",
   "metadata": {},
   "source": [
    "This notebook is the first illustration of using a complete optimal control framework with\n",
    "gradient-based methods. It considers the example of inverting the\n",
    "population in a two-level system that we have already explored in \n",
    "[Exercise I.1](jl_exercise_1_1_TLS.ipynb) and \n",
    "[Exercise II.1](jl_exercise_2_1_TLS.ipynb). These previous notebooks were aimed at finding control solutions by\n",
    "tuning a small number of analytical parameters for a simple pulse shape,\n",
    "either by hand, or by using a gradient-free numerical optimization method, respectively.\n",
    "\n",
    "In this notebook, you will learn how to use numerical optimization to find\n",
    "control fields $E(t)$ which are not limited to a simple, predefined analytical shape.\n",
    "Instead, we treat the value of $E(t)$ at every point $t$ of a finely sampled time grid as an independent\n",
    "control parameter. This allows for a lot of control parameters (as many as\n",
    "there are points on the time grid) and thus a lot of freedom to find optimal solutions. Gradient-free methods are only suitable for a small amount of control parameters and are thus not appropriate for such a task. Instead, we employ methods which take into account the *gradient* of the optimization functional with respect to the control parameters (the values $E(t)$). Two of the more established methods for gradient-based optimization of fields $E(t)$ (approximated as piecewise-constant on a fine time grid) are \"GRadient Ascent Pulse Engineering\" (GRAPE) and\n",
    "Krotov's method."
   ]
  },
  {
   "cell_type": "markdown",
   "id": "ad12e2a1",
   "metadata": {},
   "source": [
    "You will learn here the use of the [`QuantumControl` Julia\n",
    "framework](https://juliaquantumcontrol.github.io/QuantumControl.jl) to\n",
    "formulate and solve the control problem."
   ]
  },
  {
   "cell_type": "code",
   "execution_count": null,
   "id": "239dddb2",
   "metadata": {},
   "outputs": [],
   "source": [
    "using QuantumControl"
   ]
  },
  {
   "cell_type": "markdown",
   "id": "f5177e5f",
   "metadata": {},
   "source": [
    "Specifically, we'll be using Krotov's method as implemented in the `Krotov`\n",
    "(sub-)package."
   ]
  },
  {
   "cell_type": "code",
   "execution_count": null,
   "id": "7fcf3d20",
   "metadata": {},
   "outputs": [],
   "source": [
    "using Krotov"
   ]
  },
  {
   "cell_type": "markdown",
   "id": "8b39abf0",
   "metadata": {},
   "source": [
    "Or, optionally (as a \"bonus\"), you can also learn how to use GRAPE."
   ]
  },
  {
   "cell_type": "code",
   "execution_count": null,
   "id": "0864050f",
   "metadata": {},
   "outputs": [],
   "source": [
    "using GRAPE"
   ]
  },
  {
   "cell_type": "markdown",
   "id": "f00ba318",
   "metadata": {},
   "source": [
    "Both methods work equally well in this example example. We use Krotov's method as the default to match the workflow in the corresponding Python notebook.\n"
   ]
  },
  {
   "cell_type": "markdown",
   "id": "063641ab",
   "metadata": {},
   "source": [
    "## Setup"
   ]
  },
  {
   "cell_type": "markdown",
   "id": "5b319773",
   "metadata": {},
   "source": [
    "For simulating the dynamics, we will use the `propagate` function from the `QuantumPropagators` package. In the context of optimal control with Krotov's method, control fields must be treated as piecewise constant. For a small system like in this example, the simplest and most efficient approach for the time propagation is to construct a time evolution operator in each time step using explicit matrix exponentiation. This is implemented as `ExpProp` in `QuantumPropagators`:"
   ]
  },
  {
   "cell_type": "code",
   "execution_count": null,
   "id": "ac80a1f1",
   "metadata": {},
   "outputs": [],
   "source": [
    "using QuantumPropagators: propagate\n",
    "using QuantumPropagators: ExpProp"
   ]
  },
  {
   "cell_type": "markdown",
   "id": "ea07b7b2",
   "metadata": {},
   "source": [
    "For visualization, we will use the `Plots` package"
   ]
  },
  {
   "cell_type": "code",
   "execution_count": null,
   "id": "08499576",
   "metadata": {},
   "outputs": [],
   "source": [
    "using Plots\n",
    "\n",
    "# Set up thicker default lines in plots\n",
    "Plots.default(\n",
    "    linewidth               = 2.0,\n",
    "    foreground_color_legend = nothing,\n",
    "    background_color_legend = RGBA(1, 1, 1, 0.8)\n",
    ")"
   ]
  },
  {
   "cell_type": "markdown",
   "id": "bebbc1e3",
   "metadata": {},
   "source": [
    "## Define the Hamiltonian"
   ]
  },
  {
   "cell_type": "markdown",
   "id": "3cfdb014",
   "metadata": {},
   "source": [
    "In the\n",
    "following the Hamiltonian, guess field, and states are defined.\n",
    "\n",
    "The Hamiltonian\n",
    "$\\op{H}_{0} = - \\frac{\\omega}{2} \\op{\\sigma}_{z}$\n",
    "represents a\n",
    "simple qubit with energy\n",
    "level splitting $\\omega$ in the canonical basis\n",
    "$\\{\\ket{0},\\ket{1}\\}$. The control\n",
    "field\n",
    "$\\epsilon(t)$ is assumed to couple via\n",
    "the\n",
    "Hamiltonian $\\op{H}_{1}(t) =\n",
    "\\epsilon(t) \\op{\\sigma}_{x}$ to the qubit,\n",
    "i.e., the control\n",
    "field effectively\n",
    "drives\n",
    "transitions between the two basis states."
   ]
  },
  {
   "cell_type": "code",
   "execution_count": null,
   "id": "eb685372",
   "metadata": {},
   "outputs": [],
   "source": [
    "\"\"\"Two-level-system Hamiltonian\n",
    "\n",
    "# Keyword Arguments\n",
    "\n",
    "* `omega` (float): energy separation of the qubit levels\n",
    "* `eps0` (function): amplitude eps0(t) of the driving field\n",
    "\"\"\"\n",
    "function ham_and_states(; omega=1.0, eps0=(t -> 1.0))\n",
    "\n",
    "    H₀ = -0.5 * omega * [\n",
    "        1   0\n",
    "        0  -1\n",
    "    ]\n",
    "    H₁ = Float64[\n",
    "        0  1\n",
    "        1  0\n",
    "    ]\n",
    "\n",
    "    Ψ₀ = ComplexF64[1, 0] # State |0⟩\n",
    "    Ψ₁ = ComplexF64[0, 1] # State |1⟩\n",
    "\n",
    "    H = hamiltonian(H₀, (H₁, eps0))\n",
    "\n",
    "    return H, Ψ₀, Ψ₁\n",
    "\n",
    "end"
   ]
  },
  {
   "cell_type": "markdown",
   "id": "fce29f77",
   "metadata": {},
   "source": [
    "In addition, we define a shape function $S(t)$ which takes care of\n",
    "experimental limits such as the necessity of finite ramps\n",
    "at the beginning and\n",
    "end of the control field."
   ]
  },
  {
   "cell_type": "code",
   "execution_count": null,
   "id": "d9a8d905",
   "metadata": {},
   "outputs": [],
   "source": [
    "\"\"\"Shape function for the field update\"\"\"\n",
    "S(t) = QuantumControl.Shapes.flattop(t; T=10.0, t_rise=0.5, func=:sinsq);"
   ]
  },
  {
   "cell_type": "markdown",
   "id": "fea9371d",
   "metadata": {},
   "source": [
    "This shape function will be used in two contexts: First, in the optimization with Krotov's method later on in this tutorial, it will shape the pulse update, ensuring that the boundary conditions are maintained in every iteration of the optimization.\n",
    "\n",
    "Second, we will also use $S(t)$ to multiply the guess field `eps0` when calling `ham_and_states` while simulating the dynamics under the guess pulse."
   ]
  },
  {
   "cell_type": "markdown",
   "id": "0a2369a6",
   "metadata": {},
   "source": [
    "## Simulate dynamics of the guess field"
   ]
  },
  {
   "cell_type": "markdown",
   "id": "0e005415",
   "metadata": {},
   "source": [
    "Before heading towards the optimization\n",
    "procedure, we first simulate the\n",
    "dynamics under the guess field\n",
    "$\\epsilon_{0}(t)$."
   ]
  },
  {
   "cell_type": "markdown",
   "id": "e02c20ed",
   "metadata": {},
   "source": [
    "However, before we can propagate the state under the guess field, we need to define the time grid of the\n",
    "dynamics. As an example, we define the\n",
    "initial state to be at time $t=0$ and\n",
    "consider a total propagation time of\n",
    "$T=10$. The entire time grid is divided into\n",
    "$n_{t}=80$ equidistant time steps (corresponding to 81 time grid points)."
   ]
  },
  {
   "cell_type": "code",
   "execution_count": null,
   "id": "37e42fc8",
   "metadata": {},
   "outputs": [],
   "source": [
    "tlist = collect(range(0, 10; length=81));"
   ]
  },
  {
   "cell_type": "markdown",
   "id": "dad139b0",
   "metadata": {},
   "source": [
    "Naturally, we also have to define the guess pulse itself."
   ]
  },
  {
   "cell_type": "code",
   "execution_count": null,
   "id": "8a287f0e",
   "metadata": {},
   "outputs": [],
   "source": [
    "\"\"\"Guess Amplitude (unshaped)\"\"\"\n",
    "E(t; A=0.1, σ=2) = A * exp(-(t-5)^2 / (2 * σ^2)) * cos(3t);"
   ]
  },
  {
   "cell_type": "markdown",
   "id": "d872662d",
   "metadata": {},
   "source": [
    "In the Hamiltonian, we multiply the guess `E(t)` with the shape `S(t)` as mentioned above:"
   ]
  },
  {
   "cell_type": "code",
   "execution_count": null,
   "id": "e05dd973",
   "metadata": {},
   "outputs": [],
   "source": [
    "H, Ψ₀, Ψ₁ = ham_and_states(eps0=(t -> S(t) * E(t)));"
   ]
  },
  {
   "cell_type": "markdown",
   "id": "07373dab",
   "metadata": {},
   "source": [
    "Feel free to play around with the definition of `E(t)` and the construction of the Hamiltonian."
   ]
  },
  {
   "cell_type": "markdown",
   "id": "a890072d",
   "metadata": {},
   "source": [
    "The total field looks as follows:"
   ]
  },
  {
   "cell_type": "code",
   "execution_count": null,
   "id": "88b8b5c0",
   "metadata": {},
   "outputs": [],
   "source": [
    "using QuantumControl.Controls: discretize\n",
    "\n",
    "function plot_pulse(pulse, tlist)\n",
    "    fig = plot(; xlabel=\"time\", ylabel=\"pulse amplitude\")\n",
    "    plot!(fig, tlist, discretize(pulse, tlist); label=\"\")\n",
    "    return fig\n",
    "end\n",
    "\n",
    "plot_pulse(H.amplitudes[1], tlist)"
   ]
  },
  {
   "cell_type": "markdown",
   "id": "7b90e943",
   "metadata": {},
   "source": [
    "Then, we solve the equation of motion for the initial state $\\ket{\\Psi_{\\init}}=\\ket{0}$ and the Hamiltonian $\\op{H}(t)$\n",
    "generating its evolution. Afterwards, we plot the population dynamics."
   ]
  },
  {
   "cell_type": "code",
   "execution_count": null,
   "id": "7bec6cde",
   "metadata": {},
   "outputs": [],
   "source": [
    "states = propagate(Ψ₀, H, tlist; method=ExpProp, storage=true);"
   ]
  },
  {
   "cell_type": "markdown",
   "id": "847fcbb7",
   "metadata": {},
   "source": [
    "The `storage` parameter tells `propagate` to return a concatenated array of shape `2×nt` containing the two-level state at each point in time. We can plot the population in both levels in one go, by applying the absolute-square function elementwise to the states:"
   ]
  },
  {
   "cell_type": "code",
   "execution_count": null,
   "id": "e1ae5c77",
   "metadata": {},
   "outputs": [],
   "source": [
    "plot(abs2.(states)', labels=[\"0\" \"1\"]; xlabel=\"time\", ylabel=\"population\")"
   ]
  },
  {
   "cell_type": "markdown",
   "id": "05b0b8c8",
   "metadata": {},
   "source": [
    "Note that there is a small amount of oscillation in the dynamics, which we can see by zooming in the dynamics of the $\\ket{1}$ state"
   ]
  },
  {
   "cell_type": "code",
   "execution_count": null,
   "id": "7ec17998",
   "metadata": {},
   "outputs": [],
   "source": [
    "plot(abs2.(states[2,:]), label=\"1\"; xlabel=\"time\", ylabel=\"population\")"
   ]
  },
  {
   "cell_type": "markdown",
   "id": "f5026473",
   "metadata": {},
   "source": [
    "We can do the same again, but plot the trajectory on the Bloch sphere instead. For that, we will need the expectation values of the Pauli operators, instead of the states or the population in these levels. Thus, we construct a list of `observables` and repeat the propagation:"
   ]
  },
  {
   "cell_type": "code",
   "execution_count": null,
   "id": "2b3813e6",
   "metadata": {},
   "outputs": [],
   "source": [
    "const 𝕚 = 1im\n",
    "σ_x = ComplexF64[0 1; 1 0]\n",
    "σ_y = ComplexF64[0 -𝕚; 𝕚 0]\n",
    "σ_z = ComplexF64[1 0; 0 -1]\n",
    "\n",
    "bloch_vals = propagate(Ψ₀, H, tlist; method=ExpProp, observables=[σ_x, σ_y, σ_z], storage=true);"
   ]
  },
  {
   "cell_type": "markdown",
   "id": "5d0d28a0",
   "metadata": {},
   "source": [
    "The Python [QuTiP](https://qutip.org) package contains some nice [Bloch sphere visualizations](https://qutip.org/docs/4.1/guide/guide-bloch.html), which unfortunately no one has ported to Julia yet. Luckily, Julia can call Python code with the help of the `PythonCall` package. We'll set that up here under the assumption that we can use the Python project environment for this tutorial. Please make sure that the `JULIA_PYTHONCALL_EXE` environment variable points to a `python` executable in an environment that has `qutip` intalled (*before* you execute `using PythonCall`, otherwise you'll have to restart the kernel for this notebook and rerun everything):"
   ]
  },
  {
   "cell_type": "code",
   "execution_count": null,
   "id": "9704d256",
   "metadata": {},
   "outputs": [],
   "source": [
    "ENV[\"JULIA_CONDAPKG_BACKEND\"] = \"Null\"\n",
    "ENV[\"JULIA_PYTHONCALL_EXE\"] = joinpath(\"..\", \".venv\",  Sys.iswindows() ? \"python.exe\" : \"bin/python\")\n",
    "\n",
    "using PythonCall: Py, pyimport"
   ]
  },
  {
   "cell_type": "markdown",
   "id": "4e65fb22",
   "metadata": {},
   "source": [
    "Ideally, we should now be able to import the `qutip` and `matplotlib` Python modules:"
   ]
  },
  {
   "cell_type": "code",
   "execution_count": null,
   "id": "9170f3ef",
   "metadata": {},
   "outputs": [],
   "source": [
    "qutip = pyimport(\"qutip\");\n",
    "matplotlib = pyimport(\"matplotlib\");"
   ]
  },
  {
   "cell_type": "markdown",
   "id": "7f00a346",
   "metadata": {},
   "source": [
    "If you have problems getting this to run, this part is not too important for the rest of the notebook and you may skip this section for the time being."
   ]
  },
  {
   "cell_type": "code",
   "execution_count": null,
   "id": "a54abd84",
   "metadata": {},
   "outputs": [],
   "source": [
    "function plot_bloch(bloch_vals; view=[-60, 30])\n",
    "    b = qutip.Bloch(view=view)\n",
    "    exp_x = Py(bloch_vals[1,:]).to_numpy()\n",
    "    exp_y = Py(bloch_vals[2,:]).to_numpy()\n",
    "    exp_z = Py(bloch_vals[3,:]).to_numpy()\n",
    "    b.add_points([exp_x, exp_y, exp_z], \"m\")\n",
    "    b.point_color = matplotlib.pyplot.get_cmap(\"viridis_r\")(\n",
    "        Py(range(0, 1; length=length(exp_x))).to_numpy()\n",
    "    )\n",
    "    b.frame_alpha = 0.1\n",
    "    b.make_sphere()\n",
    "    return b\n",
    "end\n",
    "\n",
    "plot_bloch(bloch_vals)"
   ]
  },
  {
   "cell_type": "markdown",
   "id": "4256a052",
   "metadata": {},
   "source": [
    "## Define the optimization target"
   ]
  },
  {
   "cell_type": "markdown",
   "id": "a43a4515",
   "metadata": {},
   "source": [
    "We want to optimize a simple state-to-state\n",
    "transfer\n",
    "from the initial state $\\ket{\\Psi_{\\init}} = \\ket{0}$ to the target state\n",
    "$\\ket{\\Psi_{\\tgt}} = \\ket{1}$, which we want to reach at final time $T$. Note\n",
    "that we also have to pass the Hamiltonian $\\op{H}(t)$ which generates the\n",
    "dynamics of\n",
    "the system."
   ]
  },
  {
   "cell_type": "markdown",
   "id": "4db74e29",
   "metadata": {},
   "source": [
    "From a mathematical perspective we optimize the guess field $\\epsilon_{0}(t)$ such\n",
    "that the intended state-to-state transfer $\\ket{\\Psi_{\\init}} \\rightarrow\n",
    "\\ket{\\Psi_{\\tgt}}$ is obtained.\n",
    "To this end, we\n",
    "choose the functional to be $F = F_{ss}$ with\n",
    "\\begin{equation}\n",
    "F_{ss}\n",
    "=\n",
    "\\left|\\Braket{\\Psi(T)}{\\Psi_{\\tgt}}\\right|^2\n",
    "\\end{equation}\n",
    "\n",
    "with\n",
    "$\\ket{\\Psi(T)}$ the\n",
    "forward propagated state of $\\ket{\\Psi_{\\init}}$. Maximizing $F_{ss}$ is equivalent to minimizing the infidelity which we employ as our optimization functional, i.e."
   ]
  },
  {
   "cell_type": "code",
   "execution_count": null,
   "id": "6b55ac9c",
   "metadata": {},
   "outputs": [],
   "source": [
    "using QuantumControl.Functionals: J_T_ss\n",
    "\n",
    "print(@doc J_T_ss)  # You could also do `? J_T_ss` to access the help system"
   ]
  },
  {
   "cell_type": "markdown",
   "id": "ecef94d6",
   "metadata": {},
   "source": [
    "The functional is evaluated based on the initial state forward-propagated under a specific time-dependent Hamiltonian $\\Op{H}(t)$ and considers the overlap with the associated target state. The initial state, Hamiltonian, and target state are collected in an `Trajectory` object that will be passed to the `J_T_ss` function."
   ]
  },
  {
   "cell_type": "code",
   "execution_count": null,
   "id": "76b111b4",
   "metadata": {},
   "outputs": [],
   "source": [
    "trajectories = [Trajectory(Ψ₀, H; target_state=Ψ₁)];"
   ]
  },
  {
   "cell_type": "markdown",
   "id": "782f8ab1",
   "metadata": {},
   "source": [
    "The *result* of the propagation is available to `J_T_ss` as the first positional argument (`ϕ`)."
   ]
  },
  {
   "cell_type": "markdown",
   "id": "2a618b76",
   "metadata": {},
   "source": [
    "To fully define the optimization problem, we put everything together as"
   ]
  },
  {
   "cell_type": "code",
   "execution_count": null,
   "id": "abb88cc9",
   "metadata": {},
   "outputs": [],
   "source": [
    "problem = ControlProblem(\n",
    "    trajectories,\n",
    "    tlist;\n",
    "    prop_method=ExpProp,\n",
    "    J_T=J_T_ss,\n",
    "    iter_stop=50,\n",
    ");"
   ]
  },
  {
   "cell_type": "markdown",
   "id": "0950cc52",
   "metadata": {},
   "source": [
    "## Using Krotov's method"
   ]
  },
  {
   "cell_type": "markdown",
   "id": "17d0fbc6",
   "metadata": {},
   "source": [
    "In an optimization with Krotov's method, we have the option of using $S(t)$ as the `update_shape` for\n",
    "$\\epsilon_0(t)$. Wherever $S(t)$ is zero, the optimization will not change the\n",
    "value of the control from the original guess. In general, this shape function can be different from the one used to shape the guess pulse. In addition, we have to choose `lambda_a` for each control\n",
    "field. This parameter controls the magnitude of the updates for the respective fields in each iterative step of the optimization algorithm.\n",
    "\n",
    "The `update_shape` and `lambda_a` arguments could have been given in the construction of the `ControlProblem` above. Here, we give them only now when moving to solve the `problem` using Krotov's method:"
   ]
  },
  {
   "cell_type": "code",
   "execution_count": null,
   "id": "2137b278",
   "metadata": {},
   "outputs": [],
   "source": [
    "res = optimize(problem; method=Krotov, lambda_a=25, update_shape=S)"
   ]
  },
  {
   "cell_type": "markdown",
   "id": "72b60fc1",
   "metadata": {},
   "source": [
    "## Simulate dynamics of the optimized field"
   ]
  },
  {
   "cell_type": "markdown",
   "id": "0e5c9c59",
   "metadata": {},
   "source": [
    "Having obtained the optimized\n",
    "control field, we can now\n",
    "plot it and calculate the\n",
    "population dynamics under\n",
    "this field."
   ]
  },
  {
   "cell_type": "code",
   "execution_count": null,
   "id": "a2326839",
   "metadata": {},
   "outputs": [],
   "source": [
    "using QuantumPropagators.Controls: get_controls, substitute"
   ]
  },
  {
   "cell_type": "code",
   "execution_count": null,
   "id": "cc1f9021",
   "metadata": {},
   "outputs": [],
   "source": [
    "H_opt = substitute(H, Dict(get_controls(H)[1] => res.optimized_controls[1]));"
   ]
  },
  {
   "cell_type": "code",
   "execution_count": null,
   "id": "5da7bd55",
   "metadata": {},
   "outputs": [],
   "source": [
    "states_opt = propagate(Ψ₀, H_opt, tlist; method=ExpProp, storage=true);"
   ]
  },
  {
   "cell_type": "code",
   "execution_count": null,
   "id": "42ae20bb",
   "metadata": {},
   "outputs": [],
   "source": [
    "plot_pulse(H_opt.amplitudes[1], tlist)"
   ]
  },
  {
   "cell_type": "code",
   "execution_count": null,
   "id": "87c873db",
   "metadata": {},
   "outputs": [],
   "source": [
    "plot(abs2.(states_opt)', labels=[\"0\" \"1\"]; xlabel=\"time\", ylabel=\"population\", legend=:right)"
   ]
  },
  {
   "cell_type": "code",
   "execution_count": null,
   "id": "5e6f0f62",
   "metadata": {},
   "outputs": [],
   "source": [
    "bloch_vals = propagate(Ψ₀, H_opt, tlist; method=ExpProp, observables=[σ_x, σ_y, σ_z], storage=true);\n",
    "\n",
    "plot_bloch(bloch_vals)"
   ]
  },
  {
   "cell_type": "markdown",
   "id": "576461c3",
   "metadata": {},
   "source": [
    "## Further Tasks\n",
    "\n",
    "1) Vary the numerical parameters `lambda_a` and $n_{t}$ to improve the optimization. You should be able to reach the desired fidelity of 99% within less than 50 iterations.\n",
    "\n",
    "2) Try to improve the guess pulse to speed up the convergence. Hint: The interesting parameters are `A` and $T$ (Keep in mind to change it in the shape $S$ and in the time grid `tlist`). Note that a constant pulse might not be\n",
    "the best option as a guess pulse."
   ]
  },
  {
   "cell_type": "markdown",
   "id": "82162da4",
   "metadata": {
    "slideshow": {
     "slide_type": ""
    }
   },
   "source": [
    "## Bonus: Using GRAPE"
   ]
  },
  {
   "cell_type": "markdown",
   "id": "4dd78cbc",
   "metadata": {},
   "source": [
    "Instead of Krotov's method, we can also use another popular gradient-based method in the toolbox of optimal control, GRadient Ascent Pulse Engineering (GRAPE):"
   ]
  },
  {
   "cell_type": "markdown",
   "id": "bdb5e2b5",
   "metadata": {},
   "source": [
    "The GRAPE method does not allow for an `update_shape` like in Krotov's method in order to guarantee that the boundary conditions for the control field are maintained in each iteration. However, we can work around that by separating the \"control amplitude\" in the Hamiltonian into a static shape $S(t)$ that the optimization will not alter, multiplied with the control $E(t)$ that can be modified in an arbitrary way. The `QuantumControl` package provides a `ShapedAmplitude` for such a case:"
   ]
  },
  {
   "cell_type": "code",
   "execution_count": null,
   "id": "0bf9613f",
   "metadata": {},
   "outputs": [],
   "source": [
    "using QuantumControl.Amplitudes: ShapedAmplitude\n",
    "H, Ψ₀, Ψ₁ = ham_and_states(eps0=ShapedAmplitude(E, tlist; shape=S));"
   ]
  },
  {
   "cell_type": "code",
   "execution_count": null,
   "id": "795b2ad8",
   "metadata": {},
   "outputs": [],
   "source": [
    "problem = ControlProblem(\n",
    "    [Trajectory(Ψ₀, H; target_state=Ψ₁)],\n",
    "    tlist;\n",
    "    prop_method=ExpProp,\n",
    "    J_T=J_T_ss,\n",
    "    iter_stop=50,\n",
    ");"
   ]
  },
  {
   "cell_type": "markdown",
   "id": "0945bc62",
   "metadata": {},
   "source": [
    "GRAPE also allows us to put lower and upper bounds on the controls. For very \"simple\" control problems such as this one, the bounds also help GRAPE not to overshoot (since the L-BFGS-B optimization method used internally in GRAPE by default has no settings to influence the linesearch that determines how far to go in the direction of the gradient). Feel free to experiment with the values for the bounds."
   ]
  },
  {
   "cell_type": "code",
   "execution_count": null,
   "id": "ddc0714e",
   "metadata": {},
   "outputs": [],
   "source": [
    "res_grape = optimize(problem; method=GRAPE, lower_bound=-0.5, upper_bound=0.5)"
   ]
  },
  {
   "cell_type": "markdown",
   "id": "13c87087",
   "metadata": {},
   "source": [
    "Note that we could have employed the `ShapedAmplitude` for Krotov's method as well. This would have allowed us to use the (default) `update_shape=(t -> 1.0)` which places no restrictions on the update. If you like, you can return to the optimization with Krotov and check that doing this indeed gives a similar result as the original optimization above. If you would like to check your understanding of the intricacies of Krotov's method, ask yourself why it does not give *exactly* the same result."
   ]
  },
  {
   "cell_type": "markdown",
   "id": "9e088c95",
   "metadata": {
    "slideshow": {
     "slide_type": ""
    }
   },
   "source": [
    "The result of the GRAPE optimization (using appropriate bounds) is similar to the result obtained with Krotov's method:"
   ]
  },
  {
   "cell_type": "code",
   "execution_count": null,
   "id": "5d5f33a4",
   "metadata": {
    "slideshow": {
     "slide_type": ""
    }
   },
   "outputs": [],
   "source": [
    "using QuantumControl.Controls: discretize_on_midpoints\n",
    "\n",
    "H_opt = substitute(H, Dict(get_controls(H)[1] => discretize_on_midpoints(res_grape.optimized_controls[1], tlist)));\n",
    "\n",
    "plot_pulse(pulse::ShapedAmplitude, tlist) = plot_pulse(Array(pulse), tlist)\n",
    "\n",
    "plot_pulse(H_opt.amplitudes[1], tlist)"
   ]
  },
  {
   "cell_type": "code",
   "execution_count": null,
   "id": "1700d4d0",
   "metadata": {},
   "outputs": [],
   "source": [
    "states_opt = propagate(Ψ₀, H_opt, tlist; method=ExpProp, storage=true);"
   ]
  },
  {
   "cell_type": "code",
   "execution_count": null,
   "id": "2a0626ce",
   "metadata": {},
   "outputs": [],
   "source": [
    "plot(abs2.(states_opt)', labels=[\"0\" \"1\"]; xlabel=\"time\", ylabel=\"population\", legend=:right)"
   ]
  },
  {
   "cell_type": "code",
   "execution_count": null,
   "id": "d05809c6",
   "metadata": {
    "lines_to_next_cell": 2
   },
   "outputs": [],
   "source": [
    "bloch_vals = propagate(Ψ₀, H_opt, tlist; method=ExpProp, observables=[σ_x, σ_y, σ_z], storage=true);\n",
    "\n",
    "plot_bloch(bloch_vals)"
   ]
  },
  {
   "cell_type": "markdown",
   "id": "a7283b86",
   "metadata": {},
   "source": [
    "## Next steps"
   ]
  },
  {
   "cell_type": "markdown",
   "id": "d52ff7d6-133c-4ef1-bfad-acc6a4726b74",
   "metadata": {},
   "source": [
    "You are now ready to advance to a more sophisticated example for gradient-based optimization. For instance, [Exercise III.2](jl_exercise_3_2_lambda.ipynb) covers the STIRAP protocol in the three-level lambda system. If you are more interested in gate optimization for quantum information applications, we recommend [Exercise III.4](jl_exercise_3_4_gate.ipynb)."
   ]
  },
  {
   "cell_type": "markdown",
   "id": "633af798",
   "metadata": {},
   "source": [
    "<!-- Autofooter begin -->\n",
    "\n",
    "---\n",
    "\n",
    "[⬆︎ jump to top](#navtitle_3_1_jl)\n",
    "<!-- Autofooter end -->"
   ]
  }
 ],
 "metadata": {
  "jupytext": {
   "encoding": "# -*- coding: utf-8 -*-"
  },
  "kernelspec": {
   "display_name": "Julia 1.10.2",
   "language": "julia",
   "name": "julia-1.10"
  },
  "language_info": {
   "file_extension": ".jl",
   "mimetype": "application/julia",
   "name": "julia",
   "version": "1.10.2"
  }
 },
 "nbformat": 4,
 "nbformat_minor": 5
}
