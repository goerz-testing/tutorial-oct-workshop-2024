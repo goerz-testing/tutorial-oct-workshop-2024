{
 "cells": [
  {
   "cell_type": "markdown",
   "id": "8bc8977e",
   "metadata": {},
   "source": [
    "<!-- Autoheader begin -->\n",
    "<hr/>\n",
    "<div id=\"navtitle_1_1_jl\" style=\"text-align:center; font-size:16px\">I.1 Population Inversion in a Two-Level-System</div>\n",
    "<hr/>\n",
    "<table style=\"width: 100%\">\n",
    "  <tr>\n",
    "    <th rowspan=\"2\" style=\"width:33%; text-align:center; font-size:16px\">\n",
    "    </th>\n",
    "    <td style=\"width:33%; text-align:center; font-size:16px\">\n",
    "    </td>\n",
    "    <th rowspan=\"2\" style=\"width:33%; text-align:center; font-size:16px\">\n",
    "        <a href=\"jl_exercise_1_2_lambda.ipynb\">next notebook $\\rightarrow$</a><br>\n",
    "        <a href=\"jl_exercise_1_2_lambda.ipynb\" style=\"font-size:13px\">I.2 Population Transfer in a Three-Level-System with STIRAP</a>\n",
    "    </th>\n",
    "  </tr>\n",
    "  <tr style=\"width: 100%\">\n",
    "    <td style=\"width:33%; text-align:center; font-size:16px\">\n",
    "        <a href=\"jl_exercise_2_1_TLS.ipynb\" style=\"font-size:13px\">II.1 Population Inversion in a Two-Level-System using Parameter Optimization</a><br>\n",
    "        <a href=\"jl_exercise_2_1_TLS.ipynb\">$\\downarrow$ next part $\\downarrow$</a>\n",
    "    </td>\n",
    "  </tr>\n",
    "</table>\n",
    "\n",
    "<div style=\"text-align: right;font-size: 16px\"><a href=\"../Python/py_exercise_1_1_TLS.ipynb\">👉 Python version</a></div>\n",
    "\n",
    "---\n",
    "<!-- Autoheader end -->"
   ]
  },
  {
   "cell_type": "markdown",
   "id": "6957a039",
   "metadata": {},
   "source": [
    "# Population Inversion in a Two-Level-System"
   ]
  },
  {
   "cell_type": "markdown",
   "id": "8de0dfcd",
   "metadata": {},
   "source": [
    "The purpose of this notebook is to introduce you to the framework of Jupyter notebooks and to demonstrate how they can be used to simulate a simple quantum system - a two-level system. Jupyter notebooks allow to create and share interactive documents including live code and equations and to access them via a web browser. They can work with many programming languages running the calculations in the background - here we use Julia. The goal of this notebook is to allow you to gain familiarity with a typical workflow in a Jupyter notebook while learning about the paradigmatic example of light-matter interaction: \"Rabi cycling\" in a two-level system. Rabi cycling is a term describing the periodic excitation and de-excitation due to coherent interaction with a light field. Working on this example will also allow you to get to know some useful Julia packages for the numerical description and simulation of quantum systems."
   ]
  },
  {
   "cell_type": "markdown",
   "id": "44684323",
   "metadata": {},
   "source": [
    "## How to use this notebook"
   ]
  },
  {
   "cell_type": "markdown",
   "id": "1c48b9ed",
   "metadata": {},
   "source": [
    "*You can evaluate all cells marked with `[n]:` by* **selecting it and hitting\n",
    "SHIFT+ENTER** *or the play button in the top panel.*\n",
    "\n",
    "Just go through the notebook and evaluate the cells one after another. You\n",
    "can also change the cell to play around with the values and reevaluate it. If\n",
    "you do so, make sure to evaluate all the cells that rely on the one you\n",
    "changed. Have fun!"
   ]
  },
  {
   "cell_type": "markdown",
   "id": "983dd23a",
   "metadata": {},
   "source": [
    "## Physical background"
   ]
  },
  {
   "cell_type": "markdown",
   "id": "7c451034",
   "metadata": {},
   "source": [
    "In this exercise we simulate the interaction of a two-level-system with a\n",
    "laser pulse.\n",
    "\n",
    "The Hamiltonian of the two-level-system is defined as\n",
    "\n",
    "$$\n",
    "\\hat{H} = \\hat{H}_0 + \\hat{H}_1(t)\n",
    "\\;,\n",
    "$$\n",
    "\n",
    "where $\\hat{H}_0$ is the time-independent Hamiltonian of the system and\n",
    "$\\hat{H}_1(t)=E(t) \\, \\hat{V}$ describes the interaction with the field $E(t)$.\n",
    "\n",
    "Choosing the eigenstates of $\\hat{H}_0$ as a basis, $\\{|0⟩, |1⟩\\}$, we\n",
    "can represent the system Hamiltonian by\n",
    "\n",
    "$$\n",
    "\\hat{H}_0 = -\\frac{\\omega}{2}\n",
    "\\begin{pmatrix}\n",
    "1 & 0 \\\\\n",
    "0 & -1\n",
    "\\end{pmatrix}\n",
    "$$\n",
    "\n",
    "and the interaction operator $\\hat{V}$ by\n",
    "\n",
    "$$\n",
    "\\hat{V} = -\\mu_{01}\n",
    "\\begin{pmatrix}\n",
    "0 & 1 \\\\\n",
    "1 & 0\n",
    "\\end{pmatrix}\n",
    "\\;.\n",
    "$$\n",
    "\n",
    "Here, $\\omega>0$ is the energy splitting between the two levels and\n",
    "$\\mu_{01}$ is the transition matrix element.\n",
    "\n",
    "As you will find out by numerically simulating this system below, driving the\n",
    "system with a field $E(t)$ with a suitable frequency $\\omega$ induces\n",
    "resonant Rabi cycling, where the population perfectly cycles between the two\n",
    "levels."
   ]
  },
  {
   "cell_type": "markdown",
   "id": "e8ef3a0d",
   "metadata": {},
   "source": [
    "## Selected Julia packages"
   ]
  },
  {
   "cell_type": "markdown",
   "id": "1cbe3170",
   "metadata": {},
   "source": [
    "Matrices and vectors are a central part of Julia. This includes basic linear\n",
    "algebra, with more advanced features available in the `LinearAlgebra`\n",
    "standard library module."
   ]
  },
  {
   "cell_type": "code",
   "execution_count": null,
   "id": "ff3b518c",
   "metadata": {},
   "outputs": [],
   "source": [
    "using LinearAlgebra"
   ]
  },
  {
   "cell_type": "markdown",
   "id": "3291b75f",
   "metadata": {},
   "source": [
    "The [`DifferentialEquations.jl`](https://docs.sciml.ai/DiffEqDocs/stable/)\n",
    "package (or its sub-package `OrdinaryDiffEq`) is the go-to solution for\n",
    "solving any kind of differential equation."
   ]
  },
  {
   "cell_type": "code",
   "execution_count": null,
   "id": "0ebb6d48",
   "metadata": {},
   "outputs": [],
   "source": [
    "using OrdinaryDiffEq"
   ]
  },
  {
   "cell_type": "markdown",
   "id": "49f6a371",
   "metadata": {},
   "source": [
    "As a more specialized tool,\n",
    "[`QuantumControl.jl`](https://juliaquantumcontrol.github.io/QuantumControl.jl/stable/)\n",
    "is a framework for formulating and solving quantum control problems, with the\n",
    "[`QuantumPropagators.jl`](https://juliaquantumcontrol.github.io/QuantumPropagators.jl/stable/)\n",
    "sub-package providing an interface to simulate time dynamics. We will use\n",
    "this package here as it provides a convenient interface that is specific to\n",
    "quantum dynamics."
   ]
  },
  {
   "cell_type": "code",
   "execution_count": null,
   "id": "8999cc8f",
   "metadata": {},
   "outputs": [],
   "source": [
    "using QuantumPropagators"
   ]
  },
  {
   "cell_type": "markdown",
   "id": "623a34f0",
   "metadata": {},
   "source": [
    "The package wraps `DifferentialEquation`/`OrdinaryDiffEq`, although\n",
    "it also implements its own methods specifically for piecewise-constant\n",
    "dynamics, which we will use in later examples."
   ]
  },
  {
   "cell_type": "markdown",
   "id": "eb3311af",
   "metadata": {},
   "source": [
    "The Julia package [`Plots.jl`](https://docs.juliaplots.org/latest/) is the\n",
    "standard package for 2D data visualisation. It closely resembles the plotting\n",
    "syntax from Matlab."
   ]
  },
  {
   "cell_type": "code",
   "execution_count": null,
   "id": "7c340b86",
   "metadata": {},
   "outputs": [],
   "source": [
    "using Plots"
   ]
  },
  {
   "cell_type": "markdown",
   "id": "0befb9c1",
   "metadata": {},
   "source": [
    "We'll set some defaults for `Plots`, like increasing the default line\n",
    "width for better readability."
   ]
  },
  {
   "cell_type": "code",
   "execution_count": null,
   "id": "276999dd",
   "metadata": {
    "lines_to_next_cell": 2
   },
   "outputs": [],
   "source": [
    "Plots.default(\n",
    "    linewidth               = 2.0,\n",
    "    foreground_color_legend = nothing,\n",
    "    background_color_legend = RGBA(1, 1, 1, 0.8)\n",
    ")"
   ]
  },
  {
   "cell_type": "markdown",
   "id": "9d37aafa",
   "metadata": {},
   "source": [
    "## Let's start!"
   ]
  },
  {
   "cell_type": "markdown",
   "id": "3b70720a",
   "metadata": {},
   "source": [
    "We start with defining the time interval for the propagation. For numerical\n",
    "calculations, we need to represent the time interval by a grid with a finite\n",
    "amount of grid points.\n",
    "\n",
    "Let the time grid start at `t_start=0` and end at `t_stop=50` with a total\n",
    "amount of `Nt=10000` grid points. We can create such a grid with the built-in\n",
    "`range` function, in combination with `collect` to create an explicit vector:"
   ]
  },
  {
   "cell_type": "code",
   "execution_count": null,
   "id": "70c1fd12",
   "metadata": {},
   "outputs": [],
   "source": [
    "t_start = 0\n",
    "t_stop = 50\n",
    "Nt = 10000\n",
    "t = collect(range(t_start, t_stop; length=Nt));"
   ]
  },
  {
   "cell_type": "markdown",
   "id": "0e9423af",
   "metadata": {},
   "source": [
    "## The model"
   ]
  },
  {
   "cell_type": "markdown",
   "id": "a00fd697",
   "metadata": {},
   "source": [
    "Now we need to define the individual parts of the Hamiltonian. For the\n",
    "simulation use the following parameters:"
   ]
  },
  {
   "cell_type": "code",
   "execution_count": null,
   "id": "0cc9c8b9",
   "metadata": {},
   "outputs": [],
   "source": [
    "ω = 10.0;\n",
    "μ₀₁ = 1.0;"
   ]
  },
  {
   "cell_type": "markdown",
   "id": "d2aaf374",
   "metadata": {},
   "source": [
    "Note that Julia encourages the use of Unicode symbols. You can type these\n",
    "with, e.g. `\\omega<tab>` and `\\mu<tab>\\_01<tab>`. If you are unsure how to\n",
    "type a particular unicode character, paste it into Julia's help (accessed by\n",
    "a `?` at the beginning of a cell):"
   ]
  },
  {
   "cell_type": "code",
   "execution_count": null,
   "id": "d533eff8",
   "metadata": {},
   "outputs": [],
   "source": [
    "? Ψ̃"
   ]
  },
  {
   "cell_type": "markdown",
   "id": "3fee0803",
   "metadata": {},
   "source": [
    "We need the matrix for the time independent Hamiltonian $\\hat{H}_0$ ..."
   ]
  },
  {
   "cell_type": "code",
   "execution_count": null,
   "id": "bad3b0bd",
   "metadata": {},
   "outputs": [],
   "source": [
    "H₀ = -ω/2 * [\n",
    "    1   0\n",
    "    0  -1\n",
    "]"
   ]
  },
  {
   "cell_type": "markdown",
   "id": "d471b3c2",
   "metadata": {},
   "source": [
    "... and the matrix for the interaction operator $\\hat{V}$"
   ]
  },
  {
   "cell_type": "code",
   "execution_count": null,
   "id": "7eb70c01",
   "metadata": {},
   "outputs": [],
   "source": [
    "V = -μ₀₁ * [\n",
    "     0  1\n",
    "     1  0\n",
    "]"
   ]
  },
  {
   "cell_type": "markdown",
   "id": "388daaca",
   "metadata": {},
   "source": [
    "Next, we need to define the electric field `E` on the time grid `t`.\n",
    "\n",
    "We assume a Gaussian shaped pulse,\n",
    "\n",
    "$$\n",
    "E(t) = E_0 \\, e^{-(t-t_0)^2 / (2 \\tau^2)} \\, \\cos(\\omega_l (t-t_0) + \\phi)\n",
    "$$\n",
    "\n",
    "with the following parameters: $\\omega_l=\\omega$, $\\phi=0$, $E_0=0.2$ and\n",
    "$t_0=25$.\n",
    "\n",
    "When choosing a value for the pulse duration $\\tau$ one needs to be careful not to choose a duration larger than $7.5$, in order to ensure that the pulse fits completely onto our time grid."
   ]
  },
  {
   "cell_type": "code",
   "execution_count": null,
   "id": "6af39de7",
   "metadata": {},
   "outputs": [],
   "source": [
    "t₀ = 25.0\n",
    "ωₗ = ω\n",
    "E₀ = 0.2\n",
    "ϕ = 0\n",
    "τ = 2.5\n",
    "\n",
    "E(t) = E₀ * cos(ωₗ * (t - t₀) + ϕ) * exp(- (t - t₀)^2 / (2τ^2));"
   ]
  },
  {
   "cell_type": "markdown",
   "id": "4ab654f5",
   "metadata": {},
   "source": [
    "Now we collect everything together and assemble the total Hamiltonian of our\n",
    "system. This is where the `QuantumPropagtors` package becomes useful, as it\n",
    "provides a function `hamiltonian` to construct a time-dependent object that\n",
    "will be suitable for the `QuantumPropagators.propagate` function later on:"
   ]
  },
  {
   "cell_type": "code",
   "execution_count": null,
   "id": "e3157b4f",
   "metadata": {},
   "outputs": [],
   "source": [
    "H = hamiltonian(H₀, (V, E))"
   ]
  },
  {
   "cell_type": "markdown",
   "id": "c145b2d7",
   "metadata": {},
   "source": [
    "As a last step in setting up the model, we define the two states."
   ]
  },
  {
   "cell_type": "code",
   "execution_count": null,
   "id": "502ea4e3",
   "metadata": {},
   "outputs": [],
   "source": [
    "Ψ₀ = ComplexF64[1, 0] # State |0⟩"
   ]
  },
  {
   "cell_type": "markdown",
   "id": "8e640b25",
   "metadata": {},
   "source": [
    "It is critically important to ensure that `Ψ₀` is a complex vector. If we had\n",
    "just written `Ψ₀ = [1, 0]`, Julia would have inferred it as an array of\n",
    "integers, which is inappropriate for describing the coefficients of a quantum state."
   ]
  },
  {
   "cell_type": "code",
   "execution_count": null,
   "id": "43d2b4d7",
   "metadata": {},
   "outputs": [],
   "source": [
    "Ψ₁ = ComplexF64[0, 1] # State |1⟩"
   ]
  },
  {
   "cell_type": "markdown",
   "id": "e1b496c0",
   "metadata": {},
   "source": [
    "## Propagation and results"
   ]
  },
  {
   "cell_type": "markdown",
   "id": "e5ab13ec",
   "metadata": {},
   "source": [
    "Before we can start with the propagation, we first need to define the\n",
    "observables that we are interested in. For the present case, we are\n",
    "interested in the population dynamics. To track the population of the two\n",
    "levels, we define the projectors $\\hat{P}_{i} = |i⟩⟨i|$."
   ]
  },
  {
   "cell_type": "code",
   "execution_count": null,
   "id": "62b82070",
   "metadata": {},
   "outputs": [],
   "source": [
    "P₀ = Ψ₀ * Ψ₀'"
   ]
  },
  {
   "cell_type": "markdown",
   "id": "c782ee71",
   "metadata": {},
   "source": [
    "Note that Julia uses `'` for the hermitian adjoint (which is usually denoted with a dagger)"
   ]
  },
  {
   "cell_type": "code",
   "execution_count": null,
   "id": "dcbcbc8d",
   "metadata": {},
   "outputs": [],
   "source": [
    "P₁ = Ψ₁ * Ψ₁'"
   ]
  },
  {
   "cell_type": "markdown",
   "id": "b04650dc",
   "metadata": {},
   "source": [
    "With the observables all set up, we can use the `propagate` function provided by the\n",
    "`QuantumPropagators` package to obtain the dynamics over time. We delegate\n",
    "solving the Schrödinger equation to the `OrdinaryDiffEq` package by passing\n",
    "it as `method`.\n",
    "\n",
    "As the initial state of our simulation we choose the ground state,\n",
    "$|0⟩$. With `storage=true`, we specify that we would like `propagate`\n",
    "to return an array of the expectation values for the `observables` $P_0$,\n",
    "$P_1$, i.e., the population in the states $|0⟩$, $|1⟩$. Without\n",
    "`storage=true`, `propagate` would only return the final state."
   ]
  },
  {
   "cell_type": "code",
   "execution_count": null,
   "id": "c2c771dd",
   "metadata": {},
   "outputs": [],
   "source": [
    "output = propagate(Ψ₀, H, t; method=OrdinaryDiffEq, observables=[P₀, P₁], storage=true)"
   ]
  },
  {
   "cell_type": "markdown",
   "id": "42a51f88",
   "metadata": {},
   "source": [
    "Now let's plot the population dynamics:"
   ]
  },
  {
   "cell_type": "code",
   "execution_count": null,
   "id": "47e411d1",
   "metadata": {},
   "outputs": [],
   "source": [
    "E_max = maximum(abs.(E.(t)))\n",
    "plot(t, abs.(E.(t)) / E_max; color=\"lightgray\", label=\"|E|\")\n",
    "plot!(t, real.(output[1,:]); color=\"#1f77b4\", label=\"|0⟩\")\n",
    "plot!(t, real.(output[2,:]); color=\"#ff7f0e\", linestyle=:dash, label=\"|1⟩\")\n",
    "plot!(; xlabel=\"Time\", ylabel=\"Population\")"
   ]
  },
  {
   "cell_type": "markdown",
   "id": "a406280b",
   "metadata": {},
   "source": [
    "Play with the pulse parameters and observe how this affects the population\n",
    "dynamics. Can you find a combination of parameters that produces a complete\n",
    "population inversion? What do you need to obtain a full Rabi cycle? What\n",
    "happens if you change the frequency of the laser pulse?"
   ]
  },
  {
   "cell_type": "markdown",
   "id": "fe7e74d8",
   "metadata": {},
   "source": [
    "## Next steps\n",
    "\n",
    "Continue with [Exercise I.2](jl_exercise_1_2_lambda.ipynb) to learn about about slightly more advanced light-matter-interaction in a three-level system, or with [Exercise I.3](jl_exercise_1_3_chirp.ipynb) about the interaction of the same two-level-system with a *chirped* laser pulse. [Exercise II.1](jl_exercise_2_1_TLS.ipynb) explains how to find the proper parameters to achieve the population inversion discussed above with a gradient-free optimization. [Exercise III.1](jl_exercise_3_1_TLS.ipynb) does the same with a gradient-based approach (Krotov's method and GRAPE)."
   ]
  },
  {
   "cell_type": "markdown",
   "id": "a56e6534",
   "metadata": {},
   "source": [
    "<!-- Autofooter begin -->\n",
    "\n",
    "---\n",
    "\n",
    "[⬆︎ jump to top](#navtitle_1_1_jl)\n",
    "<!-- Autofooter end -->"
   ]
  }
 ],
 "metadata": {
  "jupytext": {
   "encoding": "# -*- coding: utf-8 -*-"
  },
  "kernelspec": {
   "display_name": "Julia 1.10.2",
   "language": "julia",
   "name": "julia-1.10"
  },
  "language_info": {
   "file_extension": ".jl",
   "mimetype": "application/julia",
   "name": "julia",
   "version": "1.10.2"
  }
 },
 "nbformat": 4,
 "nbformat_minor": 5
}
