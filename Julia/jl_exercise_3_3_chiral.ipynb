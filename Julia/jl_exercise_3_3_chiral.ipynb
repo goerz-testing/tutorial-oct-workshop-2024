{
 "cells": [
  {
   "cell_type": "markdown",
   "id": "80aa710d",
   "metadata": {},
   "source": [
    "<!-- Autoheader begin -->\n",
    "<hr/>\n",
    "<div id=\"navtitle_3_3_jl\" style=\"text-align:center; font-size:16px\">III.3 Using Krotov's method to separate chiral molecules</div>\n",
    "<hr/>\n",
    "<table style=\"width: 100%\">\n",
    "  <tr>\n",
    "    <th rowspan=\"2\" style=\"width:33%; text-align:center; font-size:16px\">\n",
    "        <a href=\"jl_exercise_3_2_lambda.ipynb\">$\\leftarrow$ previous notebook </a><br>\n",
    "        <a href=\"jl_exercise_3_2_lambda.ipynb\" style=\"font-size:13px\">III.2 Optimal Control for STIRAP</a>\n",
    "    </th>\n",
    "    <td style=\"width:33%; text-align:center; font-size:16px\">\n",
    "        <a href=\"jl_exercise_2_3_chiral.ipynb\">$\\uparrow$ previous part $\\uparrow$</a><br>\n",
    "        <a href=\"jl_exercise_2_3_chiral.ipynb\" style=\"font-size:13px\">II.3 Parameter Optimization of Three-Wave Mixing in a Three-Level System</a>\n",
    "    </td>\n",
    "    <th rowspan=\"2\" style=\"width:33%; text-align:center; font-size:16px\">\n",
    "        <a href=\"jl_exercise_3_4_gate.ipynb\">next notebook $\\rightarrow$</a><br>\n",
    "        <a href=\"jl_exercise_3_4_gate.ipynb\" style=\"font-size:13px\">III.4 Entangling Quantum Gates for Coupled Transmon Qubits</a>\n",
    "    </th>\n",
    "  </tr>\n",
    "  <tr style=\"width: 100%\">\n",
    "    <td style=\"width:33%; text-align:center; font-size:16px\">\n",
    "    </td>\n",
    "  </tr>\n",
    "</table>\n",
    "\n",
    "<div style=\"text-align: right;font-size: 16px\"><a href=\"../Python/py_exercise_3_3_chiral.ipynb\">👉 Python version</a></div>\n",
    "\n",
    "---\n",
    "<!-- Autoheader end -->"
   ]
  },
  {
   "cell_type": "markdown",
   "id": "b7e25140",
   "metadata": {},
   "source": [
    "# Using Krotov's method to separate chiral molecules"
   ]
  },
  {
   "cell_type": "markdown",
   "id": "2a641e1a",
   "metadata": {
    "slideshow": {
     "slide_type": ""
    }
   },
   "source": [
    "$\n",
    "\\newcommand{tr}[0]{\\operatorname{tr}}\n",
    "\\newcommand{diag}[0]{\\operatorname{diag}}\n",
    "\\newcommand{abs}[0]{\\operatorname{abs}}\n",
    "\\newcommand{pop}[0]{\\operatorname{pop}}\n",
    "\\newcommand{aux}[0]{\\text{aux}}\n",
    "\\newcommand{opt}[0]{\\text{opt}}\n",
    "\\newcommand{tgt}[0]{\\text{tgt}}\n",
    "\\newcommand{init}[0]{\\text{init}}\n",
    "\\newcommand{lab}[0]{\\text{lab}}\n",
    "\\newcommand{rwa}[0]{\\text{rwa}}\n",
    "\\newcommand{bra}[1]{\\langle#1\\vert}\n",
    "\\newcommand{ket}[1]{\\vert#1\\rangle}\n",
    "\\newcommand{Bra}[1]{\\left\\langle#1\\right\\vert}\n",
    "\\newcommand{Ket}[1]{\\left\\vert#1\\right\\rangle}\n",
    "\\newcommand{Braket}[2]{\\left\\langle #1\\vphantom{#2} \\mid #2\\vphantom{#1}\\right\\rangle}\n",
    "\\newcommand{Ketbra}[2]{\\left\\vert#1\\vphantom{#2} \\right\\rangle \\hspace{-0.2em} \\left\\langle #2\\vphantom{#1}\\right\\vert}\n",
    "\\newcommand{e}[1]{\\mathrm{e}^{#1}}\n",
    "\\newcommand{op}[1]{\\hat{#1}}\n",
    "\\newcommand{Op}[1]{\\hat{#1}}\n",
    "\\newcommand{dd}[0]{\\,\\text{d}}\n",
    "\\newcommand{Liouville}[0]{\\mathcal{L}}\n",
    "\\newcommand{DynMap}[0]{\\mathcal{E}}\n",
    "\\newcommand{identity}[0]{\\mathbf{1}}\n",
    "\\newcommand{Norm}[1]{\\lVert#1\\rVert}\n",
    "\\newcommand{Abs}[1]{\\left\\vert#1\\right\\vert}\n",
    "\\newcommand{avg}[1]{\\langle#1\\rangle}\n",
    "\\newcommand{Avg}[1]{\\left\\langle#1\\right\\rangle}\n",
    "\\newcommand{AbsSq}[1]{\\left\\vert#1\\right\\vert^2}\n",
    "\\newcommand{Re}[0]{\\operatorname{Re}}\n",
    "\\newcommand{Im}[0]{\\operatorname{Im}}\n",
    "\\newcommand{toP}[0]{\\omega_{12}}\n",
    "\\newcommand{toS}[0]{\\omega_{23}}\n",
    "\\newcommand{oft}[0]{\\left(t\\right)}\n",
    "$"
   ]
  },
  {
   "cell_type": "markdown",
   "id": "763d5c54",
   "metadata": {
    "slideshow": {
     "slide_type": ""
    }
   },
   "source": [
    "In this notebook, you will run a gradient-based\n",
    "optimization for three-wave mixing in a chiral three-level system,\n",
    "building up on [Exercise II.3](jl_exercise_2_3_chiral.ipynb).\n",
    "We keep the same goal of driving two three-level systems,\n",
    "describing the quantum states of the enantiomers of a chiral molecule,\n",
    "such that they end up in distinct final states, but use a gradient-based optimization method instead, specifically Krotov's method."
   ]
  },
  {
   "cell_type": "markdown",
   "id": "d1932e91",
   "metadata": {},
   "source": [
    "## Setup"
   ]
  },
  {
   "cell_type": "markdown",
   "id": "bdfffdd6",
   "metadata": {},
   "source": [
    "First, we load some of the libraries which will be needed throughout this notebook."
   ]
  },
  {
   "cell_type": "code",
   "execution_count": null,
   "id": "be546ae6",
   "metadata": {
    "slideshow": {
     "slide_type": ""
    }
   },
   "outputs": [],
   "source": [
    "using LinearAlgebra\n",
    "using QuantumControl\n",
    "using Krotov"
   ]
  },
  {
   "cell_type": "code",
   "execution_count": null,
   "id": "cdbaad07",
   "metadata": {},
   "outputs": [],
   "source": [
    "const 𝕚 = 1im;"
   ]
  },
  {
   "cell_type": "markdown",
   "id": "bb6dbac8",
   "metadata": {},
   "source": [
    "For visualization, we use the `Plots` package"
   ]
  },
  {
   "cell_type": "code",
   "execution_count": null,
   "id": "08efe9b2",
   "metadata": {},
   "outputs": [],
   "source": [
    "using Plots\n",
    "\n",
    "# Set up thicker default lines in plots\n",
    "Plots.default(\n",
    "    linewidth               = 2.0,\n",
    "    foreground_color_legend = nothing,\n",
    "    background_color_legend = RGBA(1, 1, 1, 0.8)\n",
    ")"
   ]
  },
  {
   "cell_type": "code",
   "execution_count": null,
   "id": "5bf99ef9",
   "metadata": {},
   "outputs": [],
   "source": [
    "# Some utilities for showing hints and solutions\n",
    "include(joinpath(\"utils\", \"exercise_3_chiral.jl\"));"
   ]
  },
  {
   "cell_type": "markdown",
   "id": "a96d8c9b",
   "metadata": {},
   "source": [
    "## Model\n",
    "\n",
    "<center>\n",
    "    <img src=\"../figures/3-level_mod.svg\" alt=\"Drawing\" width=\"750\">\n",
    "</center>\n",
    "\n",
    "The system consists of three levels which evolve, using the rotating wave approximation, according to the relations\n",
    "$$\n",
    "\\begin{align}\n",
    "    i \\frac{\\partial}{\\partial t} \\Ket{\\Psi ^{\\,(\\pm)} (t)}&= \\sum_{i=1}^3 H_i ^{\\,(\\pm)} (t) \\Ket{\\Psi ^{\\,(\\pm)} (t)}\\\\\n",
    "\\Ket{\\Psi ^{\\,(\\pm)} (t)} &= \\sum_{i=1}^3 c_n^{\\,(\\pm)}(t)\\, \\Ket{n}.\n",
    "\\end{align}\n",
    "$$\n",
    "\n",
    "The different terms of the Hamiltonian can be expressed as\n",
    "\n",
    "$$\n",
    "\\Op{H}_{1}^{\\,(\\pm)} = -E_1 (t)\\, \\,\\mu_b^{\\pm}\\,\\begin{pmatrix}\n",
    "    0 & 1 & 0                          \\\\\n",
    "    1 & 0 & 0 \\\\\n",
    "    0 & 0 & 0\n",
    "\\end{pmatrix}\\,.\n",
    "$$\n",
    "\n",
    "$$\n",
    "\\Op{H}_{2}^{\\,(\\pm)} = -E_2 (t)\\, \\,\\mu_a^{\\pm}\\,\\begin{pmatrix}\n",
    "    0 & 0 & 0  \\\\\n",
    "    0 & 0 & \\mathrm{e}^{i\\pi/2}  \\\\\n",
    "    0 & \\mathrm{e}^{-i\\pi/2}  & 0\n",
    "\\end{pmatrix}\\,.\n",
    "$$\n",
    "\n",
    "$$\n",
    "\\Op{H}_{3}^{\\,(\\pm)} = -E_3 (t)\\, \\,\\mu_c^{\\pm}\\,\\begin{pmatrix}\n",
    "    0 & 0 & 1                          \\\\\n",
    "    0 & 0 & 0 \\\\\n",
    "    1 & 0 & 0\n",
    "\\end{pmatrix}\\,,\n",
    "$$\n",
    "\n",
    "where $E_1(t)$, $E_2(t)$ and $E_3(t)$ are the envelopes of fields with central frequencies $\\omega$, $\\delta\\omega$ and $\\omega + \\delta\\omega$, respectively.\n",
    "The interesting part of the dynamics comes from the relations between the dipole moments of the two enantiomers, namely $\\mu_a^{\\,(+)} =  \\mu_a^{\\,(-)}$, $\\mu_b^{\\,(+)} =  \\mu_b^{\\,(-)}$ and $\\mu_c^{\\,(+)} =  -\\mu_c^{\\,(-)}$.\n",
    "\n",
    "This implies that $\\Op{H}_{1}^{\\,(+)} = \\Op{H}_{1}^{\\,(-)}$, $\\Op{H}_{2}^{\\,(+)} = \\Op{H}_{2}^{\\,(-)}$ and $\\Op{H}_{3}^{\\,(+)} = -\\Op{H}_{3}^{\\,(-)}$.\n",
    "\n",
    "\n",
    "Our goal will be to optimize pulses $E_1(t)$, $E_2(t)$ and $E_3(t)$ such that for the initial states $\\Ket{\\Psi ^{\\,(+)} (0)} =: \\Ket{\\Psi_{\\init}^+} = \\Ket{1}$ and $\\Ket{\\Psi ^{\\,(-)} (0)}  =: \\Ket{\\Psi_{\\init}^-}  = \\Ket{1}$ and a previously defined final time $T$ we respectively reach the target state $\\Ket{\\Psi ^{\\,(+)} (T)}  =: \\Ket{\\Psi_{\\tgt}^{\\,+}} = e^{i \\Phi_+}\\Ket{2}$ and $\\Ket{\\Psi ^{\\,(-)} (T)}  =: \\Ket{\\Psi_{\\tgt}^{\\,-}} = e^{i \\Phi_-}\\Ket{3}$ for some unspecified phases $ \\Phi_+$ and $ \\Phi_-$.\n",
    "That is, although both enantiomers start in the same state, they end up in entirely different states after interaction with the laser fields. Since the phases $ \\Phi_+$ and $ \\Phi_-$ do not affect this physical optimization goal, it is sufficient to only consider the populations in the following."
   ]
  },
  {
   "cell_type": "markdown",
   "id": "9e5c54aa",
   "metadata": {},
   "source": [
    "First, we define the various dipole moments."
   ]
  },
  {
   "cell_type": "code",
   "execution_count": null,
   "id": "75b7fc14",
   "metadata": {},
   "outputs": [],
   "source": [
    "μa =  2.0  #Note that μa := μa_p = μa_m, and similarly for b\n",
    "μb =  3.0\n",
    "μc_p = 0.5\n",
    "μc_m = -0.5;"
   ]
  },
  {
   "cell_type": "markdown",
   "id": "e83f6cfc",
   "metadata": {},
   "source": [
    "Next, we define the times at which the pulses start and stop in our initial guesses."
   ]
  },
  {
   "cell_type": "code",
   "execution_count": null,
   "id": "09471934",
   "metadata": {},
   "outputs": [],
   "source": [
    "u_1_start = 0.0; # as a factor of the overall time\n",
    "u_1_stop  = 1.0; # as a factor of the overall time\n",
    "u_2_start = 0.0; # as a factor of the overall time\n",
    "u_2_stop  = 1.0; # as a factor of the overall time\n",
    "u_3_start = 0.0; # as a factor of the overall time\n",
    "u_3_stop  = 1.0; # as a factor of the overall time"
   ]
  },
  {
   "cell_type": "markdown",
   "id": "931de92c",
   "metadata": {},
   "source": [
    "... and the time grid"
   ]
  },
  {
   "cell_type": "code",
   "execution_count": null,
   "id": "d0001869",
   "metadata": {},
   "outputs": [],
   "source": [
    "T = 50\n",
    "tlist = collect(range(0, T; length=501));"
   ]
  },
  {
   "cell_type": "markdown",
   "id": "ad707c60",
   "metadata": {},
   "source": [
    "We choose an initial guess consisting of two low-intensity [Blackman\n",
    "pulses](https://juliaquantumcontrol.github.io/QuantumControl.jl/stable/api/quantum_propagators/#QuantumPropagators.Shapes.blackman)."
   ]
  },
  {
   "cell_type": "code",
   "execution_count": null,
   "id": "79f09b46",
   "metadata": {},
   "outputs": [],
   "source": [
    "using QuantumControl.Shapes: blackman"
   ]
  },
  {
   "cell_type": "code",
   "execution_count": null,
   "id": "2165ff30",
   "metadata": {},
   "outputs": [],
   "source": [
    "\"\"\"Guess for the first electric pulse\"\"\"\n",
    "u1(t) = .25 * blackman(t, u_1_start*T, u_1_stop*T);\n",
    "\"\"\"Guess for the first electric pulse\"\"\"\n",
    "u2(t) = .25 * blackman(t, u_2_start*T, u_2_stop*T);\n",
    "\"\"\"Guess for the third electric pulse\"\"\"\n",
    "u3(t) = .25 * blackman(t, u_3_start*T, u_3_stop*T);"
   ]
  },
  {
   "cell_type": "markdown",
   "id": "02752ab7",
   "metadata": {},
   "source": [
    "Now we go on to define the Hamiltonians."
   ]
  },
  {
   "cell_type": "code",
   "execution_count": null,
   "id": "584d7f98",
   "metadata": {
    "attributes": {
     "classes": [],
     "id": "",
     "n": "2"
    }
   },
   "outputs": [],
   "source": [
    "\"\"\"3-level Chiral System Hamiltonian\"\"\"\n",
    "function ham(; μa, μb, μc_p, μc_m)\n",
    "    H1 = μb * [0.0 1.0 0.0; 1.0 0.0 0.0; 0.0 0.0 0.0]\n",
    "    H2 = μa * [0.0 0.0 0.0; 0.0 0.0 1im; 0.0 -1im 0.0]\n",
    "\n",
    "    H3_p = μc_p * [0.0 0.0 1.0; 0.0 0.0 0.0; 1.0 0.0 0.0]\n",
    "    H3_m = μc_m * [0.0 0.0 1.0; 0.0 0.0 0.0; 1.0 0.0 0.0]\n",
    "\n",
    "    H_p = hamiltonian((H1, u1), (H2, u2), (H3_p, u3))\n",
    "    H_m = hamiltonian((H1, u1), (H2, u2), (H3_m, u3))\n",
    "    return H_p, H_m\n",
    "end\n",
    "\n",
    "H_p, H_m = ham(; μa, μb, μc_p, μc_m);"
   ]
  },
  {
   "cell_type": "markdown",
   "id": "e6916782",
   "metadata": {},
   "source": [
    "The pulses look as follows:"
   ]
  },
  {
   "cell_type": "code",
   "execution_count": null,
   "id": "2098360e",
   "metadata": {},
   "outputs": [],
   "source": [
    "using QuantumControl.Controls: get_controls"
   ]
  },
  {
   "cell_type": "code",
   "execution_count": null,
   "id": "6e4f89b3",
   "metadata": {},
   "outputs": [],
   "source": [
    "function plot_pulses(H, tlist)\n",
    "    axs = []\n",
    "    controls = get_controls(H)\n",
    "    @assert length(controls) == 3\n",
    "    titles = [\"u₁(t)\", \"u₂(t)\", \"u₃(t)\"]\n",
    "    for (i, control) in  enumerate(controls)\n",
    "        ax = plot(\n",
    "            tlist, control;\n",
    "            label=\"\", xlabel=\"time\", ylabel=\"pulse amplitude\",\n",
    "            title=titles[i]\n",
    "        )\n",
    "        push!(axs, ax)\n",
    "    end\n",
    "    plot(axs...; layout=(1,3), size=(1500,300))\n",
    "end"
   ]
  },
  {
   "cell_type": "code",
   "execution_count": null,
   "id": "ecf2611c",
   "metadata": {},
   "outputs": [],
   "source": [
    "plot_pulses(H_p, tlist)"
   ]
  },
  {
   "cell_type": "markdown",
   "id": "332e9120",
   "metadata": {},
   "source": [
    "The goal of this example is a state to state transfer with\n",
    "initial state\n",
    "$\\Ket{\\Psi_{\\init}^+} = \\Ket{\\Psi_{\\init}^-} = \\Ket{1}$ for both enantiomers and target states\n",
    "$\\Ket{\\Psi_{\\tgt}^{\\,+}} = \\Ket{2}$ and $\\Ket{\\Psi_{\\tgt}^{\\,-}} = \\Ket{3}$ (up to a phase) at final time $T$."
   ]
  },
  {
   "cell_type": "code",
   "execution_count": null,
   "id": "c058528e",
   "metadata": {},
   "outputs": [],
   "source": [
    "\"\"\"Initial and target states\"\"\"\n",
    "\n",
    "psi_init  = ComplexF64[1.,0.,0.];\n",
    "psi_tgt_p = ComplexF64[0.,1.,0.];\n",
    "psi_tgt_m = ComplexF64[0.,0.,1.];"
   ]
  },
  {
   "cell_type": "markdown",
   "id": "4101305f",
   "metadata": {},
   "source": [
    "## Problem 1: Choice of pulse shapes\n",
    "\n",
    "We have described the pulses using Blackman shapes instead of Gaussian curves, their main difference being that they start and end with an amplitude of 0. Why do you think this is more convenient, especially from an experimental point of view?"
   ]
  },
  {
   "cell_type": "code",
   "execution_count": null,
   "id": "406cdd44",
   "metadata": {},
   "outputs": [],
   "source": [
    "# problem_1.solution"
   ]
  },
  {
   "cell_type": "markdown",
   "id": "471f576b",
   "metadata": {},
   "source": [
    "## Simulate dynamics of the guess field"
   ]
  },
  {
   "cell_type": "markdown",
   "id": "e9a62f14",
   "metadata": {},
   "source": [
    "After assuring ourselves that our guess pulses appear as expected, we propagate\n",
    "the system using our guess.\n",
    "To track the population in the relevant levels, we first define appropriate projectors $\\op{P}_{i} =\n",
    "\\Ketbra{i}{i}$ on the subspaces:"
   ]
  },
  {
   "cell_type": "code",
   "execution_count": null,
   "id": "58ed9e96",
   "metadata": {
    "attributes": {
     "classes": [],
     "id": "",
     "n": "3"
    }
   },
   "outputs": [],
   "source": [
    "proj1 = diagm([1,0,0])\n",
    "proj2 = diagm([0,1,0])\n",
    "proj3 = diagm([0,0,1])"
   ]
  },
  {
   "cell_type": "markdown",
   "id": "d30a1f7c",
   "metadata": {},
   "source": [
    "They will help us later to analyze the population in the different levels."
   ]
  },
  {
   "cell_type": "markdown",
   "id": "68b87e21",
   "metadata": {},
   "source": [
    "We also set so-called optimization objectives using\n",
    "the function `Trajectory`, which contain all the\n",
    "relevant information needed for the propagation:"
   ]
  },
  {
   "cell_type": "code",
   "execution_count": null,
   "id": "4ba0816e",
   "metadata": {},
   "outputs": [],
   "source": [
    "traj_p = Trajectory( psi_init, H_p; target_state=psi_tgt_p )\n",
    "traj_m = Trajectory( psi_init, H_m; target_state=psi_tgt_m )"
   ]
  },
  {
   "cell_type": "markdown",
   "id": "296d68cb",
   "metadata": {},
   "source": [
    "Having them set up, we can use the Chebychev propagator to obtain the dynamics over time. Since no optimization was done so far, we propagate with the guess pulses:"
   ]
  },
  {
   "cell_type": "code",
   "execution_count": null,
   "id": "8ea46959",
   "metadata": {},
   "outputs": [],
   "source": [
    "using QuantumPropagators: Cheby"
   ]
  },
  {
   "cell_type": "code",
   "execution_count": null,
   "id": "70149d47",
   "metadata": {
    "attributes": {
     "classes": [],
     "id": "",
     "n": "13"
    }
   },
   "outputs": [],
   "source": [
    "res_pt_p, res_pt_m = propagate_trajectories([traj_p, traj_m], tlist; method=Cheby, storage=true, observables=[proj1, proj2, proj3]);"
   ]
  },
  {
   "cell_type": "markdown",
   "id": "967af2c3",
   "metadata": {},
   "source": [
    "Now let's plot the population dynamics:"
   ]
  },
  {
   "cell_type": "code",
   "execution_count": null,
   "id": "ab4060d0",
   "metadata": {},
   "outputs": [],
   "source": [
    "\"\"\"Routine to represent population of different states\"\"\"\n",
    "function plot_population_3lvl(res_pt; tlist, title=\"\")\n",
    "    fig = plot(; xlabel=\"time\", ylabel=\"population\", title=title)\n",
    "    hline!(fig, [1.0], c=:black, lw=0.5)\n",
    "    plot!(fig, tlist, abs.(res_pt[1,:]), label=\"|⟨Ψ(t)|1⟩|²\")\n",
    "    plot!(fig, tlist, abs.(res_pt[2,:]), label=\"|⟨Ψ(t)|2⟩|²\")\n",
    "    plot!(fig, tlist, abs.(res_pt[3,:]), label=\"|⟨Ψ(t)|3⟩|²\")\n",
    "    return fig\n",
    "end"
   ]
  },
  {
   "cell_type": "code",
   "execution_count": null,
   "id": "767e8348",
   "metadata": {
    "attributes": {
     "classes": [],
     "id": "",
     "n": "15"
    }
   },
   "outputs": [],
   "source": [
    "plot_population_3lvl(res_pt_p; tlist, title=\"Enantiomer (+)\")"
   ]
  },
  {
   "cell_type": "markdown",
   "id": "9831e17c",
   "metadata": {},
   "source": [
    "What you see here is how the populations of the three levels for enantiomer (+) change during the interaction with the guess pulses.\n",
    "Remember: Our aim is to get all the population to state 2 and none in state 1!"
   ]
  },
  {
   "cell_type": "code",
   "execution_count": null,
   "id": "7001a09f",
   "metadata": {},
   "outputs": [],
   "source": [
    "plot_population_3lvl(res_pt_m; tlist, title=\"Enantiomer (-)\")"
   ]
  },
  {
   "cell_type": "markdown",
   "id": "8805fa4f",
   "metadata": {},
   "source": [
    "And here are the populations for enantiomer (-). As you see, the final state looks very similar to the one of enantiomer (+). There's still work to do to change this!"
   ]
  },
  {
   "cell_type": "markdown",
   "id": "d8200455",
   "metadata": {},
   "source": [
    "## Problem 2: Final populations"
   ]
  },
  {
   "cell_type": "markdown",
   "id": "04c3aa87",
   "metadata": {},
   "source": [
    "Try to extract the populations at final time for the (+) enantimer and the (-) enantiomer.  Make sure to use the actual value from the results `res_pt_m` and `res_pt_p`."
   ]
  },
  {
   "cell_type": "code",
   "execution_count": null,
   "id": "1d94d8de",
   "metadata": {},
   "outputs": [],
   "source": [
    "pop1_plus = #\n",
    "pop2_plus = #\n",
    "pop3_plus = #"
   ]
  },
  {
   "cell_type": "code",
   "execution_count": null,
   "id": "b04d9139",
   "metadata": {},
   "outputs": [],
   "source": [
    "pop1_minus = #\n",
    "pop2_minus = #\n",
    "pop3_minus = #"
   ]
  },
  {
   "cell_type": "code",
   "execution_count": null,
   "id": "7a34f4e5-2f9e-4243-bc79-eb490e1be3b3",
   "metadata": {},
   "outputs": [],
   "source": [
    "print(round.(real([[pop1_plus pop2_plus pop3_plus]; [pop1_minus pop2_minus pop3_minus]]); digits=5))"
   ]
  },
  {
   "cell_type": "code",
   "execution_count": null,
   "id": "b88edab0",
   "metadata": {},
   "outputs": [],
   "source": [
    "# problem_2.hint"
   ]
  },
  {
   "cell_type": "code",
   "execution_count": null,
   "id": "f37ad047",
   "metadata": {},
   "outputs": [],
   "source": [
    "# problem_2.solution"
   ]
  },
  {
   "cell_type": "markdown",
   "id": "7f0e80d4-cfc7-42e3-87bc-2e1586d9173c",
   "metadata": {},
   "source": [
    "If you look closely, the\n",
    "populations seem to be very similar between the two enantiomers.\n",
    "We wanted a total transfer of population to state 2, which\n",
    "means this guess pulse is really not good at all..."
   ]
  },
  {
   "cell_type": "markdown",
   "id": "3901f56a",
   "metadata": {},
   "source": [
    "Next, we show how the optimization changes the pulses to reach the desired states."
   ]
  },
  {
   "cell_type": "markdown",
   "id": "638c2d7f",
   "metadata": {},
   "source": [
    "## Optimization"
   ]
  },
  {
   "cell_type": "markdown",
   "id": "77f60ba3",
   "metadata": {},
   "source": [
    "#### Setting the pulse options"
   ]
  },
  {
   "cell_type": "markdown",
   "id": "e77fcedf",
   "metadata": {},
   "source": [
    "To initialize the optimization we need to provide some guess pulses. When we have no information over the system we can use generic Gaussian-like pulses and see how it affects the population.\n",
    "\n",
    "On top of that, we need to provide a shape that will determinate which parts of the pulse can be changed. This can ensure, for example, a smooth start and end of the pulse."
   ]
  },
  {
   "cell_type": "code",
   "execution_count": null,
   "id": "c4e73e9e",
   "metadata": {},
   "outputs": [],
   "source": [
    "using QuantumControl.Shapes: flattop"
   ]
  },
  {
   "cell_type": "code",
   "execution_count": null,
   "id": "b0d48400",
   "metadata": {},
   "outputs": [],
   "source": [
    "\"\"\"Scales Krotov method's update of the pulse value at the time t\"\"\"\n",
    "S(t) = flattop.(t; T, t_rise=0.05*T, func=:sinsq)"
   ]
  },
  {
   "cell_type": "markdown",
   "id": "cec6b54d",
   "metadata": {},
   "source": [
    "We choose an appropriate update factor step size $\\frac{1}{\\lambda_a}$ for the problem at hand and\n",
    "make sure Krotov's algorithm considers pulses which start and end with zero amplitude."
   ]
  },
  {
   "cell_type": "code",
   "execution_count": null,
   "id": "c585d722",
   "metadata": {},
   "outputs": [],
   "source": [
    "# Changing λ will directly affect how fast the pulse change.\n",
    "\n",
    "# If it is too big, the iterations will barely change any pulse.\n",
    "# If it is too small, the pulses may change abruptly.\n",
    "\n",
    "λₐ = 3.0\n",
    "\n",
    "# Define how the pulses are allowed to change during each iteration\n",
    "pulse_options = IdDict(\n",
    "    ϵ => Dict(:lambda_a => λₐ, :update_shape => S,)\n",
    "    for ϵ in get_controls(H_p)\n",
    ")"
   ]
  },
  {
   "cell_type": "markdown",
   "id": "8554d8ac",
   "metadata": {},
   "source": [
    "#### Applying Krotov's method\n",
    "\n",
    "We now supply Krotov's algorithm with all the information it needs to optimize,\n",
    "consisting of the `trajectories` (maximize population for target states at $t_{f}$),\n",
    "`pulse_options` (the initial shapes of our pulses and how they may be changed)\n",
    "as well as the `prop_method` to use and the\n",
    "maximum number of iterations to perform, `iter_stop`."
   ]
  },
  {
   "cell_type": "code",
   "execution_count": null,
   "id": "1b54fd4a",
   "metadata": {},
   "outputs": [],
   "source": [
    "using QuantumControl.Functionals # needed for J_T_ss"
   ]
  },
  {
   "cell_type": "code",
   "execution_count": null,
   "id": "74fa0153",
   "metadata": {},
   "outputs": [],
   "source": [
    "problem = ControlProblem(\n",
    "    [traj_p, traj_m],\n",
    "    tlist;\n",
    "    pulse_options,  # or, `lambda_a=λₐ, update_shape=S`\n",
    "    J_T=J_T_ss,\n",
    "    iter_stop=5,\n",
    "    check_convergence=res -> begin\n",
    "        ((res.J_T <= 1e-3) && (res.converged = true) && (res.message = \"J_T < 10⁻³\"))\n",
    "    end,\n",
    "    prop_method=Cheby,\n",
    ");"
   ]
  },
  {
   "cell_type": "markdown",
   "id": "ab68aae2",
   "metadata": {},
   "source": [
    "After setting up the `ControlProblem`, we can optimze the problem"
   ]
  },
  {
   "cell_type": "code",
   "execution_count": null,
   "id": "ebf82816",
   "metadata": {},
   "outputs": [],
   "source": [
    "oct_result = optimize(problem; method=Krotov)"
   ]
  },
  {
   "cell_type": "markdown",
   "id": "d334b6aa",
   "metadata": {},
   "source": [
    "---"
   ]
  },
  {
   "cell_type": "markdown",
   "id": "250d8cf0",
   "metadata": {},
   "source": [
    "Among all the columns of data shown during optimization the most important one is the second column, showing the functional value $J_T$ at the current iteration.\n",
    "If your optimization stops without reaching the desired value of convergence, have a look at the `ΔJ_T` column which shows just the difference in the functional between two iterations."
   ]
  },
  {
   "cell_type": "markdown",
   "id": "f6aad55a",
   "metadata": {},
   "source": [
    "After optimizing the pulse, we can define new Hamiltonians, which contain the optimized pulses. For this, we substitute the the old pulse with the new one."
   ]
  },
  {
   "cell_type": "code",
   "execution_count": null,
   "id": "657f657c",
   "metadata": {},
   "outputs": [],
   "source": [
    "using QuantumControl.Controls: substitute"
   ]
  },
  {
   "cell_type": "code",
   "execution_count": null,
   "id": "fe3ec0be",
   "metadata": {},
   "outputs": [],
   "source": [
    "H_p_opt = substitute(\n",
    "    H_p,\n",
    "    IdDict(\n",
    "        ϵ => oct_result.optimized_controls[i]\n",
    "        for (i, ϵ) in enumerate(get_controls(H_p))\n",
    "    )\n",
    ");\n",
    "H_m_opt = substitute(\n",
    "    H_m,\n",
    "    IdDict(\n",
    "        ϵ => oct_result.optimized_controls[i]\n",
    "        for (i, ϵ) in enumerate(get_controls(H_m))\n",
    "    )\n",
    ");"
   ]
  },
  {
   "cell_type": "markdown",
   "id": "42a2364f",
   "metadata": {},
   "source": [
    "We might have found pulse-shapes that fulfill our objective, but what do\n",
    "they look like?"
   ]
  },
  {
   "cell_type": "code",
   "execution_count": null,
   "id": "672d3c78",
   "metadata": {},
   "outputs": [],
   "source": [
    "plot_pulses(H_p_opt, tlist)"
   ]
  },
  {
   "cell_type": "markdown",
   "id": "24a913fd",
   "metadata": {},
   "source": [
    "Once we have the optimized pulses, we can plot the dynamics for the initial states. For this, we first need to propagate the initial states with `H_p_opt` and `H_m_opt`, respectively."
   ]
  },
  {
   "cell_type": "code",
   "execution_count": null,
   "id": "fdfeffb8",
   "metadata": {
    "attributes": {
     "classes": [],
     "id": "",
     "n": "19"
    }
   },
   "outputs": [],
   "source": [
    "res_opt_p = propagate(psi_init, H_p_opt, tlist; method=Cheby, storage=true, observables=[proj1, proj2, proj3]);\n",
    "plot_population_3lvl(res_opt_p; tlist, title=\"Enantiomer (+)\")"
   ]
  },
  {
   "cell_type": "code",
   "execution_count": null,
   "id": "519a9f0a",
   "metadata": {},
   "outputs": [],
   "source": [
    "res_opt_m = propagate(psi_init, H_m_opt, tlist; method=Cheby, storage=true, observables=[proj1, proj2, proj3]);\n",
    "plot_population_3lvl(res_opt_m; tlist, title=\"Enantiomer (+)\")"
   ]
  },
  {
   "cell_type": "markdown",
   "id": "28cb4a57",
   "metadata": {},
   "source": [
    "The optimization seems to not quite match our expectations yet. Try to adjust the parameters to improve the convergence.\n",
    "\n",
    "Remember: For enantiomer (+), only level 2 should populated and for enantiomer (-) only level 3."
   ]
  },
  {
   "cell_type": "markdown",
   "id": "c631190d",
   "metadata": {},
   "source": [
    "## Problem 3: Refining λₐ"
   ]
  },
  {
   "cell_type": "markdown",
   "id": "de8d71eb",
   "metadata": {},
   "source": [
    "Try to adjust the $\\lambda_a$ parameter such that you obtain a good result ($J_T < 10^{-3}$) in less than 5 optimization steps."
   ]
  },
  {
   "cell_type": "code",
   "execution_count": null,
   "id": "5a32115e",
   "metadata": {},
   "outputs": [],
   "source": [
    "# problem_3.hint"
   ]
  },
  {
   "cell_type": "code",
   "execution_count": null,
   "id": "b1608b4d",
   "metadata": {
    "lines_to_next_cell": 2
   },
   "outputs": [],
   "source": [
    "# problem_3.solution"
   ]
  },
  {
   "cell_type": "markdown",
   "id": "6c22910e",
   "metadata": {},
   "source": [
    "## Next steps"
   ]
  },
  {
   "cell_type": "markdown",
   "id": "49347dc8",
   "metadata": {},
   "source": [
    "If you are also interested in gate optimization for quantum information applications, \n",
    "we invite you to have a look at [Exercise III.4](jl_exercise_3_4_gate.ipynb).\n",
    "\n",
    "Alternatively, you may find further example beyond the scope of this tutorial as part of the\n",
    "[`QuantumControl` documentation](https://juliaquantumcontrol.github.io/QuantumControlExamples.jl/stable/). This includes an [example for optimizing a quantum gate in an open quantum system](https://juliaquantumcontrol.github.io/QuantumControlExamples.jl/stable/examples/rho_3states/#Optimization-of-a-Dissipative-Quantum-Gate). You may also find the [examples from the documentation of the Python `krotov` package](https://qucontrol.github.io/krotov/v1.2.1/09_examples.html) instructive (all of which can easily be translated to Julia)."
   ]
  },
  {
   "cell_type": "markdown",
   "id": "2f8bb9d9",
   "metadata": {},
   "source": [
    "<!-- Autofooter begin -->\n",
    "\n",
    "---\n",
    "\n",
    "[⬆︎ jump to top](#navtitle_3_3_jl)\n",
    "<!-- Autofooter end -->"
   ]
  }
 ],
 "metadata": {
  "jupytext": {
   "cell_metadata_json": true,
   "encoding": "# -*- coding: utf-8 -*-"
  },
  "kernelspec": {
   "display_name": "Julia 1.10.2",
   "language": "julia",
   "name": "julia-1.10"
  },
  "language_info": {
   "file_extension": ".jl",
   "mimetype": "application/julia",
   "name": "julia",
   "version": "1.10.2"
  }
 },
 "nbformat": 4,
 "nbformat_minor": 5
}
