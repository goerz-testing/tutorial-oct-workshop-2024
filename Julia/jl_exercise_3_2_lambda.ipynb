{
 "cells": [
  {
   "cell_type": "markdown",
   "id": "48dbc803",
   "metadata": {},
   "source": [
    "<!-- Autoheader begin -->\n",
    "<hr/>\n",
    "<div id=\"navtitle_3_2_jl\" style=\"text-align:center; font-size:16px\">III.2 Optimal Control for STIRAP</div>\n",
    "<hr/>\n",
    "<table style=\"width: 100%\">\n",
    "  <tr>\n",
    "    <th rowspan=\"2\" style=\"width:33%; text-align:center; font-size:16px\">\n",
    "        <a href=\"jl_exercise_3_1_TLS.ipynb\">$\\leftarrow$ previous notebook </a><br>\n",
    "        <a href=\"jl_exercise_3_1_TLS.ipynb\" style=\"font-size:13px\">III.1 Population Inversion in a Two-Level-System using Krotov's Method and GRAPE</a>\n",
    "    </th>\n",
    "    <td style=\"width:33%; text-align:center; font-size:16px\">\n",
    "        <a href=\"jl_exercise_2_2_lambda.ipynb\">$\\uparrow$ previous part $\\uparrow$</a><br>\n",
    "        <a href=\"jl_exercise_2_2_lambda.ipynb\" style=\"font-size:13px\">II.2 Parameter Optimization for STIRAP</a>\n",
    "    </td>\n",
    "    <th rowspan=\"2\" style=\"width:33%; text-align:center; font-size:16px\">\n",
    "        <a href=\"jl_exercise_3_3_chiral.ipynb\">next notebook $\\rightarrow$</a><br>\n",
    "        <a href=\"jl_exercise_3_3_chiral.ipynb\" style=\"font-size:13px\">III.3 Using Krotov's method to separate chiral molecules</a>\n",
    "    </th>\n",
    "  </tr>\n",
    "  <tr style=\"width: 100%\">\n",
    "    <td style=\"width:33%; text-align:center; font-size:16px\">\n",
    "    </td>\n",
    "  </tr>\n",
    "</table>\n",
    "\n",
    "<div style=\"text-align: right;font-size: 16px\"><a href=\"../Python/py_exercise_3_2_lambda.ipynb\">👉 Python version</a></div>\n",
    "\n",
    "---\n",
    "<!-- Autoheader end -->"
   ]
  },
  {
   "cell_type": "markdown",
   "id": "b383708e",
   "metadata": {},
   "source": [
    "# Optimal Control for STIRAP"
   ]
  },
  {
   "cell_type": "markdown",
   "id": "f4b99511",
   "metadata": {
    "slideshow": {
     "slide_type": ""
    }
   },
   "source": [
    "$\\newcommand{tr}[0]{\\operatorname{tr}}\n",
    "\\newcommand{diag}[0]{\\operatorname{diag}}\n",
    "\\newcommand{abs}[0]{\\operatorname{abs}}\n",
    "\\newcommand{pop}[0]{\\operatorname{pop}}\n",
    "\\newcommand{aux}[0]{\\text{aux}}\n",
    "\\newcommand{opt}[0]{\\text{opt}}\n",
    "\\newcommand{tgt}[0]{\\text{tgt}}\n",
    "\\newcommand{init}[0]{\\text{init}}\n",
    "\\newcommand{lab}[0]{\\text{lab}}\n",
    "\\newcommand{rwa}[0]{\\text{rwa}}\n",
    "\\newcommand{bra}[1]{\\langle#1\\vert}\n",
    "\\newcommand{ket}[1]{\\vert#1\\rangle}\n",
    "\\newcommand{Bra}[1]{\\left\\langle#1\\right\\vert}\n",
    "\\newcommand{Ket}[1]{\\left\\vert#1\\right\\rangle}\n",
    "\\newcommand{Braket}[2]{\\left\\langle #1\\vphantom{#2} \\mid #2\\vphantom{#1}\\right\\rangle}\n",
    "\\newcommand{Ketbra}[2]{\\left\\vert#1\\vphantom{#2} \\right\\rangle \\hspace{-0.2em} \\left\\langle #2\\vphantom{#1}\\right\\vert}\n",
    "\\newcommand{e}[1]{\\mathrm{e}^{#1}}\n",
    "\\newcommand{op}[1]{\\hat{#1}}\n",
    "\\newcommand{Op}[1]{\\hat{#1}}\n",
    "\\newcommand{dd}[0]{\\,\\text{d}}\n",
    "\\newcommand{Liouville}[0]{\\mathcal{L}}\n",
    "\\newcommand{DynMap}[0]{\\mathcal{E}}\n",
    "\\newcommand{identity}[0]{\\mathbf{1}}\n",
    "\\newcommand{Norm}[1]{\\lVert#1\\rVert}\n",
    "\\newcommand{Abs}[1]{\\left\\vert#1\\right\\vert}\n",
    "\\newcommand{avg}[1]{\\langle#1\\rangle}\n",
    "\\newcommand{Avg}[1]{\\left\\langle#1\\right\\rangle}\n",
    "\\newcommand{AbsSq}[1]{\\left\\vert#1\\right\\vert^2}\n",
    "\\newcommand{Re}[0]{\\operatorname{Re}}\n",
    "\\newcommand{Im}[0]{\\operatorname{Im}}\n",
    "\\newcommand{toP}[0]{\\omega_{12}}\n",
    "\\newcommand{toS}[0]{\\omega_{23}}\n",
    "\\newcommand{oft}[0]{\\left(t\\right)}\n",
    "$"
   ]
  },
  {
   "cell_type": "markdown",
   "id": "22234885",
   "metadata": {
    "slideshow": {
     "slide_type": ""
    }
   },
   "source": [
    "In this notebook, you will learn how to optimize the STIRAP protocol for the lambda system we have studied already in [Exercise I.2](jl_exercise_1_2_lambda.ipynb) and [Exercise II.2](jl_exercise_2_2_lambda.ipynb) using the [`QuantumControl` Julia framework](https://juliaquantumcontrol.github.io/QuantumControl.jl), similarly to [Exercise III.1](jl_exercise_3_1_TLS.ipynb).\n",
    "\n",
    "Specifically, we will use Krotov's method for the optimizations. \n",
    "There will also be a bonus exercise in the end, in which you can do\n",
    "the same optimizations using GRAPE to compare it to Krotov's method."
   ]
  },
  {
   "cell_type": "markdown",
   "id": "e9ccfcce",
   "metadata": {},
   "source": [
    "## Setup"
   ]
  },
  {
   "cell_type": "markdown",
   "id": "b6d7fa65",
   "metadata": {},
   "source": [
    "First, we need to load some of the libraries that we will need throughout this notebook."
   ]
  },
  {
   "cell_type": "code",
   "execution_count": null,
   "id": "2d39ecee",
   "metadata": {
    "slideshow": {
     "slide_type": ""
    }
   },
   "outputs": [],
   "source": [
    "using QuantumControl\n",
    "using Krotov"
   ]
  },
  {
   "cell_type": "code",
   "execution_count": null,
   "id": "7708152b",
   "metadata": {},
   "outputs": [],
   "source": [
    "const 𝕚 = 1im;"
   ]
  },
  {
   "cell_type": "markdown",
   "id": "fdf62d99",
   "metadata": {},
   "source": [
    "For visualization, we will use the `Plots` package"
   ]
  },
  {
   "cell_type": "code",
   "execution_count": null,
   "id": "13d56586",
   "metadata": {},
   "outputs": [],
   "source": [
    "using Plots\n",
    "\n",
    "# Set up thicker default lines in plots\n",
    "Plots.default(\n",
    "    linewidth               = 2.0,\n",
    "    foreground_color_legend = nothing,\n",
    "    background_color_legend = RGBA(1, 1, 1, 0.8)\n",
    ")"
   ]
  },
  {
   "cell_type": "code",
   "execution_count": null,
   "id": "7696f0f0",
   "metadata": {},
   "outputs": [],
   "source": [
    "# Some utilities for showing hints and solutions\n",
    "include(joinpath(\"utils\", \"exercise_3_lambda.jl\"));"
   ]
  },
  {
   "cell_type": "markdown",
   "id": "90eaaed2",
   "metadata": {},
   "source": [
    "## Model"
   ]
  },
  {
   "cell_type": "markdown",
   "id": "d5d41731",
   "metadata": {},
   "source": [
    "Our model consists of a \"Lambda system\" as shown below and already discussed\n",
    "in the respective notebooks in part 1 and part 2.\n",
    "The Hamiltonian in the rotating frame, which we already derived in part 1, is\n",
    "given as:\n",
    "\n",
    "\\begin{align*}\n",
    "  H = \\begin{pmatrix}\n",
    "        0                    & \\frac{1}{2}\\Omega_{P}^{*}(t) & 0 \\\\\n",
    "    \\frac{1}{2}\\Omega_{P}(t) & \\Delta_P                     & \\frac{1}{2}\\Omega_{S}^{*}(t)\\\\\n",
    "        0                    & \\frac{1}{2}\\Omega_{S}(t)     & \\Delta_P-\\Delta_S\n",
    "  \\end{pmatrix}\n",
    "\\end{align*}\n",
    "\n",
    "we use the same definitions as in [Exercise I.2](jl_exercise_1_2_lambda.ipynb), i.e.\n",
    "\n",
    "$\\Delta_{\\mathrm{P}} = \\left(\\omega_2 - \\omega_1\\right) - \\omega_{\\mathrm{P}}$ and\n",
    "$\\Delta_{\\mathrm{S}} = \\left(\\omega_2 - \\omega_3 \\right) - \\omega_{\\mathrm{S}}$.\n",
    "\n",
    "Note that the Rabi frequencies are complex, i.e.\n",
    "\n",
    "$\\Omega_{\\mathrm{P}} = \\Omega^{(1)}_{\\mathrm{P}} + i\\Omega^{(2)}_{\\mathrm{P}}$ and\n",
    "$\\Omega_{\\mathrm{S}} = \\Omega^{(1)}_{\\mathrm{S}} + i\\Omega^{(2)}_{\\mathrm{S}}$.\n",
    "\n",
    "In the following, we will optimize the real and imaginary part of\n",
    "$\\Omega_{\\mathrm{S}}$ and $\\Omega_{\\mathrm{P}}$ independently.\n",
    "\n",
    "<center><img src=\"../figures/lambda_system_levels.png\" alt=\"Lambda system considered in this notebook\" width=\"500\"></center>\n"
   ]
  },
  {
   "cell_type": "markdown",
   "id": "696b760d",
   "metadata": {},
   "source": [
    "First, we set up the Hamiltonian"
   ]
  },
  {
   "cell_type": "code",
   "execution_count": null,
   "id": "01bf4cbf",
   "metadata": {},
   "outputs": [],
   "source": [
    "using QuantumControl: hamiltonian"
   ]
  },
  {
   "cell_type": "code",
   "execution_count": null,
   "id": "55574b88",
   "metadata": {},
   "outputs": [],
   "source": [
    "ω₁ = 0.0;\n",
    "ω₂ = 10.0;\n",
    "ω₃ = 5.0;\n",
    "ω_P = 9.5;\n",
    "ω_S = 4.5;"
   ]
  },
  {
   "cell_type": "code",
   "execution_count": null,
   "id": "06d64674",
   "metadata": {},
   "outputs": [],
   "source": [
    "Δ_P = (ω₂ - ω₁) - ω_P;\n",
    "Δ_S = (ω₂ - ω₃) - ω_S;"
   ]
  },
  {
   "cell_type": "markdown",
   "id": "aec0b0c0",
   "metadata": {
    "slideshow": {
     "slide_type": ""
    }
   },
   "source": [
    "We begin with the drift Hamltonian:"
   ]
  },
  {
   "cell_type": "code",
   "execution_count": null,
   "id": "aff5813a",
   "metadata": {},
   "outputs": [],
   "source": [
    "using LinearAlgebra: Diagonal\n",
    "H0 = Array(Diagonal(ComplexF64[0, Δ_P, Δ_P - Δ_S]))"
   ]
  },
  {
   "cell_type": "markdown",
   "id": "aba2313f",
   "metadata": {},
   "source": [
    "Next, we define the \"pump\" Hamiltonian:"
   ]
  },
  {
   "cell_type": "code",
   "execution_count": null,
   "id": "85d3bab2",
   "metadata": {
    "slideshow": {
     "slide_type": ""
    }
   },
   "outputs": [],
   "source": [
    "H1P_re = 0.5 * ComplexF64[\n",
    "    0  1  0\n",
    "    1  0  0\n",
    "    0  0  0\n",
    "]"
   ]
  },
  {
   "cell_type": "code",
   "execution_count": null,
   "id": "9d06673b",
   "metadata": {},
   "outputs": [],
   "source": [
    "H1P_im =  0.5 * ComplexF64[\n",
    "    0  𝕚  0\n",
    "   -𝕚  0  0\n",
    "    0  0  0\n",
    "]"
   ]
  },
  {
   "cell_type": "markdown",
   "id": "aa0ff044",
   "metadata": {},
   "source": [
    "And lastly, the \"Stokes\" Hamiltonian:"
   ]
  },
  {
   "cell_type": "code",
   "execution_count": null,
   "id": "8c98cf2a",
   "metadata": {},
   "outputs": [],
   "source": [
    "H1S_re = 0.5 * ComplexF64[\n",
    "    0  0  0\n",
    "    0  0  1\n",
    "    0  1  0\n",
    "]"
   ]
  },
  {
   "cell_type": "code",
   "execution_count": null,
   "id": "45db757a",
   "metadata": {
    "lines_to_next_cell": 2
   },
   "outputs": [],
   "source": [
    "H1S_im =  0.5 * ComplexF64[\n",
    "    0  0  0\n",
    "    0  0  𝕚\n",
    "    0 -𝕚  0\n",
    "]"
   ]
  },
  {
   "cell_type": "markdown",
   "id": "21c3dc2b",
   "metadata": {},
   "source": [
    "We combine these into the full Hamiltonian using the\n",
    "[`QuantumControl.hamiltonian`](https://juliaquantumcontrol.github.io/QuantumControl.jl/stable/api/quantum_propagators/#QuantumPropagators.Generators.hamiltonian)\n",
    "function. However, we still need to define suitable guess controls."
   ]
  },
  {
   "cell_type": "markdown",
   "id": "410d9d3b",
   "metadata": {},
   "source": [
    "## Guess pulses"
   ]
  },
  {
   "cell_type": "markdown",
   "id": "f101dd7b",
   "metadata": {},
   "source": [
    "We choose an initial guess consisting of two low-intensity [Blackman\n",
    "pulses](https://juliaquantumcontrol.github.io/QuantumControl.jl/stable/api/quantum_propagators/#QuantumPropagators.Shapes.blackman)."
   ]
  },
  {
   "cell_type": "code",
   "execution_count": null,
   "id": "fdbb6a60",
   "metadata": {},
   "outputs": [],
   "source": [
    "using QuantumControl.Shapes: blackman"
   ]
  },
  {
   "cell_type": "markdown",
   "id": "01209dab",
   "metadata": {},
   "source": [
    "Initially, these are chosen to be real-valued. That is, the guess for the control Hamiltonians governing the imaginary part of the Rabi frequencies will be zero. Thus, the total Hamiltonian is\n"
   ]
  },
  {
   "cell_type": "code",
   "execution_count": null,
   "id": "ad3dd1e6",
   "metadata": {},
   "outputs": [],
   "source": [
    "H = hamiltonian(\n",
    "    H0,\n",
    "    (H1P_re, t -> blackman(t, 1.0, 5.0)),\n",
    "    (H1P_im, t -> 0.0),\n",
    "    (H1S_re, t -> blackman(t, 0.0, 4.0)),\n",
    "    (H1S_im, t -> 0.0)\n",
    ");"
   ]
  },
  {
   "cell_type": "markdown",
   "id": "bd9a81f4",
   "metadata": {},
   "source": [
    "These pulses are defined on the time grid"
   ]
  },
  {
   "cell_type": "code",
   "execution_count": null,
   "id": "e0c4c6d2",
   "metadata": {},
   "outputs": [],
   "source": [
    "tlist = collect(range(0, 5; length=501));"
   ]
  },
  {
   "cell_type": "markdown",
   "id": "6c395d45",
   "metadata": {},
   "source": [
    "They look as follows:"
   ]
  },
  {
   "cell_type": "code",
   "execution_count": null,
   "id": "da7af9c2",
   "metadata": {},
   "outputs": [],
   "source": [
    "using QuantumControl.Controls: get_controls"
   ]
  },
  {
   "cell_type": "code",
   "execution_count": null,
   "id": "ee4f686e",
   "metadata": {},
   "outputs": [],
   "source": [
    "function plot_pulses(H, tlist)\n",
    "    axs = []\n",
    "    controls = get_controls(H)\n",
    "    @assert length(controls) == 4\n",
    "    titles = [\"Re[Ωₚ]\", \"Im[Ωₚ]\", \"Re[Ωₛ]\", \"Im[Ωₛ]\"]\n",
    "    for (i, control) in  enumerate(controls)\n",
    "        ax = plot(\n",
    "            tlist, control;\n",
    "            label=\"\", xlabel=\"time\", ylabel=\"pulse amplitude\",\n",
    "            title=titles[i]\n",
    "        )\n",
    "        push!(axs, ax)\n",
    "    end\n",
    "    plot(axs...; layout=4)\n",
    "end"
   ]
  },
  {
   "cell_type": "code",
   "execution_count": null,
   "id": "97c99c3c",
   "metadata": {},
   "outputs": [],
   "source": [
    "plot_pulses(H, tlist)"
   ]
  },
  {
   "cell_type": "markdown",
   "id": "1c40cbbf",
   "metadata": {},
   "source": [
    "After having set up everything, let's see how good our guess is!\n",
    "To that end, we simulate the dynamics of the initial state"
   ]
  },
  {
   "cell_type": "code",
   "execution_count": null,
   "id": "735c79c7",
   "metadata": {
    "slideshow": {
     "slide_type": ""
    }
   },
   "outputs": [],
   "source": [
    "ket1 = ComplexF64[1, 0, 0]"
   ]
  },
  {
   "cell_type": "code",
   "execution_count": null,
   "id": "27f2a295",
   "metadata": {},
   "outputs": [],
   "source": [
    "using QuantumPropagators: propagate\n",
    "using QuantumPropagators: Cheby"
   ]
  },
  {
   "cell_type": "code",
   "execution_count": null,
   "id": "3608867f",
   "metadata": {},
   "outputs": [],
   "source": [
    "guess_dynamics = propagate(ket1, H, tlist; method=Cheby, storage=true)"
   ]
  },
  {
   "cell_type": "code",
   "execution_count": null,
   "id": "a11c142b",
   "metadata": {},
   "outputs": [],
   "source": [
    "plot(\n",
    "    tlist, abs2.(guess_dynamics)';\n",
    "    label=[\"⟨1|Ψ|1⟩\" \"⟨2|Ψ|2⟩\" \"⟨3|Ψ|3⟩\"],\n",
    "    xlabel=\"time\", ylabel=\"population\",\n",
    ")"
   ]
  },
  {
   "cell_type": "markdown",
   "id": "d5e2df46",
   "metadata": {},
   "source": [
    "## Problem 1: Optimization trajectory"
   ]
  },
  {
   "cell_type": "markdown",
   "id": "21ffabdc",
   "metadata": {},
   "source": [
    "The `QuantumControl` package defines control objectives on top of a set of\n",
    "\"trajectories\". These hold information about the quantum states that span the\n",
    "optimization, their dynamics, and (optionally) the \"target\" of those\n",
    "dynamics.\n",
    "\n",
    "Define the\n",
    "[Trajectory](https://juliaquantumcontrol.github.io/QuantumControl.jl/stable/api/quantum_control_base/#QuantumControlBase.Trajectory) that encodes the goal for transferring the state $\\ket{1}$ to $\\ket{3}$."
   ]
  },
  {
   "cell_type": "code",
   "execution_count": null,
   "id": "19b48885",
   "metadata": {},
   "outputs": [],
   "source": [
    "ket3 = ComplexF64[0, 0, 1]"
   ]
  },
  {
   "cell_type": "code",
   "execution_count": null,
   "id": "bd5a0c98",
   "metadata": {},
   "outputs": [],
   "source": [
    "trajectory = Trajectory(#= .... =#)"
   ]
  },
  {
   "cell_type": "code",
   "execution_count": null,
   "id": "b774b74e",
   "metadata": {},
   "outputs": [],
   "source": [
    "# problem_1.hint"
   ]
  },
  {
   "cell_type": "code",
   "execution_count": null,
   "id": "67168ea9",
   "metadata": {},
   "outputs": [],
   "source": [
    "# problem_1.solution"
   ]
  },
  {
   "cell_type": "markdown",
   "id": "73e69896",
   "metadata": {},
   "source": [
    "## Problem 2: Specifying pulse options"
   ]
  },
  {
   "cell_type": "markdown",
   "id": "768b3978",
   "metadata": {},
   "source": [
    "Now that our Hamiltonian is completely set up and the trajectory to\n",
    "be used in the optimization is defined, we need to specify some parameters\n",
    "for Krotov's method, specifically, a dictionary of \"pulse options\"."
   ]
  },
  {
   "cell_type": "markdown",
   "id": "654248c5",
   "metadata": {},
   "source": [
    "First, we define a \"pulse shape\". This must be a function in the range [0, 1]\n",
    "which switch on from zero at the beginning of the time grid, and goes back down\n",
    "to zero again at the end of the time grid. It furthermore scales the pulse update in\n",
    "Krotov's method at each point in time, and thus ensures that the physical\n",
    "boundary conditions of the control fields are maintained (i.e. they must remain\n",
    "zero at the beginning and end of the time grid). We begin with the following choice"
   ]
  },
  {
   "cell_type": "code",
   "execution_count": null,
   "id": "07119966",
   "metadata": {},
   "outputs": [],
   "source": [
    "using QuantumControl.Shapes: flattop"
   ]
  },
  {
   "cell_type": "code",
   "execution_count": null,
   "id": "4d18436b",
   "metadata": {},
   "outputs": [],
   "source": [
    "S(t) = flattop(t; T=tlist[end], t_rise=0.0001, func=:sinsq)"
   ]
  },
  {
   "cell_type": "markdown",
   "id": "cb963f19",
   "metadata": {},
   "source": [
    "**a)** Experiment with the `t_rise` parameter and plot the update shape with\n",
    "the following cell. Choose a reasonable value.\n",
    "\n",
    "Feel free to return to this point later on to experiment with the pulse shape and its impact on the\n",
    "optimization result."
   ]
  },
  {
   "cell_type": "code",
   "execution_count": null,
   "id": "2fe9c13a",
   "metadata": {},
   "outputs": [],
   "source": [
    "plot(tlist, S; xlabel=\"time\", ylabel=\"update shape\", label=\"\", marker=true)"
   ]
  },
  {
   "cell_type": "code",
   "execution_count": null,
   "id": "3bc35fc8",
   "metadata": {},
   "outputs": [],
   "source": [
    "# problem_2a.solution"
   ]
  },
  {
   "cell_type": "markdown",
   "id": "93bc370e",
   "metadata": {},
   "source": [
    "In addition to the \"update shape\", the pulse options must also include a parameter $\\lambda_a$ that determines the overall magnitude of the pulse\n",
    "update in each iteration. In Krotov's update equation, the update at each\n",
    "point in time is scaled with an overall factor of $S(t)/\\lambda_a$, so larger\n",
    "values of update suppress the update, while smaller values increase the\n",
    "update, but tend to make the update more \"spiky\" and may lead to unphysical\n",
    "results. Here, we start with a relatively safe (i.e. large) value of $\\lambda_a =\n",
    "100$.\n",
    "\n",
    "**b)** After setting up the optimization in problem 3, return and choose a\n",
    "better value $\\lambda_a$ that yields faster convergence but does not produce\n",
    "unphysical pulses."
   ]
  },
  {
   "cell_type": "code",
   "execution_count": null,
   "id": "47c59854",
   "metadata": {},
   "outputs": [],
   "source": [
    "λₐ = 100.0\n",
    "pulse_options = IdDict(\n",
    "    ϵ => Dict(:lambda_a => λₐ, :update_shape => S,)\n",
    "    for ϵ in get_controls(H)\n",
    ")"
   ]
  },
  {
   "cell_type": "code",
   "execution_count": null,
   "id": "fa0e0258",
   "metadata": {},
   "outputs": [],
   "source": [
    "# problem_2b.hint"
   ]
  },
  {
   "cell_type": "code",
   "execution_count": null,
   "id": "a44c9484",
   "metadata": {
    "slideshow": {
     "slide_type": ""
    }
   },
   "outputs": [],
   "source": [
    "# problem_2b.solution"
   ]
  },
  {
   "cell_type": "markdown",
   "id": "d387fe6d",
   "metadata": {
    "slideshow": {
     "slide_type": ""
    }
   },
   "source": [
    "## Problem 3: Optimization with Krotov's method"
   ]
  },
  {
   "cell_type": "markdown",
   "id": "14be17dc",
   "metadata": {},
   "source": [
    "Finally, we can put all of the above together into a\n",
    "[`QuantumControl.ControlProblem`](https://juliaquantumcontrol.github.io/QuantumControl.jl/stable/api/quantum_control_base/#QuantumControlBase.ControlProblem)\n",
    "\n",
    "Fill in the following missing values, which are indicated by `#= … =#`.\n",
    "Proceeds as follows:\n",
    "\n",
    "**a)** Recall the API of the\n",
    "[`ControlProblem`](https://juliaquantumcontrol.github.io/QuantumControl.jl/stable/api/quantum_control_base/#QuantumControlBase.ControlProblem),\n",
    "respectively the\n",
    "[`QuantumControl.optimize`](https://juliaquantumcontrol.github.io/QuantumControl.jl/stable/methods/#QuantumControlBase.optimize-Tuple{ControlProblem,%20Val{:Krotov}}-methods)\n",
    "function.\n",
    "\n",
    "**b)** Which functional do we need here? Choose from the functionals\n",
    "implemented in\n",
    "[`QuantumControl.Functionals`](https://juliaquantumcontrol.github.io/QuantumControl.jl/stable/api/quantum_control_reference/#QuantumControlFunctionalsLocalAPI)."
   ]
  },
  {
   "cell_type": "code",
   "execution_count": null,
   "id": "384e35a4",
   "metadata": {},
   "outputs": [],
   "source": [
    "using QuantumControl.Functionals"
   ]
  },
  {
   "cell_type": "markdown",
   "id": "f1c56ea0",
   "metadata": {},
   "source": [
    "**c)** What do the values for the `check_convergence` and `iter_stop`\n",
    "argument mean? Make a reasonable choice here.\n",
    "\n",
    "**d)** Adjust the relevant parameters to obtain a better convergence.\n",
    "\n",
    "Ensure that the changes you apply lead to reasonable results. If one wants to optimize for an experiment, the optimized pulses need to be physical such that they can be implemented in practice."
   ]
  },
  {
   "cell_type": "code",
   "execution_count": null,
   "id": "5a2c3e03",
   "metadata": {
    "slideshow": {
     "slide_type": ""
    }
   },
   "outputs": [],
   "source": [
    "problem = ControlProblem(\n",
    "    #= (a) =#,  # positional argument 1\n",
    "    #= (a) =#;  # positional argument 2\n",
    "    #= (a) =#,  # Krotov-specific keyword argument(s)\n",
    "    J_T=#= (b) =#,\n",
    "    iter_stop=#= (c) =#,\n",
    "    check_convergence=res -> begin\n",
    "        #= (c) =#,\n",
    "    end,\n",
    "    prop_method=Cheby,\n",
    ");"
   ]
  },
  {
   "cell_type": "code",
   "execution_count": null,
   "id": "386026f8",
   "metadata": {},
   "outputs": [],
   "source": [
    "# problem_3b.hint"
   ]
  },
  {
   "cell_type": "code",
   "execution_count": null,
   "id": "e816d3a8",
   "metadata": {},
   "outputs": [],
   "source": [
    "# problem_3c.hint"
   ]
  },
  {
   "cell_type": "code",
   "execution_count": null,
   "id": "679a16cb",
   "metadata": {},
   "outputs": [],
   "source": [
    "# problem_3d.hint"
   ]
  },
  {
   "cell_type": "code",
   "execution_count": null,
   "id": "edba2a03",
   "metadata": {},
   "outputs": [],
   "source": [
    "# problem_3.solution"
   ]
  },
  {
   "cell_type": "code",
   "execution_count": null,
   "id": "8a926c82",
   "metadata": {},
   "outputs": [],
   "source": [
    "oct_result = optimize(problem; method=Krotov)"
   ]
  },
  {
   "cell_type": "markdown",
   "id": "bb38da04",
   "metadata": {},
   "source": [
    "## Problem 4: Analyzing the results"
   ]
  },
  {
   "cell_type": "markdown",
   "id": "472d9a74",
   "metadata": {},
   "source": [
    "Finally, we can have a look at our solution."
   ]
  },
  {
   "cell_type": "markdown",
   "id": "0e5e6b61",
   "metadata": {},
   "source": [
    "**a)** Construct the Hamiltonian containing the optimized controls. This can\n",
    "be achieved using the\n",
    "[`substitute`](https://juliaquantumcontrol.github.io/QuantumControl.jl/stable/api/quantum_propagators/#QuantumPropagators.Controls.substitute)\n",
    "function"
   ]
  },
  {
   "cell_type": "code",
   "execution_count": null,
   "id": "aca4c8ad",
   "metadata": {},
   "outputs": [],
   "source": [
    "using QuantumControl.Controls: substitute"
   ]
  },
  {
   "cell_type": "markdown",
   "id": "96cd05e9",
   "metadata": {},
   "source": [
    "to replace the guess controls in the original Hamiltonian (`get_controls(H)`)\n",
    "with the optimized controls stored in the `optimized_controls` attribute of\n",
    "`oct_result`."
   ]
  },
  {
   "cell_type": "code",
   "execution_count": null,
   "id": "d9c29bba",
   "metadata": {},
   "outputs": [],
   "source": [
    "H_opt = substitute(\n",
    "    #= =#\n",
    ");"
   ]
  },
  {
   "cell_type": "code",
   "execution_count": null,
   "id": "e0bf6af1",
   "metadata": {},
   "outputs": [],
   "source": [
    "# problem_4a.hint"
   ]
  },
  {
   "cell_type": "code",
   "execution_count": null,
   "id": "3aa74e8f",
   "metadata": {
    "slideshow": {
     "slide_type": ""
    }
   },
   "outputs": [],
   "source": [
    "# problem_4a.solution"
   ]
  },
  {
   "cell_type": "markdown",
   "id": "abf968d2",
   "metadata": {},
   "source": [
    "**b)** Simulate the dynamics of the $\\ket{1}$ state under `H_opt` such that\n",
    "we can later plot the population (just like we did earlier with `H`\n",
    "containing the guess pulses)"
   ]
  },
  {
   "cell_type": "code",
   "execution_count": null,
   "id": "ddef8a0f",
   "metadata": {},
   "outputs": [],
   "source": [
    "opt_dynamics = propagate( #= =# )"
   ]
  },
  {
   "cell_type": "code",
   "execution_count": null,
   "id": "50cfac1a",
   "metadata": {},
   "outputs": [],
   "source": [
    "# problem_4b.hint"
   ]
  },
  {
   "cell_type": "code",
   "execution_count": null,
   "id": "b92b2254",
   "metadata": {},
   "outputs": [],
   "source": [
    "# problem_4b.solution"
   ]
  },
  {
   "cell_type": "markdown",
   "id": "d22cd1ff",
   "metadata": {},
   "source": [
    "After simulating the optimized dynamics we can plot them via"
   ]
  },
  {
   "cell_type": "code",
   "execution_count": null,
   "id": "57d4b310",
   "metadata": {},
   "outputs": [],
   "source": [
    "plot(\n",
    "    tlist, abs2.(opt_dynamics)';\n",
    "    label=[\"⟨1|Ψ|1⟩\" \"⟨2|Ψ|2⟩\" \"⟨3|Ψ|3⟩\"],\n",
    "    xlabel=\"time\", ylabel=\"population\",\n",
    ")"
   ]
  },
  {
   "cell_type": "markdown",
   "id": "045c90e1",
   "metadata": {},
   "source": [
    "We can also visualize the optimized pulses themselves. We can convert the\n",
    "separate pulses for the real and imaginary part of $\\Omega_S$ and\n",
    "$\\Omega_P$ into an absolute value and complex phase for the plot:"
   ]
  },
  {
   "cell_type": "code",
   "execution_count": null,
   "id": "267a1599",
   "metadata": {},
   "outputs": [],
   "source": [
    "function plot_pulses_abs_phase(H, tlist)\n",
    "    axs = []\n",
    "    controls = get_controls(H)\n",
    "    @assert length(controls) == 4\n",
    "    ΩP_re, ΩP_im, ΩS_re, ΩS_im = controls\n",
    "    ΩP = ΩP_re + 𝕚 * ΩP_im\n",
    "    ΩS = ΩS_re + 𝕚 * ΩS_im\n",
    "    data = [abs.(ΩP), angle.(ΩP) ./ π, abs.(ΩS), angle.(ΩS) ./ π,]\n",
    "    titles = [\"|Ωₚ|\", \"arg(Ωₚ)\", \"|Ωₛ|\", \"arg(Ωₛ)\"]\n",
    "    ylabels = [\"pulse amplitude\", \"phase (π)\", \"pulse amplitude\", \"phase (π)\"]\n",
    "    for (i, y) in  enumerate(data)\n",
    "        ax = plot(\n",
    "            tlist, y;\n",
    "            label=\"\", xlabel=\"time\",\n",
    "            ylabel=ylabels[i], title=titles[i]\n",
    "        )\n",
    "        push!(axs, ax)\n",
    "    end\n",
    "    plot(axs...; layout=4)\n",
    "end"
   ]
  },
  {
   "cell_type": "code",
   "execution_count": null,
   "id": "6f470861",
   "metadata": {
    "lines_to_next_cell": 2
   },
   "outputs": [],
   "source": [
    "plot_pulses_abs_phase(H_opt, tlist)"
   ]
  },
  {
   "cell_type": "markdown",
   "id": "dc5b6d58",
   "metadata": {},
   "source": [
    "# Bonus: Optimization with GRAPE"
   ]
  },
  {
   "cell_type": "code",
   "execution_count": null,
   "id": "d0814d27",
   "metadata": {
    "slideshow": {
     "slide_type": ""
    }
   },
   "outputs": [],
   "source": [
    "using GRAPE"
   ]
  },
  {
   "cell_type": "markdown",
   "id": "91332b41",
   "metadata": {},
   "source": [
    "**a)** Try rerunning the optimization with GRAPE and look at the resulting optimized pulses and dynamics"
   ]
  },
  {
   "cell_type": "code",
   "execution_count": null,
   "id": "69b20ae3",
   "metadata": {},
   "outputs": [],
   "source": [
    "oct_result_grape = optimize( #= =# )"
   ]
  },
  {
   "cell_type": "code",
   "execution_count": null,
   "id": "e7d000e0",
   "metadata": {},
   "outputs": [],
   "source": [
    "H_opt_grape = substitute(\n",
    "    H,\n",
    "    #= =#\n",
    ");"
   ]
  },
  {
   "cell_type": "code",
   "execution_count": null,
   "id": "ab2a128e",
   "metadata": {},
   "outputs": [],
   "source": [
    "plot_pulses_abs_phase(H_opt_grape, tlist)"
   ]
  },
  {
   "cell_type": "code",
   "execution_count": null,
   "id": "32cef332",
   "metadata": {},
   "outputs": [],
   "source": [
    "opt_dynamics_grape = propagate( #= =# )"
   ]
  },
  {
   "cell_type": "code",
   "execution_count": null,
   "id": "3f30115b",
   "metadata": {},
   "outputs": [],
   "source": [
    "plot(\n",
    "    tlist, abs2.(opt_dynamics_grape)';\n",
    "    label=[\"⟨1|Ψ|1⟩\" \"⟨2|Ψ|2⟩\" \"⟨3|Ψ|3⟩\"],\n",
    "    xlabel=\"time\", ylabel=\"population\",\n",
    ")"
   ]
  },
  {
   "cell_type": "markdown",
   "id": "e4c1d46b",
   "metadata": {},
   "source": [
    "Do you observe any potential issues?"
   ]
  },
  {
   "cell_type": "code",
   "execution_count": null,
   "id": "50739618",
   "metadata": {},
   "outputs": [],
   "source": [
    "# bonus_a.hint"
   ]
  },
  {
   "cell_type": "code",
   "execution_count": null,
   "id": "8cfe1525",
   "metadata": {},
   "outputs": [],
   "source": [
    "# bonus_a.solution"
   ]
  },
  {
   "cell_type": "markdown",
   "id": "a72c73a4",
   "metadata": {},
   "source": [
    "**b)** Looking at the previous exercise, what would you do to alleviate these\n",
    "issues? Here is a hint:"
   ]
  },
  {
   "cell_type": "code",
   "execution_count": null,
   "id": "d2ab5450",
   "metadata": {},
   "outputs": [],
   "source": [
    "using QuantumControl.Amplitudes: ShapedAmplitude"
   ]
  },
  {
   "cell_type": "markdown",
   "id": "54e168bf",
   "metadata": {},
   "source": [
    "You can try to implement your solution, although for analyzing the results\n",
    "you may have to deal with some subtle issues related to time discretization\n",
    "in the `QuantumControl` framework. You would have to set up a modified\n",
    "Hamiltonian, and recreate the `Trajectory` and `ControlProblem` with that\n",
    "modified Hamiltonian"
   ]
  },
  {
   "cell_type": "code",
   "execution_count": null,
   "id": "c7dfd801",
   "metadata": {
    "slideshow": {
     "slide_type": ""
    }
   },
   "outputs": [],
   "source": [
    "using QuantumControl.Controls: discretize, discretize_on_midpoints"
   ]
  },
  {
   "cell_type": "code",
   "execution_count": null,
   "id": "9b8bf4c7",
   "metadata": {},
   "outputs": [],
   "source": [
    "# bonus_b.hint"
   ]
  },
  {
   "cell_type": "code",
   "execution_count": null,
   "id": "8ebbe7de",
   "metadata": {
    "lines_to_next_cell": 2
   },
   "outputs": [],
   "source": [
    "# bonus_b.solution"
   ]
  },
  {
   "cell_type": "markdown",
   "id": "9293633b",
   "metadata": {},
   "source": [
    "## Next steps"
   ]
  },
  {
   "cell_type": "markdown",
   "id": "48fab0c6",
   "metadata": {},
   "source": [
    "If you are interested in more examples of gradient-based optimization, have a look at [Exercise III.3](jl_exercise_3_3_chiral.ipynb) which covers the topic of three-wave-mixing to distinguish between enantiomers of a chiral molecule. Alternatively, if you are more interested in gate optimization for quantum information applications, we recommend [Exercise III.4](jl_exercise_3_4_gate.ipynb)."
   ]
  },
  {
   "cell_type": "markdown",
   "id": "88da33e5",
   "metadata": {},
   "source": [
    "<!-- Autofooter begin -->\n",
    "\n",
    "---\n",
    "\n",
    "[⬆︎ jump to top](#navtitle_3_2_jl)\n",
    "<!-- Autofooter end -->"
   ]
  }
 ],
 "metadata": {
  "jupytext": {
   "cell_metadata_json": true,
   "encoding": "# -*- coding: utf-8 -*-"
  },
  "kernelspec": {
   "display_name": "Julia 1.10.2",
   "language": "julia",
   "name": "julia-1.10"
  },
  "language_info": {
   "file_extension": ".jl",
   "mimetype": "application/julia",
   "name": "julia",
   "version": "1.10.2"
  }
 },
 "nbformat": 4,
 "nbformat_minor": 5
}
