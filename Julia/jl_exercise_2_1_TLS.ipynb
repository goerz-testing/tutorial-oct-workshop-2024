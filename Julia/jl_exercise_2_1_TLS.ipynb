{
 "cells": [
  {
   "cell_type": "markdown",
   "id": "28fce11a",
   "metadata": {},
   "source": [
    "<!-- Autoheader begin -->\n",
    "<hr/>\n",
    "<div id=\"navtitle_2_1_jl\" style=\"text-align:center; font-size:16px\">II.1 Population Inversion in a Two-Level-System using Parameter Optimization</div>\n",
    "<hr/>\n",
    "<table style=\"width: 100%\">\n",
    "  <tr>\n",
    "    <th rowspan=\"2\" style=\"width:33%; text-align:center; font-size:16px\">\n",
    "        <a href=\"jl_exercise_1_3_chirp.ipynb\">$\\leftarrow$ previous notebook </a><br>\n",
    "        <a href=\"jl_exercise_1_3_chirp.ipynb\" style=\"font-size:13px\">I.3 Interaction of a Two-Level-System with a Chirped Laser Pulse</a>\n",
    "    </th>\n",
    "    <td style=\"width:33%; text-align:center; font-size:16px\">\n",
    "        <a href=\"jl_exercise_1_1_TLS.ipynb\">$\\uparrow$ previous part $\\uparrow$</a><br>\n",
    "        <a href=\"jl_exercise_1_1_TLS.ipynb\" style=\"font-size:13px\">I.1 Population Inversion in a Two-Level-System</a>\n",
    "    </td>\n",
    "    <th rowspan=\"2\" style=\"width:33%; text-align:center; font-size:16px\">\n",
    "        <a href=\"jl_exercise_2_2_lambda.ipynb\">next notebook $\\rightarrow$</a><br>\n",
    "        <a href=\"jl_exercise_2_2_lambda.ipynb\" style=\"font-size:13px\">II.2 Parameter Optimization for STIRAP</a>\n",
    "    </th>\n",
    "  </tr>\n",
    "  <tr style=\"width: 100%\">\n",
    "    <td style=\"width:33%; text-align:center; font-size:16px\">\n",
    "        <a href=\"jl_exercise_3_1_TLS.ipynb\" style=\"font-size:13px\">III.1 Population Inversion in a Two-Level-System using Krotov's Method and GRAPE</a><br>\n",
    "        <a href=\"jl_exercise_3_1_TLS.ipynb\">$\\downarrow$ next part $\\downarrow$</a>\n",
    "    </td>\n",
    "  </tr>\n",
    "</table>\n",
    "\n",
    "<div style=\"text-align: right;font-size: 16px\"><a href=\"../Python/py_exercise_2_1_TLS.ipynb\">👉 Python version</a></div>\n",
    "\n",
    "---\n",
    "<!-- Autoheader end -->"
   ]
  },
  {
   "cell_type": "markdown",
   "id": "b05be8db",
   "metadata": {},
   "source": [
    "# Population Inversion in a Two-Level-System using Parameter Optimization"
   ]
  },
  {
   "cell_type": "markdown",
   "id": "03b3056e",
   "metadata": {},
   "source": [
    "$\\newcommand{tr}[0]{\\operatorname{tr}}\n",
    "\\newcommand{diag}[0]{\\operatorname{diag}}\n",
    "\\newcommand{abs}[0]{\\operatorname{abs}}\n",
    "\\newcommand{pop}[0]{\\operatorname{pop}}\n",
    "\\newcommand{aux}[0]{\\text{aux}}\n",
    "\\newcommand{opt}[0]{\\text{opt}}\n",
    "\\newcommand{tgt}[0]{\\text{tgt}}\n",
    "\\newcommand{init}[0]{\\text{init}}\n",
    "\\newcommand{lab}[0]{\\text{lab}}\n",
    "\\newcommand{rwa}[0]{\\text{rwa}}\n",
    "\\newcommand{bra}[1]{\\langle#1\\vert}\n",
    "\\newcommand{ket}[1]{\\vert#1\\rangle}\n",
    "\\newcommand{Bra}[1]{\\left\\langle#1\\right\\vert}\n",
    "\\newcommand{Ket}[1]{\\left\\vert#1\\right\\rangle}\n",
    "\\newcommand{Braket}[2]{\\left\\langle #1\\vphantom{#2} \\mid\n",
    "#2\\vphantom{#1}\\right\\rangle}\n",
    "\\newcommand{op}[1]{\\hat{#1}}\n",
    "\\newcommand{Op}[1]{\\hat{#1}}\n",
    "\\newcommand{dd}[0]{\\,\\text{d}}\n",
    "\\newcommand{Liouville}[0]{\\mathcal{L}}\n",
    "\\newcommand{DynMap}[0]{\\mathcal{E}}\n",
    "\\newcommand{identity}[0]{\\mathbf{1}}\n",
    "\\newcommand{Norm}[1]{\\lVert#1\\rVert}\n",
    "\\newcommand{Abs}[1]{\\left\\vert#1\\right\\vert}\n",
    "\\newcommand{avg}[1]{\\langle#1\\rangle}\n",
    "\\newcommand{Avg}[1]{\\left\\langle#1\\right\\rangle}\n",
    "\\newcommand{AbsSq}[1]{\\left\\vert#1\\right\\vert^2}\n",
    "\\newcommand{Re}[0]{\\operatorname{Re}}\n",
    "\\newcommand{Im}[0]{\\operatorname{Im}}$"
   ]
  },
  {
   "cell_type": "markdown",
   "id": "043ec31c",
   "metadata": {},
   "source": [
    "This notebook contains the code for running an optimization to achieve a\n",
    "population inversion in a two-level system.\n",
    "You will learn how to use the `NLopt` package (via `Optimization.jl`) in order to optimize a\n",
    "pulse shape by tuning the pulse parameters such as the pulse duration and intensity. The goal of the optimization is to drive the two-level system such that all the population is perfectly transferred from the ground to the excited state, similar to [Exercise I.1](jl_exercise_1_1_TLS.ipynb). In this notebook we employ parameter optimization which searches the optimization landscape directly by evaluating the optimization functionals at different points of the parameter space."
   ]
  },
  {
   "cell_type": "markdown",
   "id": "2f22640f",
   "metadata": {},
   "source": [
    "## Setup"
   ]
  },
  {
   "cell_type": "markdown",
   "id": "82d2b55c",
   "metadata": {},
   "source": [
    "First, we need to load some of the libraries that we will need throughout\n",
    "this notebook. There main packages are:\n",
    "* `QuantumPropagators`: Set up time dependent Hamiltonians and propagate them\n",
    "* `OrdinaryDiffEq`: The backend to use for `QuantumPropagators.propagate`\n",
    "* `Optimization` for optimization, with `OptimizationNLopt` providing the connection to the `NLOpt` backend package."
   ]
  },
  {
   "cell_type": "code",
   "execution_count": null,
   "id": "6c2af929",
   "metadata": {},
   "outputs": [],
   "source": [
    "using QuantumPropagators: hamiltonian, propagate\n",
    "using OrdinaryDiffEq\n",
    "using Optimization, OptimizationNLopt"
   ]
  },
  {
   "cell_type": "code",
   "execution_count": null,
   "id": "d67b67b8",
   "metadata": {},
   "outputs": [],
   "source": [
    "using Plots\n",
    "\n",
    "# Set up thicker default lines in plots\n",
    "Plots.default(\n",
    "    linewidth               = 2.0,\n",
    "    foreground_color_legend = nothing,\n",
    "    background_color_legend = RGBA(1, 1, 1, 0.8)\n",
    ")"
   ]
  },
  {
   "cell_type": "code",
   "execution_count": null,
   "id": "7e21891a",
   "metadata": {},
   "outputs": [],
   "source": [
    "# Some utilities for showing hints and solutions\n",
    "include(joinpath(\"utils\", \"exercise_2_TLS.jl\"));"
   ]
  },
  {
   "cell_type": "markdown",
   "id": "4087f134",
   "metadata": {},
   "source": [
    "### Defining the Hamiltonian\n",
    "\n",
    "We begin by defining the Hamiltonian, the guess field as well as the initial and target states.\n",
    "\n",
    "The Hamiltonian $\\op{H}_{0} = - \\frac{\\omega}{2} \\op{\\sigma}_{z}$ represents\n",
    "a simple qubit with energy level splitting $\\omega$ in the basis\n",
    "$\\{\\ket{0},\\ket{1}\\}$. The control field $\\epsilon(t)$ is assumed to couple\n",
    "via the Hamiltonian $\\op{H}_{1}(t) = \\epsilon(t) \\op{\\sigma}_{x}$ to the\n",
    "qubit, i.e., the control field effectively drives transitions between both\n",
    "qubit states.\n",
    "\n",
    "In this notebook, we will optimize the amplitude $E_0$ and pulse length\n",
    "$\\Delta T = t_f - t_i$ of a pulse with a Blackman shape. For simplicity, we\n",
    "choose the carrier frequency of the pulse to match the energy splitting of\n",
    "the qubits. The pulse is then defined as\n",
    "\n",
    "$$\n",
    "\\epsilon(t) = E_0 \\cos(\\omega t) B(t; t_i, t_f)\n",
    "$$\n",
    "\n",
    "with the Blackman shape defined as\n",
    "\n",
    "$$\n",
    "B(t; t_i, t_f) =\n",
    "\\frac{1}{2}\\left(\n",
    "    1 - a - \\cos\\left(2\\pi \\frac{t - t_i}{t_f - t_i}\\right)\n",
    "    + a \\cos\\left(4\\pi \\frac{t - t_i}{t_f - t_i}\\right)\n",
    "\\right)\\,, \\text{ if } t_i < t < t_f;\n",
    "\\qquad B(t; t_i, t_f) = 0 \\text{ otherwise}\n",
    "$$\n",
    "\n",
    "with $a = 0.16$. A Blackman shape looks nearly identical to a Gaussian with a\n",
    "6-sigma interval between $t_i$ and $t_f$. Unlike the Gaussian, however, it\n",
    "will go exactly to zero at the edges. Thus, Blackman pulses are often\n",
    "preferable to Gaussians."
   ]
  },
  {
   "cell_type": "code",
   "execution_count": null,
   "id": "197c51ca",
   "metadata": {},
   "outputs": [],
   "source": [
    "\"\"\"\n",
    "Blackman shaped pulse\n",
    "\n",
    "# Keyword Arguments\n",
    "\n",
    "* `ω`: carrier frequency of the pulse\n",
    "* `E₀`: pulse amplitude\n",
    "* `ti`: start of the pulse\n",
    "* `tf`: end of the pulse\n",
    "* `α`: Blackman parameter, should be `0.16`\n",
    "\"\"\"\n",
    "function blackman_pulse(t; ω, E₀, ti, tf, a=0.16)\n",
    "    ΔT = tf - ti\n",
    "    if (t < ti) || (t > tf)\n",
    "        return 0.0\n",
    "    else\n",
    "        return (E₀/2) * cos(ω*t) * (1 - a - cos(2π * (t-ti)/ΔT) + a * cos(4π * (t-ti)/ΔT))\n",
    "    end\n",
    "end\n",
    "\n",
    "\n",
    "\"\"\"\n",
    "Two-level-system Hamiltonian and canonical eigenstates.\n",
    "\n",
    "# Arguments\n",
    "\n",
    "* `ω`: Energy separation of the qubit levels\n",
    "* `ϵ`: Control function\n",
    "\"\"\"\n",
    "function ham_and_states(ω, ϵ)\n",
    "    σz = Float64[1 0; 0 -1]\n",
    "    σx = Float64[0 1; 1 0]\n",
    "    H₀ = -(1/2) * ω * σz\n",
    "    ket0 = ComplexF64[1, 0]\n",
    "    ket1 = ComplexF64[0, 1]\n",
    "    return hamiltonian(H₀, (σx, ϵ)), ket0, ket1\n",
    "end"
   ]
  },
  {
   "cell_type": "markdown",
   "id": "02b4bbb4",
   "metadata": {},
   "source": [
    "## Simulating the dynamics with the guess field\n",
    "\n",
    "Before starting with the actual optimization, we first simulate the\n",
    "dynamics under a guess field $\\epsilon_{0}(t)$. To this end, we need to define\n",
    "the time grid of the dynamics. We define the initial state to\n",
    "be at time $t=0$ and consider a total propagation time of $T=10$. The entire\n",
    "time grid is divided into $5000$ equidistant time steps (corresponding to 5001 time grid\n",
    "points)."
   ]
  },
  {
   "cell_type": "code",
   "execution_count": null,
   "id": "679efdb4",
   "metadata": {},
   "outputs": [],
   "source": [
    "T = 10.0\n",
    "nt = 5001\n",
    "\n",
    "tlist = collect(range(0, T; length=nt));"
   ]
  },
  {
   "cell_type": "markdown",
   "id": "8d95312a",
   "metadata": {},
   "source": [
    "Next we define the guess pulse itself.\n",
    "Note that in the following, it is more convenient to use the\n",
    "pulse length `ΔT = t_f - t_i` instead of `t_i` and `t_f` as\n",
    "a parameter, since it reduces the number of control parameters by one."
   ]
  },
  {
   "cell_type": "code",
   "execution_count": null,
   "id": "9bf1a2f3",
   "metadata": {},
   "outputs": [],
   "source": [
    "ω = 12.0  # carrier frequency, should be sufficiently large\n",
    "E₀ = 0.5  # pulse amplitude\n",
    "ΔT = 5.0  # pulse length\n",
    "# make pulse symmetric around the middle of the time interval\n",
    "ti = T/2 - ΔT/2\n",
    "tf = T/2 + ΔT/2\n",
    "\n",
    "ϵ(t) = blackman_pulse(t; ω, E₀, ti, tf)\n",
    "H, ket0, ket1 = ham_and_states(ω, ϵ);"
   ]
  },
  {
   "cell_type": "markdown",
   "id": "c42bc6e8",
   "metadata": {},
   "source": [
    "Then, we solve the equation of motion for the initial state\n",
    "$\\ket{\\Psi_{\\init}}=\\ket{0}$ for the evolution generated by the Hamiltonian $\\op{H}(t)$. By passing `storage=true` to the `propagate` function, we will\n",
    "obtain a matrix `states` that contains the concatenated states at each point\n",
    "of `tlist`:"
   ]
  },
  {
   "cell_type": "code",
   "execution_count": null,
   "id": "7fda21c5",
   "metadata": {},
   "outputs": [],
   "source": [
    "states = propagate(ket0, H, tlist; method=OrdinaryDiffEq, storage=true)"
   ]
  },
  {
   "cell_type": "markdown",
   "id": "8f99824c",
   "metadata": {},
   "source": [
    "Now we plot the absolute value of the field together with the population of\n",
    "the two levels as a function of time."
   ]
  },
  {
   "cell_type": "code",
   "execution_count": null,
   "id": "e720540e",
   "metadata": {},
   "outputs": [],
   "source": [
    "using QuantumPropagators.Controls: discretize\n",
    "\n",
    "function plot_population_and_pulse(tlist, states, ϵ)\n",
    "    E = discretize(ϵ, tlist)\n",
    "    plot(tlist, abs.(E) / maximum(E); label=\"|E|\", color=:lightgray)\n",
    "    plot!(tlist, abs2.(states)'; label=[\"|0⟩\" \"|1⟩\"], ls=[:solid :dash], color=[\"#1f77b4\" \"#ff7f0e\"])\n",
    "    plot!(; xlabel=\"time\", ylabel=\"population\", legend=:right)\n",
    "    infidelity = 1 - abs2.(states[:,end])[2]\n",
    "    annotate!(\n",
    "        0, 0.9,\n",
    "        (\"infidelity: $(round(infidelity; digits=5))\", 10, :left)\n",
    "    )\n",
    "end\n",
    "\n",
    "plot_population_and_pulse(tlist, states, ϵ)"
   ]
  },
  {
   "cell_type": "markdown",
   "id": "abc00b8b",
   "metadata": {},
   "source": [
    "## Problem 0 - Pulse parameterization\n",
    "\n",
    "As you can see, the guess pulse does a bad job in transferring the population\n",
    "from the ground to the excited state. Therefore, we first try to optimize the\n",
    "pulse parameters by hand to achieve a full population inversion.\n",
    "\n",
    "We begin by familiarizing ourselves with the pulse parameterization. For the\n",
    "Blackman shape, `E_0` controls the pulse amplitude, and `ΔT` determines the\n",
    "length of the pulse. Try changing the arguments of\n",
    "`evolve_and_plot_parameterized_pulse`, such that you achieve an infidelity\n",
    "below 0.001."
   ]
  },
  {
   "cell_type": "code",
   "execution_count": null,
   "id": "fa035fb9",
   "metadata": {},
   "outputs": [],
   "source": [
    "function evolve_and_plot_parameterized_pulse(; E₀, ΔT, ω=12.0, T=10, nt=5001)\n",
    "    ti = T/2 - ΔT/2\n",
    "    tf = T/2 + ΔT/2\n",
    "    ϵ(t) = blackman_pulse(t; ω, E₀, ti, tf)\n",
    "    H, ket0, ket1 = ham_and_states(ω, ϵ)\n",
    "    tlist = collect(range(0, T; length=nt));\n",
    "    states = propagate(ket0, H, tlist; method=OrdinaryDiffEq, storage=true)\n",
    "    plot_population_and_pulse(tlist, states, ϵ)\n",
    "end"
   ]
  },
  {
   "cell_type": "code",
   "execution_count": null,
   "id": "7547987a",
   "metadata": {},
   "outputs": [],
   "source": [
    "# problem_0.hint"
   ]
  },
  {
   "cell_type": "code",
   "execution_count": null,
   "id": "c57402a5",
   "metadata": {
    "lines_to_next_cell": 2
   },
   "outputs": [],
   "source": [
    "# problem_0.solution"
   ]
  },
  {
   "cell_type": "markdown",
   "id": "1b941e30",
   "metadata": {},
   "source": [
    "## Initialize optimization\n",
    "\n",
    "Now we can turn towards optimization. To this end, we use the optimization methods provided by the [`NLOpt` package](https://nlopt.readthedocs.io/en/latest/). This package has a [Julia wrapper](https://github.com/JuliaOpt/NLopt.jl) which we could use directly, but there is also a package [Optimization.jl](https://docs.sciml.ai/Optimization/stable/) that provides a common API for defining and solving optimization problems not just via `NLOpt` but also a dozen other optimization toolboxes. For simplicity, we use the well-known Nelder-Mead method. Note, however, that `NLOpt` allows for a wide range of different methods as do the other toolboxes wrapped by Optimization.jl.\n",
    "\n",
    "The Optimization.jl interface requires to provide a `loss` function, i.e. the optimization functional, which takes a vector `x` of real-valued parameters as well as an object `constants` containing static parameters. This could be another vector, but a [`NamedTuple`](https://docs.julialang.org/en/v1/base/base/#Core.NamedTuple) is often cleaner. Note that in a different setup, the function to be optimized could be a more general [`OptimizationFunction`](https://docs.sciml.ai/Optimization/stable/API/optimization_function/) object which also contains information on how to calculate gradients. See the [Optimization.jl manual](https://docs.sciml.ai/Optimization/stable/API/optimization_problem/) for details. Since we only study gradient-free optimization in this notebook, we will not need this here.\n",
    "\n",
    "The `loss` function takes the list `x`, which contains our optimization parameters, i.e., the amplitude $E_{0}$ and the pulse duration $\\Delta T$ on input, and returns the infidelity. Specifically, `loss` returns zero if and only if the dynamics obtained from the parameters in the set `x` transfers the initial state $\\ket{\\Psi(0)}$ perfectly into the target state, i.e.,\n",
    "\n",
    "$$\n",
    "\\ket{\\Psi(0)} =\n",
    "\\ket{0}\n",
    "\\longrightarrow\n",
    "\\ket{\\Psi\\left(T\\right)} =\n",
    "\\ket{1}\n",
    "$$"
   ]
  },
  {
   "cell_type": "code",
   "execution_count": null,
   "id": "864899cc",
   "metadata": {},
   "outputs": [],
   "source": [
    "using UnPack: @unpack  # unpack NamedTuple into variables"
   ]
  },
  {
   "cell_type": "code",
   "execution_count": null,
   "id": "f217f691",
   "metadata": {},
   "outputs": [],
   "source": [
    "function loss(x, constants)\n",
    "    E₀, ΔT = x\n",
    "    @unpack ω, T, nt = constants\n",
    "    ti = T/2 - ΔT/2\n",
    "    tf = T/2 + ΔT/2\n",
    "    tlist = collect(range(0, T; length=nt));\n",
    "    ϵ(t) = blackman_pulse(t; ω, E₀, ti, tf)\n",
    "    tlist = collect(range(0, T; length=nt));\n",
    "    H, ket0, ket1 = ham_and_states(ω, ϵ)\n",
    "    Ψout = propagate(ket0, H, tlist; method=OrdinaryDiffEq)\n",
    "    fidelity = abs2(Ψout[2])\n",
    "    return 1.0 - fidelity\n",
    "end"
   ]
  },
  {
   "cell_type": "markdown",
   "id": "201d6d4b",
   "metadata": {},
   "source": [
    "## Problem 1 - Run optimization\n",
    "\n",
    "Next, we can run the actual optimization. It requires us to define lower and\n",
    "upper bounds for all parameters that should be optimized. In our case, we\n",
    "choose\n",
    "\n",
    "$$\n",
    "0 \\leq E_{0} \\leq 10,\n",
    "\\qquad\n",
    "0 \\leq \\Delta T \\leq T.\n",
    "$$\n",
    "\n",
    "Note that we need to provide guess values for the two parameters. The order\n",
    "that the parameters should appear in is as follows\n",
    "\n",
    "* `E_0`\n",
    "* `ΔT`\n",
    "\n",
    "The choice of the guess values will often have an appreciable impact on the general success of the optimized solution and can even affect its form since many optimization problems allow for many different solutions.\n",
    "Your task is now to fill in the upper optimization bounds and to try different\n",
    "guesses to evaluate their impact on the optimization."
   ]
  },
  {
   "cell_type": "code",
   "execution_count": null,
   "id": "b572ba3e",
   "metadata": {},
   "outputs": [],
   "source": [
    "guess = [#= insert guess parameters here =#]\n",
    "upper_bounds = [#= insert upper bounds here =#]"
   ]
  },
  {
   "cell_type": "code",
   "execution_count": null,
   "id": "9036fa6e",
   "metadata": {},
   "outputs": [],
   "source": [
    "# problem_1.hint"
   ]
  },
  {
   "cell_type": "code",
   "execution_count": null,
   "id": "4467bd44",
   "metadata": {},
   "outputs": [],
   "source": [
    "# problem_1.solution"
   ]
  },
  {
   "cell_type": "code",
   "execution_count": null,
   "id": "95968667",
   "metadata": {},
   "outputs": [],
   "source": [
    "prob = OptimizationProblem(\n",
    "    loss,\n",
    "    guess,\n",
    "    (; ω, T, nt),  # this is a NamedTuple, forwarding the global variables\n",
    "    lb=[0.0, 0.0],\n",
    "    ub=upper_bounds,\n",
    "    stopval=(1-0.999),  # below which error to stop the optimization\n",
    ");"
   ]
  },
  {
   "cell_type": "markdown",
   "id": "18ff79de",
   "metadata": {},
   "source": [
    "We can check the quality of the guess pulse:"
   ]
  },
  {
   "cell_type": "code",
   "execution_count": null,
   "id": "ed711822",
   "metadata": {},
   "outputs": [],
   "source": [
    "loss(guess, (; ω, T, nt))"
   ]
  },
  {
   "cell_type": "markdown",
   "id": "8210ec05",
   "metadata": {},
   "source": [
    "In the optimization, we often want to keep track of the fidelity after each iteration. To this end, we define a [\"callback\" function](https://docs.sciml.ai/Optimization/stable/API/solve/#CommonSolve.solve-Tuple%7BOptimizationProblem,%20Any%7D) which the optimizer will execute after each step."
   ]
  },
  {
   "cell_type": "code",
   "execution_count": null,
   "id": "15272a13",
   "metadata": {},
   "outputs": [],
   "source": [
    "obtained_fidelities = Float64[];  # for keeping track of the fidelity in each iteration"
   ]
  },
  {
   "cell_type": "code",
   "execution_count": null,
   "id": "28556c20",
   "metadata": {},
   "outputs": [],
   "source": [
    "function callback(state, loss_val)\n",
    "    global obtained_fidelities\n",
    "    fid = 1 - loss_val\n",
    "    push!(obtained_fidelities, fid)\n",
    "    print(\"Iteration: $(length(obtained_fidelities)), current fidelity $(round(fid; digits=4))\\r\")\n",
    "    return false\n",
    "end"
   ]
  },
  {
   "cell_type": "markdown",
   "id": "e4a3e2dd",
   "metadata": {},
   "source": [
    "Lastly, we call `Optimization.solve` to run the optimization:"
   ]
  },
  {
   "cell_type": "code",
   "execution_count": null,
   "id": "d5a88820",
   "metadata": {},
   "outputs": [],
   "source": [
    "obtained_fidelities = Float64[];\n",
    "res = Optimization.solve(prob, NLopt.LN_NELDERMEAD(); maxiters=500, callback)\n",
    "println(\"\\n\\nHighest fidelity reached: $(round((1 - res.objective) * 100; digits=2))%\")\n",
    "if res.objective < 1e-3\n",
    "    println(\"\\tcongratulations, you have obtained population inversion!\")\n",
    "else\n",
    "    println(\"\\tbad guess, please try again!\")\n",
    "end"
   ]
  },
  {
   "cell_type": "code",
   "execution_count": null,
   "id": "55b83b5e",
   "metadata": {},
   "outputs": [],
   "source": [
    "plot(obtained_fidelities; marker=:cross, label=\"\", xlabel=\"optimization iteration\", ylabel=\"fidelity\")"
   ]
  },
  {
   "cell_type": "markdown",
   "id": "35408efa",
   "metadata": {},
   "source": [
    "## Analyze optimization results\n",
    "\n",
    "After the optimization we can verify the optimization result by plotting the\n",
    "pulse as well as the resulting dynamics."
   ]
  },
  {
   "cell_type": "code",
   "execution_count": null,
   "id": "d850bde6",
   "metadata": {},
   "outputs": [],
   "source": [
    "evolve_and_plot_parameterized_pulse(E₀=res.u[1], ΔT=res.u[2])\n",
    "println(\"E₀ = $(round(res.u[1]; digits=3))\\nΔT = $(round(res.u[2]; digits=3))\")"
   ]
  },
  {
   "cell_type": "markdown",
   "id": "221fbf66",
   "metadata": {},
   "source": [
    "Try to vary the guess parameters and obtain different solutions. Can\n",
    "you obtain a pulse which only brings half the population to the excited state? Or a pulse which makes the population go to the excited state and then perfectly back to the ground state again?\n",
    "\n",
    "It turns out that for these optimization tasks in this problem there is an infinite amount of solutions.\n",
    "This is because already a single parameter would be sufficient to\n",
    "achieve the target objective and we over-parameterize the problem with\n",
    "two parameters. However, in an actual experiment, there are often additional\n",
    "constraints, e.g., on the maximum amplitude. Set the upper bound for\n",
    "$E_0$ to $2.0$ (make sure to set the guess value a bit below that).\n",
    "Can you still obtain solutions with $\\Delta T <3.5$?"
   ]
  },
  {
   "cell_type": "markdown",
   "id": "913c5335",
   "metadata": {},
   "source": [
    "## Next steps"
   ]
  },
  {
   "cell_type": "markdown",
   "id": "9915be4e",
   "metadata": {},
   "source": [
    "To continue exploring the optimization of parameterized pulses with NLOpt in a more complex system, you can proceed with [Exercise II.2](jl_exercise_2_2_lambda.ipynb) for the optimization of STIRAP in a three-level system.\n",
    "Alternatively, if you are interested in optimization with a gradient-based approach, we recommend to have a look at [Exercise III.1](jl_exercise_3_1_TLS.ipynb) in which Krotov's method is used for the opimization you studied in this notebook."
   ]
  },
  {
   "cell_type": "markdown",
   "id": "08629cab",
   "metadata": {},
   "source": [
    "<!-- Autofooter begin -->\n",
    "\n",
    "---\n",
    "\n",
    "[⬆︎ jump to top](#navtitle_2_1_jl)\n",
    "<!-- Autofooter end -->"
   ]
  }
 ],
 "metadata": {
  "jupytext": {
   "encoding": "# -*- coding: utf-8 -*-"
  },
  "kernelspec": {
   "display_name": "Julia 1.10.2",
   "language": "julia",
   "name": "julia-1.10"
  },
  "language_info": {
   "file_extension": ".jl",
   "mimetype": "application/julia",
   "name": "julia",
   "version": "1.10.2"
  }
 },
 "nbformat": 4,
 "nbformat_minor": 5
}
