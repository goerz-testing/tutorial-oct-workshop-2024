{
 "cells": [
  {
   "cell_type": "markdown",
   "id": "1d483813",
   "metadata": {},
   "source": [
    "\n",
    "<!-- Autoheader begin -->\n",
    "<hr/>\n",
    "<div id=\"navtitle_1_2_jl\" style=\"text-align:center; font-size:16px\">I.2 Population Transfer in a Three-Level-System with STIRAP</div>\n",
    "<hr/>\n",
    "<table style=\"width: 100%\">\n",
    "  <tr>\n",
    "    <th rowspan=\"2\" style=\"width:33%; text-align:center; font-size:16px\">\n",
    "        <a href=\"jl_exercise_1_1_TLS.ipynb\">$\\leftarrow$ previous notebook </a><br>\n",
    "        <a href=\"jl_exercise_1_1_TLS.ipynb\" style=\"font-size:13px\">I.1 Population Inversion in a Two-Level-System</a>\n",
    "    </th>\n",
    "    <td style=\"width:33%; text-align:center; font-size:16px\">\n",
    "    </td>\n",
    "    <th rowspan=\"2\" style=\"width:33%; text-align:center; font-size:16px\">\n",
    "        <a href=\"jl_exercise_1_3_chirp.ipynb\">next notebook $\\rightarrow$</a><br>\n",
    "        <a href=\"jl_exercise_1_3_chirp.ipynb\" style=\"font-size:13px\">I.3 Interaction of a Two-Level-System with a Chirped Laser Pulse</a>\n",
    "    </th>\n",
    "  </tr>\n",
    "  <tr style=\"width: 100%\">\n",
    "    <td style=\"width:33%; text-align:center; font-size:16px\">\n",
    "        <a href=\"jl_exercise_2_2_lambda.ipynb\" style=\"font-size:13px\">II.2 Parameter Optimization for STIRAP</a><br>\n",
    "        <a href=\"jl_exercise_2_2_lambda.ipynb\">$\\downarrow$ next part $\\downarrow$</a>\n",
    "    </td>\n",
    "  </tr>\n",
    "</table>\n",
    "\n",
    "<div style=\"text-align: right;font-size: 16px\"><a href=\"../Python/py_exercise_1_2_lambda.ipynb\">👉 Python version</a></div>\n",
    "\n",
    "---\n",
    "<!-- Autoheader end -->"
   ]
  },
  {
   "cell_type": "markdown",
   "id": "e47d0a72",
   "metadata": {},
   "source": [
    "# Population Transfer in a Three-Level-System with STIRAP"
   ]
  },
  {
   "cell_type": "markdown",
   "id": "5f235b11",
   "metadata": {},
   "source": [
    "$\\newcommand{tr}[0]{\\operatorname{tr}}\n",
    "\\newcommand{diag}[0]{\\operatorname{diag}}\n",
    "\\newcommand{abs}[0]{\\operatorname{abs}}\n",
    "\\newcommand{pop}[0]{\\operatorname{pop}}\n",
    "\\newcommand{aux}[0]{\\text{aux}}\n",
    "\\newcommand{opt}[0]{\\text{opt}}\n",
    "\\newcommand{tgt}[0]{\\text{tgt}}\n",
    "\\newcommand{init}[0]{\\text{init}}\n",
    "\\newcommand{lab}[0]{\\text{lab}}\n",
    "\\newcommand{rwa}[0]{\\text{rwa}}\n",
    "\\newcommand{bra}[1]{\\langle#1\\vert}\n",
    "\\newcommand{ket}[1]{\\vert#1\\rangle}\n",
    "\\newcommand{Bra}[1]{\\left\\langle#1\\right\\vert}\n",
    "\\newcommand{Ket}[1]{\\left\\vert#1\\right\\rangle}\n",
    "\\newcommand{Braket}[2]{\\left\\langle #1\\vphantom{#2} \\mid\n",
    "#2\\vphantom{#1}\\right\\rangle}\n",
    "\\newcommand{op}[1]{\\hat{#1}}\n",
    "\\newcommand{Op}[1]{\\hat{#1}}\n",
    "\\newcommand{dd}[0]{\\,\\text{d}}\n",
    "\\newcommand{Liouville}[0]{\\mathcal{L}}\n",
    "\\newcommand{DynMap}[0]{\\mathcal{E}}\n",
    "\\newcommand{identity}[0]{\\mathbf{1}}\n",
    "\\newcommand{Norm}[1]{\\lVert#1\\rVert}\n",
    "\\newcommand{Abs}[1]{\\left\\vert#1\\right\\vert}\n",
    "\\newcommand{avg}[1]{\\langle#1\\rangle}\n",
    "\\newcommand{Avg}[1]{\\left\\langle#1\\right\\rangle}\n",
    "\\newcommand{AbsSq}[1]{\\left\\vert#1\\right\\vert^2}\n",
    "\\newcommand{Re}[0]{\\operatorname{Re}}\n",
    "\\newcommand{Im}[0]{\\operatorname{Im}}$\n",
    "\n",
    "This notebook introduces the so-called Lambda-system, a three-level system which serves as a slightly more advanced version of the two-level system discussed in [Exercise I.1](jl_exercise_1_1_TLS.ipynb). In a Lambda system the levels 1 and 2 and the levels 2 and 3 are coupled, but the levels 1 and 3 are not. Drawing the level schemes with the corresponding couplings then looks a lot like the letter $\\Lambda$, which you will see in the course of this notebook! We will consider two pulses interacting with a lambda system, one for each of the two couplings. While a transition from levels 1 to 3 is not directly allowed, it is possible via the intermediate level 2. At the end of this notebook you will learn, that it is even possible to transfer population from level 1 to level 3 without ever populating the intermediate level 2!"
   ]
  },
  {
   "cell_type": "markdown",
   "id": "a5204a30",
   "metadata": {},
   "source": [
    "## Setup"
   ]
  },
  {
   "cell_type": "markdown",
   "id": "e60838b4",
   "metadata": {},
   "source": [
    "We load some of the Julia packages we will use in the following"
   ]
  },
  {
   "cell_type": "code",
   "execution_count": null,
   "id": "e56eb3e3",
   "metadata": {},
   "outputs": [],
   "source": [
    "using LinearAlgebra\n",
    "using QuantumPropagators: hamiltonian, propagate\n",
    "using OrdinaryDiffEq"
   ]
  },
  {
   "cell_type": "markdown",
   "id": "35e38d60",
   "metadata": {},
   "source": [
    "We'll also set some defaults for `Plots`, like increasing the default line width for better readability."
   ]
  },
  {
   "cell_type": "code",
   "execution_count": null,
   "id": "c9b7867d",
   "metadata": {},
   "outputs": [],
   "source": [
    "using Plots\n",
    "\n",
    "Plots.default(\n",
    "    linewidth               = 2.0,\n",
    "    foreground_color_legend = nothing,\n",
    "    background_color_legend = RGBA(1, 1, 1, 0.8)\n",
    ")"
   ]
  },
  {
   "cell_type": "code",
   "execution_count": null,
   "id": "f4607b2b",
   "metadata": {},
   "outputs": [],
   "source": [
    "# Some utilities for showing hints and solutions\n",
    "include(joinpath(\"utils\", \"exercise_1_lambda.jl\"));"
   ]
  },
  {
   "cell_type": "markdown",
   "id": "9e54a66e",
   "metadata": {},
   "source": [
    "## The STIRAP Hamiltonian"
   ]
  },
  {
   "cell_type": "markdown",
   "id": "a2fa65bb",
   "metadata": {},
   "source": [
    "We consider a three level system with levels labeled 1,2,3. The levels 1-2 and 2-3 are connected via the corresponding transition dipole moments $d_{1,2}$ and $d_{2,3}$. An electric dipole transition between levels 1 and 3 is forbidden, leading to $d_{1,3}=0$.\n",
    "\n",
    "The system is initialized in the state $\\ket{1}$. The goal is to transfer the population to the state $\\ket{3}$ by means of coherent control. Furthermore, we choose as an additional goal to avoid populating level 2 as much as possible. This could be physically motivated for example by the state $\\ket{2}$ being subject to unwanted decay.\n",
    "\n",
    "We will use two light fields as controls, targeting the transition 1-2 and 2-3. These are usually called the *Pump* and *Stokes* pulse, respectively.\n",
    "\n",
    "The Hamiltonian in the lab frame takes the form\n",
    "\n",
    "\\begin{align}\\op{H}_{\\text{lab}} &= \\begin{pmatrix}\\varepsilon_{1} & d^{*}_{1,2}E(t)\\\\ d_{1,2}E(t) & \\varepsilon_{2} & d^{*}_{2,3}E(t)\\\\ & d_{2,3}E(t) & \\varepsilon_{3} \\end{pmatrix},\\end{align}\n",
    "\n",
    "where $E(t)=E_{\\text{P}}(t) + E_{\\text{S}}(t)$ is the time-dependent electric control field which consists of both the pump and stokes fields $E_{\\text{P/S}}(t)$. The fields have frequencies $\\omega_{\\text{P}}$ resp. $\\omega_{\\text{S}}$ and take the form\n",
    "\\begin{align} E_{P/S}(t)&=S_{\\text{P/S}}(t)\\cos \\left(\\omega_{\\text{P/S}}t\\right), \\end{align}\n",
    "\n",
    "with $S_{\\text{P/S}}(t)$ the *shape functions*. We go to the rotating frame defined by the following unitary matrix\n",
    "\\begin{align} \\op{U} &= e^{i\\epsilon_{1}t}\\begin{pmatrix}1\\\\ & e^{i\\omega_{P}t}\\\\ & & e^{i\\left(\\omega_{P}-\\omega_{S}\\right)t} \\end{pmatrix}. \\end{align}\n",
    "\n",
    "Under this transformation the Hamiltonian transforms as\n",
    "\\begin{align} \\op{H}_{\\text{rot}}=\\op{U}\\op{H}_{\\text{lab}}\\op{U}^{\\dagger}+i\\dot{\\op{U}}\\op{U}^{\\dagger}. \\end{align}\n",
    "\n",
    "After performing a rotating wave approximation, in which fast oscillating terms like $e^{i(\\omega_{\\text{P}} \\pm \\omega_{\\text{S}})t}$ are neglected, we obtain the Hamiltonian most commonly found in literature as the starting point of the STIRAP protocol,\n",
    "\n",
    "\\begin{align} \\op{H}_{\\text{STIRAP}}=\\begin{pmatrix}0 & \\frac{1}{2}\\Omega^{*}_{\\text{P}}(t)\\\\\n",
    "\\frac{1}{2}\\Omega_{\\text{P}}(t) & \\Delta_\\text{P} & \\frac{1}{2}\\Omega^{*}_{\\text{S}}(t)\\\\\n",
    "& \\frac{1}{2}\\Omega_{\\text{S}}(t) & \\Delta_\\text{P}-\\Delta_\\text{S} \\end{pmatrix},\n",
    "\\end{align}\n",
    "\n",
    "where $\\Delta_{\\text{P}} \\equiv (\\varepsilon_2 - \\varepsilon_1) - \\omega_\\text{P}$ and $\\Delta_S \\equiv (\\varepsilon_2 - \\varepsilon_3) - \\omega_\\text{S}$ are called *one-photon detunings* and $\\delta \\equiv \\Delta_\\text{P} - \\Delta_\\text{S}$ is the *two-photon detuning*. We also defined $\\Omega_{\\text{P}}(t) = d_{1,2} S_\\text{P}(t)$ resp. $\\Omega_{\\text{S}}(t) = d_{2,3} S_\\text{S}(t)$, the time-dependent *Rabi frequencies*.\n",
    "\n",
    "The level scheme, pulses and detunings are illustrated in the following figure:\n",
    "\n",
    "<center><img src=\"../figures/lambda_system_levels.png\" alt=\"Lambda system considered in this notebook\" width=\"500\"></center>\n",
    "\n",
    "As mentioned in the introduction, this configuration is called Lambda system because the level scheme resembles the letter $\\Lambda$!"
   ]
  },
  {
   "cell_type": "markdown",
   "id": "5b4f5f50",
   "metadata": {},
   "source": [
    "## The dark state and STIRAP protocol\n",
    "\n",
    "In the following, we assume the controls to be two-photon resonant, i.e. $\\delta = \\Delta_\\text{P} - \\Delta_\\text{S} = 0$. We write $\\Delta \\equiv \\Delta_\\text{P} = \\Delta_\\text{S}$.\n",
    "\n",
    "The three instantaneous eigenstates of $\\hat{H}_\\text{STIRAP}$ can then be expressed as\n",
    "\n",
    "\\begin{align}\n",
    "\\ket{\\varphi_{+}} & =\\sin\\varphi\\sin\\theta\\ket{1}+\\cos\\varphi\\ket{2}+\\sin\\varphi\\cos\\theta\\ket{3}\\\\\n",
    "\\ket{\\varphi_{-}} & =\\cos\\varphi\\sin\\theta\\ket{1}-\\sin\\varphi\\ket{2}+\\cos\\varphi\\cos\\theta\\ket{3}\\\\\n",
    "\\ket{\\varphi_{0}} & =\\cos\\theta\\ket{1}-\\sin\\theta\\ket{3}\n",
    "\\end{align}\n",
    "\n",
    "with corresponding eigenvalues $\\varepsilon_\\pm(t) = \\frac{\\Delta(t)}{2}\\pm\\frac{1}{2}\\sqrt{\\Delta^2(t) + \\Omega_0^2(t)}$ and $\\Omega_0(t)=\\sqrt{\\Omega_\\text{P}^2(t) + \\Omega_\\text{S}^2(t)}$. The time-dependent angles are given via\n",
    "\n",
    "\\begin{align}\n",
    "\\tan \\theta(t) &= \\frac{\\Omega_\\text{P}(t)}{\\Omega_\\text{S}(t)} \\\\\n",
    "\\tan 2\\varphi(t) &= \\frac{\\Omega_0 (t)}{\\Delta(t)}\n",
    "\\end{align}\n",
    "\n",
    "Notice that the eigenstate $\\ket{\\varphi_0}$ does *not* contain any amplitude in state $\\ket{2}$. It is therefore immune to any decay affecting $\\ket{2}$. Since it is not directly involved in the process, it is called a *dark state*.\n",
    "\n",
    "Since the dark state is a superposition of $\\ket{1}$ and $\\ket{3}$ where the respective amplitudes depend on the control amplitudes, we can use the dark state to transfer population from 1 to 3 by having the system adiabatically follow the dark state.\n",
    "\n",
    "Initially (at $t=-\\infty$), we want the system to be in state $\\ket{1}$. For $\\ket{\\phi_0}$, this corresponds to $\\theta = 0$ or $\\Omega_\\text{P} / \\Omega_\\text{S} \\rightarrow 0$.\n",
    "Eventually (at $t=\\infty$), we want the system to be in state $\\ket{3}$, demanding $\\theta = \\pi/2$ or $\\Omega_\\text{S} / \\Omega_\\text{P} \\rightarrow 0$.\n",
    "\n",
    "This indicates a counter-intuitive ordering of the two pulses: At first we need to apply the Stokes pulse targeting the 2-3 transition and thereafter we need to apply the Pump pulse on the 1-2 transition.\n",
    "\n",
    "On top of the correct order of the pulses, we need to make sure that the protocol is slow enough such the population always follows the instantaneous eigenstates. This is known as *adiabaticity*. One can show [1] that the system follows its instantaneous eigenstates adiabatically if\n",
    "\n",
    "\\begin{align}\n",
    "\\Omega_{0}(t)\\gg & \\left|\\dot{\\theta}(t)\\right|\\\\\n",
    "\\Leftrightarrow1\\gg & \\left|\\frac{\\Omega_{\\text{S}}(t)\\dot{\\Omega}_{\\text{P}}(t)-\\Omega_{P}(t)\\dot{\\Omega}_{S}(t)}{\\Omega_{0}^{3}(t)}\\right|\n",
    "\\end{align}\n",
    "\n",
    "The above condition can be interpreted as follows: The duration of the pulses can be estimated as $T \\approx 1/ |\\dot{\\theta}|$. The adiabaticity condition can then be written as $\\Omega_0 T \\gg 1$. Note that $\\Omega_0$ is essentially the overall strength of the two pulses. In short: The protocol follows the dark state for very long and very strong pulses.\n",
    "\n",
    "[1] http://arxiv.org/abs/1605.00224v2"
   ]
  },
  {
   "cell_type": "markdown",
   "id": "0cd0851f",
   "metadata": {},
   "source": [
    "## Implementation using Gaussian pulses\n",
    "\n",
    "Now let's consider a numerical implementation of the previous theoretical findings where we model the two pulses with Gaussian envelopes. First, we define the pulse shape functions and another function returning the STIRAP Hamiltonian.\n",
    "\n",
    "We also define the time interval `t_list` for the calculation and its initial state `psi_0`."
   ]
  },
  {
   "cell_type": "code",
   "execution_count": null,
   "id": "58ac0225",
   "metadata": {},
   "outputs": [],
   "source": [
    "\"\"\"\n",
    "Gaussian shape function centered around t₀ with width σ\n",
    "\n",
    "# Keyword Arguments\n",
    "\n",
    "* `t₀`: center of the Gaussian\n",
    "* `σ`: width of the Gaussian\n",
    "\"\"\"\n",
    "function gaussian_shape(t; t₀, σ)\n",
    "    return @. exp(-0.5*(t - t₀)^2/σ^2) / √(2π*σ)\n",
    "end\n",
    "\n",
    "\"\"\"\n",
    "Shape function for the pump pulse\n",
    "\n",
    "# Keyword Arguments\n",
    "\n",
    "* `tₚ`: center of the Gaussian used for the pump pulse\n",
    "* `σₚ`: width of the Gaussian\n",
    "\"\"\"\n",
    "function pump_shape(t; tₚ, σₚ)\n",
    "    return gaussian_shape(t; t₀=tₚ, σ=σₚ)\n",
    "end\n",
    "\n",
    "\"\"\"\n",
    "Shape function for the Stokes pulse\n",
    "\n",
    "# Keyword Arguments\n",
    "\n",
    "* `tₛ`: center of the Gaussian used for the Stokes pulse\n",
    "* `σₛ`: width of the Gaussian\n",
    "\"\"\"\n",
    "function stokes_shape(t; tₛ, σₛ)\n",
    "    return gaussian_shape(t; t₀=tₛ, σ=σₛ)\n",
    "end\n",
    "\n",
    "\"\"\"\n",
    "Function returning the STIRAP Hamiltonian\n",
    "\"\"\"\n",
    "function H_stirap(Ωₚ, Ωₛ; Δ, d₁₂, d₂₃)\n",
    "\n",
    "    H₀ = zeros(3,3)\n",
    "    H₀[2,2]=Δ\n",
    "\n",
    "    H₁₂ = zeros(3,3)\n",
    "    H₁₂[1,2] = d₁₂ / 2\n",
    "    H₁₂ += H₁₂'\n",
    "\n",
    "    H₂₃ = zeros(3,3)\n",
    "    H₂₃[2,3] = d₂₃ / 2\n",
    "    H₂₃ += H₂₃'\n",
    "\n",
    "    return hamiltonian(H₀, (H₁₂, Ωₚ), (H₂₃, Ωₛ))\n",
    "end\n",
    "\n",
    "tlist = collect(range(-250., 250.; length=401))\n",
    "\n",
    "psi_0 = ComplexF64[1, 0, 0]"
   ]
  },
  {
   "cell_type": "markdown",
   "id": "77850a84",
   "metadata": {},
   "source": [
    "## Problem 1: Choosing parameters for STIRAP"
   ]
  },
  {
   "cell_type": "markdown",
   "id": "c71b8621",
   "metadata": {},
   "source": [
    "Now we can specify the parameters for the calculation. Below you will find a\n",
    "set of parameters that does not result in a perfect STIRAP protocol. Play\n",
    "around with the parameters and try to create the ideal dynamics described above. In fact, the initial parameters we provided for you are already almost correct. There is just one small issue - can you find it?"
   ]
  },
  {
   "cell_type": "code",
   "execution_count": null,
   "id": "a61fc931",
   "metadata": {},
   "outputs": [],
   "source": [
    "Δ = 1.    # Single-photon detuning\n",
    "d₁₂ = 25. # Electric-dipole moment for 1-2 transition / Pump Strength\n",
    "d₂₃ = 25. # Electric-dipole moment for 2-3 transition / Stokes Strength\n",
    "\n",
    "tₚ = -50.  # Center of the Pump pulse\n",
    "tₛ = 50. # Center of the Stokes pulse\n",
    "σₚ = 50.  # Width of the Pump pulse\n",
    "σₛ = 50.  # Width of the Stokes pulse\n",
    "\n",
    "\n",
    "Ωₚ(t) = pump_shape(t; tₚ, σₚ)\n",
    "Ωₛ(t) = stokes_shape(t; tₛ, σₛ)\n",
    "\n",
    "H = H_stirap(Ωₚ, Ωₛ; Δ, d₁₂, d₂₃);"
   ]
  },
  {
   "cell_type": "code",
   "execution_count": null,
   "id": "864e67d8",
   "metadata": {},
   "outputs": [],
   "source": [
    "states = propagate(psi_0, H, tlist; method=OrdinaryDiffEq, storage=true)"
   ]
  },
  {
   "cell_type": "code",
   "execution_count": null,
   "id": "f483afdd",
   "metadata": {},
   "outputs": [],
   "source": [
    "using QuantumPropagators.Controls: discretize\n",
    "\n",
    "function plot_population_and_pulses(tlist, states, ϵₚ, ϵₛ)\n",
    "    Eₚ = discretize(ϵₚ, tlist)\n",
    "    Eₛ = discretize(ϵₛ, tlist)\n",
    "    max_E = maximum(vcat(Eₚ, Eₛ))\n",
    "    pul_plt = plot(tlist, abs.([Eₚ Eₛ]) ./ max_E; label=[\"|ϵₚ|\" \"|ϵₛ|\"], color=[\"#1f77b4\" \"#ff7f0e\"], xlabel=\"time\", ylabel=\"pulse\")\n",
    "    stt_plt = plot(tlist, abs2.(states)'; label=[\"|1⟩\" \"|2⟩\" \"|3⟩\"], ls=[:solid :solid :solid], color=[\"#1f77b4\" \"#ff7f0e\" \"#2ca02c\"], xlabel=\"time\", ylabel=\"population\")\n",
    "    fig = plot(pul_plt, stt_plt, size=(800,400))\n",
    "    infidelity = 1 - abs2.(states[3,end])\n",
    "    return fig\n",
    "end\n",
    "\n",
    "plot_population_and_pulses(tlist, states, Ωₚ, Ωₛ)"
   ]
  },
  {
   "cell_type": "code",
   "execution_count": null,
   "id": "f8b31ea2",
   "metadata": {
    "lines_to_next_cell": 2
   },
   "outputs": [],
   "source": [
    "# problem_1.hint\n",
    "# problem_1.solution"
   ]
  },
  {
   "cell_type": "markdown",
   "id": "04abf8f5",
   "metadata": {},
   "source": [
    "## Next Steps"
   ]
  },
  {
   "cell_type": "markdown",
   "id": "25d6cd3c",
   "metadata": {},
   "source": [
    "After learning about the basics of the STIRAP protocol, you can now try out to find the optimal pulse parameters numerically with optimal control! [Example II.2](jl_exercise_2_2_lambda.ipynb) explains how to find the proper parameters to achieve the population inversion discussed above with a gradient-free optimization. [Example III.2](jl_exercise_3_2_lambda.ipynb) does the same with a gradient-based approach - Krotov's method."
   ]
  },
  {
   "cell_type": "markdown",
   "id": "bf7047a8",
   "metadata": {},
   "source": [
    "<!-- Autofooter begin -->\n",
    "\n",
    "---\n",
    "\n",
    "[⬆︎ jump to top](#navtitle_1_2_jl)\n",
    "<!-- Autofooter end -->"
   ]
  }
 ],
 "metadata": {
  "jupytext": {
   "encoding": "# -*- coding: utf-8 -*-"
  },
  "kernelspec": {
   "display_name": "Julia 1.10.2",
   "language": "julia",
   "name": "julia-1.10"
  },
  "language_info": {
   "file_extension": ".jl",
   "mimetype": "application/julia",
   "name": "julia",
   "version": "1.10.2"
  }
 },
 "nbformat": 4,
 "nbformat_minor": 5
}
