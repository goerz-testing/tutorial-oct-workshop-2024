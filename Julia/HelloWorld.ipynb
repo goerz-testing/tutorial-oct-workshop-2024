{
 "cells": [
  {
   "cell_type": "markdown",
   "id": "42052640-2e78-4f32-a68b-59a5b2c7d839",
   "metadata": {},
   "source": [
    "# Hello World"
   ]
  },
  {
   "cell_type": "markdown",
   "id": "3af5de6f",
   "metadata": {},
   "source": [
    "This  notebook is to verify that the environment to complete this tutorial is\n",
    "working correctly after you have set it up according to the instructions in\n",
    "the [README](../README.md).\n",
    "\n",
    "You should be viewing this notebook inside the Jupyter Lab web application. The top of your window should show a menu and toolbar similar to this:"
   ]
  },
  {
   "cell_type": "markdown",
   "id": "ca20255c-177f-49a7-bc13-0c2c086c83b1",
   "metadata": {
    "execution": {
     "iopub.execute_input": "2024-04-23T01:13:48.059",
     "iopub.status.busy": "2024-04-23T01:13:47.810",
     "iopub.status.idle": "2024-04-23T01:13:48.733",
     "shell.execute_reply": "2024-04-23T01:13:48.733"
    }
   },
   "source": [
    "<img src=\"../figures/toolbar_julia.png\" alt=\"Jupyter Toolbar\" style=\"width: 800px;\"/>"
   ]
  },
  {
   "cell_type": "markdown",
   "id": "870baad5-5ebe-48b1-b102-93af34551fd8",
   "metadata": {},
   "source": [
    "You can execute cells in the notebook (anything with `[ ]:` in front of it) by selecting it with the mouse and using the shortcut Shift-Enter, or by clicking the \"play\" button highlighted with the small red arrow in the above screenshot."
   ]
  },
  {
   "cell_type": "markdown",
   "id": "f7d9fe25-5aba-4e16-b9b6-23a8efa67844",
   "metadata": {},
   "source": [
    "Go through all the menus of Jupyter Lab and familiarize yourself with the available commands and shortcuts. Particularly important is the \"Command Palette\" (View menu), which you should be able to get with Command/Ctrl-Shift-C."
   ]
  },
  {
   "cell_type": "markdown",
   "id": "0a664e8f",
   "metadata": {},
   "source": [
    "## The Julia project environment"
   ]
  },
  {
   "cell_type": "markdown",
   "id": "0be5a178-7343-4c89-ae7e-f0c779916471",
   "metadata": {},
   "source": [
    "When you execute a code cell in a Jupyter notebook, the code in that cell is sent to a persistent \"kernel\" (a Julia process, for this notebook) that executes the code and sends the resulting output back to the notebook for display. You can restart the kernel using the menu, the buttons in the toolbar, or the command palette."
   ]
  },
  {
   "cell_type": "markdown",
   "id": "6d0d4c00-625e-45a5-8999-72c54bcb9923",
   "metadata": {},
   "source": [
    "The currently active kernel is shown at the right of the toolbar (circled in red in the above screenshot). Make sure that it indicates \"Julia 1.10\". If not, and if no Julia kernel is available in the list of kernels that appears when you click on the currently active kernel, refer to the [README](../README.md) on installation instructions.\n",
    "\n",
    "You must have Julia 1.10 installed on your system, and you must have the [IJulia](https://github.com/JuliaLang/IJulia.jl) package installed in your default Julia environment (this is the actual kernel)"
   ]
  },
  {
   "cell_type": "markdown",
   "id": "4d932e90-0a96-4981-b58e-1065c2406e77",
   "metadata": {
    "execution": {
     "iopub.execute_input": "2024-04-23T01:28:07.221",
     "iopub.status.busy": "2024-04-23T01:28:07.220",
     "iopub.status.idle": "2024-04-23T01:28:07.289",
     "shell.execute_reply": "2024-04-23T01:28:07.289"
    }
   },
   "source": [
    "Let's make sure you can run some Julia code. Execute the following cell. It should print \"Hello World\""
   ]
  },
  {
   "cell_type": "code",
   "execution_count": null,
   "id": "a81fc05f-5f95-438c-9c3f-0e30d0cabc24",
   "metadata": {},
   "outputs": [],
   "source": [
    "name = \"World\"\n",
    "print(\"Hello $name\")"
   ]
  },
  {
   "cell_type": "markdown",
   "id": "5e37d0b4-6eac-4832-a9a2-08e7c94d132a",
   "metadata": {
    "execution": {
     "iopub.execute_input": "2024-04-23T01:43:59.319",
     "iopub.status.busy": "2024-04-23T01:43:59.201",
     "iopub.status.idle": "2024-04-23T01:43:59.387",
     "shell.execute_reply": "2024-04-23T01:43:59.387"
    }
   },
   "source": [
    "Also double check the Julia version:"
   ]
  },
  {
   "cell_type": "code",
   "execution_count": null,
   "id": "892a2f72-8202-478e-ad76-9f0ba02f3e09",
   "metadata": {},
   "outputs": [],
   "source": [
    "VERSION"
   ]
  },
  {
   "cell_type": "markdown",
   "id": "2fb49f85-5e94-4298-9067-29b936303b5e",
   "metadata": {},
   "source": [
    "This should show a version of at least 1.10."
   ]
  },
  {
   "cell_type": "markdown",
   "id": "5e2910eb-0602-4931-a56d-5fccee56a09a",
   "metadata": {},
   "source": [
    "The Julia notebooks in this tutorial use packages from a \"project environment\" that is defined in the [JuliaProject.toml](../JuliaProject.toml) file in the root of the tutorial (the parent folder of the one containing this notebook).\n",
    "\n",
    "You must initialize this environment, see the instructions in the [README](../README.md). Just to make sure it is initialized, run the following cell:"
   ]
  },
  {
   "cell_type": "code",
   "execution_count": null,
   "id": "3166a885-40c2-4050-a1c0-737bb6c49dc5",
   "metadata": {},
   "outputs": [],
   "source": [
    "using Pkg  # Julia's built-in package manager\n",
    "Pkg.activate(\"..\") # activate the root folder of this tutorial\n",
    "Pkg.instantiate() # install all package listed in `JuliaProject.toml`"
   ]
  },
  {
   "cell_type": "markdown",
   "id": "2bb17e81-9a5d-4d4a-b977-6350ed06ac8c",
   "metadata": {
    "execution": {
     "iopub.execute_input": "2024-04-23T01:33:09.317",
     "iopub.status.busy": "2024-04-23T01:33:09.317",
     "iopub.status.idle": "2024-04-23T01:33:09.322",
     "shell.execute_reply": "2024-04-23T01:33:09.321"
    }
   },
   "source": [
    "This may trigger pre-compilation of packages and take a minute or so."
   ]
  },
  {
   "cell_type": "markdown",
   "id": "6197cef6-d226-4b50-80ec-da9f60b4229c",
   "metadata": {},
   "source": [
    "If the IJulia was installed correctly, any Julia notebook inside the tutorial folder should automatically use the project environment. Try loading one of the packages used in this tutorial:"
   ]
  },
  {
   "cell_type": "code",
   "execution_count": null,
   "id": "a1fa2336-5cc0-45cf-b1f8-e6a479f1965e",
   "metadata": {},
   "outputs": [],
   "source": [
    "using QuantumControl"
   ]
  },
  {
   "cell_type": "markdown",
   "id": "7e809ab2-2ca4-4ea9-88ce-96e26a2f960b",
   "metadata": {},
   "source": [
    "If this runs without error, you are mostly likely in good shape. If you see `Package QuantumControl not found in current path`, the kernel is not accessing the environment. See the [README](../README.md) for instructions. To (re-)install the IJulia kernel with the correct settings, uncomment the following lines (remove the leading `# `) and run"
   ]
  },
  {
   "cell_type": "code",
   "execution_count": null,
   "id": "51035ccf-e66f-4705-9bec-d51639e78692",
   "metadata": {},
   "outputs": [],
   "source": [
    "# using IJulia\n",
    "# installkernel(\"Julia\", \"--threads=auto\", \"--project=@.\")"
   ]
  },
  {
   "cell_type": "markdown",
   "id": "60968338-b688-4294-bdd8-fa22ca9bd28f",
   "metadata": {},
   "source": [
    "Only do this if things are not working correctly, as it will overwrite an existing kernel configuration."
   ]
  },
  {
   "cell_type": "markdown",
   "id": "70428c3c-b24a-4cdf-9b0f-0854352cce5b",
   "metadata": {},
   "source": [
    "Now try loading the other packages used in this tutorial"
   ]
  },
  {
   "cell_type": "code",
   "execution_count": null,
   "id": "33f259bc",
   "metadata": {},
   "outputs": [],
   "source": [
    "using CodeTracking\n",
    "using Krotov\n",
    "using ComponentArrays\n",
    "using OrdinaryDiffEq\n",
    "using QuantumControl\n",
    "using QuantumPropagators\n",
    "using GRAPE\n",
    "using Optimization\n",
    "using NLopt\n",
    "using OptimizationNLopt\n",
    "using RecursiveArrayTools\n",
    "using UnPack\n",
    "using TwoQubitWeylChamber\n",
    "using Zygote"
   ]
  },
  {
   "cell_type": "markdown",
   "id": "955aa11b-559e-4086-8ba0-05773475550e",
   "metadata": {},
   "source": [
    "## Visualization"
   ]
  },
  {
   "cell_type": "markdown",
   "id": "db4ae8c3-7544-4780-8a19-f057b6f8da4d",
   "metadata": {},
   "source": [
    "The [Plots](https://docs.juliaplots.org/latest/) Julia package is a standard package for \"quick and dirty\" visualization – it is not necessarily the best package for creating publication-ready figures, but it is very convenient for quickly exploring data. We will use it extensively. Try loading the package now:"
   ]
  },
  {
   "cell_type": "code",
   "execution_count": null,
   "id": "365e2606",
   "metadata": {},
   "outputs": [],
   "source": [
    "using Plots"
   ]
  },
  {
   "cell_type": "markdown",
   "id": "4be37662-54f8-4976-b050-ff9b09079a87",
   "metadata": {},
   "source": [
    "You create plots with the `plot` command. The command is pretty smart. It can take a vector of `x` and `y` values,"
   ]
  },
  {
   "cell_type": "code",
   "execution_count": null,
   "id": "8a943f85-60f1-44e3-93fd-69d929781d5f",
   "metadata": {},
   "outputs": [],
   "source": [
    "x = collect(range(0, 10; length=100))\n",
    "y = rand(100)\n",
    "plot(x, y; label=\"random\")"
   ]
  },
  {
   "cell_type": "markdown",
   "id": "262b5a10-04f6-4ddd-9153-51d22e6dd3d0",
   "metadata": {},
   "source": [
    "…a vector of `x` values and a function, or even just a function (where it figures out appropriate `x` values automatically):"
   ]
  },
  {
   "cell_type": "code",
   "execution_count": null,
   "id": "87fe4ff3-9ace-4f89-a275-11523b875515",
   "metadata": {},
   "outputs": [],
   "source": [
    "plot(sin; label=\"sin\")"
   ]
  },
  {
   "cell_type": "markdown",
   "id": "95a91bf1-40ac-4828-a09a-e715b1cd82aa",
   "metadata": {},
   "source": [
    "You can add to the last existing plot by using the `plot!` function (with an exclamation point)"
   ]
  },
  {
   "cell_type": "code",
   "execution_count": null,
   "id": "1ec2d562-fb34-4cf9-bb26-2ba5d6670ccd",
   "metadata": {},
   "outputs": [],
   "source": [
    "plot!(cos; label=\"cos\")"
   ]
  },
  {
   "cell_type": "markdown",
   "id": "b6037ed6-5265-4b69-a876-3dc4f7fb5913",
   "metadata": {},
   "source": [
    "The `!` in Julia is a convention for a function that mutates its first argument. In the `Plots` package, that argument is an explicit global `Plot` object. More explicitly, this would be"
   ]
  },
  {
   "cell_type": "code",
   "execution_count": null,
   "id": "c3dbc9ad-3a84-4159-9f7d-7d17f6db8984",
   "metadata": {},
   "outputs": [],
   "source": [
    "fig = plot(sin; label=\"sin\")\n",
    "plot!(fig, cos; label=\"cos\")\n",
    "plot!(fig; xlabel=\"x values\", ylabel=\"amplitude\")"
   ]
  },
  {
   "cell_type": "markdown",
   "id": "e3ac7882-dd7e-4644-9801-d3af9f07d7a5",
   "metadata": {},
   "source": [
    "The data to be plotted should be given to `plot`/`plot!` as positional arguments, and any options for labels/styles/etc. as keyword arguments, after a semicolon."
   ]
  },
  {
   "cell_type": "markdown",
   "id": "4ac5dcfe-284d-4fa2-acdc-ee90bee8ccee",
   "metadata": {},
   "source": [
    "Another example of Plots' flexibility is that it can conveniently plot multiple curves in one go from the columns of a matrix:"
   ]
  },
  {
   "cell_type": "code",
   "execution_count": null,
   "id": "999e2262-a4d3-49d2-81d9-3a3e30c57b22",
   "metadata": {},
   "outputs": [],
   "source": [
    "data = rand(20, 3)\n",
    "plot(data; label=[\"col 1\" \"col 2\" \"col 3\"], legend=:top)"
   ]
  },
  {
   "cell_type": "markdown",
   "id": "8ef9dd95-b307-438e-87b1-97a83c06baf5",
   "metadata": {},
   "source": [
    "## Running Python code from within Julia"
   ]
  },
  {
   "cell_type": "markdown",
   "id": "fe186c89",
   "metadata": {},
   "source": [
    "In one of the Julia notebooks in this tutorial, we will be using a visualization provided by the [QuTiP](https://qutip.org) Python package. Julia has the ability to call Python with the help of the [PythonCall](https://github.com/JuliaPy/PythonCall.jl) package.\n",
    "\n",
    "This assumes that you have set up the Python project environment for this tutorial (see the [README](../README.md) and the [Python-equivalent of this \"Hello World\" notebook](../Python/HelloWorld.ipynb). Then, you must set some environment variables to tell Julia to use that specific environment"
   ]
  },
  {
   "cell_type": "code",
   "execution_count": null,
   "id": "78c286ac",
   "metadata": {},
   "outputs": [],
   "source": [
    "ENV[\"JULIA_CONDAPKG_BACKEND\"] = \"Null\"\n",
    "ENV[\"JULIA_PYTHONCALL_EXE\"] = joinpath(\"..\", \".venv\",  Sys.iswindows() ? \"python.exe\" : \"bin/python\")"
   ]
  },
  {
   "cell_type": "markdown",
   "id": "d69cee0f",
   "metadata": {},
   "source": [
    "Then,"
   ]
  },
  {
   "cell_type": "code",
   "execution_count": null,
   "id": "e1b22cd1",
   "metadata": {},
   "outputs": [],
   "source": [
    "using PythonCall: Py, pyimport"
   ]
  },
  {
   "cell_type": "code",
   "execution_count": null,
   "id": "37945fa9",
   "metadata": {},
   "outputs": [],
   "source": [
    "qutip = pyimport(\"qutip\");\n",
    "matplotlib = pyimport(\"matplotlib\");"
   ]
  },
  {
   "cell_type": "code",
   "execution_count": null,
   "id": "0c81787f-ee70-40a7-a0fe-0dc669f000c0",
   "metadata": {},
   "outputs": [],
   "source": [
    "σx = qutip.sigmax()"
   ]
  },
  {
   "cell_type": "markdown",
   "id": "288bb177",
   "metadata": {},
   "source": [
    "This is pretty optional. If you can't get the above to work, you will be\n",
    "missing out on one specific visualization in one of the notebooks, but it\n",
    "will not seriously affect your experience of the tutorial.\n",
    "\n",
    "On some systems, there can be some strange-looking error messages\n",
    "after actually running `matplotlib` in Julia that appear delayed (when you\n",
    "run some other code later on), but will disappear if you reevaluate the cell\n",
    "where you got the error. You can safely ignore these."
   ]
  },
  {
   "cell_type": "markdown",
   "id": "aa5ba341-5cbd-4298-909e-ee3f248f4aee",
   "metadata": {},
   "source": [
    "## Feature of (I)Julia"
   ]
  },
  {
   "cell_type": "markdown",
   "id": "4fd4cd71-c418-46bc-b3e5-382c22ee36b3",
   "metadata": {},
   "source": [
    "#### Unicode"
   ]
  },
  {
   "cell_type": "markdown",
   "id": "0e7c9a99-b0df-4455-961a-f405f7195d09",
   "metadata": {},
   "source": [
    "Julia has extensive support for unicode and encourages the use of unicode\n",
    "(Greek letters, subscripts, etc.) for variable names and operators (up to a\n",
    "point. Public APIs of libraries should typically only use ASCII; but in\n",
    "notebooks or private code, you can go wild).\n",
    "\n",
    "In Jupyter notebooks, as well as any text editor that is set up to support\n",
    "Julia, you can type unicode symbols by using LaTeX macros and pressing the\n",
    "Tab key to convert it. E.g. `\\alpha[tab]` will be converted to `α`."
   ]
  },
  {
   "cell_type": "markdown",
   "id": "d5ee5c02-6399-47a3-b31f-571b278e65eb",
   "metadata": {},
   "source": [
    "Try it in the empty cell below:"
   ]
  },
  {
   "cell_type": "code",
   "execution_count": null,
   "id": "41d1b284-41a8-4580-99ab-4e83b088c6c2",
   "metadata": {},
   "outputs": [],
   "source": []
  },
  {
   "cell_type": "markdown",
   "id": "6c8bc1ac-cc44-453c-98a7-ed3d06a414df",
   "metadata": {},
   "source": [
    "Some examples:\n",
    "\n",
    "* `\\Psi[tab]` becomes `Ψ`\n",
    "* `\\Psi[tab]\\_0\\tab` becomes `Ψ₀`\n",
    "* `|\\Psi[tab]\\rangle[tab]` becomes `|Ψ⟩`\n",
    "* `\\bbi[tab]` becomes `𝕚` (which we frequently use for the imaginary unit,\n",
    "`const 𝕚 = 1im`)\n",
    "* `\\cdot[tab]` becomes `⋅` (the inner product, built into Julia if `using\n",
    "  LinearAlgebra` from the standard library)\n",
    "* `\\otimes[tab]` becomes `⊗` for the Kronecker product. This is not built in,\n",
    "  but we can define"
   ]
  },
  {
   "cell_type": "code",
   "execution_count": null,
   "id": "9cbd4373",
   "metadata": {},
   "outputs": [],
   "source": [
    "⊗(A, B) = kron(A, B)"
   ]
  },
  {
   "cell_type": "markdown",
   "id": "a73b268e",
   "metadata": {},
   "source": [
    "You can even go further with things like `H\\hat[tab]\\_0[tab]` for `Ĥ₀`, but\n",
    "accents like hats aren't always well-supported in fonts. If you want to have\n",
    "the best Unicode experience, set up the [JuliaMono](https://juliamono.netlify.app) font as the default monospace font on your system (and in JupyterLab)."
   ]
  },
  {
   "cell_type": "markdown",
   "id": "a4f733a9-e6bd-4d24-8ab6-26052e0f2677",
   "metadata": {},
   "source": [
    "#### The help system"
   ]
  },
  {
   "cell_type": "markdown",
   "id": "911bdfde-55b9-4738-8cf4-8f9d31f6b4ee",
   "metadata": {},
   "source": [
    "Julia has a built-in help system that you can also access in the Jupyter notebook. Start a\n",
    "cell with with `?`. For example"
   ]
  },
  {
   "cell_type": "code",
   "execution_count": null,
   "id": "948716b8",
   "metadata": {},
   "outputs": [],
   "source": [
    "\"\"\"\n",
    "Print \"Hello World\"\n",
    "\n",
    "```julia\n",
    "hello_world\n",
    "```\n",
    "\n",
    "prints \"Hello World\"\n",
    "\"\"\"\n",
    "function hello_world()\n",
    "    print(\"Hello World\")\n",
    "end"
   ]
  },
  {
   "cell_type": "code",
   "execution_count": null,
   "id": "b2a9a81b-2ec3-4f1f-8ac2-a6f5747c2662",
   "metadata": {},
   "outputs": [],
   "source": [
    "? hello_world"
   ]
  },
  {
   "cell_type": "markdown",
   "id": "09c2f068-3564-404c-8b45-6cb909362d45",
   "metadata": {},
   "source": [
    "(try this for built-in / library functions)"
   ]
  },
  {
   "cell_type": "markdown",
   "id": "a1aacd38",
   "metadata": {},
   "source": [
    "You can also use the help system to figure out how to type specific unicode symbols:"
   ]
  },
  {
   "cell_type": "code",
   "execution_count": null,
   "id": "74297399",
   "metadata": {
    "lines_to_next_cell": 2
   },
   "outputs": [],
   "source": [
    "? Ψ₀"
   ]
  },
  {
   "cell_type": "markdown",
   "id": "5a24be40-d201-4fca-bfe4-b469ff679118",
   "metadata": {},
   "source": [
    "#### Displaying"
   ]
  },
  {
   "cell_type": "markdown",
   "id": "de803eaa",
   "metadata": {},
   "source": [
    "Julia (both on the command line and in a Jupyter notebook) shows the result of any expression by default. For example,"
   ]
  },
  {
   "cell_type": "code",
   "execution_count": null,
   "id": "64fbe5c9",
   "metadata": {},
   "outputs": [],
   "source": [
    "u = collect(range(0, 10; length=51))"
   ]
  },
  {
   "cell_type": "markdown",
   "id": "3a928024",
   "metadata": {},
   "source": [
    "To prevent that, add a semicolon at the end of the expression:"
   ]
  },
  {
   "cell_type": "code",
   "execution_count": null,
   "id": "d346ca49",
   "metadata": {
    "lines_to_next_cell": 2
   },
   "outputs": [],
   "source": [
    "u = collect(range(0, 10; length=51));"
   ]
  },
  {
   "cell_type": "markdown",
   "id": "c3d60723-b252-47d7-8b3e-4959c57c5e0b",
   "metadata": {},
   "source": [
    "You can also use the `display` function to explicitly display something (e.g., if it is not the last value of the cell):"
   ]
  },
  {
   "cell_type": "code",
   "execution_count": null,
   "id": "aea9d800-d8f3-478c-9e3c-4189833943cd",
   "metadata": {},
   "outputs": [],
   "source": [
    "display(u)\n",
    "print(\"We have just displayed `u` again\")"
   ]
  },
  {
   "cell_type": "markdown",
   "id": "ca2201e9-96fc-4b84-a7bd-70990aac98cc",
   "metadata": {
    "execution": {
     "iopub.execute_input": "2024-04-16T13:33:56.283",
     "iopub.status.busy": "2024-04-16T13:33:56.042",
     "iopub.status.idle": "2024-04-16T13:33:56.421",
     "shell.execute_reply": "2024-04-16T13:33:56.396"
    }
   },
   "source": [
    "## Julia Syntax tips"
   ]
  },
  {
   "cell_type": "markdown",
   "id": "4754a73f-f2d2-4d72-8bcb-cd2a682871b3",
   "metadata": {},
   "source": [
    "In the following, we will collect some tips on Julia syntax that is used in the tutorial and that may be a bit unfamiliar if you are new to the Julia language. You can skip this is you already know Julia.\n",
    "\n",
    "If you are new to Julia, the overview here by no means replaces any of the [Julia learning\n",
    "materials](https://julialang.org/learning/) and\n",
    "[tutorials](https://julialang.org/learning/tutorials/) or the [manual](https://docs.julialang.org/en/v1/). If you want to really *understand* what makes Julia unique, learn about [\"multiple dispatch\"](https://www.youtube.com/watch?v=kc9HwsxE1OY). But understanding multiple dispatch or any other indepth aspects of the Julia language is not required for this tutorial."
   ]
  },
  {
   "cell_type": "markdown",
   "id": "7646fc55-1aa4-4fc9-af79-0d9732e14da5",
   "metadata": {},
   "source": [
    "Have a look at the [Julia Cheat Sheet](https://cheatsheet.juliadocs.org). Together with the tips below, that should enable to go through the tutorial without actually learning Julia in depth, assuming you have some experience with another language like Python, Matlab, or Fortran.\n",
    "\n",
    "You may also find the [Matlab-Python-Julia comparative cheat sheet](https://cheatsheets.quantecon.org) useful, and the [\"Noteworthy Differences from other Languages\" in the Julia manual](https://docs.julialang.org/en/v1/manual/noteworthy-differences/)."
   ]
  },
  {
   "cell_type": "markdown",
   "id": "43cca523-782f-4afc-89a4-46dfabdb6875",
   "metadata": {},
   "source": [
    "#### Comments"
   ]
  },
  {
   "cell_type": "markdown",
   "id": "7effb54d",
   "metadata": {},
   "source": [
    "The `#` character indicates that the rest of the line is a comment. In\n",
    "addition, a block or inline comment can be started with `#=` and ended with\n",
    "`=#`. This is useful both for commenting out large blocks as well as\n",
    "inserting a comment *inside* an expression.\n",
    "\n",
    "Strings (usually triple-quotes multiline strings) before a function become [\"docstrings\"](https://docs.julialang.org/en/v1/manual/documentation/). They use [markdown syntax](https://docs.julialang.org/en/v1/stdlib/Markdown/)."
   ]
  },
  {
   "cell_type": "markdown",
   "id": "1d7dbb65",
   "metadata": {},
   "source": [
    "#### Function syntax (positional and keyword arguments)"
   ]
  },
  {
   "cell_type": "markdown",
   "id": "afe0b33e",
   "metadata": {},
   "source": [
    "Functions in Julia have positional and keyword arguments, which are\n",
    "separated by a semicolon:"
   ]
  },
  {
   "cell_type": "code",
   "execution_count": null,
   "id": "fa4b48c6",
   "metadata": {},
   "outputs": [],
   "source": [
    "\"\"\"A Blackman shape function\"\"\"\n",
    "function blackman_pulse(t; ω, E₀, ti, tf, a=0.16)\n",
    "    ΔT = tf - ti\n",
    "    if (t < ti) || (t > tf)\n",
    "        return 0.0\n",
    "    else\n",
    "        return (E₀/2) * cos(ω*t) * (1 - a - cos(2π * (t-ti)/ΔT) + a * cos(4π * (t-ti)/ΔT))\n",
    "    end\n",
    "end"
   ]
  },
  {
   "cell_type": "markdown",
   "id": "012e629b",
   "metadata": {},
   "source": [
    "The `t` is a positional argument, `ω`, `E₀`, `ti`, `tf` are mandatory keyword\n",
    "arguments, and `a` is an optional keyword arguments. The function would\n",
    "be called as"
   ]
  },
  {
   "cell_type": "code",
   "execution_count": null,
   "id": "70056ed3",
   "metadata": {},
   "outputs": [],
   "source": [
    "blackman_pulse(5.0; ω=00, E₀=1.0, ti=0.0, tf=10.0)"
   ]
  },
  {
   "cell_type": "markdown",
   "id": "e05d4e0e",
   "metadata": {},
   "source": [
    "When *calling* the function, the semicolon can be a comma under some\n",
    "circumstances, but it is best to be strict and always use a semicolon. Note\n",
    "that positional arguments cannot be called with a keyword:\n",
    "`blackman_pulse(t=5.0; …)` is invalid (unlike, e.g., in Python)"
   ]
  },
  {
   "cell_type": "markdown",
   "id": "3b232d0b",
   "metadata": {},
   "source": [
    "Keyword arguments can be \"forwarded\". If you have had the variables"
   ]
  },
  {
   "cell_type": "code",
   "execution_count": null,
   "id": "3dce5105",
   "metadata": {},
   "outputs": [],
   "source": [
    "ω = 0.0;\n",
    "E₀ = 1.0;"
   ]
  },
  {
   "cell_type": "markdown",
   "id": "4d682eef",
   "metadata": {},
   "source": [
    "defined globally in the notebook, you can call"
   ]
  },
  {
   "cell_type": "code",
   "execution_count": null,
   "id": "53d56bb0",
   "metadata": {},
   "outputs": [],
   "source": [
    "blackman_pulse(5.0; ω, E₀, ti=0.0, tf=10.0)"
   ]
  },
  {
   "cell_type": "markdown",
   "id": "57468511",
   "metadata": {},
   "source": [
    "This is equivalent to"
   ]
  },
  {
   "cell_type": "code",
   "execution_count": null,
   "id": "a19a1f63",
   "metadata": {},
   "outputs": [],
   "source": [
    "blackman_pulse(5.0; ω=ω, E₀=E₀, ti=0.0, tf=10.0)"
   ]
  },
  {
   "cell_type": "markdown",
   "id": "a16b67ec",
   "metadata": {
    "lines_to_next_cell": 2
   },
   "source": [
    "and only works with the semicolon."
   ]
  },
  {
   "cell_type": "markdown",
   "id": "f3cf8d95",
   "metadata": {},
   "source": [
    "#### Splatting syntax"
   ]
  },
  {
   "cell_type": "markdown",
   "id": "9d2cbf48",
   "metadata": {},
   "source": [
    "There is a `...` syntax to expand (or \"splat\") arguments, both when defining functions and when calling functions, e.g.,"
   ]
  },
  {
   "cell_type": "code",
   "execution_count": null,
   "id": "11d93b70",
   "metadata": {},
   "outputs": [],
   "source": [
    "function shifted_blackman(t; kwargs...)\n",
    "    blackman_pulse(t - 5.0; kwargs...)\n",
    "end"
   ]
  },
  {
   "cell_type": "markdown",
   "id": "08268b2e",
   "metadata": {},
   "source": [
    "#### Single-line function definitions"
   ]
  },
  {
   "cell_type": "markdown",
   "id": "d3ab9c8a",
   "metadata": {},
   "source": [
    "You can define functions in a single line (without the `function` keyword)\n",
    "as"
   ]
  },
  {
   "cell_type": "code",
   "execution_count": null,
   "id": "c0b03310",
   "metadata": {},
   "outputs": [],
   "source": [
    "E(t; E₀, t₁, t₂, a=100.0) = (E₀/2) * (tanh(a*(t-t₁)) - tanh(a*(t-t₂)))"
   ]
  },
  {
   "cell_type": "markdown",
   "id": "99924b66",
   "metadata": {},
   "source": [
    "This is completely equivalent to"
   ]
  },
  {
   "cell_type": "code",
   "execution_count": null,
   "id": "d3ad3c8e",
   "metadata": {},
   "outputs": [],
   "source": [
    "function E(t; E₀, t₁, t₂, a=100.0)\n",
    "    return (E₀/2) * (tanh(a*(t-t₁)) - tanh(a*(t-t₂)))\n",
    "end"
   ]
  },
  {
   "cell_type": "markdown",
   "id": "261069f3",
   "metadata": {},
   "source": [
    "#### Anonymous functions"
   ]
  },
  {
   "cell_type": "markdown",
   "id": "4c247ca1",
   "metadata": {},
   "source": [
    "You can create anonymous functions with `x -> …` (or, more generally, `(args...; kwargs...) -> …`"
   ]
  },
  {
   "cell_type": "code",
   "execution_count": null,
   "id": "ec09670d",
   "metadata": {},
   "outputs": [],
   "source": [
    "t -> E(t; E₀=10.0, t₁=0.0, t₂=10.0)"
   ]
  },
  {
   "cell_type": "markdown",
   "id": "637cc332",
   "metadata": {},
   "source": [
    "is equivalent to a function"
   ]
  },
  {
   "cell_type": "code",
   "execution_count": null,
   "id": "1c831adb",
   "metadata": {},
   "outputs": [],
   "source": [
    "function _f(t)\n",
    "    return E(t; E₀=10.0, t₁=0.0, t₂=10.0)\n",
    "end"
   ]
  },
  {
   "cell_type": "markdown",
   "id": "60f179b1",
   "metadata": {},
   "source": [
    "but without assigning a name `_f`. This is useful when you need to pass a\n",
    "function with a specific signature as an argument to another function."
   ]
  },
  {
   "cell_type": "markdown",
   "id": "fc86b6f1",
   "metadata": {},
   "source": [
    "#### Dot syntax for elementwise application"
   ]
  },
  {
   "cell_type": "markdown",
   "id": "09d7dddc",
   "metadata": {},
   "source": [
    "Any function in Julia that is defined on a scalar argument can be applied\n",
    "elementwise to a vector or array by using the \"dot\" syntax (appending a dot\n",
    "to the function name):"
   ]
  },
  {
   "cell_type": "code",
   "execution_count": null,
   "id": "0c244cbf",
   "metadata": {},
   "outputs": [],
   "source": [
    "tlist = collect(range(0, 10; length=101))"
   ]
  },
  {
   "cell_type": "code",
   "execution_count": null,
   "id": "8111307b",
   "metadata": {},
   "outputs": [],
   "source": [
    "E.(tlist; E₀=1.0, t₁=0.5, t₂=9.5)"
   ]
  },
  {
   "cell_type": "markdown",
   "id": "d8df15cd",
   "metadata": {},
   "source": [
    "This also works with operators, but those get a dot *before* the operator:"
   ]
  },
  {
   "cell_type": "code",
   "execution_count": null,
   "id": "a4e8d203",
   "metadata": {},
   "outputs": [],
   "source": [
    "μs = 1e-6;\n",
    "\n",
    "(tlist .+ 10.0) / μs"
   ]
  },
  {
   "cell_type": "markdown",
   "id": "81b91774",
   "metadata": {},
   "source": [
    "is the same as"
   ]
  },
  {
   "cell_type": "code",
   "execution_count": null,
   "id": "409884b3",
   "metadata": {},
   "outputs": [],
   "source": [
    "[(t + 10.0 ) / μs for t in tlist]"
   ]
  },
  {
   "cell_type": "markdown",
   "id": "d383a89a",
   "metadata": {},
   "source": [
    "#### Vector and Matrix syntax"
   ]
  },
  {
   "cell_type": "markdown",
   "id": "5f425740",
   "metadata": {},
   "source": [
    "Vectors (column vectors) are instantiate with square brackets"
   ]
  },
  {
   "cell_type": "code",
   "execution_count": null,
   "id": "eb5a0529",
   "metadata": {},
   "outputs": [],
   "source": [
    "v = [0, 1, 2]"
   ]
  },
  {
   "cell_type": "markdown",
   "id": "14ea8091-9901-4efa-9d73-9101526fe7b3",
   "metadata": {
    "execution": {
     "iopub.execute_input": "2024-04-23T14:04:05.704",
     "iopub.status.busy": "2024-04-23T14:04:05.704",
     "iopub.status.idle": "2024-04-23T14:04:05.906",
     "shell.execute_reply": "2024-04-23T14:04:05.905"
    }
   },
   "source": [
    "The [collect](https://docs.julialang.org/en/v1/base/collections/#Base.collect-Tuple{Type,%20Any}) function is useful to contruct vectors from a more general \"iterable\", like a [range](https://docs.julialang.org/en/v1/base/math/#Base.range) object. We'll use this to construct the vector for a time grid:"
   ]
  },
  {
   "cell_type": "code",
   "execution_count": null,
   "id": "68826f6b-d4e3-46f8-8031-dc4be25ecb22",
   "metadata": {},
   "outputs": [],
   "source": [
    "tlist = collect(range(0, 10.0; length=101))"
   ]
  },
  {
   "cell_type": "markdown",
   "id": "f7e73036",
   "metadata": {},
   "source": [
    "Note that indices in Julia are one-based (like Matlab and Fortran, but unlike\n",
    "Python or C)"
   ]
  },
  {
   "cell_type": "code",
   "execution_count": null,
   "id": "57578ce5",
   "metadata": {},
   "outputs": [],
   "source": [
    "tlist[1]"
   ]
  },
  {
   "cell_type": "code",
   "execution_count": null,
   "id": "d3b4abd1",
   "metadata": {},
   "outputs": [],
   "source": [
    "tlist[1:10]"
   ]
  },
  {
   "cell_type": "markdown",
   "id": "b69de052-c0cf-413d-9775-08ad586e8aa7",
   "metadata": {},
   "source": [
    "Slices like `1:10` in Julia are always *inclusive*. The above slice has 10 elements, not 9. This is like Fortran, but unlike, e.g., Python."
   ]
  },
  {
   "cell_type": "markdown",
   "id": "771f400e-1045-4b55-86a1-7c86d8081b9c",
   "metadata": {},
   "source": [
    "The special index `end` is the last element of the array"
   ]
  },
  {
   "cell_type": "code",
   "execution_count": null,
   "id": "1ecf7653",
   "metadata": {
    "lines_to_next_cell": 2
   },
   "outputs": [],
   "source": [
    "tlist[end]"
   ]
  },
  {
   "cell_type": "code",
   "execution_count": null,
   "id": "8c402c18-d502-4016-82c0-df754beaaacd",
   "metadata": {},
   "outputs": [],
   "source": [
    "tlist[end-1]"
   ]
  },
  {
   "cell_type": "markdown",
   "id": "c95cfd3d",
   "metadata": {},
   "source": [
    "The type of the vector is determined from the elements, or you can write out\n",
    "the desired in front of the opening bracket:"
   ]
  },
  {
   "cell_type": "code",
   "execution_count": null,
   "id": "c56dc7f0",
   "metadata": {},
   "outputs": [],
   "source": [
    "Float64[1, 2, 3]  # double precision floats"
   ]
  },
  {
   "cell_type": "markdown",
   "id": "b282159c",
   "metadata": {},
   "source": [
    "This is especially helpful when defining a quantum state vector, which must\n",
    "be complex:"
   ]
  },
  {
   "cell_type": "code",
   "execution_count": null,
   "id": "54a00033",
   "metadata": {},
   "outputs": [],
   "source": [
    "ComplexF64[1, 0]  # |0⟩ in a two-level-system"
   ]
  },
  {
   "cell_type": "markdown",
   "id": "29e8c3bd",
   "metadata": {},
   "source": [
    "A matrix can be defined as e.g."
   ]
  },
  {
   "cell_type": "code",
   "execution_count": null,
   "id": "544ecf74",
   "metadata": {},
   "outputs": [],
   "source": [
    "H = Float64[\n",
    "    0  1\n",
    "    1  0\n",
    "]"
   ]
  },
  {
   "cell_type": "markdown",
   "id": "f6b2ca48",
   "metadata": {},
   "source": [
    "or on a single line as"
   ]
  },
  {
   "cell_type": "code",
   "execution_count": null,
   "id": "9a9348cf",
   "metadata": {},
   "outputs": [],
   "source": [
    "H = Float64[0 1; 1 0]"
   ]
  },
  {
   "cell_type": "markdown",
   "id": "bcbd1fc2",
   "metadata": {},
   "source": [
    "Note that columns are separated by whitespace (not a comma)"
   ]
  },
  {
   "cell_type": "code",
   "execution_count": null,
   "id": "46f23176",
   "metadata": {},
   "outputs": [],
   "source": [
    "bra0 = ComplexF64[1 0]"
   ]
  },
  {
   "cell_type": "markdown",
   "id": "57730aff",
   "metadata": {},
   "source": [
    "would be a row vector (a 1 × 2 matrix)"
   ]
  },
  {
   "cell_type": "markdown",
   "id": "03d1803d",
   "metadata": {},
   "source": [
    "Matrices are stored in \"column major\" mode (again, like Fortran and Matlab,\n",
    "and unlike Python or C)"
   ]
  },
  {
   "cell_type": "code",
   "execution_count": null,
   "id": "47558a65",
   "metadata": {},
   "outputs": [],
   "source": [
    "X = [\n",
    "    11 12\n",
    "    21 22\n",
    "]"
   ]
  },
  {
   "cell_type": "code",
   "execution_count": null,
   "id": "ddb0d52a",
   "metadata": {},
   "outputs": [],
   "source": [
    "X[1, 2]"
   ]
  },
  {
   "cell_type": "code",
   "execution_count": null,
   "id": "467f9539",
   "metadata": {},
   "outputs": [],
   "source": [
    "X[1, :]"
   ]
  },
  {
   "cell_type": "code",
   "execution_count": null,
   "id": "5d315ffc",
   "metadata": {},
   "outputs": [],
   "source": [
    "X[:, 1]"
   ]
  },
  {
   "cell_type": "markdown",
   "id": "683780c9",
   "metadata": {},
   "source": [
    "#### Exponentiation"
   ]
  },
  {
   "cell_type": "markdown",
   "id": "880b1c4d-6233-4783-9a31-231f57a3fa59",
   "metadata": {},
   "source": [
    "Exponentiation is via the `^` symbol, not `**` as in some other languages:"
   ]
  },
  {
   "cell_type": "code",
   "execution_count": null,
   "id": "2644910f-4dfb-4e5e-aec8-9d12a8f504b1",
   "metadata": {},
   "outputs": [],
   "source": [
    "2^4"
   ]
  },
  {
   "cell_type": "markdown",
   "id": "f0fdcb5a-faa6-4327-8d6f-b3bfb0305f37",
   "metadata": {},
   "source": [
    "For matrices, `^` is proper matrix exponentiation, not elementwise exponentiation"
   ]
  },
  {
   "cell_type": "code",
   "execution_count": null,
   "id": "487c7c41-034c-45f0-bd4d-d0db60bbe122",
   "metadata": {},
   "outputs": [],
   "source": [
    "[0 0.5; 0.5 0]^2"
   ]
  },
  {
   "cell_type": "markdown",
   "id": "4dedf0cd-ca18-4432-a66c-ed1835b5be03",
   "metadata": {},
   "source": [
    "For elementwise-exponentiation, we would use the dot syntax:"
   ]
  },
  {
   "cell_type": "code",
   "execution_count": null,
   "id": "45417742-eeef-4baf-bfb3-388ac4a6d1a8",
   "metadata": {},
   "outputs": [],
   "source": [
    "[0 0.5; 0.5 0].^2"
   ]
  },
  {
   "cell_type": "markdown",
   "id": "07a6c34c",
   "metadata": {},
   "source": [
    "#### Implicit multiplication"
   ]
  },
  {
   "cell_type": "markdown",
   "id": "fd8e5dba",
   "metadata": {},
   "source": [
    "The multiplication operator (`*`) can be omitted between a numeral and a\n",
    "symbol (variable). So, you can write"
   ]
  },
  {
   "cell_type": "code",
   "execution_count": null,
   "id": "0c15a144",
   "metadata": {},
   "outputs": [],
   "source": [
    "2π"
   ]
  },
  {
   "cell_type": "markdown",
   "id": "68c307fd",
   "metadata": {},
   "source": [
    "instead of"
   ]
  },
  {
   "cell_type": "code",
   "execution_count": null,
   "id": "1acd611a",
   "metadata": {},
   "outputs": [],
   "source": [
    "2 * π"
   ]
  },
  {
   "cell_type": "markdown",
   "id": "716a920c",
   "metadata": {},
   "source": [
    "or"
   ]
  },
  {
   "cell_type": "code",
   "execution_count": null,
   "id": "e7ebe0ee",
   "metadata": {},
   "outputs": [],
   "source": [
    "μs = 1e-6\n",
    "t = 2.0μs"
   ]
  },
  {
   "cell_type": "markdown",
   "id": "2ab4c8e4",
   "metadata": {},
   "source": [
    "instead of"
   ]
  },
  {
   "cell_type": "code",
   "execution_count": null,
   "id": "0d8f7ca9",
   "metadata": {},
   "outputs": [],
   "source": [
    "2.0 * μs"
   ]
  },
  {
   "cell_type": "markdown",
   "id": "015d74f8",
   "metadata": {},
   "source": [
    "#### Linear Algebra"
   ]
  },
  {
   "cell_type": "markdown",
   "id": "e6f5cd86",
   "metadata": {},
   "source": [
    "A lot of linear algebra is built into the Julia language. Matrix-vector\n",
    "multiplication or Matrix-Matrix multiplication or Matrix exponentation work\n",
    "as expected"
   ]
  },
  {
   "cell_type": "markdown",
   "id": "f991347a",
   "metadata": {},
   "source": [
    "The `'` suffix is used for the adjoint (the dagger in normal quantum\n",
    "mechanics notation):"
   ]
  },
  {
   "cell_type": "code",
   "execution_count": null,
   "id": "219878ec",
   "metadata": {},
   "outputs": [],
   "source": [
    "const 𝕚 = 1im;"
   ]
  },
  {
   "cell_type": "code",
   "execution_count": null,
   "id": "54c4da83-6b6d-4f89-a433-da43c62cf275",
   "metadata": {},
   "outputs": [],
   "source": [
    "𝕚'  # works on scalars, too"
   ]
  },
  {
   "cell_type": "code",
   "execution_count": null,
   "id": "38a0a4b0",
   "metadata": {},
   "outputs": [],
   "source": [
    "ket = ComplexF64[0, 𝕚];\n",
    "\n",
    "ket'"
   ]
  },
  {
   "cell_type": "code",
   "execution_count": null,
   "id": "d2a1b1c4",
   "metadata": {},
   "outputs": [],
   "source": [
    "X = ComplexF64[\n",
    "    1 1\n",
    "   -1 𝕚\n",
    "];"
   ]
  },
  {
   "cell_type": "code",
   "execution_count": null,
   "id": "00899da0",
   "metadata": {},
   "outputs": [],
   "source": [
    "X'"
   ]
  },
  {
   "cell_type": "markdown",
   "id": "68b45c2b",
   "metadata": {},
   "source": [
    "Use the `abs2` function, applied elementwise, to convert a quantum state into\n",
    "a vector of populations"
   ]
  },
  {
   "cell_type": "code",
   "execution_count": null,
   "id": "41a46bb8",
   "metadata": {},
   "outputs": [],
   "source": [
    "ket = ComplexF64[0, 𝕚];\n",
    "\n",
    "abs2.(ket)"
   ]
  },
  {
   "cell_type": "markdown",
   "id": "31ad2b61",
   "metadata": {},
   "source": [
    "Even more linear algebra becomes available by loading the `LinearAlgebra`\n",
    "standard library module, like using `⋅` (`\\cdot[tab]`) for the inner product"
   ]
  },
  {
   "cell_type": "code",
   "execution_count": null,
   "id": "b69f283a",
   "metadata": {},
   "outputs": [],
   "source": [
    "using LinearAlgebra"
   ]
  },
  {
   "cell_type": "code",
   "execution_count": null,
   "id": "108d9be1",
   "metadata": {},
   "outputs": [],
   "source": [
    "ket00 = ComplexF64[1, 0] ⊗ Complex[1, 0]\n",
    "ket11 = ComplexF64[0, 1] ⊗ Complex[0, 1]\n",
    "bell1 = (ket00 + ket11) / √2"
   ]
  },
  {
   "cell_type": "code",
   "execution_count": null,
   "id": "703602c4",
   "metadata": {},
   "outputs": [],
   "source": [
    "ket00 ⋅ bell1"
   ]
  },
  {
   "cell_type": "markdown",
   "id": "06eefd5f",
   "metadata": {},
   "source": [
    "Or the `eigvals` function to find eigenvalues:"
   ]
  },
  {
   "cell_type": "code",
   "execution_count": null,
   "id": "2e081493",
   "metadata": {},
   "outputs": [],
   "source": [
    "eigvals(ComplexF64[0 1; 1 0])"
   ]
  },
  {
   "cell_type": "markdown",
   "id": "c02de19f",
   "metadata": {},
   "source": [
    "#### In-place function"
   ]
  },
  {
   "cell_type": "markdown",
   "id": "581858a0",
   "metadata": {},
   "source": [
    "Julia has the convention that function names that mutate one of their\n",
    "arguments (usually the first one) end in an exclamation point. That\n",
    "exclamation point is just part of the function name. We have already seen\n",
    "this for the `plot!` function. Another example is `copyto!`:"
   ]
  },
  {
   "cell_type": "code",
   "execution_count": null,
   "id": "78f22983-a038-42a0-839a-29f61ee2e896",
   "metadata": {},
   "outputs": [],
   "source": [
    "a = zeros(10)"
   ]
  },
  {
   "cell_type": "code",
   "execution_count": null,
   "id": "56032c98-903c-4cba-b9d8-f0f43be6f69d",
   "metadata": {},
   "outputs": [],
   "source": [
    "b = rand(10)"
   ]
  },
  {
   "cell_type": "code",
   "execution_count": null,
   "id": "5b8c58f0",
   "metadata": {},
   "outputs": [],
   "source": [
    "copyto!(a, b)\n",
    "a"
   ]
  },
  {
   "cell_type": "markdown",
   "id": "61516bd3-9d4b-4196-9dbc-fcf8b7501f05",
   "metadata": {},
   "source": [
    "#### NamedTuples and ComponentArrays"
   ]
  },
  {
   "cell_type": "markdown",
   "id": "406fd94b-146f-4852-8498-352e51a89937",
   "metadata": {},
   "source": [
    "Julia has the built-in concept of [\"named tuples\"](https://docs.julialang.org/en/v1/base/base/#Core.NamedTuple)"
   ]
  },
  {
   "cell_type": "code",
   "execution_count": null,
   "id": "cabd7845-5a21-44a1-997a-d2b47374c887",
   "metadata": {},
   "outputs": [],
   "source": [
    "values = (a=1, b=2)"
   ]
  },
  {
   "cell_type": "markdown",
   "id": "83c47d92-50b4-41f5-9d04-eca1fe8556eb",
   "metadata": {},
   "source": [
    "which are useful for collecting named values in a single object. You can extract the names as"
   ]
  },
  {
   "cell_type": "code",
   "execution_count": null,
   "id": "3ba475c0-203b-41c6-983c-4ae7c6465b21",
   "metadata": {},
   "outputs": [],
   "source": [
    "values.a"
   ]
  },
  {
   "cell_type": "markdown",
   "id": "39cd2ecc-a592-42f4-a8a9-fa5adb69fb17",
   "metadata": {},
   "source": [
    "or use the third-party [UnPack](https://github.com/mauro3/UnPack.jl) package to expand `values` into individual variables:"
   ]
  },
  {
   "cell_type": "code",
   "execution_count": null,
   "id": "74452e67-6fa7-44b8-965a-32a1945ad0ca",
   "metadata": {},
   "outputs": [],
   "source": [
    "using UnPack\n",
    "\n",
    "@unpack a, b = values"
   ]
  },
  {
   "cell_type": "markdown",
   "id": "2aff3ebe-fbef-4356-870c-e8b7327e92c5",
   "metadata": {},
   "source": [
    "Somewhat related, the third-party [ComponentArrays](https://github.com/jonniedie/ComponentArrays.jl) package provides similar functionality, where the object is a proper (contiguous) vector, not a tuple:"
   ]
  },
  {
   "cell_type": "code",
   "execution_count": null,
   "id": "67fcc79a-185c-4d5f-889b-bc1dfe87c4ef",
   "metadata": {},
   "outputs": [],
   "source": [
    "using ComponentArrays\n",
    "\n",
    "x = ComponentVector(a=1, b=2, c=[3, 4])"
   ]
  },
  {
   "cell_type": "markdown",
   "id": "b35e49fb-9fc2-4729-8753-22648bc5cfd7",
   "metadata": {},
   "source": [
    "This allows to access the components both by name:"
   ]
  },
  {
   "cell_type": "code",
   "execution_count": null,
   "id": "6cdb0e29-aa6d-4689-b39a-c5f2b9782297",
   "metadata": {},
   "outputs": [],
   "source": [
    "x.a"
   ]
  },
  {
   "cell_type": "code",
   "execution_count": null,
   "id": "6153b407-bffe-4ff2-9329-f44f140e9b99",
   "metadata": {},
   "outputs": [],
   "source": [
    "x.c"
   ]
  },
  {
   "cell_type": "markdown",
   "id": "8852c83f-81c2-4156-96c4-c379ab1544e8",
   "metadata": {},
   "source": [
    "and by index:"
   ]
  },
  {
   "cell_type": "code",
   "execution_count": null,
   "id": "f8a68cad-5452-49ef-a918-df5ac95141ba",
   "metadata": {},
   "outputs": [],
   "source": [
    "x[1:3]"
   ]
  },
  {
   "cell_type": "markdown",
   "id": "9e7e556d-df5a-43e2-a553-27086d5482b6",
   "metadata": {},
   "source": [
    "This is useful because optimization packages often want a proper vector of control parameters."
   ]
  },
  {
   "cell_type": "code",
   "execution_count": null,
   "id": "4560d4a8-7d30-4f8e-9d7c-e1ace8706310",
   "metadata": {},
   "outputs": [],
   "source": [
    "Array(x)  # convert to a \"flat\" standard vector"
   ]
  },
  {
   "cell_type": "markdown",
   "id": "bf9964b1",
   "metadata": {},
   "source": [
    "#### Macros"
   ]
  },
  {
   "cell_type": "markdown",
   "id": "6136c2e5",
   "metadata": {},
   "source": [
    "Names that start with `@` are \"macros\" in Julia. These modify the code that\n",
    "follow the macro before that code is sent to the compiler, and thus can do\n",
    "some \"wild\" things. It enables features like this:"
   ]
  },
  {
   "cell_type": "code",
   "execution_count": null,
   "id": "2edded02",
   "metadata": {},
   "outputs": [],
   "source": [
    "x = 1\n",
    "@show x;  # expands to `println(\"x = $x\")`"
   ]
  },
  {
   "cell_type": "markdown",
   "id": "e31e4260",
   "metadata": {},
   "source": [
    "Another example is the `@.` macro that inserts dots (for elementwise\n",
    "application) wherever possible in the expression that follows it."
   ]
  },
  {
   "cell_type": "code",
   "execution_count": null,
   "id": "a1b8ce71",
   "metadata": {},
   "outputs": [],
   "source": [
    "tlist = collect(range(0, 10.0; length=101))"
   ]
  },
  {
   "cell_type": "code",
   "execution_count": null,
   "id": "9422deb6",
   "metadata": {},
   "outputs": [],
   "source": [
    "@. 50.0 * (tanh(100.0 * (tlist - 0.2)) - tanh(100.0 * (tlist - 9.8)))"
   ]
  },
  {
   "cell_type": "markdown",
   "id": "490ebfe6",
   "metadata": {},
   "source": [
    "is equivalent to"
   ]
  },
  {
   "cell_type": "code",
   "execution_count": null,
   "id": "5b908308",
   "metadata": {},
   "outputs": [],
   "source": [
    "50.0 .* (tanh.(100.0 .* (tlist .- 0.2)) .- tanh.(100.0 .*(tlist .- 9.8)))"
   ]
  },
  {
   "cell_type": "markdown",
   "id": "eb00bc5e",
   "metadata": {},
   "source": [
    "You will not be writing any macros, and you can generally just ignore the `@` sign."
   ]
  },
  {
   "cell_type": "markdown",
   "id": "95f5b43e",
   "metadata": {},
   "source": [
    "#### Symbols"
   ]
  },
  {
   "cell_type": "markdown",
   "id": "6b0f06e5",
   "metadata": {},
   "source": [
    "You may sometimes see names that start with a colon, like the `:top` in"
   ]
  },
  {
   "cell_type": "code",
   "execution_count": null,
   "id": "91828f23",
   "metadata": {},
   "outputs": [],
   "source": [
    "data = rand(20, 3)\n",
    "plot(data; label=[\"col 1\" \"col 2\" \"col 3\"], legend=:top);"
   ]
  },
  {
   "cell_type": "markdown",
   "id": "5e798b30",
   "metadata": {},
   "source": [
    "These are \"symbols\" in Julia. Technically, they are objects that represent\n",
    "\"names\" in the context of macro writing, but they are commonly used in Julia\n",
    "as dictionary keys or as \"special values\", like possible values for the\n",
    "`legend` option in the above `plot` command. Just like macros, this is not\n",
    "really something you should worry about: you can basically think of symbols\n",
    "as a special kind of string (`:top` corresponding to `\"top\"`)"
   ]
  }
 ],
 "metadata": {
  "jupytext": {
   "encoding": "# -*- coding: utf-8 -*-"
  },
  "kernelspec": {
   "display_name": "Julia 1.10.2",
   "language": "julia",
   "name": "julia-1.10"
  },
  "language_info": {
   "file_extension": ".jl",
   "mimetype": "application/julia",
   "name": "julia",
   "version": "1.10.2"
  }
 },
 "nbformat": 4,
 "nbformat_minor": 5
}
