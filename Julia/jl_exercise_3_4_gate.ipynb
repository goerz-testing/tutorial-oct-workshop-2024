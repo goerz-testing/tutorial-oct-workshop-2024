{
 "cells": [
  {
   "cell_type": "markdown",
   "id": "e3ac4511",
   "metadata": {},
   "source": [
    "<!-- Autoheader begin -->\n",
    "<hr/>\n",
    "<div id=\"navtitle_3_4_jl\" style=\"text-align:center; font-size:16px\">III.4 Entangling Quantum Gates for Coupled Transmon Qubits</div>\n",
    "<hr/>\n",
    "<table style=\"width: 100%\">\n",
    "  <tr>\n",
    "    <th rowspan=\"2\" style=\"width:33%; text-align:center; font-size:16px\">\n",
    "        <a href=\"jl_exercise_3_3_chiral.ipynb\">$\\leftarrow$ previous notebook </a><br>\n",
    "        <a href=\"jl_exercise_3_3_chiral.ipynb\" style=\"font-size:13px\">III.3 Using Krotov's method to separate chiral molecules</a>\n",
    "    </th>\n",
    "    <td style=\"width:33%; text-align:center; font-size:16px\">\n",
    "        <a href=\"jl_exercise_3_1_TLS.ipynb\">$\\uparrow$ previous part $\\uparrow$</a><br>\n",
    "        <a href=\"jl_exercise_3_1_TLS.ipynb\" style=\"font-size:13px\">III.1 Population Inversion in a Two-Level-System using Krotov's Method and GRAPE</a>\n",
    "    </td>\n",
    "    <th rowspan=\"2\" style=\"width:33%; text-align:center; font-size:16px\">\n",
    "    </th>\n",
    "  </tr>\n",
    "  <tr style=\"width: 100%\">\n",
    "    <td style=\"width:33%; text-align:center; font-size:16px\">\n",
    "    </td>\n",
    "  </tr>\n",
    "</table>\n",
    "\n",
    "<div style=\"text-align: right;font-size: 16px\"><a href=\"../Python/py_exercise_3_4_gate.ipynb\">👉 Python version</a></div>\n",
    "\n",
    "---\n",
    "<!-- Autoheader end -->"
   ]
  },
  {
   "cell_type": "markdown",
   "id": "1c2e62d0",
   "metadata": {},
   "source": [
    "# Entangling Quantum Gates for Coupled Transmon Qubits"
   ]
  },
  {
   "cell_type": "markdown",
   "id": "b82cd93f",
   "metadata": {},
   "source": [
    "$\n",
    "\\newcommand{tr}[0]{\\operatorname{tr}}\n",
    "\\newcommand{diag}[0]{\\operatorname{diag}}\n",
    "\\newcommand{abs}[0]{\\operatorname{abs}}\n",
    "\\newcommand{pop}[0]{\\operatorname{pop}}\n",
    "\\newcommand{aux}[0]{\\text{aux}}\n",
    "\\newcommand{opt}[0]{\\text{opt}}\n",
    "\\newcommand{tgt}[0]{\\text{tgt}}\n",
    "\\newcommand{init}[0]{\\text{init}}\n",
    "\\newcommand{lab}[0]{\\text{lab}}\n",
    "\\newcommand{rwa}[0]{\\text{rwa}}\n",
    "\\newcommand{bra}[1]{\\langle#1\\vert}\n",
    "\\newcommand{ket}[1]{\\vert#1\\rangle}\n",
    "\\newcommand{braket}[1]{\\langle#1\\rangle}\n",
    "\\newcommand{Bra}[1]{\\left\\langle#1\\right\\vert}\n",
    "\\newcommand{Ket}[1]{\\left\\vert#1\\right\\rangle}\n",
    "\\newcommand{Braket}[2]{\\left\\langle #1\\vphantom{#2}\\mid{#2}\\vphantom{#1}\\right\\rangle}\n",
    "\\newcommand{op}[1]{\\hat{#1}}\n",
    "\\newcommand{Op}[1]{\\hat{#1}}\n",
    "\\newcommand{dd}[0]{\\,\\text{d}}\n",
    "\\newcommand{Liouville}[0]{\\mathcal{L}}\n",
    "\\newcommand{DynMap}[0]{\\mathcal{E}}\n",
    "\\newcommand{identity}[0]{\\mathbf{1}}\n",
    "\\newcommand{Norm}[1]{\\lVert#1\\rVert}\n",
    "\\newcommand{Abs}[1]{\\left\\vert#1\\right\\vert}\n",
    "\\newcommand{avg}[1]{\\langle#1\\rangle}\n",
    "\\newcommand{Avg}[1]{\\left\\langle#1\\right\\rangle}\n",
    "\\newcommand{AbsSq}[1]{\\left\\vert#1\\right\\vert^2}\n",
    "\\newcommand{Re}[0]{\\operatorname{Re}}\n",
    "\\newcommand{Im}[0]{\\operatorname{Im}}\n",
    "$"
   ]
  },
  {
   "cell_type": "markdown",
   "id": "d2f6d8d0",
   "metadata": {},
   "source": [
    "In this notebook, we'll use the `QuantumControl` framework for an optimization towards a perfectly entangling\n",
    "two-qubit gate for a system of two transmon qubits with a shared transmission\n",
    "line."
   ]
  },
  {
   "cell_type": "code",
   "execution_count": null,
   "id": "b3a9c69c",
   "metadata": {},
   "outputs": [],
   "source": [
    "using QuantumControl"
   ]
  },
  {
   "cell_type": "markdown",
   "id": "cd75399b",
   "metadata": {},
   "source": [
    "It goes through three progressively more advanced optimizations:\n",
    "\n",
    "1. The direct optimization for a $\\Op{O} = \\sqrt{\\text{iSWAP}}$ gate with a\n",
    "   standard square-modulus functional\n",
    "2. The direct maximization of of the gate concurrence with semi-automatic differentiation\n",
    "3. The optimization towards a perfect entangler using the functional demonstrated in [Watts *et al.*, Phys. Rev. A 91, 062306 (2015)](https://michaelgoerz.net/#WattsPRA2015) and [Goerz *et al.*, Phys. Rev. A 91, 062307 (2015)](https://michaelgoerz.net/#GoerzPRA2015)\n"
   ]
  },
  {
   "cell_type": "markdown",
   "id": "dfa312c1",
   "metadata": {},
   "source": [
    "While the first example evaluates the gradient of the optimization functional\n",
    "analytically, the latter two are examples for the use of automatic\n",
    "differentiation, or more specifically semi-automatic differentiation, as\n",
    "developed in [Goerz *et al.*, Quantum 6, 871 (2022)](https://quantum-journal.org/papers/q-2022-12-07-871/). The optimization of the gate\n",
    "concurrence specifically illustrates the optimization of a functional that is\n",
    "inherently non-analytical.\n",
    "\n",
    "This notebook builds upon the simpler applications of Krotov's method in [Exercise III.2](jl_exercise_3_2_lambda.ipynb) and [Exercise III.3](jl_exercise_3_3_chiral.ipynb). In those examples, the optimization had to consider only the time evolution of a single quantum state. In contrast, for the optimization of a quantum gate, the optimization functional takes into account the evolution of multiple quantum states (the logical two-qubit basis states $\\ket{00}$, $\\ket{01}$, $\\ket{10}$, $\\ket{11}$). You will learn in this exercise how to work with this more involved functionals, and how the functional and the dynamics affect the optimization in Krotov's method.\n",
    "\n",
    "This notebook serves as a nice illustration of using optimal control in a quantum information context, extending the simpler optimizations discussed previously for a two-level-system (i.e. a qubit) in [Exercise II.1](py_exercise_2_1_TLS.ipynb) and [Exercise III.1](py_exercise_3_1_TLS.ipynb).\n",
    "\n",
    "Note that this exercise goes significantly beyond its [Python counterpart](../Python/py_exercise_3_4_gate.ipynb), in using a more realistic model where the logical subspace is embedded in a larger Hilbert space. It also uniquely illustrates the use of semi-automatic differentiation with both Krotov's method and GRAPE."
   ]
  },
  {
   "cell_type": "markdown",
   "id": "052685d2",
   "metadata": {},
   "source": [
    "## Setup"
   ]
  },
  {
   "cell_type": "markdown",
   "id": "2c8a0d89",
   "metadata": {},
   "source": [
    "Krotov's Method and GRAPE can be used interchangeably in these optimizations:"
   ]
  },
  {
   "cell_type": "code",
   "execution_count": null,
   "id": "92f59c94",
   "metadata": {},
   "outputs": [],
   "source": [
    "using Krotov\n",
    "using GRAPE"
   ]
  },
  {
   "cell_type": "markdown",
   "id": "4d2ba1c7",
   "metadata": {},
   "source": [
    "The simulation of the dynamics will be performed via the `QuantumPropagators` package. Both the Krotov and GRAPE method work on control fields that are piecewise-constant (defined as constant for each time step within the time grid). That is, for each time step, the time evolution operator is simply $\\exp(-i \\Op{H}_n dt)$ with a constant $\\Op{H}_n$ for the time step $dt$. For very small systems, one can evaluate the time evolution operator with direct matrix exponentiation (`QuantumPropagators.ExpProp`, as we have used in previous examples). For slightly larger system, a very efficient method for simulating the time evolution in each time step is to expand the matrix exponential into Chebychev polynomials. This is implemented as the `Cheby` propagation method:"
   ]
  },
  {
   "cell_type": "code",
   "execution_count": null,
   "id": "b9e7f1b9",
   "metadata": {},
   "outputs": [],
   "source": [
    "using QuantumPropagators: Cheby"
   ]
  },
  {
   "cell_type": "markdown",
   "id": "ef1bc134",
   "metadata": {},
   "source": [
    "For visualization, we will use the `Plots` package"
   ]
  },
  {
   "cell_type": "code",
   "execution_count": null,
   "id": "4ddcfe3a",
   "metadata": {},
   "outputs": [],
   "source": [
    "using Plots\n",
    "\n",
    "# Set up thicker default lines in plots\n",
    "Plots.default(\n",
    "    linewidth               = 2.0,\n",
    "    foreground_color_legend = nothing,\n",
    "    background_color_legend = RGBA(1, 1, 1, 0.8)\n",
    ")"
   ]
  },
  {
   "cell_type": "code",
   "execution_count": null,
   "id": "adb8f9f1",
   "metadata": {},
   "outputs": [],
   "source": [
    "# Some utilities for showing hints and solutions\n",
    "include(joinpath(\"utils\", \"exercise_3_gate.jl\"));\n",
    "include(joinpath(\"utils\", \"show_code.jl\"));  # @show_code macro"
   ]
  },
  {
   "cell_type": "markdown",
   "id": "68d43344",
   "metadata": {},
   "source": [
    "## Model"
   ]
  },
  {
   "cell_type": "markdown",
   "id": "ca7ee073",
   "metadata": {},
   "source": [
    "<img src=\"../figures/transmon.png\" alt=\"Transmon System\" style=\"width: 1200px;\"/>"
   ]
  },
  {
   "cell_type": "markdown",
   "id": "eaef39a2",
   "metadata": {},
   "source": [
    "In this notebook we consider a system of two [transmon](https://en.wikipedia.org/wiki/Transmon) qubits (the green objects in the illustration above) with a shared transmission line (\"cavity\", shown above in blue), as described in [Blais *et al.*, Phys. Rev. A 75, 032329 (2007)](https://arxiv.org/abs/cond-mat/0612038). Each qubit is an anharmonic (a so-called Duffing) oscillator\n",
    "\n",
    "$$\n",
    "\\Op{H}_q = \\left(\\omega_q - \\frac{\\alpha_q}{2}\\right) \\Op{n} + \\frac{\\alpha_q}{2} \\Op{n}^2\n",
    "$$\n",
    "\n",
    "where $\\omega_q$ is the separation of the two lowest \"qubit\" levels $\\ket{0}$ and $\\ket{1}$, $\\alpha_q$ is the qubit anharmonicity, and $\\Op{n}$ is the number operator. The two qubits can exchange excitations with the cavity. In the so-called dispersive limit the coupling $g$ between each qubit and the cavity is weak, such that the cavity only has \"virtual excitations\" which can be eliminated to obtain a simpler \"effective\" model containing only transmon levels. In this effective model, the two qubits have an always-on coupling $J$, i.e., they exchange excitations via the cavity at a certain rate. In addition, the microwave driving field in the transmission line drives the transitions between the transmon levels with an effective coupling $g^\\text{eff}$. Since we want to obtain a proper qubit, the population should only be in the two lowest levels $\\ket{0}$ and $\\ket{1}$ - the so-called logical levels. However, during gate operation, population may leak into higher levels of each transmon, depending on the strength of the driving field and the magnitude of the anharmonicity. This is not an issue as long as the population returns to the logical subspace at the end of the gate operation. Else the population in higher levels would need to be considered as \"lost\", reducing the gate fidelity. Numerically, we can truncated the transmon to keep the numerical effort manageable. For example, if we can verify that the control field only populates level $\\ket{0}$ – $\\ket{4}$ at any time it is appropriate to only consider $N = 6$ levels in our model."
   ]
  },
  {
   "cell_type": "markdown",
   "id": "68fbd1de",
   "metadata": {},
   "source": [
    "We will write the Hamiltonian in units of GHz, where a qubit frequency of \"4.3 GHz\" means that the qubit levels are separated by an energy of $E = h \\cdot 4.3\\text{GHz} = \\hbar \\cdot 2\\pi \\cdot 4.3\\text{GHz}$. When solving the Schrödinger equation numerically, we always work with $\\hbar = 1$, which motivates the implicit factor of $2\\pi$. Accordingly, the natural unit of time in this unit system are nanoseconds."
   ]
  },
  {
   "cell_type": "code",
   "execution_count": null,
   "id": "43970dd3",
   "metadata": {},
   "outputs": [],
   "source": [
    "const GHz = 2π\n",
    "const MHz = 0.001GHz\n",
    "const ns = 1.0\n",
    "const μs = 1000ns;"
   ]
  },
  {
   "cell_type": "markdown",
   "id": "4f008272",
   "metadata": {},
   "source": [
    "The Hamiltonian and parameters are taken from\n",
    "Ref. [Goerz *et al.*, Phys. Rev. A 91, 062307\n",
    "   (2015), Table 1](https://michaelgoerz.net/#GoerzPRA2015). We can write out the effective two-transmon Hamiltonian as"
   ]
  },
  {
   "cell_type": "code",
   "execution_count": null,
   "id": "d8188c47",
   "metadata": {},
   "outputs": [],
   "source": [
    "⊗ = kron\n",
    "const 𝕚 = 1im\n",
    "const N = 6  # levels per transmon\n",
    "\n",
    "using LinearAlgebra\n",
    "using SparseArrays\n",
    "\n",
    "\n",
    "function transmon_hamiltonian(;\n",
    "    Ωre,\n",
    "    Ωim,\n",
    "    N=N,  # levels per transmon\n",
    "    ω₁=4.380GHz,\n",
    "    ω₂=4.614GHz,\n",
    "    ωd=4.498GHz, # frequency of rotating frame\n",
    "    α₁=-210MHz,\n",
    "    α₂=-215MHz,\n",
    "    J=-3MHz,\n",
    "    λ=1.03,\n",
    "    use_sparse=:auto\n",
    ")\n",
    "    𝟙 = SparseMatrixCSC{ComplexF64,Int64}(sparse(I, N, N))\n",
    "    b̂₁ = spdiagm(1 => complex.(sqrt.(collect(1:N-1)))) ⊗ 𝟙\n",
    "    b̂₂ = 𝟙 ⊗ spdiagm(1 => complex.(sqrt.(collect(1:N-1))))\n",
    "    b̂₁⁺ = sparse(b̂₁')\n",
    "    b̂₂⁺ = sparse(b̂₂')\n",
    "    n̂₁ = sparse(b̂₁' * b̂₁)\n",
    "    n̂₂ = sparse(b̂₂' * b̂₂)\n",
    "    n̂₁² = sparse(n̂₁ * n̂₁)\n",
    "    n̂₂² = sparse(n̂₂ * n̂₂)\n",
    "    b̂₁⁺_b̂₂ = sparse(b̂₁' * b̂₂)\n",
    "    b̂₁_b̂₂⁺ = sparse(b̂₁ * b̂₂')\n",
    "\n",
    "    ω̃₁ = ω₁ - ωd  # rotating frame frequencies\n",
    "    ω̃₂ = ω₂ - ωd\n",
    "\n",
    "    Ĥ₀ = sparse(\n",
    "        (ω̃₁ - α₁ / 2) * n̂₁ +\n",
    "        (α₁ / 2) * n̂₁² +\n",
    "        (ω̃₂ - α₂ / 2) * n̂₂ +\n",
    "        (α₂ / 2) * n̂₂² +\n",
    "        J * (b̂₁⁺_b̂₂ + b̂₁_b̂₂⁺)\n",
    "    )\n",
    "\n",
    "    Ĥ₁re = (1 / 2) * (b̂₁ + b̂₁⁺ + λ * b̂₂ + λ * b̂₂⁺)\n",
    "    Ĥ₁im = (𝕚 / 2) * (b̂₁⁺ - b̂₁ + λ * b̂₂⁺ - λ * b̂₂)\n",
    "\n",
    "    if ((N < 5) && (use_sparse ≢ true)) || use_sparse ≡ false\n",
    "        # For small Hilbert spaces, it it more efficient to work with\n",
    "        # dense matrices\n",
    "        H = hamiltonian(Array(Ĥ₀), (Array(Ĥ₁re), Ωre), (Array(Ĥ₁im), Ωim))\n",
    "    else\n",
    "        H = hamiltonian(Ĥ₀, (Ĥ₁re, Ωre), (Ĥ₁im, Ωim))\n",
    "    end\n",
    "    return H\n",
    "\n",
    "end;"
   ]
  },
  {
   "cell_type": "markdown",
   "id": "e056fe2d",
   "metadata": {},
   "source": [
    "The Hamiltonian is written in a rotating frame, so in general. This implies that the control\n",
    "field is allowed to be complex-valued in general. A common strategy for complex controls is to separate them into two real-valued control fields - one for the real part and one for the imaginary part. Initially, the\n",
    "imaginary part is set to zero, which corresponds to a field exactly at the frequency of the rotating frame."
   ]
  },
  {
   "cell_type": "markdown",
   "id": "81c0b76a",
   "metadata": {},
   "source": [
    "We choose a pulse duration of 400 ns. The guess pulse amplitude is 35 MHz,\n",
    "with a 15 ns switch-on/-off time. The amplitude already contains the $g^\\text{eff}$ factor, i.e., how much amplitude of the physical field the transmon actually feels. The factor might be different for the two qubits, which we've taken into account here with a factor $\\lambda$.\n",
    "\n",
    "This switch-on/-off must be maintained in\n",
    "the optimization: A pulse that does not start from or end at zero would not\n",
    "be physical. For GRAPE, we can achieve this by using a `ShapedAmplitude`:"
   ]
  },
  {
   "cell_type": "code",
   "execution_count": null,
   "id": "ddb35239",
   "metadata": {},
   "outputs": [],
   "source": [
    "using QuantumControl.Amplitudes: ShapedAmplitude"
   ]
  },
  {
   "cell_type": "markdown",
   "id": "117e9a76",
   "metadata": {},
   "source": [
    "This allows to have a control amplitude $Ω(t) = S(t) ϵ(t)$ where $S(t)$\n",
    "is a fixed shape and $ϵ(t)$ is the pulse directly tuned by the\n",
    "optimization. We start with a constant $ϵ(t)$ and do not place any\n",
    "restrictions on how the optimization might update $ϵ(t)$. Krotov's method has an alternative way to ensure this boundary condition by employing an \"update shape\" which limits the pulse update in each iteration to be zero at the boundary points. However, note that the `ShapedAmplitude` makes this unnecessary and works equally well for GRAPE and Krotov's method."
   ]
  },
  {
   "cell_type": "markdown",
   "id": "132441fb",
   "metadata": {},
   "source": [
    "Note that passing `tlist` to `ShapedAmplitude` discretizes both the control\n",
    "and the shape function to the midpoints of the `tlist` array."
   ]
  },
  {
   "cell_type": "code",
   "execution_count": null,
   "id": "f16631f3",
   "metadata": {},
   "outputs": [],
   "source": [
    "using QuantumControl.Shapes: flattop\n",
    "\n",
    "function guess_amplitudes(; T=400ns, E₀=35MHz, dt=0.1ns, t_rise=15ns)\n",
    "\n",
    "    tlist = collect(range(0, T, step=dt))\n",
    "    shape(t) = flattop(t, T=T, t_rise=t_rise)\n",
    "    Ωre = ShapedAmplitude(t -> E₀, tlist; shape)\n",
    "    Ωim = ShapedAmplitude(t -> 0.0, tlist; shape)\n",
    "\n",
    "    return tlist, Ωre, Ωim\n",
    "\n",
    "end\n",
    "\n",
    "tlist, Ωre_guess, Ωim_guess = guess_amplitudes();"
   ]
  },
  {
   "cell_type": "markdown",
   "id": "a5fc787f",
   "metadata": {},
   "source": [
    "We can visualize this as follows"
   ]
  },
  {
   "cell_type": "code",
   "execution_count": null,
   "id": "1393108d",
   "metadata": {},
   "outputs": [],
   "source": [
    "using QuantumControl.Controls: discretize\n",
    "\n",
    "function plot_complex_pulse(tlist, Ω; time_unit=:ns, ampl_unit=:MHz, kwargs...)\n",
    "\n",
    "    Ω = discretize(Ω, tlist)  # make sure Ω is defined on *points* of `tlist`\n",
    "\n",
    "    ax1 = plot(\n",
    "        tlist ./ eval(time_unit),\n",
    "        abs.(Ω) ./ eval(ampl_unit);\n",
    "        label=\"|Ω|\",\n",
    "        xlabel=\"time ($time_unit)\",\n",
    "        ylabel=\"amplitude ($ampl_unit)\",\n",
    "        kwargs...\n",
    "    )\n",
    "\n",
    "    ax2 = plot(\n",
    "        tlist ./ eval(time_unit),\n",
    "        angle.(Ω) ./ π;\n",
    "        label=\"ϕ(Ω)\",\n",
    "        xlabel=\"time ($time_unit)\",\n",
    "        ylabel=\"phase (π)\"\n",
    "    )\n",
    "\n",
    "    plot(ax1, ax2, layout=(2, 1))\n",
    "\n",
    "end\n",
    "\n",
    "fig = plot_complex_pulse(tlist, Array(Ωre_guess) .+ 𝕚 .* Array(Ωim_guess))"
   ]
  },
  {
   "cell_type": "markdown",
   "id": "7b4019ff",
   "metadata": {},
   "source": [
    "We now connect the Hamiltonian with these control fields:"
   ]
  },
  {
   "cell_type": "code",
   "execution_count": null,
   "id": "25c16890",
   "metadata": {},
   "outputs": [],
   "source": [
    "H = transmon_hamiltonian(Ωre=Ωre_guess, Ωim=Ωim_guess);"
   ]
  },
  {
   "cell_type": "markdown",
   "id": "b06ecfea",
   "metadata": {},
   "source": [
    "## Logical basis for two-qubit gates"
   ]
  },
  {
   "cell_type": "markdown",
   "id": "c1f4e217",
   "metadata": {},
   "source": [
    "For simplicity, we define the qubits in the *bare* basis, i.e.\n",
    "ignoring the static coupling $J$."
   ]
  },
  {
   "cell_type": "code",
   "execution_count": null,
   "id": "7285cf47",
   "metadata": {},
   "outputs": [],
   "source": [
    "function ket(i::Int64; N=N)\n",
    "    Ψ = zeros(ComplexF64, N)\n",
    "    Ψ[i+1] = 1\n",
    "    return Ψ\n",
    "end\n",
    "\n",
    "function ket(indices::Int64...; N=N)\n",
    "    Ψ = ket(indices[1]; N=N)\n",
    "    for i in indices[2:end]\n",
    "        Ψ = Ψ ⊗ ket(i; N=N)\n",
    "    end\n",
    "    return Ψ\n",
    "end\n",
    "\n",
    "function ket(label::AbstractString; N=N)\n",
    "    indices = [parse(Int64, digit) for digit in label]\n",
    "    return ket(indices...; N=N)\n",
    "end;"
   ]
  },
  {
   "cell_type": "code",
   "execution_count": null,
   "id": "452b7504",
   "metadata": {},
   "outputs": [],
   "source": [
    "basis = [ket(\"00\"), ket(\"01\"), ket(\"10\"), ket(\"11\")];"
   ]
  },
  {
   "cell_type": "markdown",
   "id": "0dbedec1",
   "metadata": {},
   "source": [
    "In a practical context, it would be more appropriate to work in the \"dressed\" basis of the eigenstates closest to the bare states. However, since $J$ is relatively small, the bare and dressed states are quite close to each other, and for the purpose of this example we avoid the complication of having to diagonalize the Hamiltonian and choosing the correct basis states."
   ]
  },
  {
   "cell_type": "markdown",
   "id": "3e1df1b2",
   "metadata": {},
   "source": [
    "## Optimizing for a specific quantum gate"
   ]
  },
  {
   "cell_type": "markdown",
   "id": "a5e4084f",
   "metadata": {},
   "source": [
    "Our target gate is $\\Op{O} = \\sqrt{\\text{iSWAP}}$:"
   ]
  },
  {
   "cell_type": "code",
   "execution_count": null,
   "id": "102cf731",
   "metadata": {},
   "outputs": [],
   "source": [
    "SQRTISWAP = [\n",
    "    1  0    0   0\n",
    "    0 1/√2 𝕚/√2 0\n",
    "    0 𝕚/√2 1/√2 0\n",
    "    0  0    0   1\n",
    "];"
   ]
  },
  {
   "cell_type": "markdown",
   "id": "e72fd499",
   "metadata": {},
   "source": [
    "While we could optimize for any other gate like the standard CNOT and CPHASE gates as well, it turns out that the interaction terms in the Hamiltonian allow for the gate $\\sqrt{\\text{iSWAP}}$ to arise very naturally for this system."
   ]
  },
  {
   "cell_type": "markdown",
   "id": "72af5a8f",
   "metadata": {},
   "source": [
    "For each basis state, we get a target state that results from applying the\n",
    "gate to the basis state (you can convince yourself that this equivalent\n",
    "multiplying the transpose of the above gate matrix to the vector of basis\n",
    "states):"
   ]
  },
  {
   "cell_type": "code",
   "execution_count": null,
   "id": "ebdb5290",
   "metadata": {},
   "outputs": [],
   "source": [
    "basis_tgt = transpose(SQRTISWAP) * basis;"
   ]
  },
  {
   "cell_type": "markdown",
   "id": "efe921c8",
   "metadata": {},
   "source": [
    "The optimization aims to bring the trajectory of each basis\n",
    "state to the corresponding target state:"
   ]
  },
  {
   "cell_type": "code",
   "execution_count": null,
   "id": "2f964d14",
   "metadata": {},
   "outputs": [],
   "source": [
    "trajectories = [\n",
    "    Trajectory(initial_state=Ψ, target_state=Ψtgt, generator=H) for\n",
    "    (Ψ, Ψtgt) ∈ zip(basis, basis_tgt)\n",
    "];"
   ]
  },
  {
   "cell_type": "markdown",
   "id": "542e8920",
   "metadata": {},
   "source": [
    "We can analyze how all basis states evolve under the guess controls in a single call:"
   ]
  },
  {
   "cell_type": "code",
   "execution_count": null,
   "id": "0b3e22ae",
   "metadata": {},
   "outputs": [],
   "source": [
    "guess_states = propagate_trajectories(trajectories, tlist; method=Cheby, use_threads=true);"
   ]
  },
  {
   "cell_type": "markdown",
   "id": "adad9596",
   "metadata": {},
   "source": [
    "The gate implemented by the guess controls can be found as follows"
   ]
  },
  {
   "cell_type": "code",
   "execution_count": null,
   "id": "a5689d98",
   "metadata": {},
   "outputs": [],
   "source": [
    "U_guess = [basis[i] ⋅ guess_states[j] for i = 1:4, j = 1:4];"
   ]
  },
  {
   "cell_type": "markdown",
   "id": "380b167c",
   "metadata": {},
   "source": [
    "We will optimize these trajectories with a square-modulus functional"
   ]
  },
  {
   "cell_type": "markdown",
   "id": "6eb95427",
   "metadata": {},
   "source": [
    "$$\n",
    "J_{T,sm}\n",
    "= 1 - \\Bigg\\vert\\frac{1}{4}\\sum_{k=1}^{4} \\underbrace{\\langle \\Psi_k(T) | \\Psi_k^{\\text{tgt}}\\rangle}_{\\equiv \\tau_k}\\Bigg\\vert^2\n",
    "= 1 - \\frac{1}{16} \\sum_{k,l=1}^{4} \\underbrace{\\langle \\Psi_l^{\\text{tgt}} | \\Psi_l(T) \\rangle}_{\\equiv\\tau_l^*} \\; \\underbrace{\\langle \\Psi_k(T) | \\Psi_k^{\\text{tgt}}\\rangle}_{\\equiv \\tau_k}\n",
    "$$\n",
    "\n",
    "where $\\ket{\\Psi_k(T)}$ is the result of forward-propagating the basis state $\\ket{\\phi_k}$ (i.e., $\\ket{\\phi_1} = \\ket{00}$, $\\ket{\\phi_2} = \\ket{01}$, etc.)"
   ]
  },
  {
   "cell_type": "code",
   "execution_count": null,
   "id": "7d8408e9",
   "metadata": {},
   "outputs": [],
   "source": [
    "using QuantumControl.Functionals: J_T_sm"
   ]
  },
  {
   "cell_type": "markdown",
   "id": "62cc2257",
   "metadata": {},
   "source": [
    "The initial value of the functional is"
   ]
  },
  {
   "cell_type": "code",
   "execution_count": null,
   "id": "ab446781",
   "metadata": {},
   "outputs": [],
   "source": [
    "J_T_sm(guess_states, trajectories)"
   ]
  },
  {
   "cell_type": "markdown",
   "id": "cb1402b0",
   "metadata": {},
   "source": [
    "which yields the gate error"
   ]
  },
  {
   "cell_type": "code",
   "execution_count": null,
   "id": "822c8c03",
   "metadata": {},
   "outputs": [],
   "source": [
    "1 - (abs(tr(U_guess' * SQRTISWAP)) / 4)^2"
   ]
  },
  {
   "cell_type": "markdown",
   "id": "e1a19c4f",
   "metadata": {},
   "source": [
    "An illustration on the way the pulse update is computed in Krotov's method can be found in part (b) of the figure below."
   ]
  },
  {
   "cell_type": "markdown",
   "id": "49d98643",
   "metadata": {},
   "source": [
    "<img src=\"../figures/schemes.svg\" alt=\"Schemes\" style=\"width: 1200px;\"/>"
   ]
  },
  {
   "cell_type": "markdown",
   "id": "514b83ad",
   "metadata": {},
   "source": [
    "The figure is taken from from the paper [Goerz *et al.*, Quantum 6, 871 (2022)](https://quantum-journal.org/papers/q-2022-12-07-871/), where more details can be found.\n",
    "\n",
    "Here, we'll focus on one essential feature: both in GRAPE and Krotov, the scheme involves a forward-propagation of the four basis states ($\\ket{\\phi_k} \\rightarrow \\ket{\\Psi_k(T)}$ in the diagram), followed by a backward propagation of a set of states $\\ket{\\chi_k}$ with the boundary condition\n",
    "\n",
    "$$\n",
    "\\ket{\\chi_k(T)} = - \\frac{\\partial J_T}{\\partial \\bra{\\Psi_k(T)}}\n",
    "$$"
   ]
  },
  {
   "cell_type": "markdown",
   "id": "a8d87d6e",
   "metadata": {},
   "source": [
    "This is how the functional enters the equations for the iterative optimization in Krotov's method as well as in GRAPE!"
   ]
  },
  {
   "cell_type": "markdown",
   "id": "8442530b",
   "metadata": {},
   "source": [
    "### Problem 1: boundary condition for the backward propagation"
   ]
  },
  {
   "cell_type": "markdown",
   "id": "ad351229",
   "metadata": {},
   "source": [
    "The `QuantumControl.optimize` function, respectively the `QuantumControl.ControlProblem` takes a function `chi` as a keyword argument that constructs the states $\\ket{\\chi_k(T)}$ from the set of forward-propagated states $\\ket{\\Psi_k(T)}$ and the `trajectories` (which contain the `target_state` for each basis states).\n",
    "\n",
    "For the $J_{T,sm}$ as defined above, you will find that $\\ket{\\chi_k(T)}$ are proportional to the target states $\\ket{\\Psi_k^{\\text{tgt}}}$. Calculate with pen and paper the derivative $-\\partial J_T / \\partial \\bra{\\Psi_k(T)}$ and fill in the proportionality factor $\\alpha$ below:"
   ]
  },
  {
   "cell_type": "code",
   "execution_count": null,
   "id": "894a8ced",
   "metadata": {},
   "outputs": [],
   "source": [
    "\"\"\"Set χ-states in-place.\n",
    "\n",
    "The `!` in the function name is a Julia convention\n",
    "that the function mutates its first argument.\n",
    "An optimizer may call the function with keyword arguments,\n",
    "which we should ignore here.\n",
    "\"\"\"\n",
    "function chi!(χ, Ψ, trajectories; kwargs...)\n",
    "    τ = [Ψ[k] ⋅ trajectories[k].target_state for k = 1:4]\n",
    "    α = # fill in proportionality factor\n",
    "    for k = 1:4\n",
    "        χ[k] .= α .* trajectories[k].target_state\n",
    "    end\n",
    "end"
   ]
  },
  {
   "cell_type": "code",
   "execution_count": null,
   "id": "9ed61295",
   "metadata": {},
   "outputs": [],
   "source": [
    "# problem_1.hint"
   ]
  },
  {
   "cell_type": "code",
   "execution_count": null,
   "id": "ca3eaf18",
   "metadata": {},
   "outputs": [],
   "source": [
    "# problem_1.solution"
   ]
  },
  {
   "cell_type": "markdown",
   "id": "32d5ee2c",
   "metadata": {},
   "source": [
    "Now, we define the full optimization problems on top of the list of\n",
    "trajectories, and with the optimization functional and the definition of `chi`:"
   ]
  },
  {
   "cell_type": "code",
   "execution_count": null,
   "id": "ae177d49",
   "metadata": {},
   "outputs": [],
   "source": [
    "problem = ControlProblem(\n",
    "    trajectories,\n",
    "    tlist;\n",
    "    iter_stop=100,\n",
    "    J_T=J_T_sm,\n",
    "    chi=chi!,\n",
    "    check_convergence=res -> begin\n",
    "        (\n",
    "            (res.J_T > res.J_T_prev) &&\n",
    "            (res.converged = true) &&\n",
    "            (res.message = \"Loss of monotonic convergence\")\n",
    "        )\n",
    "        ((res.J_T <= 1e-3) && (res.converged = true) && (res.message = \"J_T < 10⁻³\"))\n",
    "    end,\n",
    "    prop_method=Cheby,\n",
    "    use_threads=true,\n",
    ");"
   ]
  },
  {
   "cell_type": "markdown",
   "id": "2fc4c17b",
   "metadata": {},
   "source": [
    "Solve the optimization problem with GRAPE:"
   ]
  },
  {
   "cell_type": "code",
   "execution_count": null,
   "id": "243fc152",
   "metadata": {},
   "outputs": [],
   "source": [
    "opt_result = optimize(problem; method=GRAPE)"
   ]
  },
  {
   "cell_type": "markdown",
   "id": "2f8c3eb7",
   "metadata": {},
   "source": [
    "Take a look at what happens if the `chi!` function is implemented incorrectly. For example, use `τ` instead of `τ'`, or try to use the wrong sign."
   ]
  },
  {
   "cell_type": "markdown",
   "id": "516512c5",
   "metadata": {},
   "source": [
    "Alternatively to GRAPE, you can use Krotov's method to run the same optimization. Krotov's method has a parameter `lambda_a` that determines the overall magnitude of the pulse update (larger `lambda_a` result in smaller updates)"
   ]
  },
  {
   "cell_type": "code",
   "execution_count": null,
   "id": "14c2b1cd",
   "metadata": {},
   "outputs": [],
   "source": [
    "# opt_result = optimize(problem; method=Krotov, lambda_a=10.0)"
   ]
  },
  {
   "cell_type": "markdown",
   "id": "be5fd5b6",
   "metadata": {},
   "source": [
    "We extract the optimized control field from the optimization result and plot\n",
    "the resulting amplitude."
   ]
  },
  {
   "cell_type": "markdown",
   "id": "3e6a9dd8",
   "metadata": {},
   "source": [
    "The `optimized_controls` field of the `opt_result` contains the optimized\n",
    "controls $ϵ(t)$."
   ]
  },
  {
   "cell_type": "code",
   "execution_count": null,
   "id": "b2ffa81c",
   "metadata": {},
   "outputs": [],
   "source": [
    "ϵ_opt = opt_result.optimized_controls[1] + 𝕚 * opt_result.optimized_controls[2];"
   ]
  },
  {
   "cell_type": "markdown",
   "id": "33eb02a3",
   "metadata": {},
   "source": [
    "These must still be multiplied by the static shape $S(t)$ that we set up\n",
    "for the guess amplitudes"
   ]
  },
  {
   "cell_type": "code",
   "execution_count": null,
   "id": "5b81ffe4",
   "metadata": {},
   "outputs": [],
   "source": [
    "Ω_opt = ϵ_opt .* discretize(Ωre_guess.shape, tlist)\n",
    "\n",
    "fig = plot_complex_pulse(tlist, Ω_opt)"
   ]
  },
  {
   "cell_type": "markdown",
   "id": "97aebd2b",
   "metadata": {},
   "source": [
    "Compare the pulses obtained with GRAPE and Krotov's method. How does the parameter `lambda_a` in Krotov's method influence the convergence and the resulting optimized fields?"
   ]
  },
  {
   "cell_type": "markdown",
   "id": "2bc197a4",
   "metadata": {},
   "source": [
    "Once we are happy with the optimization result, we propagate the optimized control field to analyze the resulting\n",
    "quantum gate:"
   ]
  },
  {
   "cell_type": "code",
   "execution_count": null,
   "id": "59c76f38",
   "metadata": {},
   "outputs": [],
   "source": [
    "using QuantumControl.Controls: get_controls, substitute\n",
    "\n",
    "opt_states = propagate_trajectories(\n",
    "    substitute(\n",
    "        trajectories,\n",
    "        IdDict(zip(get_controls(trajectories), opt_result.optimized_controls))\n",
    "    ),\n",
    "    tlist;\n",
    "    method=Cheby,\n",
    "    use_threads=true\n",
    ");"
   ]
  },
  {
   "cell_type": "markdown",
   "id": "b7e81421",
   "metadata": {},
   "source": [
    "The resulting gate is"
   ]
  },
  {
   "cell_type": "code",
   "execution_count": null,
   "id": "21c0ee53",
   "metadata": {},
   "outputs": [],
   "source": [
    "U_opt = [basis[i] ⋅ opt_states[j] for i = 1:4, j = 1:4];"
   ]
  },
  {
   "cell_type": "markdown",
   "id": "7f8674e8",
   "metadata": {},
   "source": [
    "and we can verify the resulting fidelity"
   ]
  },
  {
   "cell_type": "code",
   "execution_count": null,
   "id": "dbb66d05",
   "metadata": {},
   "outputs": [],
   "source": [
    "(abs(tr(U_opt' * SQRTISWAP)) / 4)^2"
   ]
  },
  {
   "cell_type": "markdown",
   "id": "91bd9230",
   "metadata": {},
   "source": [
    "## Maximization of the gate concurrence"
   ]
  },
  {
   "cell_type": "markdown",
   "id": "24ee65e3",
   "metadata": {},
   "source": [
    "Building a quantum computer requires a \"universal gate\" set. Traditionally, this set consists of a specific two-qubit gate (often CNOT), and all single-qubit gates (under the assumption that single-qubit gates are \"easy\" to realize). However the universal set does not need to contain CNOT (or some other gate) *specifically*. What matters for universal quantum computing is the ability to create entanglement.\n",
    "\n",
    "To any two-qubit gate (any 4 × 4 unitary) a so-called \"gate concurrence\" can be computed, which is the maximum entanglement (i.e. concurrence) of a state that can be obtained by applying the gate to some separable input state. A `concurrence` function is implemented in the `weylchamber` package – the Weyl chamber is a mathematical structure which describes and classifies two-qubit gates in terms of entangling power and equivalence with respect to single-qubit operations. You can find an illustration of the Weyl chamber below."
   ]
  },
  {
   "cell_type": "markdown",
   "id": "1ce0e39b",
   "metadata": {},
   "source": [
    "<img src=\"../figures/weylchamber.svg\" alt=\"Weyl Chamber\" style=\"width: 800px;\"/>"
   ]
  },
  {
   "cell_type": "code",
   "execution_count": null,
   "id": "31ab2485",
   "metadata": {},
   "outputs": [],
   "source": [
    "using TwoQubitWeylChamber: gate_concurrence"
   ]
  },
  {
   "cell_type": "markdown",
   "id": "45ecff73",
   "metadata": {},
   "source": [
    "Most of the \"standard\" two-qubit gates like $\\sqrt{\\text{iSWAP}}$ and CNOT (points Q and L, respectively, in the diagram) are \"perfect entanglers\":"
   ]
  },
  {
   "cell_type": "code",
   "execution_count": null,
   "id": "a403ee9c",
   "metadata": {},
   "outputs": [],
   "source": [
    "gate_concurrence(SQRTISWAP)"
   ]
  },
  {
   "cell_type": "code",
   "execution_count": null,
   "id": "503398a6",
   "metadata": {},
   "outputs": [],
   "source": [
    "CNOT = [\n",
    "    1 0 0 0\n",
    "    0 1 0 0\n",
    "    0 0 0 1\n",
    "    0 0 1 0\n",
    "]\n",
    "\n",
    "gate_concurrence(CNOT)"
   ]
  },
  {
   "cell_type": "markdown",
   "id": "da61f66c",
   "metadata": {},
   "source": [
    "The gate concurrence of the identity or any other random $SU(2) \\times SU(2)$ matrix (corresponding to single-qubit gates) is zero:"
   ]
  },
  {
   "cell_type": "code",
   "execution_count": null,
   "id": "b7836cc0",
   "metadata": {},
   "outputs": [],
   "source": [
    "gate_concurrence(I(4))"
   ]
  },
  {
   "cell_type": "code",
   "execution_count": null,
   "id": "9a42af78",
   "metadata": {},
   "outputs": [],
   "source": [
    "function random_unitary(N)\n",
    "    H = rand(N, N)\n",
    "    return exp(𝕚 * (H + H'))\n",
    "end\n",
    "\n",
    "U = random_unitary(2) ⊗ random_unitary(2)\n",
    "round(gate_concurrence(U); digits=10)"
   ]
  },
  {
   "cell_type": "markdown",
   "id": "ff9fb6fd",
   "metadata": {},
   "source": [
    "In general, the gate concurrence of a random $4 \\times 4$ unitary is a number between 0 and 1; heavily skewing towards 1. Interestingly, the majority of $4 \\times 4$ unitaries are perfect entanglers!"
   ]
  },
  {
   "cell_type": "code",
   "execution_count": null,
   "id": "d21c0cd6",
   "metadata": {},
   "outputs": [],
   "source": [
    "for _ = 1:10\n",
    "    display(round(gate_concurrence(random_unitary(4)); digits=2))\n",
    "end"
   ]
  },
  {
   "cell_type": "markdown",
   "id": "65bc374f",
   "metadata": {},
   "source": [
    "This fact makes the gate concurrence an attractive optimization target: by optimizing the entangling power of the two-qubit gate without targeting a *specific* gate, we may identify the perfect entangler that is \"easiest\" to achieve with the given Hamiltonian."
   ]
  },
  {
   "cell_type": "markdown",
   "id": "d642046c",
   "metadata": {},
   "source": [
    "We can also check that the guess pulse indeed does not yet implement a perfect entangler. So let's get to work!"
   ]
  },
  {
   "cell_type": "code",
   "execution_count": null,
   "id": "7562f012",
   "metadata": {},
   "outputs": [],
   "source": [
    "gate_concurrence(U_guess)"
   ]
  },
  {
   "cell_type": "markdown",
   "id": "6d016483",
   "metadata": {},
   "source": [
    "For the transmon system, we also have to take into account that population may be lost from the logical subspace: the `gate_concurrence` is only well-defined for a unitary $\\Op{U}$, whereas a $\\Op{U}$ obtained by projecting the four propagated basis states onto the logical subspace may not be unitary.\n",
    "\n",
    "To account for this, we can define a functional for a given gate `U` that combines the gate\n",
    "concurrence with a measure of unitarity, penalizing loss of population\n",
    "from the logical subspace:"
   ]
  },
  {
   "cell_type": "code",
   "execution_count": null,
   "id": "c66d4665",
   "metadata": {},
   "outputs": [],
   "source": [
    "using TwoQubitWeylChamber: unitarity\n",
    "\n",
    "J_T_C(U) = 0.5 * (1 - gate_concurrence(U)) + 0.5 * (1 - unitarity(U));"
   ]
  },
  {
   "cell_type": "markdown",
   "id": "8729cf16",
   "metadata": {},
   "source": [
    "This `unitarity` can be directly chosen as the population in the logical subspace:"
   ]
  },
  {
   "cell_type": "code",
   "execution_count": null,
   "id": "38ded0a6",
   "metadata": {},
   "outputs": [],
   "source": [
    "@show_code unitarity(U_guess)"
   ]
  },
  {
   "cell_type": "markdown",
   "id": "6c6102ae",
   "metadata": {},
   "source": [
    "It turns out that the guess pulse loses about 10% of population from the logical subspace, as you can see here:"
   ]
  },
  {
   "cell_type": "code",
   "execution_count": null,
   "id": "e0d3523b",
   "metadata": {},
   "outputs": [],
   "source": [
    "1 - unitarity(U_guess)"
   ]
  },
  {
   "cell_type": "markdown",
   "id": "4908c5ea",
   "metadata": {},
   "source": [
    "### Problem 2: Boundary condition (χ-states) for concurrence optimization"
   ]
  },
  {
   "cell_type": "markdown",
   "id": "900f36dc",
   "metadata": {},
   "source": [
    "If we want to use `J_T_C` as defined above as an optimization functional for GRAPE or Krotov's method, we would have to work out the boundary condition for the backward propagation, $\\ket{\\chi_k(T)} = -\\partial J_T / \\partial \\bra{\\Psi_k(T)}$."
   ]
  },
  {
   "cell_type": "markdown",
   "id": "e8158d30",
   "metadata": {},
   "source": [
    "Using pen and paper, calculate the contribution to $\\ket{\\chi_k(T)}$ from the `unitarity` part of the functional using\n",
    "\n",
    "$$\n",
    "\\ket{\\Psi_k(T)} = \\Op{U} \\ket{\\phi_k}\n",
    "\\quad \\Leftrightarrow \\quad\n",
    "U_{ij} = \\braket{\\phi_i|\\Op{U}|\\phi_j} = \\braket{\\phi_i | \\Psi_j(T)}\n",
    "$$\n",
    "\n",
    "(where the $\\ket{\\phi_k}$ are the logical basis states) and\n",
    "\n",
    "$$\n",
    "\\tr[\\Op{U}^\\dagger \\Op{U}] = \\sum_{ij} U_{ji}^* U_{ji}\n",
    "$$"
   ]
  },
  {
   "cell_type": "code",
   "execution_count": null,
   "id": "e80d6ec1",
   "metadata": {},
   "outputs": [],
   "source": [
    "# problem_2.solution"
   ]
  },
  {
   "cell_type": "code",
   "execution_count": null,
   "id": "9bea9417",
   "metadata": {},
   "outputs": [],
   "source": [
    "# problem_2.solution_code"
   ]
  },
  {
   "cell_type": "markdown",
   "id": "37109936",
   "metadata": {},
   "source": [
    "Beyond that, we would have to look at how the gate concurrence is calculated, either by looking at the original literature, [Kraus, Cirac. Phys. Rev. A 63, 062309 (2001)](https://arxiv.org/abs/quant-ph/0011050) and [Childs *et al.* Phys. Rev. A 68, 052311 (2003)](https://arxiv.org/abs/quant-ph/0307190). Alternatively, you may directly look at the code for the functions `c1c2c3` and `concurrence`:"
   ]
  },
  {
   "cell_type": "code",
   "execution_count": null,
   "id": "6fdab72e",
   "metadata": {},
   "outputs": [],
   "source": [
    "@show_code gate_concurrence(U_guess)"
   ]
  },
  {
   "cell_type": "markdown",
   "id": "59714163",
   "metadata": {},
   "source": [
    "As we can see, the gate concurrence is a function of the \"Weyl chamber coordinates\" $c_1$, $c_2$, $c_3$ (see the diagram above). These coordinates are defined as"
   ]
  },
  {
   "cell_type": "code",
   "execution_count": null,
   "id": "462d74be",
   "metadata": {},
   "outputs": [],
   "source": [
    "using TwoQubitWeylChamber: weyl_chamber_coordinates\n",
    "@show_code weyl_chamber_coordinates(U_guess)"
   ]
  },
  {
   "cell_type": "markdown",
   "id": "adc1d3f6",
   "metadata": {},
   "source": [
    "Once we have access to the coordinates, we can take a look at how they enter the gate concurrence:"
   ]
  },
  {
   "cell_type": "code",
   "execution_count": null,
   "id": "97e1fa40",
   "metadata": {},
   "outputs": [],
   "source": [
    "c₁, c₂, c₃ = weyl_chamber_coordinates(U_guess)\n",
    "@show_code gate_concurrence(c₁, c₂, c₃)"
   ]
  },
  {
   "cell_type": "markdown",
   "id": "9ca58e72",
   "metadata": {},
   "source": [
    "Explain with the code snippets above why it would be difficult to calculate the derivative $\\frac{\\partial J_T}{\\partial \\bra{\\Psi_k(T)}}$."
   ]
  },
  {
   "cell_type": "code",
   "execution_count": null,
   "id": "09ae406c",
   "metadata": {},
   "outputs": [],
   "source": [
    "# problem_3.hint"
   ]
  },
  {
   "cell_type": "code",
   "execution_count": null,
   "id": "cadfdc92",
   "metadata": {},
   "outputs": [],
   "source": [
    "# problem_3.solution"
   ]
  },
  {
   "cell_type": "markdown",
   "id": "93d6823e",
   "metadata": {},
   "source": [
    "When it is not feasible to write out the derivative $\\partial J_T / \\partial \\bra{\\Psi_k(T)}$ by hand, the use of *automatic differentiation* (AD) is a possible solution. Automatic differentiation keeps track of the low-level computational steps while evaluating a function. It then uses a stupendous application of the chain rule to calculate a derivative of the function. This way, it can differentiate even through a non-analytical step like the determination of eigenvalues via `eigvals`.\n",
    "\n",
    "Julia has several AD frameworks. One of the most established ones is [Zygote](https://fluxml.ai/Zygote.jl/stable/):"
   ]
  },
  {
   "cell_type": "code",
   "execution_count": null,
   "id": "d914a7c1",
   "metadata": {},
   "outputs": [],
   "source": [
    "using Zygote"
   ]
  },
  {
   "cell_type": "markdown",
   "id": "f142022e",
   "metadata": {},
   "source": [
    "We can make use of `Zygote` by telling the `QuantumControl` package to use it."
   ]
  },
  {
   "cell_type": "code",
   "execution_count": null,
   "id": "b38eaf5d",
   "metadata": {},
   "outputs": [],
   "source": [
    "QuantumControl.set_default_ad_framework(Zygote)"
   ]
  },
  {
   "cell_type": "markdown",
   "id": "e0711b09",
   "metadata": {},
   "source": [
    "Specifically, `QuantumControl` provides a `make_gate_chi` function that takes a function of the form of `J_T_C` that we have defined above, and wraps it in `Zygote`, returning a function that can be passed to `propagate` as `chi`."
   ]
  },
  {
   "cell_type": "code",
   "execution_count": null,
   "id": "969c6436",
   "metadata": {},
   "outputs": [],
   "source": [
    "using QuantumControl.Functionals: make_gate_chi"
   ]
  },
  {
   "cell_type": "markdown",
   "id": "cd6f4854",
   "metadata": {},
   "source": [
    "Note that `J_T_C` itself is also not quite in the form that `optimize` expects: it takes the 4 × 4 matrix `U` as an input, not the propagated basis states. The `QuantumControl` package provides `gate_functional` to automatically make the conversion $U_{ij} = \\braket{\\phi_i|\\Op{U}|\\phi_j} = \\braket{\\phi_i | \\Psi_j(T)}$"
   ]
  },
  {
   "cell_type": "code",
   "execution_count": null,
   "id": "f1284a45",
   "metadata": {},
   "outputs": [],
   "source": [
    "using QuantumControl.Functionals: gate_functional"
   ]
  },
  {
   "cell_type": "markdown",
   "id": "503d1e80",
   "metadata": {},
   "source": [
    "Thus, we can now re-run the optimization with`J_T_C` as the functional to find an arbitrary perfect entangler, instead of the $\\sqrt{\\text{iSWAP}}$ gate specifically:"
   ]
  },
  {
   "cell_type": "code",
   "execution_count": null,
   "id": "38c8885f",
   "metadata": {},
   "outputs": [],
   "source": [
    "opt_result_C = optimize(\n",
    "    problem;\n",
    "    method=GRAPE,\n",
    "    J_T=gate_functional(J_T_C),\n",
    "    chi=make_gate_chi(J_T_C, trajectories),\n",
    ")"
   ]
  },
  {
   "cell_type": "markdown",
   "id": "fa0e6e71",
   "metadata": {},
   "source": [
    "Alternatively, run this with Krotov's method"
   ]
  },
  {
   "cell_type": "code",
   "execution_count": null,
   "id": "47eb4837",
   "metadata": {},
   "outputs": [],
   "source": [
    "#=\n",
    "opt_result_C = optimize(\n",
    "    problem;\n",
    "    method=Krotov,\n",
    "    J_T=gate_functional(J_T_C),\n",
    "    chi=make_gate_chi(J_T_C, trajectories),\n",
    "    lambda_a=1,\n",
    ")\n",
    "=#"
   ]
  },
  {
   "cell_type": "markdown",
   "id": "c01aae6f",
   "metadata": {},
   "source": [
    "We extract the optimized control field from the optimization result and plot\n",
    "it"
   ]
  },
  {
   "cell_type": "code",
   "execution_count": null,
   "id": "419e36c1",
   "metadata": {},
   "outputs": [],
   "source": [
    "ϵ_opt_C = opt_result_C.optimized_controls[1] + 𝕚 * opt_result_C.optimized_controls[2]\n",
    "Ω_opt_C = ϵ_opt_C .* discretize(Ωre_guess.shape, tlist)\n",
    "\n",
    "fig = plot_complex_pulse(tlist, Ω_opt_C)"
   ]
  },
  {
   "cell_type": "markdown",
   "id": "e1303a9e",
   "metadata": {},
   "source": [
    "We then propagate the optimized control field to analyze the resulting\n",
    "quantum gate:"
   ]
  },
  {
   "cell_type": "code",
   "execution_count": null,
   "id": "0824b5f5",
   "metadata": {},
   "outputs": [],
   "source": [
    "opt_states_C = propagate_trajectories(\n",
    "    substitute(\n",
    "        trajectories,\n",
    "        IdDict(zip(get_controls(trajectories), opt_result_C.optimized_controls))\n",
    "    ),\n",
    "    tlist;\n",
    "    method=Cheby,\n",
    "    use_threads=true\n",
    ");\n",
    "\n",
    "U_opt_C = [basis[i] ⋅ opt_states_C[j] for i = 1:4, j = 1:4];"
   ]
  },
  {
   "cell_type": "markdown",
   "id": "9f1df5e9",
   "metadata": {},
   "source": [
    "You should now indeed find that we have achieved a perfect entangler"
   ]
  },
  {
   "cell_type": "code",
   "execution_count": null,
   "id": "a3675d9d",
   "metadata": {},
   "outputs": [],
   "source": [
    "gate_concurrence(U_opt_C)"
   ]
  },
  {
   "cell_type": "markdown",
   "id": "4a6be7bd",
   "metadata": {},
   "source": [
    "with negligible loss of population from the logical subspace!"
   ]
  },
  {
   "cell_type": "code",
   "execution_count": null,
   "id": "1a2aa3f1",
   "metadata": {},
   "outputs": [],
   "source": [
    "1 - unitarity(U_opt_C)"
   ]
  },
  {
   "cell_type": "markdown",
   "id": "aa6f8b9a",
   "metadata": {},
   "source": [
    "## Optimizing for perfect entangler in the Weyl chamber"
   ]
  },
  {
   "cell_type": "markdown",
   "id": "91793b13",
   "metadata": {},
   "source": [
    "The realization that the gate concurrence is a non-analytic functional for which one cannot write down a derivative prompts the question whether one can formulate an equivalent functional that *is* analytically derivable. That approach was demonstrated in [Watts *et. al*, Phys. Rev. A 91, 062306 (2015)](https://michaelgoerz.net/#WattsPRA2015) and [Goerz *et al.*, Phys. Rev. A 91, 062307 (2015)](https://michaelgoerz.net/#GoerzPRA2015).\n",
    "\n",
    "The basic idea is that the mathematical structure of the two-qubit gates in the Weyl chamber that we also used in the definition of the gate concurrence has a *geometric* interpretation. The set of perfect entanglers form a compact polyhedron inside the Weyl chamber (the shaded region in the diagram), and we can optimize for a perfect entangler by minimizing the geometric distance to the surface of that polyhedron.\n",
    "\n",
    "The distance measure to the surface of the polyhedron is implemented in the `TwoQubitWeylChamber` package:"
   ]
  },
  {
   "cell_type": "code",
   "execution_count": null,
   "id": "970a01a9",
   "metadata": {},
   "outputs": [],
   "source": [
    "using TwoQubitWeylChamber: D_PE"
   ]
  },
  {
   "cell_type": "markdown",
   "id": "e88529c3",
   "metadata": {},
   "source": [
    "We convert it to a functional with `gate_functional`, adding a unitarity term, like before:"
   ]
  },
  {
   "cell_type": "code",
   "execution_count": null,
   "id": "0706fbd3",
   "metadata": {},
   "outputs": [],
   "source": [
    "J_T_PE = gate_functional(D_PE; unitarity_weight=0.5);"
   ]
  },
  {
   "cell_type": "markdown",
   "id": "91fbbd4c",
   "metadata": {},
   "source": [
    "The geometric distance to the polyhedron of perfect\n",
    "entanglers in the Weyl chamber for the guess pulse is"
   ]
  },
  {
   "cell_type": "code",
   "execution_count": null,
   "id": "d65511a2",
   "metadata": {},
   "outputs": [],
   "source": [
    "D_PE(U_guess)"
   ]
  },
  {
   "cell_type": "markdown",
   "id": "7a2da819",
   "metadata": {},
   "source": [
    "Together with the unitarity measure, this is the initial value of the\n",
    "optimization functional:"
   ]
  },
  {
   "cell_type": "code",
   "execution_count": null,
   "id": "f295bcc5",
   "metadata": {},
   "outputs": [],
   "source": [
    "0.5 * D_PE(U_guess) + 0.5 * (1 - unitarity(U_guess))"
   ]
  },
  {
   "cell_type": "code",
   "execution_count": null,
   "id": "403c0a9c",
   "metadata": {},
   "outputs": [],
   "source": [
    "J_T_PE(guess_states, trajectories)"
   ]
  },
  {
   "cell_type": "markdown",
   "id": "5eed8153",
   "metadata": {},
   "source": [
    "The $J_{T,PE}$ functional has an analytic derivative – it is a high-order polynomial in the states. However, that derivative is still tedious to calculate and implement. While there exists a [Python implementation](https://github.com/qucontrol/weylchamber/blob/ec96621907c74da2ed1a746292f0e64237840bec/src/weylchamber/perfect_entanglers.py#L209), it has not yet been translated to Julia. Thus, we will once again use the automatic differentiation via Zygote to obtain the $\\ket{\\chi_k(T)}$ states:"
   ]
  },
  {
   "cell_type": "code",
   "execution_count": null,
   "id": "e818b665",
   "metadata": {},
   "outputs": [],
   "source": [
    "chi_pe = make_gate_chi(D_PE, trajectories; unitarity_weight=0.5);"
   ]
  },
  {
   "cell_type": "markdown",
   "id": "eacb1555",
   "metadata": {},
   "source": [
    "We then use this in the optimization:"
   ]
  },
  {
   "cell_type": "code",
   "execution_count": null,
   "id": "f12d6d1a",
   "metadata": {},
   "outputs": [],
   "source": [
    "opt_result_PE = optimize(\n",
    "    problem;\n",
    "    method=GRAPE,\n",
    "    J_T=J_T_PE,\n",
    "    chi=chi_pe,\n",
    ")"
   ]
  },
  {
   "cell_type": "markdown",
   "id": "03b934b7",
   "metadata": {},
   "source": [
    "Alternatively, using Krotov's method:"
   ]
  },
  {
   "cell_type": "code",
   "execution_count": null,
   "id": "5c471183",
   "metadata": {},
   "outputs": [],
   "source": [
    "#=\n",
    "opt_result_PE = optimize(\n",
    "    problem;\n",
    "    method=Krotov,\n",
    "    J_T=J_T_PE,\n",
    "    chi=chi_pe,\n",
    "    lambda_a=1.0\n",
    ")\n",
    "=#"
   ]
  },
  {
   "cell_type": "markdown",
   "id": "5cb36d5e",
   "metadata": {},
   "source": [
    "We extract the optimized control field from the optimization result and plot\n",
    "it"
   ]
  },
  {
   "cell_type": "code",
   "execution_count": null,
   "id": "8c793ac7",
   "metadata": {},
   "outputs": [],
   "source": [
    "ϵ_opt_PE = opt_result_PE.optimized_controls[1] + 𝕚 * opt_result_PE.optimized_controls[2]\n",
    "Ω_opt_PE = ϵ_opt_PE .* discretize(Ωre_guess.shape, tlist)\n",
    "\n",
    "fig = plot_complex_pulse(tlist, Ω_opt_PE)"
   ]
  },
  {
   "cell_type": "markdown",
   "id": "7198edde",
   "metadata": {},
   "source": [
    "We then propagate the optimized control field to analyze the resulting\n",
    "quantum gate:"
   ]
  },
  {
   "cell_type": "code",
   "execution_count": null,
   "id": "6cf93340",
   "metadata": {},
   "outputs": [],
   "source": [
    "opt_states_PE = propagate_trajectories(\n",
    "    substitute(\n",
    "        trajectories,\n",
    "        IdDict(zip(get_controls(trajectories), opt_result_PE.optimized_controls))\n",
    "    ),\n",
    "    tlist;\n",
    "    method=Cheby,\n",
    "    use_threads=true\n",
    ");\n",
    "\n",
    "U_opt_PE = [basis[i] ⋅ opt_states_PE[j] for i = 1:4, j = 1:4];"
   ]
  },
  {
   "cell_type": "markdown",
   "id": "3f8c0809",
   "metadata": {},
   "source": [
    "You should once again find that we have indeed achieved a perfect entangler:"
   ]
  },
  {
   "cell_type": "code",
   "execution_count": null,
   "id": "05be19f4",
   "metadata": {},
   "outputs": [],
   "source": [
    "gate_concurrence(U_opt_PE)"
   ]
  },
  {
   "cell_type": "markdown",
   "id": "2e9037f7",
   "metadata": {},
   "source": [
    "Moreover, we have reduced the population loss to less than 4%"
   ]
  },
  {
   "cell_type": "code",
   "execution_count": null,
   "id": "95eb634a",
   "metadata": {},
   "outputs": [],
   "source": [
    "1 - unitarity(U_opt_PE)"
   ]
  },
  {
   "cell_type": "markdown",
   "id": "e4bf912c",
   "metadata": {},
   "source": [
    "Tweak the relative weight of the `D_PE` and the unitarity term in the functional to see whether you may reduce this value even further!"
   ]
  },
  {
   "cell_type": "markdown",
   "id": "11f863a2",
   "metadata": {},
   "source": [
    "## Next steps"
   ]
  },
  {
   "cell_type": "markdown",
   "id": "46461ddb",
   "metadata": {},
   "source": [
    "You may find even more examples beyond the scope of this tutorial as part of the\n",
    "[`QuantumControl` documentation](https://juliaquantumcontrol.github.io/QuantumControlExamples.jl/stable/). This includes an [example for optimizing a quantum gate in an open quantum system](https://juliaquantumcontrol.github.io/QuantumControlExamples.jl/stable/examples/rho_3states/#Optimization-of-a-Dissipative-Quantum-Gate). You may also find the [examples from the documentation of the Python `krotov` package](https://qucontrol.github.io/krotov/v1.2.1/09_examples.html) instructive (all of which can be relatively easily translated to Julia)."
   ]
  },
  {
   "cell_type": "markdown",
   "id": "786a9786",
   "metadata": {},
   "source": [
    "<!-- Autofooter begin -->\n",
    "\n",
    "---\n",
    "\n",
    "[⬆︎ jump to top](#navtitle_3_4_jl)\n",
    "<!-- Autofooter end -->"
   ]
  }
 ],
 "metadata": {
  "jupytext": {
   "encoding": "# -*- coding: utf-8 -*-"
  },
  "kernelspec": {
   "display_name": "Julia 1.10.2",
   "language": "julia",
   "name": "julia-1.10"
  },
  "language_info": {
   "file_extension": ".jl",
   "mimetype": "application/julia",
   "name": "julia",
   "version": "1.10.2"
  }
 },
 "nbformat": 4,
 "nbformat_minor": 5
}
