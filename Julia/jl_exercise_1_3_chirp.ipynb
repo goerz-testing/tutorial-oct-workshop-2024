{
 "cells": [
  {
   "cell_type": "markdown",
   "id": "b57560e2",
   "metadata": {},
   "source": [
    "<!-- Autoheader begin -->\n",
    "<hr/>\n",
    "<div id=\"navtitle_1_3_jl\" style=\"text-align:center; font-size:16px\">I.3 Interaction of a Two-Level-System with a Chirped Laser Pulse</div>\n",
    "<hr/>\n",
    "<table style=\"width: 100%\">\n",
    "  <tr>\n",
    "    <th rowspan=\"2\" style=\"width:33%; text-align:center; font-size:16px\">\n",
    "        <a href=\"jl_exercise_1_2_lambda.ipynb\">$\\leftarrow$ previous notebook </a><br>\n",
    "        <a href=\"jl_exercise_1_2_lambda.ipynb\" style=\"font-size:13px\">I.2 Population Transfer in a Three-Level-System with STIRAP</a>\n",
    "    </th>\n",
    "    <td style=\"width:33%; text-align:center; font-size:16px\">\n",
    "    </td>\n",
    "    <th rowspan=\"2\" style=\"width:33%; text-align:center; font-size:16px\">\n",
    "        <a href=\"jl_exercise_2_1_TLS.ipynb\">next notebook $\\rightarrow$</a><br>\n",
    "        <a href=\"jl_exercise_2_1_TLS.ipynb\" style=\"font-size:13px\">II.1 Population Inversion in a Two-Level-System using Parameter Optimization</a>\n",
    "    </th>\n",
    "  </tr>\n",
    "  <tr style=\"width: 100%\">\n",
    "    <td style=\"width:33%; text-align:center; font-size:16px\">\n",
    "        <a href=\"jl_exercise_2_3_chiral.ipynb\" style=\"font-size:13px\">II.3 Parameter Optimization of Three-Wave Mixing in a Three-Level System</a><br>\n",
    "        <a href=\"jl_exercise_2_3_chiral.ipynb\">$\\downarrow$ next part $\\downarrow$</a>\n",
    "    </td>\n",
    "  </tr>\n",
    "</table>\n",
    "\n",
    "<div style=\"text-align: right;font-size: 16px\"><a href=\"../Python/py_exercise_1_3_chirp.ipynb\">👉 Python version</a></div>\n",
    "\n",
    "---\n",
    "<!-- Autoheader end -->"
   ]
  },
  {
   "cell_type": "markdown",
   "id": "cce29bce",
   "metadata": {},
   "source": [
    "# Interaction of a Two-Level-System with a Chirped Laser Pulse"
   ]
  },
  {
   "cell_type": "markdown",
   "id": "fd07f58f",
   "metadata": {},
   "source": [
    "This notebook builds up upon the Rabi cycling in a two-level system from [Exercise I.1](py_exercise_1_1_TLS.ipynb) but considers a slightly more complicated form of the driving field - a *chirped* laser pulse. In this notebook you will do a little bit of programming youself but we provide hints and solutions to guide you at every step. At the end of this notebook you will have learned how to perform a simple quantum dynamics simulation on your own and how to visualize your results.\n",
    "\n",
    "For the simulation you will use the [QuantumPropagators.jl](https://juliaquantumcontrol.github.io/QuantumPropagators.jl/stable/)  package. It defines the `hamiltonian()` function to construct a time-dependent Hamiltonian, and the `propagate()` function to simulate the time dynamics, using the `OrdinaryDiffEq` package as a backend."
   ]
  },
  {
   "cell_type": "markdown",
   "id": "419de441",
   "metadata": {},
   "source": [
    "## Setup"
   ]
  },
  {
   "cell_type": "markdown",
   "id": "afa2cd07",
   "metadata": {},
   "source": [
    "First, we need to load the required Julia packages for the following simulations:"
   ]
  },
  {
   "cell_type": "code",
   "execution_count": null,
   "id": "791666fc",
   "metadata": {},
   "outputs": [],
   "source": [
    "using QuantumPropagators: QuantumPropagators, hamiltonian, propagate\n",
    "using OrdinaryDiffEq"
   ]
  },
  {
   "cell_type": "code",
   "execution_count": null,
   "id": "b23e502a",
   "metadata": {},
   "outputs": [],
   "source": [
    "using Plots\n",
    "# Set up thicker default lines in plots\n",
    "Plots.default(\n",
    "    linewidth               = 2.0,\n",
    "    foreground_color_legend = nothing,\n",
    "    background_color_legend = RGBA(1, 1, 1, 0.8)\n",
    ")"
   ]
  },
  {
   "cell_type": "code",
   "execution_count": null,
   "id": "5152c582",
   "metadata": {},
   "outputs": [],
   "source": [
    "# Some utilities for showing hints and solutions\n",
    "include(joinpath(\"utils\", \"exercise_1_chirp.jl\"));"
   ]
  },
  {
   "cell_type": "markdown",
   "id": "63d69c52",
   "metadata": {},
   "source": [
    "## Physical background"
   ]
  },
  {
   "cell_type": "markdown",
   "id": "70b85679",
   "metadata": {},
   "source": [
    "Consider a two level system with eigenstates $|0\\rangle$ and $|1\\rangle$ and corresponding energies $-\\omega/2$ and $\\omega/2$.\n",
    "\n",
    "In this exercise we simulate the interaction of this system with a chirped laser pulse of the form\n",
    "\n",
    "$$\n",
    "E(t) = \\mathcal{E}(t) \\, \\cos(\\omega t + \\phi(t))\n",
    "\\,\n",
    "$$\n",
    "\n",
    "where $\\mathcal E(t)$ is the pulse envelope, $\\omega>0$ is the carrier frequency and $\\phi(t)$ is the time dependent phase. We assume a linear chirp, i.e.\n",
    "\n",
    "$$\n",
    "\\phi(t) = \\frac{\\alpha}{2} \\, t^2\n",
    "$$\n",
    "\n",
    "with $\\alpha>0$ and a Gaussian envelope with amplitude $E_0>0$ and width $\\tau>0$,\n",
    "\n",
    "$$\n",
    "\\mathcal E(t) = E_0 \\, e^{-\\frac{t^2}{2\\tau^2}}\n",
    "\\;.\n",
    "$$\n",
    "\n",
    "Going to the interaction picture and employing the rotating wave approximation leads to the following matrix representation of the total Hamiltonian in the basis $\\{|0\\rangle, |1\\rangle\\}$\n",
    "\n",
    "$$\n",
    "\\hat{H} = - \\frac{1}{2}\n",
    "\\begin{pmatrix}\n",
    "\\frac{\\partial\\phi}{\\partial t}(t) & \\mu\\,\\mathcal E(t) \\\\\n",
    "\\mu\\,\\mathcal E(t) & -\\frac{\\partial\\phi}{\\partial t}(t)\n",
    "\\end{pmatrix}\n",
    "$$\n",
    "\n",
    "with the transition matrix element $\\mu>0$.\n",
    "For technical reasons, we represent the Hamiltonian in the form\n",
    "\n",
    "$$\n",
    "\\hat{H} = \\hat{H}_1 \\, \\frac{\\partial\\phi}{\\partial t}(t) + \\hat{H}_2 \\, \\mathcal E(t)\n",
    "$$\n",
    "\n",
    "with\n",
    "\n",
    "\\begin{align}\n",
    "\\hat{H}_1 &= - \\frac{1}{2}\n",
    "\\begin{pmatrix}\n",
    "1 & 0 \\\\\n",
    "0 & -1\n",
    "\\end{pmatrix}\n",
    "\\;,\n",
    "\\\\\n",
    "\\hat{H}_2 &= - \\frac{\\mu}{2}\n",
    "\\begin{pmatrix}\n",
    "0 & 1 \\\\\n",
    "1 & 0\n",
    "\\end{pmatrix}\n",
    "\\;.\n",
    "\\end{align}"
   ]
  },
  {
   "cell_type": "markdown",
   "id": "1567ddb6",
   "metadata": {},
   "source": [
    "## Let's start!"
   ]
  },
  {
   "cell_type": "markdown",
   "id": "e48343a0",
   "metadata": {},
   "source": [
    "Start with defining the time grid for the propagation.\n",
    "Create an equidistant grid from `t_start=-250` to `t_stop=250` with a total amount of `Nt=5000` grid points."
   ]
  },
  {
   "cell_type": "code",
   "execution_count": null,
   "id": "0183ca55",
   "metadata": {},
   "outputs": [],
   "source": [
    "t = # enter your code here"
   ]
  },
  {
   "cell_type": "code",
   "execution_count": null,
   "id": "cbcd4bb5",
   "metadata": {},
   "outputs": [],
   "source": [
    "problem_1.hint"
   ]
  },
  {
   "cell_type": "code",
   "execution_count": null,
   "id": "7ccf2563",
   "metadata": {},
   "outputs": [],
   "source": [
    "problem_1.solution"
   ]
  },
  {
   "cell_type": "markdown",
   "id": "79f2960d",
   "metadata": {},
   "source": [
    "## The model"
   ]
  },
  {
   "cell_type": "markdown",
   "id": "ff1493c5",
   "metadata": {},
   "source": [
    "Now set up the individual parts of the Hamiltonian."
   ]
  },
  {
   "cell_type": "markdown",
   "id": "2ff807b9",
   "metadata": {},
   "source": [
    "Define the matrices for the operators $\\hat{H}_1$ and $\\hat{H}_2$ as standard Julia arrays with the coupling strength $\\mu=1$."
   ]
  },
  {
   "cell_type": "code",
   "execution_count": null,
   "id": "f63e378d",
   "metadata": {},
   "outputs": [],
   "source": [
    "H₁ = # enter your code here"
   ]
  },
  {
   "cell_type": "code",
   "execution_count": null,
   "id": "e8d7f790",
   "metadata": {},
   "outputs": [],
   "source": [
    "H₂ = # enter your code here"
   ]
  },
  {
   "cell_type": "code",
   "execution_count": null,
   "id": "7a66e004",
   "metadata": {},
   "outputs": [],
   "source": [
    "#problem_2.hint"
   ]
  },
  {
   "cell_type": "code",
   "execution_count": null,
   "id": "8ded1449",
   "metadata": {},
   "outputs": [],
   "source": [
    "#problem_2.solution"
   ]
  },
  {
   "cell_type": "markdown",
   "id": "8e18f5db",
   "metadata": {},
   "source": [
    "Next, define the field envelope `Env` and the derivative of the pulse phase `dϕ` as a function of `t`.\n",
    "\n",
    "Set the amplitude $E_0=1$ and the pulse duration $\\tau=50$. Choose a chirp parameter $\\alpha$ in the range from 0.00001 to 1"
   ]
  },
  {
   "cell_type": "code",
   "execution_count": null,
   "id": "5799f372",
   "metadata": {},
   "outputs": [],
   "source": [
    "Env(t) = # enter your code here\n",
    "dϕ(t) = # enter your code here"
   ]
  },
  {
   "cell_type": "code",
   "execution_count": null,
   "id": "24496eaf",
   "metadata": {},
   "outputs": [],
   "source": [
    "#problem_3.hint"
   ]
  },
  {
   "cell_type": "code",
   "execution_count": null,
   "id": "fe7e6c2e",
   "metadata": {},
   "outputs": [],
   "source": [
    "#problem_3.solution"
   ]
  },
  {
   "cell_type": "markdown",
   "id": "e9ccc147",
   "metadata": {},
   "source": [
    "Now we can gather all ingredients and assemble the total Hamiltonian via the `hamiltonian` function:"
   ]
  },
  {
   "cell_type": "code",
   "execution_count": null,
   "id": "0f618f54",
   "metadata": {},
   "outputs": [],
   "source": [
    "H = hamiltonian((H₁, dϕ), (H₂, Env))"
   ]
  },
  {
   "cell_type": "markdown",
   "id": "bd960f24",
   "metadata": {},
   "source": [
    "Remember Julia's help system if you want to understand the details of this call:"
   ]
  },
  {
   "cell_type": "code",
   "execution_count": null,
   "id": "d13ad9bd",
   "metadata": {},
   "outputs": [],
   "source": [
    "?hamiltonian"
   ]
  },
  {
   "cell_type": "markdown",
   "id": "b1dcc650",
   "metadata": {},
   "source": [
    "As a last step in setting up the model, define the two states as complex vectors."
   ]
  },
  {
   "cell_type": "code",
   "execution_count": null,
   "id": "6d0a7f54",
   "metadata": {},
   "outputs": [],
   "source": [
    "Ψ₀ = # enter your code here"
   ]
  },
  {
   "cell_type": "code",
   "execution_count": null,
   "id": "285902ed",
   "metadata": {},
   "outputs": [],
   "source": [
    "Ψ₁ = # enter your code here"
   ]
  },
  {
   "cell_type": "code",
   "execution_count": null,
   "id": "b3d48d4f",
   "metadata": {},
   "outputs": [],
   "source": [
    "#problem_4.hint"
   ]
  },
  {
   "cell_type": "code",
   "execution_count": null,
   "id": "725ec1c0",
   "metadata": {},
   "outputs": [],
   "source": [
    "#problem_4.solution"
   ]
  },
  {
   "cell_type": "markdown",
   "id": "a235f9c4",
   "metadata": {},
   "source": [
    "## Propagation and results"
   ]
  },
  {
   "cell_type": "markdown",
   "id": "c37115d3",
   "metadata": {},
   "source": [
    "Before you can start with the propagation, you first need to define the observables. Here, you are interested in the population dynamics. To track the population of the two levels, define the projectors $\\hat{P}_{i} =\n",
    "|i\\rangle\\langle i|$."
   ]
  },
  {
   "cell_type": "code",
   "execution_count": null,
   "id": "3824f671",
   "metadata": {},
   "outputs": [],
   "source": [
    "P₀ = # enter your code here"
   ]
  },
  {
   "cell_type": "code",
   "execution_count": null,
   "id": "03c6e551",
   "metadata": {},
   "outputs": [],
   "source": [
    "P₁ = # enter your code here"
   ]
  },
  {
   "cell_type": "code",
   "execution_count": null,
   "id": "cfd468e5",
   "metadata": {},
   "outputs": [],
   "source": [
    "#problem_5.hint"
   ]
  },
  {
   "cell_type": "code",
   "execution_count": null,
   "id": "317f612f",
   "metadata": {},
   "outputs": [],
   "source": [
    "#problem_5.solution"
   ]
  },
  {
   "cell_type": "markdown",
   "id": "23c38855",
   "metadata": {},
   "source": [
    "Now, use the `propagate` function of the `QuantumPropgators` to simulate the system dynamics. Use `method=OrdinaryDiffEq` as a backend. Choose the state $|0\\rangle$ as the initial state of your simulation. Use `observables=[P₀, P₁], storage=true` to obtain the population expectation values. Remember that you can type `? propagate` to view the documentation for the `propagate` function."
   ]
  },
  {
   "cell_type": "code",
   "execution_count": null,
   "id": "d10ed9df",
   "metadata": {},
   "outputs": [],
   "source": [
    "output = propagate(#= --> enter your code here <-- =#)"
   ]
  },
  {
   "cell_type": "code",
   "execution_count": null,
   "id": "16e42683",
   "metadata": {},
   "outputs": [],
   "source": [
    "#problem_6.hint"
   ]
  },
  {
   "cell_type": "code",
   "execution_count": null,
   "id": "837dfbd0",
   "metadata": {},
   "outputs": [],
   "source": [
    "#problem_6.solution"
   ]
  },
  {
   "cell_type": "markdown",
   "id": "1edef653",
   "metadata": {},
   "source": [
    "Finally, plot the population dynamics, using the `Plots` package."
   ]
  },
  {
   "cell_type": "code",
   "execution_count": null,
   "id": "a22137a2",
   "metadata": {},
   "outputs": [],
   "source": [
    "# --> enter your code here <-- #"
   ]
  },
  {
   "cell_type": "code",
   "execution_count": null,
   "id": "d0ff2678",
   "metadata": {},
   "outputs": [],
   "source": [
    "#problem_7.hint"
   ]
  },
  {
   "cell_type": "code",
   "execution_count": null,
   "id": "bd78e28a",
   "metadata": {},
   "outputs": [],
   "source": [
    "#problem_7.solution"
   ]
  },
  {
   "cell_type": "markdown",
   "id": "df86348e",
   "metadata": {},
   "source": [
    "## Adjust the parameters"
   ]
  },
  {
   "cell_type": "markdown",
   "id": "b1b51ebe",
   "metadata": {},
   "source": [
    "Play with the pulse parameters and observe how this affects the population dynamics.\n",
    "\n",
    "\n",
    "### Task 1 - Variation of the chirp parameter\n",
    "\n",
    "Keep the pulse length fixed at $\\tau=50$ and vary the chirp parameter. Can you find a value of $\\alpha$ that produces a smooth transition from state $|0\\rangle$ to state $|1\\rangle$ without oscillations?\n",
    "\n",
    "\n",
    "\n",
    "### Task 2 - Variation of the pulse duration\n",
    "\n",
    "Keep the chirp parameter fixed at $\\alpha=0.001$ and vary the pulse length. Can you find a value of $\\tau$ that produces a smooth transition from state $|0\\rangle$ to state $|1\\rangle$ without oscillations?"
   ]
  },
  {
   "cell_type": "markdown",
   "id": "8b82810b",
   "metadata": {},
   "source": [
    "### Bonus task - Instantaneous eigenvalues\n",
    "\n",
    "Diagonalise $H(t)$ at every time step and plot the eigenvalues over time.\n",
    "\n",
    "This is a more advanced exercise for those of you who want a challenge! You can use the `evaluate` function from `QuantumPropagators` to obtain the Hamiltonian at a particular point in time as a matrix, e.g. `H₀ = Array(evaluate(H, t[begin]))`. The function `eigvals` calculates the eigenvalues of a matrix, and the `LinearAlgebra.eigen` function calculates the eigenvalues and eigenstates."
   ]
  },
  {
   "cell_type": "code",
   "execution_count": null,
   "id": "44c779a4",
   "metadata": {},
   "outputs": [],
   "source": [
    "using QuantumPropagators.Controls: evaluate\n",
    "using LinearAlgebra"
   ]
  },
  {
   "cell_type": "code",
   "execution_count": null,
   "id": "f874575b",
   "metadata": {},
   "outputs": [],
   "source": [
    "# --> enter your code here <-- #"
   ]
  },
  {
   "cell_type": "code",
   "execution_count": null,
   "id": "bbb522c6",
   "metadata": {},
   "outputs": [],
   "source": [
    "#bonus.hint"
   ]
  },
  {
   "cell_type": "code",
   "execution_count": null,
   "id": "799540f7",
   "metadata": {
    "lines_to_next_cell": 2
   },
   "outputs": [],
   "source": [
    "#bonus.solution"
   ]
  },
  {
   "cell_type": "markdown",
   "id": "5b2b1271",
   "metadata": {},
   "source": [
    "## Next Steps"
   ]
  },
  {
   "cell_type": "markdown",
   "id": "53f81838",
   "metadata": {},
   "source": [
    "Another fundamental example which highlights some basic principles of light-matter interaction can be found in [Example I.2](py_exercise_1_2_lambda.ipynb) - STIRAP in a three-level Lambda system. If you would like to advance from simulating dynamics to performing optimization of pulse parameters, we recommend to continue with [Part II](py_exercise_2_1_TLS.ipynb)."
   ]
  },
  {
   "cell_type": "markdown",
   "id": "648aa1c4",
   "metadata": {},
   "source": [
    "<!-- Autofooter begin -->\n",
    "\n",
    "---\n",
    "\n",
    "[⬆︎ jump to top](#navtitle_1_3_jl)\n",
    "<!-- Autofooter end -->"
   ]
  }
 ],
 "metadata": {
  "jupytext": {
   "encoding": "# -*- coding: utf-8 -*-"
  },
  "kernelspec": {
   "display_name": "Julia 1.10.2",
   "language": "julia",
   "name": "julia-1.10"
  },
  "language_info": {
   "file_extension": ".jl",
   "mimetype": "application/julia",
   "name": "julia",
   "version": "1.10.2"
  }
 },
 "nbformat": 4,
 "nbformat_minor": 5
}
