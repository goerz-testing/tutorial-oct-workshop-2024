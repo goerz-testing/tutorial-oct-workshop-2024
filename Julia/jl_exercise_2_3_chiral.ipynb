{
 "cells": [
  {
   "cell_type": "markdown",
   "id": "4a183072",
   "metadata": {},
   "source": [
    "<!-- Autoheader begin -->\n",
    "<hr/>\n",
    "<div id=\"navtitle_2_3_jl\" style=\"text-align:center; font-size:16px\">II.3 Parameter Optimization of Three-Wave Mixing in a Three-Level System</div>\n",
    "<hr/>\n",
    "<table style=\"width: 100%\">\n",
    "  <tr>\n",
    "    <th rowspan=\"2\" style=\"width:33%; text-align:center; font-size:16px\">\n",
    "        <a href=\"jl_exercise_2_2_lambda.ipynb\">$\\leftarrow$ previous notebook </a><br>\n",
    "        <a href=\"jl_exercise_2_2_lambda.ipynb\" style=\"font-size:13px\">II.2 Parameter Optimization for STIRAP</a>\n",
    "    </th>\n",
    "    <td style=\"width:33%; text-align:center; font-size:16px\">\n",
    "        <a href=\"jl_exercise_1_3_chirp.ipynb\">$\\uparrow$ previous part $\\uparrow$</a><br>\n",
    "        <a href=\"jl_exercise_1_3_chirp.ipynb\" style=\"font-size:13px\">I.3 Interaction of a Two-Level-System with a Chirped Laser Pulse</a>\n",
    "    </td>\n",
    "    <th rowspan=\"2\" style=\"width:33%; text-align:center; font-size:16px\">\n",
    "        <a href=\"jl_exercise_3_1_TLS.ipynb\">next notebook $\\rightarrow$</a><br>\n",
    "        <a href=\"jl_exercise_3_1_TLS.ipynb\" style=\"font-size:13px\">III.1 Population Inversion in a Two-Level-System using Krotov's Method and GRAPE</a>\n",
    "    </th>\n",
    "  </tr>\n",
    "  <tr style=\"width: 100%\">\n",
    "    <td style=\"width:33%; text-align:center; font-size:16px\">\n",
    "        <a href=\"jl_exercise_3_3_chiral.ipynb\" style=\"font-size:13px\">III.3 Using Krotov's method to separate chiral molecules</a><br>\n",
    "        <a href=\"jl_exercise_3_3_chiral.ipynb\">$\\downarrow$ next part $\\downarrow$</a>\n",
    "    </td>\n",
    "  </tr>\n",
    "</table>\n",
    "\n",
    "<div style=\"text-align: right;font-size: 16px\"><a href=\"../Python/py_exercise_2_3_chiral.ipynb\">👉 Python version</a></div>\n",
    "\n",
    "---\n",
    "<!-- Autoheader end -->"
   ]
  },
  {
   "cell_type": "markdown",
   "id": "1603f50d",
   "metadata": {},
   "source": [
    "# Parameter Optimization of Three-Wave Mixing in a Three-Level System"
   ]
  },
  {
   "cell_type": "markdown",
   "id": "5b492fe8",
   "metadata": {},
   "source": [
    "This notebook performs optimization of three-wave mixing in a chiral three-level system.\n",
    "In this notebook you will learn how to use gradient-free parameter optimization via the `NLopt` package (via `Optimization.jl`) for the purpose of driving two three-level systems, representing the two mirror images (the so-called enantiomers) of a chiral molecules, such that they end up in distinct final states. This allows for the discrimination of enantiomers which is a central task in applications involving chiral molecules. As a bonus, we also show how gradient information via a technique called automatic differentiation can be used to improve the performance of the optimization."
   ]
  },
  {
   "cell_type": "markdown",
   "id": "e104b6b4",
   "metadata": {},
   "source": [
    "## Model\n",
    "\n",
    "<img src=\"../figures/3-level_mod.svg\" alt=\"Drawing\" style=\"width: 800px;\"/>\n",
    "\n",
    "The illustration above shows two a three-level model for a chiral molecules with the left and right side corresponding to the $+$(left), respectively $-$(right), enantiomer of the molecule.\n",
    "The three levels are connected with each other by an electric dipole transition. The only difference between the two enantiomers lies in the sign of the $\\mu_{c}$ component of the dipole transition moment. Our goal is to obtain 'enantioselectivity' which means that a sequence of microwave pulses applied to the two enantiomers starting in the same initial state will lead to two perfectly distinct final states."
   ]
  },
  {
   "cell_type": "markdown",
   "id": "a052d9b9",
   "metadata": {},
   "source": [
    "## Setup\n",
    "\n",
    "We start with importing the necessary packages, among which are\n",
    "* `QuantumPropagators`: Allows to set up time dependent Hamiltonians and propagate them.\n",
    "* `OrdinaryDiffEq`: This is the backend used for `QuantumPropagators.propagate`.\n",
    "* `Optimization` contains routines for optimization, with `OptimizationNLopt` providing the connection to the `NLOpt` backend package.\n",
    "* `ComponentArrays` provides `ComponentVector` which allows for an elegant definition of vectors of control parameters which can be accessed both by index and by name. The `@unpack` macro from `UnPack.jl` can be used to unpack the parameters from the vector into individual variables."
   ]
  },
  {
   "cell_type": "code",
   "execution_count": null,
   "id": "881c5d63",
   "metadata": {
    "lines_to_next_cell": 2
   },
   "outputs": [],
   "source": [
    "using QuantumPropagators: hamiltonian, propagate\n",
    "using OrdinaryDiffEq\n",
    "using Optimization, OptimizationNLopt\n",
    "using ComponentArrays: ComponentVector\n",
    "using UnPack: @unpack"
   ]
  },
  {
   "cell_type": "code",
   "execution_count": null,
   "id": "ec6a9fa4",
   "metadata": {},
   "outputs": [],
   "source": [
    "using Plots\n",
    "\n",
    "# Set up thicker default lines in plots\n",
    "Plots.default(\n",
    "    linewidth               = 2.0,\n",
    "    foreground_color_legend = nothing,\n",
    "    background_color_legend = RGBA(1, 1, 1, 0.8)\n",
    ")"
   ]
  },
  {
   "cell_type": "code",
   "execution_count": null,
   "id": "655eea0d",
   "metadata": {},
   "outputs": [],
   "source": [
    "# Some utilities for showing hints and solutions\n",
    "include(joinpath(\"utils\", \"exercise_2_chiral.jl\"));"
   ]
  },
  {
   "cell_type": "markdown",
   "id": "ad7e5aab",
   "metadata": {},
   "source": [
    "To make our code slightly easier to read, we define a constant 𝕚 for the imaginary unit:"
   ]
  },
  {
   "cell_type": "code",
   "execution_count": null,
   "id": "2e5de76e",
   "metadata": {},
   "outputs": [],
   "source": [
    "const 𝕚 = 1im;  # \"𝕚\" can be typed by \\bbi<tab>"
   ]
  },
  {
   "cell_type": "markdown",
   "id": "ad904485",
   "metadata": {},
   "source": [
    "## Hamiltonian\n",
    "We begin by defining the function `total_enantiomer_ham`. This function returns the Hamiltonian (in the rotating frame) for the two enantiomers, i.e.,\n",
    "\n",
    "$$\n",
    "\\hat{H}_{I}^{(\\pm)}(t) = \\sum_{i=1}^{3} \\hat{H}_{i}^{(\\pm)}(t)\n",
    "$$\n",
    "\n",
    "with\n",
    "\n",
    "$$\n",
    "\\hat{H}_{1}^{(\\pm)}(t)\n",
    "=\n",
    "- E_{1}(t) \\mu_{b}^{(\\pm)}\n",
    "\\begin{pmatrix}\n",
    "  0 & e^{i \\phi_{1}} & 0 \\\\\n",
    "  e^{- i \\phi_{1}} & 0 & 0 \\\\\n",
    "  0 & 0 & 0 \\\\\n",
    "\\end{pmatrix},\n",
    "\\\\\n",
    "\\hat{H}_{2}^{(\\pm)}(t)\n",
    "=\n",
    "- E_{2}(t) \\mu_{a}^{(\\pm)}\n",
    "\\begin{pmatrix}\n",
    "  0 & 0 & 0 \\\\\n",
    "  0 & 0 & e^{i \\phi_{2}} \\\\\n",
    "  0 & e^{- i \\phi_{2}} & 0 \\\\\n",
    "\\end{pmatrix},\n",
    "\\\\\n",
    "\\hat{H}_{3}^{(\\pm)}(t)\n",
    "=\n",
    "- E_{3}(t) \\mu_{c}^{(\\pm)}\n",
    "\\begin{pmatrix}\n",
    "  0 & 0 & e^{i \\phi_{3}} \\\\\n",
    "  0 & 0 & 0 \\\\\n",
    "  e^{- i \\phi_{3}} & 0 & 0 \\\\\n",
    "\\end{pmatrix}\n",
    "$$\n",
    "\n",
    "and where\n",
    "\n",
    "$$\n",
    "E_{i}(t)\n",
    "=\n",
    "\\frac{E_{i,0}}{2}\n",
    "\\left[\\tanh(a (t - t_{i,1})) - \\tanh(a (t - t_{i,2}))\\right]\n",
    "$$\n",
    "\n",
    "for $i \\in \\left\\{1,2,3\\right\\}$ are the envelopes of the pulses with frequencies $\\omega, \\delta \\omega$ and $\\omega + \\delta \\omega$."
   ]
  },
  {
   "cell_type": "code",
   "execution_count": null,
   "id": "946597a0",
   "metadata": {},
   "outputs": [],
   "source": [
    "E(t; E₀, t₁, t₂, a) =  (E₀/2) * (tanh(a*(t-t₁)) - tanh(a*(t-t₂)));"
   ]
  },
  {
   "cell_type": "markdown",
   "id": "fd7e9811",
   "metadata": {},
   "source": [
    "The `total_enantiomer_ham` function gets a set of control `parameters`, which altogether specify the Hamiltonian and the control fields in their entirety. We use here a \"structured\" [`ComponentVector`](https://jonniedie.github.io/ComponentArrays.jl/stable/api/#ComponentArrays.ComponentVector) with three named sub-vectors:\n",
    "\n",
    "* `ΔT`: A vector of the three durations $\\Delta t_{i} = t_{i,2} - t_{i,1}$ of each of the three fields $E_{i0}(t)$. Field $i$ is assumed to start when field $i-1$ ends. The first field starts at $t_{1,1}=0$.\n",
    "* `ϕ`: A vector of the three real phases $\\phi_{i}$ for each field.\n",
    "* `E₀`: A vector of the three real amplitudes $E_{i0}$ for each field.\n",
    "\n",
    "These subsets are combined as follows"
   ]
  },
  {
   "cell_type": "code",
   "execution_count": null,
   "id": "040fd9cd",
   "metadata": {},
   "outputs": [],
   "source": [
    "parameters = ComponentVector(ΔT=[0.2, 0.4, 0.3], ϕ=[π, π, π], E₀=[0.45, 0.4, 0.5]);"
   ]
  },
  {
   "cell_type": "markdown",
   "id": "d6be7325",
   "metadata": {},
   "source": [
    "The `parameters` array acts as an array with 9 elements that we can access individually:"
   ]
  },
  {
   "cell_type": "code",
   "execution_count": null,
   "id": "52fae3c7",
   "metadata": {},
   "outputs": [],
   "source": [
    "parameters[1:9]"
   ]
  },
  {
   "cell_type": "markdown",
   "id": "27f79944",
   "metadata": {},
   "source": [
    "Alternatively, we can also access the sub-vectors by their name:"
   ]
  },
  {
   "cell_type": "code",
   "execution_count": null,
   "id": "9481be37",
   "metadata": {},
   "outputs": [],
   "source": [
    "parameters.ΔT"
   ]
  },
  {
   "cell_type": "markdown",
   "id": "8a483ef4",
   "metadata": {},
   "source": [
    "or [unpack](https://github.com/mauro3/UnPack.jl) the entire array (or part of the array) into variables:"
   ]
  },
  {
   "cell_type": "code",
   "execution_count": null,
   "id": "8b2c89a3",
   "metadata": {},
   "outputs": [],
   "source": [
    "@unpack ΔT, E₀ = parameters;"
   ]
  },
  {
   "cell_type": "markdown",
   "id": "ab843eae",
   "metadata": {},
   "source": [
    "The `total_enantiomer_ham` function also uses the following keyword arguments:\n",
    "\n",
    "* `sign`: The string `+` or `-` specifies which Hamiltonian, i.e., $H_{I}^{(+)}(t)$ or $H_{I}^{(-)}(t)$, is retuned.\n",
    "* `a`: This is a parameter which controls how smooth each field is turned on and off. The larger `a` becomes, the more the field shapes $E_{i0}(t)$ resemble a rectangle."
   ]
  },
  {
   "cell_type": "code",
   "execution_count": null,
   "id": "04921288",
   "metadata": {},
   "outputs": [],
   "source": [
    "function total_enantiomer_ham(parameters; sign, a)\n",
    "\n",
    "    @unpack ϕ, ΔT, E₀ = parameters\n",
    "    ϕ₁, ϕ₂, ϕ₃ = ϕ[1:3]\n",
    "    μ = (sign == \"-\" ? -1 : 1)\n",
    "\n",
    "    H₁ = μ * [\n",
    "             0     exp(𝕚*ϕ₁)  0\n",
    "        exp(-𝕚*ϕ₁)     0      0\n",
    "             0         0      0\n",
    "    ]\n",
    "\n",
    "    H₂ = μ * [\n",
    "        0       0          0\n",
    "        0       0      exp(𝕚*ϕ₂)\n",
    "        0  exp(-𝕚*ϕ₂)      0\n",
    "    ]\n",
    "\n",
    "    H₃ = μ * [\n",
    "              0      0  exp(𝕚*ϕ₃)\n",
    "              0      0      0\n",
    "         exp(-𝕚*ϕ₃)  0      0\n",
    "    ]\n",
    "\n",
    "    # times where pulses end\n",
    "    T₁ = sum(ΔT[1:1])\n",
    "    T₂ = sum(ΔT[1:2])\n",
    "    T₃ = sum(ΔT[1:3])\n",
    "\n",
    "    return hamiltonian(\n",
    "        (H₁, t -> E(t; E₀=E₀[1], t₁=0.0, t₂=T₁, a)),\n",
    "        (H₂, t -> E(t; E₀=E₀[2], t₁=T₁, t₂=T₂, a)),\n",
    "        (H₃, t -> E(t; E₀=E₀[3], t₁=T₂, t₂=T₃, a)),\n",
    "    )\n",
    "end"
   ]
  },
  {
   "cell_type": "code",
   "execution_count": null,
   "id": "60b091d2",
   "metadata": {},
   "outputs": [],
   "source": [
    "H₊ = total_enantiomer_ham(parameters; sign=\"+\", a=100);"
   ]
  },
  {
   "cell_type": "markdown",
   "id": "7170bf44",
   "metadata": {},
   "source": [
    "We define the initial state as\n",
    "\n",
    "$$\n",
    "\\Psi_{\\pm}(0)\n",
    "=\n",
    "\\begin{pmatrix}\n",
    "  1 \\\\ 0 \\\\ 0\n",
    "\\end{pmatrix}.\n",
    "$$"
   ]
  },
  {
   "cell_type": "code",
   "execution_count": null,
   "id": "5267cae5",
   "metadata": {},
   "outputs": [],
   "source": [
    "# the initial state consists of three levels with population initially in the ground state\n",
    "Ψ₀ = ComplexF64[1, 0, 0];"
   ]
  },
  {
   "cell_type": "markdown",
   "id": "f7415ccc",
   "metadata": {},
   "source": [
    "Our time grid is obtained by dividing $$t \\in \\left[0,1\\right]$$ into 100 equal intervals (remember that 100 intervals implies 101 points of the time grid)."
   ]
  },
  {
   "cell_type": "code",
   "execution_count": null,
   "id": "b702bb01",
   "metadata": {
    "lines_to_next_cell": 2
   },
   "outputs": [],
   "source": [
    "tlist = collect(range(0, 1; length=101));"
   ]
  },
  {
   "cell_type": "markdown",
   "id": "2dbcc105",
   "metadata": {},
   "source": [
    "## Problem 0 - Pulse parameterisation\n",
    "\n",
    "We begin by familiarizing ourselves with the pulse parameterization. In this notebook the pulses are formed by the difference between two hyperbolic tangent functions.\n",
    "`E0` controls the pulse amplitude, `a` controls how rectangular the pulse appears and `t_start` and `t_stop` determine when the pulse starts and ends.\n",
    "Try changing the arguments of `plot_parameterised_pulse`, such that the two curves match (an exact fit is difficult, it is sufficient to aim for a value of the calculated mismatch which is below one)."
   ]
  },
  {
   "cell_type": "code",
   "execution_count": null,
   "id": "84e58c98",
   "metadata": {},
   "outputs": [],
   "source": [
    "function plot_parameterised_pulse(tlist; E₀, a, t₁, t₂)\n",
    "    pulse = t -> E(t; E₀, a, t₁, t₂)\n",
    "    target_pulse = t -> 20 * exp(-20 * (t - 0.5)^2)\n",
    "    mismatch = sum(abs.(pulse.(tlist) .- target_pulse.(tlist))) / length(tlist)\n",
    "    plot(tlist, pulse , label=\"your pulse\", color=(mismatch < 1 ? \"green\" : \"blue\"))\n",
    "    plot!(tlist, target_pulse; label=\"target pulse\", color=\"orange\")\n",
    "    annotate!(\n",
    "        0, 20,\n",
    "        (\"mismatch: $(round(mismatch; digits=3))\", 10, :left)\n",
    "    )\n",
    "end\n",
    "\n",
    "plot_parameterised_pulse(tlist; E₀=3.14, a=500, t₁=0.15, t₂=0.85)"
   ]
  },
  {
   "cell_type": "code",
   "execution_count": null,
   "id": "6e2a3be9",
   "metadata": {},
   "outputs": [],
   "source": [
    "# problem_0.hint"
   ]
  },
  {
   "cell_type": "code",
   "execution_count": null,
   "id": "a6adbae2",
   "metadata": {},
   "outputs": [],
   "source": [
    "# problem_0.solution"
   ]
  },
  {
   "cell_type": "markdown",
   "id": "c2861a0d",
   "metadata": {},
   "source": [
    "**Bonus**: After you go through the \"Problem 1\" below, you can come back here and use the `Optimization` package to determine even better parameters."
   ]
  },
  {
   "cell_type": "code",
   "execution_count": null,
   "id": "42e543b5",
   "metadata": {},
   "outputs": [],
   "source": [
    "#bonus.hint"
   ]
  },
  {
   "cell_type": "code",
   "execution_count": null,
   "id": "a480c3a1",
   "metadata": {},
   "outputs": [],
   "source": [
    "#bonus.solution"
   ]
  },
  {
   "cell_type": "markdown",
   "id": "3252cf25",
   "metadata": {},
   "source": [
    "## Initialise optimization\n",
    "\n",
    "Now we can turn towards optimization. To this end, we use the optimization methods provided by the [`NLOpt` package](https://nlopt.readthedocs.io/en/latest/). This package has a [Julia wrapper](https://github.com/JuliaOpt/NLopt.jl) which we could use directly, but there is also a package [Optimization.jl](https://docs.sciml.ai/Optimization/stable/) that provides a common API for defining and solving optimization problems not just via `NLOpt` but also a dozen other optimization toolboxes. For simplicity, we use the well-known Nelder-Mead method. Note, however, that `NLOpt` allows for a wide range of different methods as do the other toolboxes wrapped by Optimization.jl.\n",
    "\n",
    "The Optimization.jl interface requires to provide a `loss` function, i.e. the optimization functional, which takes a vector `x` of real-valued parameters as well as an object `constants` containing static parameters. This could be another vector, but a [`NamedTuple`](https://docs.julialang.org/en/v1/base/base/#Core.NamedTuple) is often cleaner. Note that in a different setup, the function to be optimized could be a more general [`OptimizationFunction`](https://docs.sciml.ai/Optimization/stable/API/optimization_function/) object which also contains information on how to calculate gradients. See the [Optimization.jl manual](https://docs.sciml.ai/Optimization/stable/API/optimization_problem/) for details. Since we only study gradient-free optimization in this notebook, we will not need this here.\n",
    "\n",
    "Our `loss` function takes the list `x` containing our optimization parameters, i.e., all pulse durations, all phases $\\phi_{i}$ and all amplitudes $E_{i,0}$ on inputand returns the error of the enantioselectivity protocol introduced above. Specifically, `loss` returns zero if and only if the dynamics obtained from the parameters in the set `x` transfers the initial state $\\Psi(0)$ perfectly into the target state, i.e.,\n",
    "\n",
    "\n",
    "$$\n",
    "\\Psi_{+}(0)\n",
    "\\longrightarrow\n",
    "\\Psi_{+}\\left(T\\right) =\n",
    "\\begin{pmatrix}\n",
    "  1 \\\\ 0 \\\\ 0\n",
    "\\end{pmatrix}\n",
    "$$\n",
    "\n",
    "for enantiomer `+` and\n",
    "\n",
    "$$\n",
    "\\Psi_{-}(0)\n",
    "\\longrightarrow\n",
    "\\Psi_{-}\\left(T\\right) =\n",
    "\\begin{pmatrix}\n",
    "  0 \\\\ 0 \\\\ 1\n",
    "\\end{pmatrix}\n",
    "$$\n",
    "\n",
    "for enantiomer `-`."
   ]
  },
  {
   "cell_type": "code",
   "execution_count": null,
   "id": "79ecf0bb",
   "metadata": {},
   "outputs": [],
   "source": [
    "function loss(x, constants)\n",
    "\n",
    "    # The optimizer will usually pass in `x` as a standard vector,\n",
    "    # so we have to repack it into a `ComponentVector` for\n",
    "    # `total_enantiomer_ham`\n",
    "    parameters = ComponentVector(ΔT=x[1:3], ϕ=x[4:6], E₀=x[7:9])\n",
    "\n",
    "    H₊ = total_enantiomer_ham(parameters; sign=\"+\", a=constants.a)\n",
    "    H₋ = total_enantiomer_ham(parameters; sign=\"-\", a=constants.a)\n",
    "\n",
    "    Ψ₀ = ComplexF64[1, 0, 0];\n",
    "    tlist = collect(range(0, constants.T; length=constants.nt));\n",
    "\n",
    "    Ψ₊ = propagate(Ψ₀, H₊, tlist; method=OrdinaryDiffEq)\n",
    "    Ψ₋ = propagate(Ψ₀, H₋, tlist; method=OrdinaryDiffEq)\n",
    "\n",
    "    fid = (abs2(Ψ₊[1]) + abs2(Ψ₋[3])) / 2\n",
    "    return 1 - fid\n",
    "\n",
    "end"
   ]
  },
  {
   "cell_type": "markdown",
   "id": "0461cf96",
   "metadata": {},
   "source": [
    "## Problem 1 - Run optimization\n",
    "\n",
    "Next, we can run the actual optimization. It requires us to define lower and upper bounds for all parameters that should be optimized. In our case, we choose\n",
    "\n",
    "$$\n",
    "0 \\leq t_{i,2} \\leq T=1,\n",
    "\\qquad\n",
    "0 \\leq \\phi_{i} \\leq 2 \\pi,\n",
    "\\qquad\n",
    "0 \\leq E_{i,0} \\leq 10.\n",
    "$$\n",
    "\n",
    "Note that we need to provide guess values for all nine parameters. The order that the parameters should appear in is `ΔT₁`, `ΔT₂`, `ΔT₃`, `ϕ₁`, `ϕ₂`, `ϕ₃`, `E₀₁`, `E₀₂`, `E₀₃`.\n",
    "\n",
    "The choice of the guess values will often have an appreciable impact on the general success of the optimized solution and can even affect its form since many optimization problems allow for many different solutions.\n",
    "Your task is now to fill in the upper optimization bounds and to try different\n",
    "guesses to evaluate their impact on the optimization."
   ]
  },
  {
   "cell_type": "code",
   "execution_count": null,
   "id": "52abb3a7",
   "metadata": {},
   "outputs": [],
   "source": [
    "guess = ComponentVector(\n",
    "    ΔT=[#= insert values =#],\n",
    "    ϕ=[#= insert values =#],\n",
    "    E₀=[#= insert values =#]\n",
    ");\n",
    "\n",
    "prob = OptimizationProblem(\n",
    "    loss,\n",
    "    guess,\n",
    "    (a=1000.0, T=1, nt=100);  # this is a NamedTuple\n",
    "    lb=zeros(length(guess)),\n",
    "    ub=ComponentVector(\n",
    "        ΔT=[#= insert values =#],\n",
    "        ϕ=[#= insert values =#],\n",
    "        E₀=[#= insert values =#]\n",
    "    ),\n",
    "    stopval=(1-0.99),\n",
    ");"
   ]
  },
  {
   "cell_type": "code",
   "execution_count": null,
   "id": "c8a22f63",
   "metadata": {},
   "outputs": [],
   "source": [
    "# problem_1.hint"
   ]
  },
  {
   "cell_type": "code",
   "execution_count": null,
   "id": "2cfe91d9",
   "metadata": {},
   "outputs": [],
   "source": [
    "# problem_1.solution"
   ]
  },
  {
   "cell_type": "markdown",
   "id": "c164ab7f",
   "metadata": {},
   "source": [
    "We can check the performance of the guess pulse:"
   ]
  },
  {
   "cell_type": "code",
   "execution_count": null,
   "id": "7460fd8c",
   "metadata": {},
   "outputs": [],
   "source": [
    "loss(guess, (a=1000.0, T=tlist[end], nt=length(tlist)))"
   ]
  },
  {
   "cell_type": "markdown",
   "id": "349cfa4d",
   "metadata": {},
   "source": [
    "In the optimization, we'll want to keep track of the fidelity after each iteration. To this end, we define a [\"callback\" function](https://docs.sciml.ai/Optimization/stable/API/solve/#CommonSolve.solve-Tuple%7BOptimizationProblem,%20Any%7D) that the optimizer will run after each step."
   ]
  },
  {
   "cell_type": "code",
   "execution_count": null,
   "id": "0dc7901f",
   "metadata": {},
   "outputs": [],
   "source": [
    "obtained_fidelities = Float64[];  # for keeping track of the fidelity in each iteration\n",
    "\n",
    "function callback(state, loss_val)\n",
    "    global obtained_fidelities\n",
    "    fid = 1 - loss_val\n",
    "    push!(obtained_fidelities, fid)\n",
    "    print(\"Iteration: $(length(obtained_fidelities)), current fidelity $(round(fid; digits=4))\\r\")\n",
    "    return false\n",
    "end"
   ]
  },
  {
   "cell_type": "markdown",
   "id": "68442788",
   "metadata": {},
   "source": [
    "Lastly, we call `Optimization.solve` to run the optimization:"
   ]
  },
  {
   "cell_type": "code",
   "execution_count": null,
   "id": "496d8b63",
   "metadata": {},
   "outputs": [],
   "source": [
    "obtained_fidelities = Float64[];\n",
    "res = Optimization.solve(prob, NLopt.LN_NELDERMEAD(); maxiters=500, callback)"
   ]
  },
  {
   "cell_type": "code",
   "execution_count": null,
   "id": "3d3460fd",
   "metadata": {},
   "outputs": [],
   "source": [
    "plot(obtained_fidelities; marker=:cross, label=\"\", xlabel=\"optimization iteration\", ylabel=\"fidelity\")"
   ]
  },
  {
   "cell_type": "markdown",
   "id": "1556115f",
   "metadata": {},
   "source": [
    "## Analyze optimization results\n",
    "After optimiziation we can verify the optimization result by plotting the pulses\n",
    "as well as the resulting dynamics.\n",
    "To this end, we define the Hamiltonians of the two enantiomers given the optimized parameters."
   ]
  },
  {
   "cell_type": "code",
   "execution_count": null,
   "id": "fa3ca982",
   "metadata": {},
   "outputs": [],
   "source": [
    "opt_params = convert(typeof(guess), res.u)\n",
    "\n",
    "H₊opt = total_enantiomer_ham(opt_params; sign=\"+\", a=1000.0);\n",
    "H₋opt = total_enantiomer_ham(opt_params; sign=\"-\", a=1000.0);"
   ]
  },
  {
   "cell_type": "markdown",
   "id": "187cc5e2",
   "metadata": {},
   "source": [
    "In order to visualize the optimized pulses, we plot them in the following. We use"
   ]
  },
  {
   "cell_type": "code",
   "execution_count": null,
   "id": "73d863e0",
   "metadata": {},
   "outputs": [],
   "source": [
    "using QuantumPropagators.Controls: get_controls"
   ]
  },
  {
   "cell_type": "markdown",
   "id": "5bc26515",
   "metadata": {},
   "source": [
    "to extract the functions with the optimized parameters from the optimal Hamiltonians."
   ]
  },
  {
   "cell_type": "code",
   "execution_count": null,
   "id": "234643ab",
   "metadata": {},
   "outputs": [],
   "source": [
    "function plot_pulse(H, tlist; kwargs...)\n",
    "    fig = plot(; xlabel=\"time\", ylabel=\"amplitude\", kwargs...)\n",
    "    sub = [\"₁\", \"₂\", \"₃\"]\n",
    "    for (i, E) in enumerate(get_controls(H))\n",
    "        plot!(fig, tlist, E; label=\"E$(sub[i])\")\n",
    "    end\n",
    "    return fig\n",
    "end\n",
    "\n",
    "plot_pulse(H₊opt, range(0, 1; length=500); legend=:right)"
   ]
  },
  {
   "cell_type": "markdown",
   "id": "3e38fded",
   "metadata": {},
   "source": [
    "Finally, we solve the dynamics of the two enantiomers (now using the optimized parameters) and plot their population dynamics."
   ]
  },
  {
   "cell_type": "code",
   "execution_count": null,
   "id": "e289941b",
   "metadata": {},
   "outputs": [],
   "source": [
    "function propagate_system(Htot, title; tlist=tlist)\n",
    "    Ψ₀ = ComplexF64[1, 0, 0];\n",
    "    states = propagate(Ψ₀, Htot, tlist; method=OrdinaryDiffEq, storage=true)\n",
    "    pops = abs2.(states)\n",
    "    plot(; title, xlabel=\"time\", ylabel=\"population\", legend=:top)\n",
    "    plot!(tlist, pops[1,:]; label=\"|c₁|²\")\n",
    "    plot!(tlist, pops[2,:]; label=\"|c₂|²\")\n",
    "    plot!(tlist, pops[3,:]; label=\"|c₃|²\")\n",
    "end"
   ]
  },
  {
   "cell_type": "code",
   "execution_count": null,
   "id": "cb12a114",
   "metadata": {},
   "outputs": [],
   "source": [
    "propagate_system(H₊opt, \"enantiomer +\")"
   ]
  },
  {
   "cell_type": "code",
   "execution_count": null,
   "id": "cf371b83",
   "metadata": {},
   "outputs": [],
   "source": [
    "propagate_system(H₋opt, \"enantiomer -\")"
   ]
  },
  {
   "cell_type": "markdown",
   "id": "1ad712e6",
   "metadata": {},
   "source": [
    "In the plots above you see how the population evolves under the influence of our parameterised pulses. If the optimization was successful, the populations of the two enantiomers at the final time $T$ should be entirely in the $\\Psi_{+}(T)$ (first level) and $\\Psi_{-}(T)$ (third level) target states respectively."
   ]
  },
  {
   "cell_type": "markdown",
   "id": "c109809e",
   "metadata": {},
   "source": [
    "## Advanced: Gradient-Based Optimization with Automatic Differentiation"
   ]
  },
  {
   "cell_type": "markdown",
   "id": "f67e8f38",
   "metadata": {},
   "source": [
    "In many cases, the convergence of optimizations can be improved by taking into account information about the gradient of the loss functional. In fact, the gradient-free optimization method we have used above will only perform in a sensible amount of time for a relatively small number of control parameters. Beyond that, the use of gradient-based approaches is imperative.\n",
    "\n",
    "Unfortunately, evaluating the gradient of the `loss` function with respect to the parameters is highly non-straightforward. A potential way out is to use a technique called \"automatic differentiation\", where the computer tracks all computational steps and uses a stupendous application of the chain rule to obtain the gradient.\n",
    "\n",
    "There are several frameworks for automatic differentiation in Julia, the most established one probably being [`Zygote`](https://github.com/FluxML/Zygote.jl)."
   ]
  },
  {
   "cell_type": "code",
   "execution_count": null,
   "id": "2d9e5fe2",
   "metadata": {},
   "outputs": [],
   "source": [
    "using Zygote"
   ]
  },
  {
   "cell_type": "markdown",
   "id": "3b18147d",
   "metadata": {},
   "source": [
    "It can be used together with the `OrdinaryDiffEq` solver that we have already used throughout our notebooks as the numerical backend for simulating the time evolution."
   ]
  },
  {
   "cell_type": "code",
   "execution_count": null,
   "id": "7c4c117d",
   "metadata": {},
   "outputs": [],
   "source": [
    "using SciMLSensitivity"
   ]
  },
  {
   "cell_type": "markdown",
   "id": "e52a7613",
   "metadata": {},
   "source": [
    "The above command activates these capabilities. However, this also means that we have to use `OrdinaryDiffEq` *directly*, not via `QuantumPropagators.propagator`. There is an even more severe restrictions that come with using automatic differentiation via Zygote: It does not support in-place linear algebra operators. In each time step, we must construct the Hamiltonian matrix from the time-dependent `Generator` returned by `total_enantiomer_ham`.\n",
    "\n",
    "Lastly, accurate gradients require high precision in the ODE solver, so we have to lower the default `reltol` and `abstol` values. It also improves the convergence to adjust the lower bounds of control parameters. In particular, hitting the lower bound `ΔT₁=0.0` is a pathological case that will confuse the optimizer. Hence, it is best to explicitly keep all `ΔT` and `E₀` values higher than zero.\n",
    "\n",
    "The framework discussed above is set up as follows:"
   ]
  },
  {
   "cell_type": "code",
   "execution_count": null,
   "id": "6ec32a50",
   "metadata": {},
   "outputs": [],
   "source": [
    "using QuantumPropagators.Controls: evaluate\n",
    "\n",
    "function f₊(Ψ, p, t)\n",
    "    params = ComponentVector(ΔT=p[1:3], ϕ=p[4:6], E₀=p[7:9])\n",
    "    H = total_enantiomer_ham(params; sign=\"+\", a=1000.0)\n",
    "    op = evaluate(H, t)  # Evaluate H(t) as a matrix\n",
    "    return -1im * op * Ψ\n",
    "end\n",
    "\n",
    "function f₋(Ψ, p, t)\n",
    "    params = ComponentVector(ΔT=p[1:3], ϕ=p[4:6], E₀=p[7:9])\n",
    "    H = total_enantiomer_ham(params; sign=\"-\", a=1000.0)\n",
    "    op = evaluate(H, t)\n",
    "    return -1im * op * Ψ\n",
    "end"
   ]
  },
  {
   "cell_type": "markdown",
   "id": "6690a798",
   "metadata": {},
   "source": [
    "Or, more directly:"
   ]
  },
  {
   "cell_type": "code",
   "execution_count": null,
   "id": "725a919c",
   "metadata": {},
   "outputs": [],
   "source": [
    "function f(Ψ, p, t; sign=\"+\", a=1000.0)\n",
    "    ΔT₁, ΔT₂, ΔT₃, ϕ₁, ϕ₂, ϕ₃, E₀₁, E₀₂, E₀₃ = p\n",
    "    T₁ = ΔT₁\n",
    "    T₂ = ΔT₁ + ΔT₂\n",
    "    T₃ = ΔT₁ + ΔT₂ + ΔT₃\n",
    "    μ = (sign == \"-\" ? -1 : 1)\n",
    "    E₁ = E(t; E₀=E₀₁, t₁=0.0, t₂=T₁, a)\n",
    "    E₂ = E(t; E₀=E₀₂, t₁=T₁, t₂=T₂, a)\n",
    "    E₃ = E(t; E₀=E₀₃, t₁=T₂, t₂=T₃, a)\n",
    "    F = (-𝕚 * µ) * [  # -𝕚 * H  (RHS of Schrödinger Eq. rewritten as ODE)\n",
    "              0.0           E₁ * exp(𝕚 * ϕ₁)   E₃ * exp(𝕚 * ϕ₃)\n",
    "        E₁ * exp(-𝕚 * ϕ₁)         0.0          E₂ * exp(𝕚 * ϕ₂)\n",
    "        E₃ * exp(-𝕚 * ϕ₃)   E₂ * exp(-𝕚 * ϕ₂)         0.0\n",
    "    ]\n",
    "    return F * Ψ\n",
    "end\n",
    "\n",
    "f₊(Ψ, p, t) = f(Ψ, p, t; sign=\"+\", a=1000.0);\n",
    "f₋(Ψ, p, t) = f(Ψ, p, t; sign=\"-\", a=1000.0);"
   ]
  },
  {
   "cell_type": "code",
   "execution_count": null,
   "id": "89ab4bd2",
   "metadata": {},
   "outputs": [],
   "source": [
    "# XXX\n",
    "guess = ComponentVector(\n",
    "    ΔT=[0.2, 0.4, 0.3],\n",
    "    ϕ=[π, π, π],\n",
    "    E₀=[5.0, 5.0, 5.0]\n",
    ");"
   ]
  },
  {
   "cell_type": "code",
   "execution_count": null,
   "id": "54804e59",
   "metadata": {},
   "outputs": [],
   "source": [
    "function loss_zygote(x)\n",
    "\n",
    "    Ψ₀ = ComplexF64[1, 0, 0];\n",
    "    tspan = (0.0, 1.0)\n",
    "\n",
    "    prob₊ = ODEProblem(f₊, Ψ₀, tspan, x)\n",
    "    prob₋ = ODEProblem(f₋, Ψ₀, tspan, x)\n",
    "\n",
    "    Ψ₊ = OrdinaryDiffEq.solve(prob₊, DP5(), reltol = 1e-9, abstol = 1e-7, verbose=false).u[end]\n",
    "    Ψ₋ = OrdinaryDiffEq.solve(prob₋, DP5(), reltol = 1e-9, abstol = 1e-7, verbose=false).u[end]\n",
    "\n",
    "    fid = (abs2(Ψ₊[1]) + abs2(Ψ₋[3])) / 2\n",
    "    return 1 - fid\n",
    "\n",
    "end\n",
    "\n",
    "loss_zygote(guess)"
   ]
  },
  {
   "cell_type": "markdown",
   "id": "a539b7a4",
   "metadata": {},
   "source": [
    "We can look at the gradient of the guess:"
   ]
  },
  {
   "cell_type": "code",
   "execution_count": null,
   "id": "fabce0ca",
   "metadata": {},
   "outputs": [],
   "source": [
    "grad = loss_zygote';\n",
    "grad(guess)"
   ]
  },
  {
   "cell_type": "code",
   "execution_count": null,
   "id": "0335113d",
   "metadata": {},
   "outputs": [],
   "source": [
    "prob_zygote = OptimizationProblem(\n",
    "    OptimizationFunction((x, _)->loss_zygote(x), AutoZygote()),\n",
    "    guess,\n",
    "    nothing;\n",
    "    lb=ComponentVector(\n",
    "        ΔT=[0.1, 0.1, 0.1],\n",
    "        ϕ=[0.0, 0.0, 0.0],\n",
    "        E₀=[1.0, 1.0, 1.0]\n",
    "    ),\n",
    "    ub=ComponentVector(\n",
    "        ΔT=[1.0, 1.0, 1.0],\n",
    "        ϕ=[2π, 2π, 2π],\n",
    "        E₀=[10.0, 10.0, 10.0]\n",
    "    ),\n",
    "    stopval=(1-0.99),\n",
    ");"
   ]
  },
  {
   "cell_type": "markdown",
   "id": "25729836",
   "metadata": {},
   "source": [
    "And now run the optimization using the gradient-based LBFGS quasi-Newton optimization method with the Zygote-derived gradients."
   ]
  },
  {
   "cell_type": "code",
   "execution_count": null,
   "id": "de0cd0ba",
   "metadata": {},
   "outputs": [],
   "source": [
    "obtained_fidelities = Float64[];\n",
    "res_zygote = Optimization.solve(prob_zygote, NLopt.LD_LBFGS(), maxiters=500, callback=callback)"
   ]
  },
  {
   "cell_type": "code",
   "execution_count": null,
   "id": "2012a8fa",
   "metadata": {},
   "outputs": [],
   "source": [
    "plot(obtained_fidelities; marker=:cross, label=\"\", xlabel=\"optimization iteration\", ylabel=\"fidelity\")"
   ]
  },
  {
   "cell_type": "code",
   "execution_count": null,
   "id": "b996b8aa",
   "metadata": {},
   "outputs": [],
   "source": [
    "opt_params = convert(typeof(guess), res_zygote.u)\n",
    "\n",
    "H₊opt = total_enantiomer_ham(opt_params; sign=\"+\", a=1000.0);\n",
    "H₋opt = total_enantiomer_ham(opt_params; sign=\"-\", a=1000.0);"
   ]
  },
  {
   "cell_type": "code",
   "execution_count": null,
   "id": "c4507cac",
   "metadata": {},
   "outputs": [],
   "source": [
    "plot_pulse(H₊opt, range(0, 1; length=500); legend=:right)"
   ]
  },
  {
   "cell_type": "code",
   "execution_count": null,
   "id": "e074f6fd",
   "metadata": {},
   "outputs": [],
   "source": [
    "propagate_system(H₊opt, \"enantiomer +\")"
   ]
  },
  {
   "cell_type": "code",
   "execution_count": null,
   "id": "d8a427a4",
   "metadata": {
    "lines_to_next_cell": 2
   },
   "outputs": [],
   "source": [
    "propagate_system(H₋opt, \"enantiomer -\")"
   ]
  },
  {
   "cell_type": "markdown",
   "id": "2b0269ff",
   "metadata": {},
   "source": [
    "## Next steps"
   ]
  },
  {
   "cell_type": "markdown",
   "id": "1d799108",
   "metadata": {},
   "source": [
    "As alluded to already in the \"Advanced\" section above, in many cases gradient-based optimization is a powerful alterantive to parameter optimization. A thorough, introductory notebook for this topic can be found in [Exercise III.2](jl_exercise_3_2_lambda.ipynb) where the example of the STIRAP protocol is discussed. Alternatively, if you would like to stick with chiral molecules and three-wave-mixing, have a look at [Exercise III.3](jl_exercise_3_3_chiral.ipynb), in which gradient-based opimization is employed for the problem you studied in this notebook."
   ]
  },
  {
   "cell_type": "markdown",
   "id": "8ea6d928",
   "metadata": {},
   "source": [
    "<!-- Autofooter begin -->\n",
    "\n",
    "---\n",
    "\n",
    "[⬆︎ jump to top](#navtitle_2_3_jl)\n",
    "<!-- Autofooter end -->"
   ]
  }
 ],
 "metadata": {
  "jupytext": {
   "encoding": "# -*- coding: utf-8 -*-"
  },
  "kernelspec": {
   "display_name": "Julia 1.10.2",
   "language": "julia",
   "name": "julia-1.10"
  },
  "language_info": {
   "file_extension": ".jl",
   "mimetype": "application/julia",
   "name": "julia",
   "version": "1.10.2"
  }
 },
 "nbformat": 4,
 "nbformat_minor": 5
}
