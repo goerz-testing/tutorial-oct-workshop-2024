{
 "cells": [
  {
   "cell_type": "markdown",
   "id": "2b8c8e13",
   "metadata": {},
   "source": [
    "<!-- Autoheader begin -->\n",
    "<hr/>\n",
    "<div id=\"navtitle_2_2_jl\" style=\"text-align:center; font-size:16px\">II.2 Parameter Optimization for STIRAP</div>\n",
    "<hr/>\n",
    "<table style=\"width: 100%\">\n",
    "  <tr>\n",
    "    <th rowspan=\"2\" style=\"width:33%; text-align:center; font-size:16px\">\n",
    "        <a href=\"jl_exercise_2_1_TLS.ipynb\">$\\leftarrow$ previous notebook </a><br>\n",
    "        <a href=\"jl_exercise_2_1_TLS.ipynb\" style=\"font-size:13px\">II.1 Population Inversion in a Two-Level-System using Parameter Optimization</a>\n",
    "    </th>\n",
    "    <td style=\"width:33%; text-align:center; font-size:16px\">\n",
    "        <a href=\"jl_exercise_1_2_lambda.ipynb\">$\\uparrow$ previous part $\\uparrow$</a><br>\n",
    "        <a href=\"jl_exercise_1_2_lambda.ipynb\" style=\"font-size:13px\">I.2 Population Transfer in a Three-Level-System with STIRAP</a>\n",
    "    </td>\n",
    "    <th rowspan=\"2\" style=\"width:33%; text-align:center; font-size:16px\">\n",
    "        <a href=\"jl_exercise_2_3_chiral.ipynb\">next notebook $\\rightarrow$</a><br>\n",
    "        <a href=\"jl_exercise_2_3_chiral.ipynb\" style=\"font-size:13px\">II.3 Parameter Optimization of Three-Wave Mixing in a Three-Level System</a>\n",
    "    </th>\n",
    "  </tr>\n",
    "  <tr style=\"width: 100%\">\n",
    "    <td style=\"width:33%; text-align:center; font-size:16px\">\n",
    "        <a href=\"jl_exercise_3_2_lambda.ipynb\" style=\"font-size:13px\">III.2 Optimal Control for STIRAP</a><br>\n",
    "        <a href=\"jl_exercise_3_2_lambda.ipynb\">$\\downarrow$ next part $\\downarrow$</a>\n",
    "    </td>\n",
    "  </tr>\n",
    "</table>\n",
    "\n",
    "<div style=\"text-align: right;font-size: 16px\"><a href=\"../Python/py_exercise_2_2_lambda.ipynb\">👉 Python version</a></div>\n",
    "\n",
    "---\n",
    "<!-- Autoheader end -->"
   ]
  },
  {
   "cell_type": "markdown",
   "id": "8cde217f",
   "metadata": {},
   "source": [
    "# Parameter Optimization for STIRAP"
   ]
  },
  {
   "cell_type": "markdown",
   "id": "3fe29a8e-5579-44d2-b329-68f7e468dd10",
   "metadata": {},
   "source": [
    "$\\newcommand{tr}[0]{\\operatorname{tr}}\n",
    "\\newcommand{diag}[0]{\\operatorname{diag}}\n",
    "\\newcommand{abs}[0]{\\operatorname{abs}}\n",
    "\\newcommand{pop}[0]{\\operatorname{pop}}\n",
    "\\newcommand{aux}[0]{\\text{aux}}\n",
    "\\newcommand{opt}[0]{\\text{opt}}\n",
    "\\newcommand{tgt}[0]{\\text{tgt}}\n",
    "\\newcommand{init}[0]{\\text{init}}\n",
    "\\newcommand{lab}[0]{\\text{lab}}\n",
    "\\newcommand{rwa}[0]{\\text{rwa}}\n",
    "\\newcommand{bra}[1]{\\langle#1\\vert}\n",
    "\\newcommand{ket}[1]{\\vert#1\\rangle}\n",
    "\\newcommand{Bra}[1]{\\left\\langle#1\\right\\vert}\n",
    "\\newcommand{Ket}[1]{\\left\\vert#1\\right\\rangle}\n",
    "\\newcommand{Braket}[2]{\\left\\langle #1\\vphantom{#2} \\mid\n",
    "#2\\vphantom{#1}\\right\\rangle}\n",
    "\\newcommand{op}[1]{\\hat{#1}}\n",
    "\\newcommand{Op}[1]{\\hat{#1}}\n",
    "\\newcommand{dd}[0]{\\,\\text{d}}\n",
    "\\newcommand{Liouville}[0]{\\mathcal{L}}\n",
    "\\newcommand{DynMap}[0]{\\mathcal{E}}\n",
    "\\newcommand{identity}[0]{\\mathbf{1}}\n",
    "\\newcommand{Norm}[1]{\\lVert#1\\rVert}\n",
    "\\newcommand{Abs}[1]{\\left\\vert#1\\right\\vert}\n",
    "\\newcommand{avg}[1]{\\langle#1\\rangle}\n",
    "\\newcommand{Avg}[1]{\\left\\langle#1\\right\\rangle}\n",
    "\\newcommand{AbsSq}[1]{\\left\\vert#1\\right\\vert^2}\n",
    "\\newcommand{Re}[0]{\\operatorname{Re}}\n",
    "\\newcommand{Im}[0]{\\operatorname{Im}}$"
   ]
  },
  {
   "cell_type": "markdown",
   "id": "da48daaa",
   "metadata": {},
   "source": [
    "In this notebook we return to the three-level-system in a Lambda configuration introduced in [Exercise I.2](jl_exercise_1_2_lambda.ipynb). Our goal remains to achieve population transform from level 1 to level 3 without populating the intermediate level 2. In this notebook you will learn how to use gradient-free parameter optimization for this purpose. A particularly important part of the optimization is the definition of an appropriate optimization functional which incorporates the goal to avoid populating level 2 as an additional condition."
   ]
  },
  {
   "cell_type": "markdown",
   "id": "90fa7dfc",
   "metadata": {},
   "source": [
    "## Setup"
   ]
  },
  {
   "cell_type": "code",
   "execution_count": null,
   "id": "94065e52",
   "metadata": {},
   "outputs": [],
   "source": [
    "using LinearAlgebra\n",
    "using QuantumPropagators: hamiltonian, propagate, discretize\n",
    "using OrdinaryDiffEq\n",
    "using Optimization, OptimizationNLopt\n",
    "using ComponentArrays: ComponentVector\n",
    "using UnPack: @unpack"
   ]
  },
  {
   "cell_type": "code",
   "execution_count": null,
   "id": "2dd0079e",
   "metadata": {},
   "outputs": [],
   "source": [
    "# Some utilities for showing hints and solutions\n",
    "include(joinpath(\"utils\", \"exercise_2_lambda.jl\"));"
   ]
  },
  {
   "cell_type": "markdown",
   "id": "e9916fef",
   "metadata": {},
   "source": [
    "We'll again set some defaults for `Plots`, like increasing the default line width for better readability."
   ]
  },
  {
   "cell_type": "code",
   "execution_count": null,
   "id": "e910124a",
   "metadata": {},
   "outputs": [],
   "source": [
    "using Plots\n",
    "\n",
    "Plots.default(\n",
    "    linewidth               = 2.0,\n",
    "    foreground_color_legend = nothing,\n",
    "    background_color_legend = RGBA(1, 1, 1, 0.8)\n",
    ")"
   ]
  },
  {
   "cell_type": "markdown",
   "id": "529f3ec9",
   "metadata": {},
   "source": [
    "## Model"
   ]
  },
  {
   "cell_type": "markdown",
   "id": "41689f86",
   "metadata": {},
   "source": [
    "As a reminder, the STIRAP Hamiltonian is given by the following expression\n",
    "\n",
    "\\begin{align} H_{\\text{STIRAP}}=\\begin{pmatrix}0 & \\frac{1}{2}\\Omega^{*}_{\\text{P}}(t)\\\\\n",
    "\\frac{1}{2}\\Omega_{\\text{P}}(t) & \\Delta_\\text{P} & \\frac{1}{2}\\Omega^{*}_{\\text{S}}(t)\\\\\n",
    "& \\frac{1}{2}\\Omega_{\\text{S}}(t) & \\Delta_\\text{P}-\\Delta_\\text{S} \\end{pmatrix}\n",
    "\\end{align}\n",
    "\n",
    "and gives rise to a level scheme in a Lambda configuration\n",
    "\n",
    "<center><img src=\"../figures/lambda_system_levels.png\" alt=\"Lambda system considered in this notebook\" width=\"500\"></center>\n",
    "\n",
    "We now use parameter optimization to find the right pulse shapes, assuming once again a Gaussian pulse shape for simplicity. Furthermore we assume to be on two-photon resonance and fix the single-photon detuning at $\\Delta \\equiv \n",
    "\\Delta_\\text{P} = 1$ which defines a reference energy. Therefore there are 3 parameters for each pulse which can be individually tuned: Its temporal position, its temporal width and its strength resulting. All in all, we have a total of 6 parameters.\n",
    "\n",
    "Our functional will thus take a list of these 6 parameters as an input to calculate how close we are to the following two goals:\n",
    "\n",
    " 1. At final time, all population should be in state 3.\n",
    " 2. Throughout the evolution, population in 2 should be kept as close to zero as possible.\n",
    "\n",
    "A straightforward approach to construct functionals which take multiple physical goals into account is to simply sum up functionals for each of the individual goals. In our case this is achieved with the following definition,\n",
    "\n",
    "\\begin{align}\n",
    "    \\mathcal{F} &= \\Braket{3}{\\psi (t_f)} - \\frac{1}{T} \\int_{t_i}^{t_f} \\Braket{2}{\\psi(t)} dt\n",
    "\\end{align}\n",
    "\n",
    "where $t_i$, $t_f$ is the initial resp. final time and $T=t_f - t_i$ is the\n",
    "total duration of the protocol. This fidelity has a maximum value of $1$ corresponding to both goals being achieved perfectly, i.e., the final state of the evolution is $\\ket{3}$ and there is no poulation in $\\ket{2}$ during the\n",
    "entire protocol. Since we frame our optimizations as minimizations, we thus attempt to minimize the functional $1 - \\mathcal{F}$ in the following."
   ]
  },
  {
   "cell_type": "markdown",
   "id": "530b21ff",
   "metadata": {},
   "source": [
    "## Shape functions"
   ]
  },
  {
   "cell_type": "markdown",
   "id": "8947d929",
   "metadata": {},
   "source": [
    "First we define the pulse shape functions and the Hamiltonian."
   ]
  },
  {
   "cell_type": "code",
   "execution_count": null,
   "id": "2b971f09",
   "metadata": {},
   "outputs": [],
   "source": [
    "\"\"\"\n",
    "Gaussian shape function centered around t₀ with width σ\n",
    "\n",
    "# Keyword Arguments\n",
    "\n",
    "* `t₀`: center of the Gaussian\n",
    "* `σ`: width of the Gaussian\n",
    "\"\"\"\n",
    "function gaussian_shape(t; t₀, σ)\n",
    "    return @. exp(-0.5*(t - t₀)^2/σ^2) / √(2π*σ)\n",
    "end\n",
    "\n",
    "\"\"\"\n",
    "Shape function for the pump pulse\n",
    "\n",
    "# Keyword Arguments\n",
    "\n",
    "* `tₚ`: center of the Gaussian used fro the pump pulse\n",
    "* `σₚ`: width of the Gaussian\n",
    "\"\"\"\n",
    "function pump_shape(t; tₚ, σₚ)\n",
    "    return gaussian_shape(t; t₀=tₚ, σ=σₚ)\n",
    "end\n",
    "\n",
    "\"\"\"\n",
    "Shape function for the Stokes pulse\n",
    "\n",
    "# Keyword Arguments\n",
    "\n",
    "* `tₛ`: center of the Gaussian used for the Stokes pulse\n",
    "* `σₛ`: width of the Gaussian\n",
    "\"\"\"\n",
    "function stokes_shape(t; tₛ, σₛ)\n",
    "    return gaussian_shape(t; t₀=tₛ, σ=σₛ)\n",
    "end\n",
    "\n",
    "\"\"\"\n",
    "Function returning the STIRAP Hamiltonian\n",
    "\"\"\"\n",
    "function H_stirap(Ωₚ, Ωₛ; Δ)\n",
    "\n",
    "    H₀ = zeros(3,3)\n",
    "    H₀[2,2]=Δ\n",
    "\n",
    "    H₁₂ = zeros(3,3)\n",
    "    H₁₂[1,2] = 1 / 2\n",
    "    H₁₂ += H₁₂'\n",
    "\n",
    "    H₂₃ = zeros(3,3)\n",
    "    H₂₃[2,3] = 1 / 2\n",
    "    H₂₃ += H₂₃'\n",
    "\n",
    "    return hamiltonian(H₀, (H₁₂, Ωₚ), (H₂₃, Ωₛ))\n",
    "end\n",
    "\n",
    "tlist = collect(range(-250., 250.; length=101))\n",
    "\n",
    "psi_0 = ComplexF64[1, 0, 0];"
   ]
  },
  {
   "cell_type": "markdown",
   "id": "4e5be72c",
   "metadata": {},
   "source": [
    "We also define a function which simulates the dynamics under a given pulse (e.g. the guess or optimized field) to visualize the pulses and the dynamics:"
   ]
  },
  {
   "cell_type": "code",
   "execution_count": null,
   "id": "bcfab9cd",
   "metadata": {},
   "outputs": [],
   "source": [
    "function evolve_and_plot_parameterized_pulse(x; Δ=1.0, T=250, nt=101, psi_0=psi_0)\n",
    "    if isempty(x)\n",
    "        error(\"It seems you are still using the (empty) guess. Make sure to fill it with the guess for the paramters `tₚ`, `tₛ`, `σₚ`, `σₛ`, `Ωₚ⁰`, `Ωₛ⁰`.!\")\n",
    "    end\n",
    "\n",
    "    tₚ, tₛ, σₚ, σₛ, Ωₚ⁰, Ωₛ⁰ = x\n",
    "    Ωₚ(t) = Ωₚ⁰ * pump_shape(t; tₚ=tₚ, σₚ=σₚ)\n",
    "    Ωₛ(t) = Ωₛ⁰ * stokes_shape(t; tₛ=tₛ, σₛ=σₛ)\n",
    "    tlist = collect(range(-T, T, nt))\n",
    "    H = H_stirap(Ωₚ, Ωₛ; Δ=Δ);\n",
    "    Ψs = propagate(psi_0, H, tlist; method=OrdinaryDiffEq, storage=true)\n",
    "\n",
    "    Eₚ = discretize(Ωₚ, tlist)\n",
    "    Eₛ = discretize(Ωₛ, tlist)\n",
    "    max_E = maximum(vcat(Eₚ, Eₛ))\n",
    "    pul_plt = plot(tlist, abs.([Eₚ Eₛ]) ./ max_E; label=[\"|Ωₚ|\" \"|Ωₛ|\"], color=[\"#1f77b4\" \"#ff7f0e\"], xlabel=\"time\", ylabel=\"pulse\")\n",
    "    stt_plt = plot(tlist, abs2.(Ψs)'; label=[\"|0⟩\" \"|1⟩\" \"|2⟩\"], ls=[:solid :solid :solid], color=[\"#1f77b4\" \"#ff7f0e\" \"#2ca02c\"], xlabel=\"time\", ylabel=\"population\")\n",
    "    plot(pul_plt, stt_plt, size=(800,400))\n",
    "end"
   ]
  },
  {
   "cell_type": "markdown",
   "id": "97aa633f",
   "metadata": {},
   "source": [
    "## Parameter optimization"
   ]
  },
  {
   "cell_type": "markdown",
   "id": "893db4f4",
   "metadata": {},
   "source": [
    "In the following, we implement the functional introduced above and optimize it via the `NLopt` package.\n",
    "\n",
    "The input for our functional are the two blackman pulses, which are parametrized by three values each: position of the maximum $t_{P/S}$, amplitude $\\Omega^{(0)}_{P/S}$, and width $\\sigma_{P/S}$."
   ]
  },
  {
   "cell_type": "code",
   "execution_count": null,
   "id": "ffc1c4b1",
   "metadata": {},
   "outputs": [],
   "source": [
    "function J_loss(x, constants)\n",
    "    tₚ, tₛ, σₚ, σₛ, Ωₚ⁰, Ωₛ⁰ = x\n",
    "    @unpack Δ, T, nt, psi_0 = constants\n",
    "    Ωₚ(t) = Ωₚ⁰ * pump_shape(t; tₚ=tₚ, σₚ=σₚ)\n",
    "    Ωₛ(t) = Ωₛ⁰ * stokes_shape(t; tₛ=tₛ, σₛ=σₛ)\n",
    "\n",
    "    tlist = collect(range(-T, T; length=nt))\n",
    "    H = H_stirap(Ωₚ, Ωₛ; Δ=Δ);\n",
    "    Ψs = propagate(psi_0, H, tlist; method=OrdinaryDiffEq, storage=true)\n",
    "\n",
    "    ovlp3 = abs(Ψs[3,end]) # term ⟨3|ψ(T)⟩\n",
    "    int_ket2 = sum(abs.(Ψs[2,:]))/size(Ψs,2) # term ∝ ∫ ⟨2|ψ(T)⟩ dt\n",
    "\n",
    "    return 1 - ovlp3 + int_ket2\n",
    "end"
   ]
  },
  {
   "cell_type": "markdown",
   "id": "96f895b0",
   "metadata": {},
   "source": [
    "### Problem 1: Choosing a guess pulse"
   ]
  },
  {
   "cell_type": "markdown",
   "id": "9b180972",
   "metadata": {},
   "source": [
    "In order for the optimization to be succesful, we need to specify bounds for\n",
    "the optimization parameters. Moreover, the result of the optimization heavily\n",
    "depends on the initial guess parameters. Try finding a set of initial\n",
    "parameters that will converge to 99% fidelity!\n",
    "\n",
    "<!-- A good guess is [10,-50, 50,50, 25,25] -->"
   ]
  },
  {
   "cell_type": "markdown",
   "id": "75d4af01",
   "metadata": {},
   "source": [
    "We begin by defining a set of guess parameters and lower/upper bounds for the optimization:"
   ]
  },
  {
   "cell_type": "code",
   "execution_count": null,
   "id": "62e24cfc",
   "metadata": {},
   "outputs": [],
   "source": [
    "bounds_lower = [-100, -100, 10, 10, 0, 0]\n",
    "bounds_upper = [100, 100, 80, 80, 60, 60]\n",
    "\n",
    "guess = [ #= insert guess parameters here =# ];"
   ]
  },
  {
   "cell_type": "code",
   "execution_count": null,
   "id": "0358c7bc",
   "metadata": {},
   "outputs": [],
   "source": [
    "prob = OptimizationProblem(\n",
    "    J_loss,\n",
    "    guess,\n",
    "    (; Δ=1.0, T=250, nt=101, psi_0=psi_0);  # this is a NamedTuple, which will be accessible via prob.p\n",
    "    lb=bounds_lower,\n",
    "    ub=bounds_upper,\n",
    "    stopval=(1-0.995), # below which error to stop the optimization\n",
    ");"
   ]
  },
  {
   "cell_type": "markdown",
   "id": "026e33d5",
   "metadata": {},
   "source": [
    "We can check the quality of the guess pulse:"
   ]
  },
  {
   "cell_type": "code",
   "execution_count": null,
   "id": "ef0c6df9",
   "metadata": {},
   "outputs": [],
   "source": [
    "evolve_and_plot_parameterized_pulse(guess; prob.p...)"
   ]
  },
  {
   "cell_type": "markdown",
   "id": "4cb794f7",
   "metadata": {},
   "source": [
    "Finally, we can check the value of the functional:"
   ]
  },
  {
   "cell_type": "code",
   "execution_count": null,
   "id": "57c10966",
   "metadata": {},
   "outputs": [],
   "source": [
    "J_loss(guess, prob.p)"
   ]
  },
  {
   "cell_type": "markdown",
   "id": "560d170a",
   "metadata": {},
   "source": [
    "### Optimization"
   ]
  },
  {
   "cell_type": "markdown",
   "id": "09b321f2",
   "metadata": {},
   "source": [
    "In the optimization, we want to keep track of the fidelity after each iteration. To this end, we define a [\"callback\" function](https://docs.sciml.ai/Optimization/stable/API/solve/#CommonSolve.solve-Tuple%7BOptimizationProblem,%20Any%7D) that the optimizer will run after each step."
   ]
  },
  {
   "cell_type": "code",
   "execution_count": null,
   "id": "737783ab",
   "metadata": {},
   "outputs": [],
   "source": [
    "n = 0\n",
    "function callback(state, loss_val)\n",
    "    global n\n",
    "    fid = 1 - loss_val\n",
    "    n += 1\n",
    "    print(\"Iteration: $(n), current fidelity $(round(fid; digits=6))\\r\")\n",
    "    return false\n",
    "end"
   ]
  },
  {
   "cell_type": "markdown",
   "id": "fecd1cc7",
   "metadata": {},
   "source": [
    "Lastly, we call `Optimization.solve` to run the optimization:"
   ]
  },
  {
   "cell_type": "code",
   "execution_count": null,
   "id": "244ef6fb",
   "metadata": {},
   "outputs": [],
   "source": [
    "obtained_fidelities = Float64[];\n",
    "res = Optimization.solve(prob, NLopt.LN_NELDERMEAD(); maxiters=1000, callback)\n",
    "println(\"\\n\\nHighest fidelity reached: $(round((1 - res.objective) * 100; digits=1))%\")\n",
    "if res.objective < 5.0e-3\n",
    "    println(\"\\tcongratulations, you have obtained population inversion!\")\n",
    "else\n",
    "    println(\"\\tbad guess, please try again!\")\n",
    "end"
   ]
  },
  {
   "cell_type": "code",
   "execution_count": null,
   "id": "8c87c097",
   "metadata": {},
   "outputs": [],
   "source": [
    "# problem_1.hint"
   ]
  },
  {
   "cell_type": "code",
   "execution_count": null,
   "id": "a010d5b0",
   "metadata": {},
   "outputs": [],
   "source": [
    "# problem_1.solution"
   ]
  },
  {
   "cell_type": "markdown",
   "id": "f58dd1e5",
   "metadata": {},
   "source": [
    "## Analyze optimization results"
   ]
  },
  {
   "cell_type": "markdown",
   "id": "fdbca6c2",
   "metadata": {},
   "source": [
    "Finally, let's have a look at the optimized results:"
   ]
  },
  {
   "cell_type": "code",
   "execution_count": null,
   "id": "16ddd54b",
   "metadata": {},
   "outputs": [],
   "source": [
    "evolve_and_plot_parameterized_pulse(res.u; Δ=1.0, T=250, nt=1001, psi_0=psi_0)"
   ]
  },
  {
   "cell_type": "markdown",
   "id": "8f55cc83",
   "metadata": {},
   "source": [
    "## Next steps"
   ]
  },
  {
   "cell_type": "markdown",
   "id": "5ac1f33c",
   "metadata": {},
   "source": [
    "To go another step up in system complexity with parameter optimization we recommend [Exercise II.3](py_exercise_2_3_chiral.ipynb) which discusses the very interesting case of three-wave-mixing in a chiral molecule modelled by a three-level system. Alternatively, if you are interested in optimization with a gradient-based approach, we recommend to have a look at [Exercise III.2](py_exercise_3_2_lambda.ipynb)  in which Krotov's method is used for the opimization you studied in this notebook."
   ]
  },
  {
   "cell_type": "markdown",
   "id": "453cc722",
   "metadata": {},
   "source": [
    "<!-- Autofooter begin -->\n",
    "\n",
    "---\n",
    "\n",
    "[⬆︎ jump to top](#navtitle_2_2_jl)\n",
    "<!-- Autofooter end -->"
   ]
  }
 ],
 "metadata": {
  "jupytext": {
   "encoding": "# -*- coding: utf-8 -*-"
  },
  "kernelspec": {
   "display_name": "Julia 1.10.2",
   "language": "julia",
   "name": "julia-1.10"
  },
  "language_info": {
   "file_extension": ".jl",
   "mimetype": "application/julia",
   "name": "julia",
   "version": "1.10.2"
  }
 },
 "nbformat": 4,
 "nbformat_minor": 5
}
