{
 "cells": [
  {
   "cell_type": "markdown",
   "id": "f75e580a",
   "metadata": {},
   "source": [
    "<!-- Autoheader begin -->\n",
    "<hr/>\n",
    "<div id=\"navtitle_3_3_py\" style=\"text-align:center; font-size:16px\">III.3 Using Krotov's method to separate chiral molecules</div>\n",
    "<hr/>\n",
    "<table style=\"width: 100%\">\n",
    "  <tr>\n",
    "    <th rowspan=\"2\" style=\"width:33%; text-align:center; font-size:16px\">\n",
    "        <a href=\"py_exercise_3_2_lambda.ipynb\">$\\leftarrow$ previous notebook </a><br>\n",
    "        <a href=\"py_exercise_3_2_lambda.ipynb\" style=\"font-size:13px\">III.2 Optimal Control for STIRAP</a>\n",
    "    </th>\n",
    "    <td style=\"width:33%; text-align:center; font-size:16px\">\n",
    "        <a href=\"py_exercise_2_3_chiral.ipynb\">$\\uparrow$ previous part $\\uparrow$</a><br>\n",
    "        <a href=\"py_exercise_2_3_chiral.ipynb\" style=\"font-size:13px\">II.3 Parameter Optimization of Three-Wave Mixing in a Three-Level System</a>\n",
    "    </td>\n",
    "    <th rowspan=\"2\" style=\"width:33%; text-align:center; font-size:16px\">\n",
    "        <a href=\"py_exercise_3_4_gate.ipynb\">next notebook $\\rightarrow$</a><br>\n",
    "        <a href=\"py_exercise_3_4_gate.ipynb\" style=\"font-size:13px\">III.4 Entangling Quantum Gates for Coupled Transmon Qubits</a>\n",
    "    </th>\n",
    "  </tr>\n",
    "  <tr style=\"width: 100%\">\n",
    "    <td style=\"width:33%; text-align:center; font-size:16px\">\n",
    "    </td>\n",
    "  </tr>\n",
    "</table>\n",
    "\n",
    "<div style=\"text-align: right;font-size: 16px\"><a href=\"../Julia/jl_exercise_3_3_chiral.ipynb\">👉 Julia version</a></div>\n",
    "\n",
    "---\n",
    "<!-- Autoheader end -->"
   ]
  },
  {
   "cell_type": "markdown",
   "id": "f4b66d88",
   "metadata": {},
   "source": [
    "# Using Krotov's method to separate chiral molecules"
   ]
  },
  {
   "cell_type": "markdown",
   "id": "8433b74e-23bd-42dc-8acb-289c11fe9958",
   "metadata": {},
   "source": [
    "In this notebook, you will run a gradient-based\n",
    "optimization for three-wave mixing in a chiral three-level system,\n",
    "building up on [Exercise II.3](py_exercise_2_3_chiral.ipynb).\n",
    "We keep the same goal of driving two three-level systems,\n",
    "describing the quantum states of the enantiomers of a chiral molecule,\n",
    "such that they end up in distinct final states, but use a gradient-based optimization method instead, specifically Krotov's method."
   ]
  },
  {
   "cell_type": "code",
   "execution_count": null,
   "id": "d9081eb5",
   "metadata": {
    "attributes": {
     "classes": [],
     "id": "",
     "n": "1"
    }
   },
   "outputs": [],
   "source": [
    "import numpy as np\n",
    "import matplotlib\n",
    "import matplotlib.pylab as plt\n",
    "import krotov\n",
    "import qutip\n",
    "sqrt2 = np.sqrt(2)\n",
    "pi = np.pi\n",
    "\n",
    "from utils.exercise_3_chiral import *"
   ]
  },
  {
   "cell_type": "markdown",
   "id": "561a6835",
   "metadata": {},
   "source": [
    "$\\newcommand{tr}[0]{\\operatorname{tr}}\n",
    "\\newcommand{diag}[0]{\\operatorname{diag}}\n",
    "\\newcommand{abs}[0]{\\operatorname{abs}}\n",
    "\\newcommand{pop}[0]{\\operatorname{pop}}\n",
    "\\newcommand{aux}[0]{\\text{aux}}\n",
    "\\newcommand{opt}[0]{\\text{opt}}\n",
    "\\newcommand{tgt}[0]{\\text{tgt}}\n",
    "\\newcommand{init}[0]{\\text{init}}\n",
    "\\newcommand{lab}[0]{\\text{lab}}\n",
    "\\newcommand{rwa}[0]{\\text{rwa}}\n",
    "\\newcommand{bra}[1]{\\langle#1\\vert}\n",
    "\\newcommand{ket}[1]{\\vert#1\\rangle}\n",
    "\\newcommand{Bra}[1]{\\left\\langle#1\\right\\vert}\n",
    "\\newcommand{Ket}[1]{\\left\\vert#1\\right\\rangle}\n",
    "\\newcommand{Braket}[2]{\\left\\langle #1\\vphantom{#2}\\mid{#2}\\vphantom{#1}\\right\\rangle}\n",
    "\\newcommand{Ketbra}[2]{\\vert#1\\rangle\\!\\langle#2\\vert}\n",
    "\\newcommand{op}[1]{\\hat{#1}}\n",
    "\\newcommand{Op}[1]{\\hat{#1}}\n",
    "\\newcommand{dd}[0]{\\,\\text{d}}\n",
    "\\newcommand{Liouville}[0]{\\mathcal{L}}\n",
    "\\newcommand{DynMap}[0]{\\mathcal{E}}\n",
    "\\newcommand{identity}[0]{\\mathbf{1}}\n",
    "\\newcommand{Norm}[1]{\\lVert#1\\rVert}\n",
    "\\newcommand{Abs}[1]{\\left\\vert#1\\right\\vert}\n",
    "\\newcommand{avg}[1]{\\langle#1\\rangle}\n",
    "\\newcommand{Avg}[1]{\\left\\langle#1\\right\\rangle}\n",
    "\\newcommand{AbsSq}[1]{\\left\\vert#1\\right\\vert^2}\n",
    "\\newcommand{Re}[0]{\\operatorname{Re}}\n",
    "\\newcommand{Im}[0]{\\operatorname{Im}}$"
   ]
  },
  {
   "cell_type": "markdown",
   "id": "41dd84a1",
   "metadata": {},
   "source": [
    "## Model\n",
    "\n",
    "<center>\n",
    "    <img src=\"../figures/3-level_mod.svg\" alt=\"Drawing\" width=\"750\">\n",
    "</center>\n",
    "\n",
    "The system consists of three levels that evolve, using the rotating wave approximation, according to the relations\n",
    "$$\n",
    "\\begin{align}\n",
    "    i \\frac{\\partial}{\\partial t} \\Ket{\\Psi ^{\\,(\\pm)} (t)}&= \\sum_{i=1}^3 H_i ^{\\,(\\pm)} (t) \\Ket{\\Psi ^{\\,(\\pm)} (t)}\\\\\n",
    "\\Ket{\\Psi ^{\\,(\\pm)} (t)} &= \\sum_{i=1}^3 c_n^{\\,(\\pm)}(t)\\, \\Ket{n}.\n",
    "\\end{align}\n",
    "$$\n",
    "\n",
    "The different terms of the Hamiltonian can be expressed as\n",
    "\n",
    "$$\n",
    "\\Op{H}_{1}^{\\,(\\pm)} = -E_1 (t)\\, \\,\\mu_b^{\\pm}\\,\\begin{pmatrix}\n",
    "    0 & 1 & 0                          \\\\\n",
    "    1 & 0 & 0 \\\\\n",
    "    0 & 0 & 0\n",
    "\\end{pmatrix}\\,.\n",
    "$$\n",
    "\n",
    "$$\n",
    "\\Op{H}_{2}^{\\,(\\pm)} = -E_2 (t)\\, \\,\\mu_a^{\\pm}\\,\\begin{pmatrix}\n",
    "    0 & 0 & 0  \\\\\n",
    "    0 & 0 & \\mathrm{e}^{i\\pi/2}  \\\\\n",
    "    0 & \\mathrm{e}^{-i\\pi/2}  & 0\n",
    "\\end{pmatrix}\\,.\n",
    "$$\n",
    "\n",
    "$$\n",
    "\\Op{H}_{3}^{\\,(\\pm)} = -E_3 (t)\\, \\,\\mu_c^{\\pm}\\,\\begin{pmatrix}\n",
    "    0 & 0 & 1                          \\\\\n",
    "    0 & 0 & 0 \\\\\n",
    "    1 & 0 & 0\n",
    "\\end{pmatrix}\\,,\n",
    "$$\n",
    "\n",
    "where $E_1(t)$, $E_2(t)$ and $E_3(t)$ are the envelopes of fields with central frequencies $\\omega$, $\\delta\\omega$ and $\\omega + \\delta\\omega$, respectively.\n",
    "The interesting part of the dynamics comes from the relations between the dipole moments of the two enantiomers, namely $\\mu_a^{\\,(+)} =  \\mu_a^{\\,(-)}$, $\\mu_b^{\\,(+)} =  \\mu_b^{\\,(-)}$ and $\\mu_c^{\\,(+)} =  -\\mu_c^{\\,(-)}$.\n",
    "\n",
    "This implies that $\\Op{H}_{1}^{\\,(+)} = \\Op{H}_{1}^{\\,(-)}$, $\\Op{H}_{2}^{\\,(+)} = \\Op{H}_{2}^{\\,(-)}$ and $\\Op{H}_{3}^{\\,(+)} = -\\Op{H}_{3}^{\\,(-)}$.\n",
    "\n",
    "\n",
    "Our goal will be to optimize pulses $E_1(t)$, $E_2(t)$ and $E_3(t)$ such that for the initial states $\\Ket{\\Psi ^{\\,(+)} (0)} =: \\Ket{\\Psi_{\\init}^+} = \\Ket{1}$ and $\\Ket{\\Psi ^{\\,(-)} (0)}  =: \\Ket{\\Psi_{\\init}^-}  = \\Ket{1}$ and a previously defined final time $T$ we respectively reach the target state $\\Ket{\\Psi ^{\\,(+)} (T)}  =: \\Ket{\\Psi_{\\tgt}^{\\,+}} = e^{i \\Phi_+}\\Ket{2}$ and $\\Ket{\\Psi ^{\\,(-)} (T)}  =: \\Ket{\\Psi_{\\tgt}^{\\,-}} = e^{i \\Phi_-}\\Ket{3}$ for some unspecified phases $ \\Phi_+$ and $ \\Phi_-$.\n",
    "That is, although both enantiomers start in the same state, they end up in entirely different states after interaction with the laser fields. Since the phases $ \\Phi_+$ and $ \\Phi_-$ do not affect this physical optimization goal, it is sufficient to only consider the populations in the following."
   ]
  },
  {
   "cell_type": "markdown",
   "id": "861b7627",
   "metadata": {},
   "source": [
    "First, we define the various dipole moments."
   ]
  },
  {
   "cell_type": "code",
   "execution_count": null,
   "id": "51859750",
   "metadata": {},
   "outputs": [],
   "source": [
    "μa =  2.0  #Note that μa := μa_p = μa_m, and similarly for b\n",
    "μb =  3.0\n",
    "μc_p = 0.5\n",
    "μc_m = -0.5"
   ]
  },
  {
   "cell_type": "markdown",
   "id": "32b01f07",
   "metadata": {},
   "source": [
    "Next, we define the times at which the pulses start and stop in our initial guesses."
   ]
  },
  {
   "cell_type": "code",
   "execution_count": null,
   "id": "ef9bb4fa",
   "metadata": {},
   "outputs": [],
   "source": [
    "u_1_start = 0.0 # as a factor of the overall time\n",
    "u_1_stop  = 1.0 # as a factor of the overall time\n",
    "u_2_start = 0.0 # as a factor of the overall time\n",
    "u_2_stop  = 1.0 # as a factor of the overall time\n",
    "u_3_start = 0.0 # as a factor of the overall time\n",
    "u_3_stop  = 1.0 # as a factor of the overall time"
   ]
  },
  {
   "cell_type": "markdown",
   "id": "fab197db",
   "metadata": {},
   "source": [
    "This allows to define the three pulses interacting with the system."
   ]
  },
  {
   "cell_type": "code",
   "execution_count": null,
   "id": "20ce4edf",
   "metadata": {
    "lines_to_end_of_cell_marker": 2,
    "lines_to_next_cell": 2
   },
   "outputs": [],
   "source": [
    "def u1(t, args):\n",
    "    \"\"\"Guess for the first electric pulse\"\"\"\n",
    "    Amp_1 = .25\n",
    "    return Amp_1 * krotov.shapes.blackman(\n",
    "        t, t_start=u_1_start*args[\"final_t\"], t_stop=u_1_stop*args[\"final_t\"]\n",
    "    )\n",
    "\n",
    "def u2(t, args):\n",
    "    \"\"\"Guess for the second electric pulse\"\"\"\n",
    "    Amp_2 = .25\n",
    "    return Amp_2 * krotov.shapes.blackman(\n",
    "        t, t_start=u_2_start*args[\"final_t\"], t_stop=u_2_stop*args[\"final_t\"]\n",
    "    )\n",
    "\n",
    "def u3(t, args):\n",
    "    \"\"\"Guess for the third electric pulse\"\"\"\n",
    "    Amp_3 = .25\n",
    "    return Amp_3 * krotov.shapes.blackman(\n",
    "        t, t_start=u_3_start*args[\"final_t\"], t_stop=u_3_stop*args[\"final_t\"]\n",
    "    )"
   ]
  },
  {
   "cell_type": "markdown",
   "id": "c2de396f",
   "metadata": {},
   "source": [
    "Finally, we construct the Hamiltonians."
   ]
  },
  {
   "cell_type": "code",
   "execution_count": null,
   "id": "926603b6",
   "metadata": {
    "attributes": {
     "classes": [],
     "id": "",
     "n": "2"
    }
   },
   "outputs": [],
   "source": [
    "def hamiltonian(μa=μa, μb=μb, μc_p=μc_p, μc_m=μc_m):\n",
    "    \"\"\"3-level Chiral System Hamiltonian\"\"\"\n",
    "\n",
    "    # Drift H0 and control coupled Hamiltonians for 3-level system\n",
    "    H0 = qutip.Qobj(\n",
    "        np.array([[0.0, 0.0, 0.0], [0.0, 0.0, 0.0], [0.0, 0.0, 0.0]])\n",
    "    )\n",
    "\n",
    "    H1 = μb * qutip.Qobj(\n",
    "        np.array([[0.0, 1.0, 0.0], [1.0, 0.0, 0.0], [0.0, 0.0, 0.0]])\n",
    "    )\n",
    "    H2 = μa * qutip.Qobj(\n",
    "        np.array([[0.0, 0.0, 0.0], [0.0, 0.0, 1j], [0.0, -1j, 0.0]])\n",
    "    )\n",
    "\n",
    "    H3_p = μc_p * qutip.Qobj(\n",
    "        np.array([[0.0, 0.0, 1.0], [0.0, 0.0, 0.0], [1.0, 0.0, 0.0]])\n",
    "    )\n",
    "    H3_m = μc_m * qutip.Qobj(\n",
    "        np.array([[0.0, 0.0, 1.0], [0.0, 0.0, 0.0], [1.0, 0.0, 0.0]])\n",
    "    )\n",
    "\n",
    "    H_p = [H0, [H1, u1], [H2, u2], [H3_p, u3]]\n",
    "    H_m = [H0, [H1, u1], [H2, u2], [H3_m, u3]]\n",
    "    return H_p, H_m\n",
    "\n",
    "H_p, H_m = hamiltonian()"
   ]
  },
  {
   "cell_type": "markdown",
   "id": "1bb26481",
   "metadata": {},
   "source": [
    "The goal of this example is a state to state transfer with\n",
    "initial state\n",
    "$\\Ket{\\Psi_{\\init}^+} = \\Ket{\\Psi_{\\init}^-} = \\Ket{1}$ for both enantiomers and target states\n",
    "$\\Ket{\\Psi_{\\tgt}^{\\,+}} = \\Ket{2}$ and $\\Ket{\\Psi_{\\tgt}^{\\,-}} = \\Ket{3}$ (up to a phase) at final time $T$."
   ]
  },
  {
   "cell_type": "code",
   "execution_count": null,
   "id": "a850db6f",
   "metadata": {},
   "outputs": [],
   "source": [
    "\"\"\"Initial and target states\"\"\"\n",
    "\n",
    "psi_init = qutip.Qobj(np.array([1.,0.,0.]))\n",
    "psi_tgt_p = qutip.Qobj(np.array([0.,1.,0.]))\n",
    "psi_tgt_m = qutip.Qobj(np.array([0.,0.,1.]))"
   ]
  },
  {
   "cell_type": "markdown",
   "id": "76cd47d0",
   "metadata": {},
   "source": [
    "## Pulses"
   ]
  },
  {
   "cell_type": "markdown",
   "id": "c9264f69",
   "metadata": {},
   "source": [
    "#### Define the time grid"
   ]
  },
  {
   "cell_type": "markdown",
   "id": "b146adec",
   "metadata": {},
   "source": [
    "To view our pulses, we need to define a time-grid, over which we also optimize our pulses later on. Unlike in a parameter optimization, Krotov's algorithm directly optimizes the pulses on the discrete time grid. We will first define the variables `tf`, representing the __final time__ and `nt` describing the __number of time steps__."
   ]
  },
  {
   "cell_type": "code",
   "execution_count": null,
   "id": "e076fecb",
   "metadata": {
    "attributes": {
     "classes": [],
     "id": "",
     "n": "4"
    }
   },
   "outputs": [],
   "source": [
    "# Final time and number of time steps\n",
    "tf = 50  # final time T in ns\n",
    "nt = 200 # number of time steps\n",
    "\n",
    "# Time grid\n",
    "tlist = np.linspace(0.,tf, nt)"
   ]
  },
  {
   "cell_type": "markdown",
   "id": "15fed865",
   "metadata": {},
   "source": [
    "#### Plot the pulses"
   ]
  },
  {
   "cell_type": "markdown",
   "id": "c304857a",
   "metadata": {},
   "source": [
    "After having defined the time grid, let's have a look at the pulses."
   ]
  },
  {
   "cell_type": "code",
   "execution_count": null,
   "id": "279425ae",
   "metadata": {
    "attributes": {
     "classes": [],
     "id": "",
     "n": "11"
    }
   },
   "outputs": [],
   "source": [
    "plot_pulse(H_p[1][1], tlist, 'E_1', color=\"m\")\n",
    "plot_pulse(H_p[2][1], tlist, 'E_2', color=\"c\")\n",
    "plot_pulse(H_p[3][1], tlist, 'E_3', color=\"darkgreen\")"
   ]
  },
  {
   "cell_type": "markdown",
   "id": "77831f7c",
   "metadata": {
    "attributes": {
     "classes": [],
     "id": "",
     "n": "10"
    }
   },
   "source": [
    "*Note: `plot_pulse` is defined in `utils/exercise_3_chiral.py`. Use `??plot_pulse` so see its source code*"
   ]
  },
  {
   "cell_type": "markdown",
   "id": "0826b2d8",
   "metadata": {},
   "source": [
    "## Problem 1: Choice of pulse shapes\n",
    "\n",
    "We have described the pulses using Blackman shapes instead of Gaussian curves, their main difference being that they start and end with an amplitude of 0. Why do you think this is more convenient, especially from an experimental point of view?"
   ]
  },
  {
   "cell_type": "code",
   "execution_count": null,
   "id": "2ea40614",
   "metadata": {},
   "outputs": [],
   "source": [
    "#problem_1.solution"
   ]
  },
  {
   "cell_type": "markdown",
   "id": "7ff2cd5f",
   "metadata": {},
   "source": [
    "## Simulate dynamics of the guess field"
   ]
  },
  {
   "cell_type": "markdown",
   "id": "c8b6988a",
   "metadata": {},
   "source": [
    "After assuring ourselves that our guess pulses appear as expected, we propagate\n",
    "the system using our guess.\n",
    "To track the population in the relevant levels, we first define appropriate projectors $\\op{P}_{i} =\n",
    "\\Ketbra{i}{i}$ on the subspaces:"
   ]
  },
  {
   "cell_type": "code",
   "execution_count": null,
   "id": "b8a9f400",
   "metadata": {
    "attributes": {
     "classes": [],
     "id": "",
     "n": "3"
    }
   },
   "outputs": [],
   "source": [
    "proj1 = qutip.Qobj(np.diag([1,0,0]))\n",
    "proj2 = qutip.Qobj(np.diag([0,1,0]))\n",
    "proj3 = qutip.Qobj(np.diag([0,0,1]))"
   ]
  },
  {
   "cell_type": "markdown",
   "id": "5883f0e2",
   "metadata": {},
   "source": [
    "They will help us later to analyze the population in the different levels."
   ]
  },
  {
   "cell_type": "markdown",
   "id": "b5c8696b",
   "metadata": {},
   "source": [
    "We also set so called optimization\n",
    "objectives which contain all the relevant information needed for the propagation:"
   ]
  },
  {
   "cell_type": "code",
   "execution_count": null,
   "id": "94719dab",
   "metadata": {
    "attributes": {
     "classes": [],
     "id": "",
     "n": "5"
    }
   },
   "outputs": [],
   "source": [
    "objective_p = krotov.Objective(\n",
    "    initial_state = psi_init, target = psi_tgt_p, H=H_p\n",
    ")\n",
    "objective_m = krotov.Objective(\n",
    "    initial_state = psi_init, target = psi_tgt_m, H=H_m\n",
    ")\n",
    "\n",
    "objective_p, objective_m"
   ]
  },
  {
   "cell_type": "markdown",
   "id": "e81301ee",
   "metadata": {},
   "source": [
    "Having them set up, we can use their **m**aster **e**quation **solve**r function to obtain the dynamics over time. Since no optimization was done so far, we propagate with the guess pulses:"
   ]
  },
  {
   "cell_type": "code",
   "execution_count": null,
   "id": "4b85993c",
   "metadata": {
    "attributes": {
     "classes": [],
     "id": "",
     "n": "13"
    }
   },
   "outputs": [],
   "source": [
    "guess_dynamics_p = objective_p.mesolve(\n",
    "    tlist, e_ops=[proj1, proj2, proj3],\n",
    "    args={\"final_t\":tf}\n",
    ")"
   ]
  },
  {
   "cell_type": "code",
   "execution_count": null,
   "id": "e0fbd14b",
   "metadata": {},
   "outputs": [],
   "source": [
    "guess_dynamics_m = objective_m.mesolve(\n",
    "    tlist,\n",
    "    e_ops=[proj1, proj2, proj3],\n",
    "    args={\"final_t\":tf}\n",
    ")"
   ]
  },
  {
   "cell_type": "markdown",
   "id": "09b77a43",
   "metadata": {},
   "source": [
    "Now let's plot the population dynamics:"
   ]
  },
  {
   "cell_type": "code",
   "execution_count": null,
   "id": "fc0c9fe5",
   "metadata": {
    "attributes": {
     "classes": [],
     "id": "",
     "n": "15"
    }
   },
   "outputs": [],
   "source": [
    "plot_population_3lvl(guess_dynamics_p, title=\"Enantiomer (+)\") # function from exercise_3_3WM"
   ]
  },
  {
   "cell_type": "markdown",
   "id": "ffa279cd",
   "metadata": {},
   "source": [
    "What you see here is how the populations of the three levels for enantiomer (+) change during the interaction with the guess pulses.\n",
    "Remember: Our aim is to get all the population to state 2 and none in state 1!"
   ]
  },
  {
   "cell_type": "code",
   "execution_count": null,
   "id": "a6cbeed7",
   "metadata": {},
   "outputs": [],
   "source": [
    "plot_population_3lvl(guess_dynamics_m, title=\"Enantiomer (-)\")"
   ]
  },
  {
   "cell_type": "markdown",
   "id": "e1189b04",
   "metadata": {},
   "source": [
    "And here are the populations for enantiomer (-). As you see, the final state looks very similar to the one of enantiomer (+). There's still work to do to change this!"
   ]
  },
  {
   "cell_type": "markdown",
   "id": "81226dda",
   "metadata": {},
   "source": [
    "*Note: `plot_population_3lvl` is defined in `utils/exercise_3_chiral.py`. Use `??plot_population_3lvl` so see its source code*"
   ]
  },
  {
   "cell_type": "markdown",
   "id": "8b9c956b",
   "metadata": {},
   "source": [
    "## Problem 2: Final populations"
   ]
  },
  {
   "cell_type": "markdown",
   "id": "58c7be56",
   "metadata": {},
   "source": [
    "Try to extract the populations at final time for the (+) enantimer and the (-) enantiomer.  Make sure to use the actual value from the qutip results `guess_dynamics_m` and `guess_dynamics_p`."
   ]
  },
  {
   "cell_type": "code",
   "execution_count": null,
   "id": "c8dfa954",
   "metadata": {},
   "outputs": [],
   "source": [
    "pop1_plus = #\n",
    "pop2_plus = #\n",
    "pop3_plus = #"
   ]
  },
  {
   "cell_type": "code",
   "execution_count": null,
   "id": "f1117502",
   "metadata": {},
   "outputs": [],
   "source": [
    "pop1_minus = #\n",
    "pop2_minus = #\n",
    "pop3_minus = #"
   ]
  },
  {
   "cell_type": "code",
   "execution_count": null,
   "id": "06079703",
   "metadata": {},
   "outputs": [],
   "source": [
    "problem_2.check([[pop1_plus, pop2_plus, pop3_plus], [pop1_minus, pop2_minus, pop3_minus]])"
   ]
  },
  {
   "cell_type": "code",
   "execution_count": null,
   "id": "bfa0751c",
   "metadata": {},
   "outputs": [],
   "source": [
    "#problem_2.hint"
   ]
  },
  {
   "cell_type": "code",
   "execution_count": null,
   "id": "158b51f5",
   "metadata": {},
   "outputs": [],
   "source": [
    "#problem_2.solution"
   ]
  },
  {
   "cell_type": "markdown",
   "id": "62efd9a8",
   "metadata": {},
   "source": [
    "Next, we show how the optimization changes the pulses to reach the desired states."
   ]
  },
  {
   "cell_type": "markdown",
   "id": "5ae0ffee",
   "metadata": {},
   "source": [
    "## Optimization"
   ]
  },
  {
   "cell_type": "markdown",
   "id": "34aeccf8",
   "metadata": {},
   "source": [
    "#### Setting the pulse options"
   ]
  },
  {
   "cell_type": "markdown",
   "id": "cacaaacd",
   "metadata": {},
   "source": [
    "To initialize the optimization we need to provide some guess pulses. When we have no information over the system we can use generic Gaussian-like pulses and see how it affects the population.\n",
    "\n",
    "On top of that, we need to provide a shape that will determinate which parts of the pulse can be changed. This can ensure, for example, a smooth start and end of the pulse."
   ]
  },
  {
   "cell_type": "code",
   "execution_count": null,
   "id": "a99349dc",
   "metadata": {},
   "outputs": [],
   "source": [
    "def S(t):\n",
    "    \"\"\"Scales the Krotov methods update of the pulse value at the time t\"\"\"\n",
    "    return krotov.shapes.flattop(\n",
    "        t, t_start=0.0, t_stop=tf, t_rise=0.05*tf, func='sinsq'\n",
    "    )"
   ]
  },
  {
   "cell_type": "markdown",
   "id": "8ca6964c",
   "metadata": {},
   "source": [
    "We choose an appropriate update factor step size $\\frac{1}{\\lambda_a}$ for the problem at hand and\n",
    "make sure Krotov's algorithm considers pulses which start and end with zero amplitude."
   ]
  },
  {
   "cell_type": "code",
   "execution_count": null,
   "id": "1d7aa93a",
   "metadata": {},
   "outputs": [],
   "source": [
    "# Changing λ will directly affect how fast the pulse change.\n",
    "\n",
    "# If it is too big, the iterations will barely change any pulse.\n",
    "# If it is too small, the pulses may change abruptly.\n",
    "\n",
    "opt_lambda = 816.0\n",
    "\n",
    "# Define how the pulses are allowed to change during each iteration\n",
    "pulse_options = {\n",
    "    H_p[1][1]: dict(lambda_a=opt_lambda, update_shape=S, args={\"final_t\":tf}),\n",
    "    H_p[2][1]: dict(lambda_a=opt_lambda, update_shape=S, args={\"final_t\":tf}),\n",
    "    H_p[3][1]: dict(lambda_a=opt_lambda, update_shape=S, args={\"final_t\":tf})\n",
    "}"
   ]
  },
  {
   "cell_type": "markdown",
   "id": "3651fa54",
   "metadata": {},
   "source": [
    "#### Applying Krotov's method\n",
    "\n",
    "We now supply Krotov's algorithm with all the information it needs to optimize,\n",
    "consisting of the `objectives` (maximize population for target states at $t_{f}$),\n",
    "`pulse_options` (the initial shapes of our pulses and how they may be changed)\n",
    "as well as the `propagator` to use, optimization functional (`chi_constructor`),\n",
    "`info_hook` (processing occuring inbetween iterations of optimization) and the\n",
    "maximum number of iterations to perform, `iter_stop`.\n",
    "\n",
    "We define the variables `J_err_threshold`, `convergence_threshold` and `n_iter`.\n",
    "The optimization is stopped if either the functional falls below `J_err_threshold` or the update of the functional is smaller than `convergence_threshold`. It will also stop after (at most) `n_iter` optimization steps."
   ]
  },
  {
   "cell_type": "code",
   "execution_count": null,
   "id": "d6f2ecf1",
   "metadata": {},
   "outputs": [],
   "source": [
    "J_err_threshold = 1e-3\n",
    "convergence_threshold = 1e-5\n",
    "n_iter = 10\n",
    "\n",
    "opt_result = krotov.optimize_pulses(\n",
    "    [objective_p, objective_m],\n",
    "    pulse_options,\n",
    "    tlist,\n",
    "    propagator=krotov.propagators.expm,\n",
    "    chi_constructor=krotov.functionals.chis_ss,\n",
    "    info_hook=krotov.info_hooks.print_table(\n",
    "        J_T=krotov.functionals.J_T_ss,\n",
    "    ),\n",
    "    check_convergence=krotov.convergence.Or(\n",
    "        krotov.convergence.value_below(J_err_threshold, name='J_T'),\n",
    "        krotov.convergence.delta_below(convergence_threshold),\n",
    "        krotov.convergence.check_monotonic_error,\n",
    "    ),\n",
    "    iter_stop=n_iter\n",
    ")\n",
    "\n",
    "opt_result"
   ]
  },
  {
   "cell_type": "markdown",
   "id": "e931e4b0",
   "metadata": {},
   "source": [
    "Among all the columns of data shown during optimization the most important one is the second column, showing the functional value $J_T$ at the current iteration.\n",
    "If your optimization stops without reaching the desired value of convergence, have a look at the `ΔJ_T` column which shows just the difference in the functional between two iterations."
   ]
  },
  {
   "cell_type": "markdown",
   "id": "c9923805",
   "metadata": {},
   "source": [
    "We might have found pulse-shapes that fulfill our objective, but what do\n",
    "they look like?"
   ]
  },
  {
   "cell_type": "code",
   "execution_count": null,
   "id": "e7339a28",
   "metadata": {},
   "outputs": [],
   "source": [
    "plot_pulse(opt_result.optimized_controls[0], tlist, 'E_1', color=\"m\", guess=H_p[1][1])\n",
    "plot_pulse(opt_result.optimized_controls[1], tlist, 'E_2', color=\"c\", guess=H_p[2][1])\n",
    "plot_pulse(opt_result.optimized_controls[2], tlist, 'E_3', color=\"darkgreen\", guess=H_p[3][1])"
   ]
  },
  {
   "cell_type": "code",
   "execution_count": null,
   "id": "c7eb417a",
   "metadata": {},
   "outputs": [],
   "source": [
    "opt_result.optimized_objectives"
   ]
  },
  {
   "cell_type": "markdown",
   "id": "2dbc8ef4",
   "metadata": {},
   "source": [
    "Once we have the optimized pulses we can represent the dynamics for the initial states of our objectives."
   ]
  },
  {
   "cell_type": "code",
   "execution_count": null,
   "id": "e74850c0",
   "metadata": {
    "attributes": {
     "classes": [],
     "id": "",
     "n": "19"
    }
   },
   "outputs": [],
   "source": [
    "opt_dynamics_p = opt_result.optimized_objectives[0].mesolve(\n",
    "    tlist, e_ops=[proj1, proj2, proj3]\n",
    ")\n",
    "\n",
    "plot_population_3lvl(opt_dynamics_p, title=\"Enantiomer (+)\")"
   ]
  },
  {
   "cell_type": "code",
   "execution_count": null,
   "id": "fd25f96c",
   "metadata": {},
   "outputs": [],
   "source": [
    "opt_dynamics_m = opt_result.optimized_objectives[1].mesolve(\n",
    "    tlist, e_ops=[proj1, proj2, proj3]\n",
    ")\n",
    "\n",
    "plot_population_3lvl(opt_dynamics_m, title=\"Enantiomer (-)\")"
   ]
  },
  {
   "cell_type": "markdown",
   "id": "03329b71",
   "metadata": {},
   "source": [
    "The optimization seems to not quite match our expectations yet. Try to adjust the parameters to improve the convergence.\n",
    "\n",
    "Remember: For enantiomer (+), only level 2 should populated and for enantiomer (-) only level 3."
   ]
  },
  {
   "cell_type": "markdown",
   "id": "9e58edea",
   "metadata": {},
   "source": [
    "## Problem 3: Refining λₐ"
   ]
  },
  {
   "cell_type": "markdown",
   "id": "f8bcf6dd",
   "metadata": {},
   "source": [
    "Try to adjust the $\\lambda_a$ parameter such that you obtain a good result ($J_T < 10^{-3}$) in less than 5 optimization steps."
   ]
  },
  {
   "cell_type": "code",
   "execution_count": null,
   "id": "b2fb8c31",
   "metadata": {},
   "outputs": [],
   "source": [
    "#problem_3.hint"
   ]
  },
  {
   "cell_type": "code",
   "execution_count": null,
   "id": "ca353478",
   "metadata": {
    "lines_to_next_cell": 2
   },
   "outputs": [],
   "source": [
    "#problem_3.solution"
   ]
  },
  {
   "cell_type": "markdown",
   "id": "89509386",
   "metadata": {},
   "source": [
    "## Next steps"
   ]
  },
  {
   "cell_type": "markdown",
   "id": "5837fb3d",
   "metadata": {},
   "source": [
    "If you are also interested in gate optimization for quantum information applications, \n",
    "we invite you to have a look at [Exercise III.4](py_exercise_3_4_gate.ipynb).\n",
    "\n",
    "Alternatively, you may continue with [further examples from the documentation of the\n",
    "`krotov` package](https://qucontrol.github.io/krotov/v1.2.1/09_examples.html)\n",
    "which are beyond the scope of this tutorial. These include many interesting setups, e.g., the\n",
    "optimization of quantum gates in open quantum systems."
   ]
  },
  {
   "cell_type": "markdown",
   "id": "495c2bfa",
   "metadata": {},
   "source": [
    "<!-- Autofooter begin -->\n",
    "\n",
    "---\n",
    "\n",
    "[⬆︎ jump to top](#navtitle_3_3_py)\n",
    "<!-- Autofooter end -->"
   ]
  }
 ],
 "metadata": {
  "kernelspec": {
   "display_name": "Python (local .venv)",
   "language": "python",
   "name": "python-localvenv"
  },
  "language_info": {
   "codemirror_mode": {
    "name": "ipython",
    "version": 3
   },
   "file_extension": ".py",
   "mimetype": "text/x-python",
   "name": "python",
   "nbconvert_exporter": "python",
   "pygments_lexer": "ipython3",
   "version": "3.9.2"
  }
 },
 "nbformat": 4,
 "nbformat_minor": 5
}
