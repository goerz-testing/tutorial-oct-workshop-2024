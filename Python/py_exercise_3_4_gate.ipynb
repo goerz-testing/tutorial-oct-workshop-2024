{
 "cells": [
  {
   "cell_type": "markdown",
   "id": "21742c06",
   "metadata": {},
   "source": [
    "<!-- Autoheader begin -->\n",
    "<hr/>\n",
    "<div id=\"navtitle_3_4_py\" style=\"text-align:center; font-size:16px\">III.4 Entangling Quantum Gates for Coupled Transmon Qubits</div>\n",
    "<hr/>\n",
    "<table style=\"width: 100%\">\n",
    "  <tr>\n",
    "    <th rowspan=\"2\" style=\"width:33%; text-align:center; font-size:16px\">\n",
    "        <a href=\"py_exercise_3_3_chiral.ipynb\">$\\leftarrow$ previous notebook </a><br>\n",
    "        <a href=\"py_exercise_3_3_chiral.ipynb\" style=\"font-size:13px\">III.3 Using Krotov's method to separate chiral molecules</a>\n",
    "    </th>\n",
    "    <td style=\"width:33%; text-align:center; font-size:16px\">\n",
    "        <a href=\"py_exercise_3_1_TLS.ipynb\">$\\uparrow$ previous part $\\uparrow$</a><br>\n",
    "        <a href=\"py_exercise_3_1_TLS.ipynb\" style=\"font-size:13px\">III.1 Population Inversion in a Two-Level-System using Krotov's Method</a>\n",
    "    </td>\n",
    "    <th rowspan=\"2\" style=\"width:33%; text-align:center; font-size:16px\">\n",
    "    </th>\n",
    "  </tr>\n",
    "  <tr style=\"width: 100%\">\n",
    "    <td style=\"width:33%; text-align:center; font-size:16px\">\n",
    "    </td>\n",
    "  </tr>\n",
    "</table>\n",
    "\n",
    "<div style=\"text-align: right;font-size: 16px\"><a href=\"../Julia/jl_exercise_3_4_gate.ipynb\">👉 Julia version</a></div>\n",
    "\n",
    "---\n",
    "<!-- Autoheader end -->"
   ]
  },
  {
   "cell_type": "markdown",
   "id": "9558f400",
   "metadata": {},
   "source": [
    "# Entangling Quantum Gates for Coupled Transmon Qubits"
   ]
  },
  {
   "cell_type": "markdown",
   "id": "a09810bb",
   "metadata": {},
   "source": [
    "$\n",
    "\\newcommand{tr}[0]{\\operatorname{tr}}\n",
    "\\newcommand{diag}[0]{\\operatorname{diag}}\n",
    "\\newcommand{abs}[0]{\\operatorname{abs}}\n",
    "\\newcommand{pop}[0]{\\operatorname{pop}}\n",
    "\\newcommand{aux}[0]{\\text{aux}}\n",
    "\\newcommand{opt}[0]{\\text{opt}}\n",
    "\\newcommand{tgt}[0]{\\text{tgt}}\n",
    "\\newcommand{init}[0]{\\text{init}}\n",
    "\\newcommand{lab}[0]{\\text{lab}}\n",
    "\\newcommand{rwa}[0]{\\text{rwa}}\n",
    "\\newcommand{bra}[1]{\\langle#1\\vert}\n",
    "\\newcommand{ket}[1]{\\vert#1\\rangle}\n",
    "\\newcommand{braket}[1]{\\langle#1\\rangle}\n",
    "\\newcommand{Bra}[1]{\\left\\langle#1\\right\\vert}\n",
    "\\newcommand{Ket}[1]{\\left\\vert#1\\right\\rangle}\n",
    "\\newcommand{Braket}[2]{\\left\\langle #1\\vphantom{#2}\\mid{#2}\\vphantom{#1}\\right\\rangle}\n",
    "\\newcommand{op}[1]{\\hat{#1}}\n",
    "\\newcommand{Op}[1]{\\hat{#1}}\n",
    "\\newcommand{dd}[0]{\\,\\text{d}}\n",
    "\\newcommand{Liouville}[0]{\\mathcal{L}}\n",
    "\\newcommand{DynMap}[0]{\\mathcal{E}}\n",
    "\\newcommand{identity}[0]{\\mathbf{1}}\n",
    "\\newcommand{Norm}[1]{\\lVert#1\\rVert}\n",
    "\\newcommand{Abs}[1]{\\left\\vert#1\\right\\vert}\n",
    "\\newcommand{avg}[1]{\\langle#1\\rangle}\n",
    "\\newcommand{Avg}[1]{\\left\\langle#1\\right\\rangle}\n",
    "\\newcommand{AbsSq}[1]{\\left\\vert#1\\right\\vert^2}\n",
    "\\newcommand{Re}[0]{\\operatorname{Re}}\n",
    "\\newcommand{Im}[0]{\\operatorname{Im}}\n",
    "$\n",
    "\n",
    "In this notebook, we will use the `krotov` package for an optimization towards a perfectly entangling two-qubit gate in a simplified model of two transmon qubits with a shared transmission line. We first consider the direction optimization for a $\\Op{O} = \\sqrt{\\text{iSWAP}}$ gate with a standard square-modulus functional. Then, we perform anoptimization towards a general perfect entangler using the functional demonstrated in [Watts *et al.*, Phys. Rev. A 91, 062306 (2015)](https://michaelgoerz.net/#WattsPRA2015) and [Goerz *et al.*, Phys. Rev. A 91, 062307 (2015)](https://michaelgoerz.net/#GoerzPRA2015)\n",
    "\n",
    "This notebook builds upon the simpler applications of Krotov's method in [Exercise III.2](py_exercise_3_2_lambda.ipynb) and [Exercise III.3](py_exercise_3_3_chiral.ipynb). In those examples, the optimization had to consider only the time evolution of a single quantum state. In contrast, for the optimization of a quantum gate, the optimization functional needs to account for the evolution of multiple states simultaneously (specifically, the logical two-qubit basis states $\\ket{00}$, $\\ket{01}$, $\\ket{10}$, $\\ket{11}$). You will learn in this exercise how to work with this more involved functionals, and how the functional and the dynamics affect the optimization in Krotov's method.\n",
    "\n",
    "This notebook serves as a nice illustration of using optimal control in a quantum information context, extending the simpler optimizations discussed previously for a two-level-system (i.e. a qubit) in [Exercise II.1](py_exercise_2_1_TLS.ipynb) and [Exercise III.1](py_exercise_3_1_TLS.ipynb).\n"
   ]
  },
  {
   "cell_type": "markdown",
   "id": "7102d206",
   "metadata": {},
   "source": [
    "##  Setup"
   ]
  },
  {
   "cell_type": "markdown",
   "id": "9161cd0c",
   "metadata": {},
   "source": [
    "First, we have to load the `krotov` package an other basic numerical tools, including the `qutip` packaged used to describe quantum objects."
   ]
  },
  {
   "cell_type": "code",
   "execution_count": null,
   "id": "65523f27",
   "metadata": {
    "attributes": {
     "classes": [],
     "id": "",
     "n": "1"
    }
   },
   "outputs": [],
   "source": [
    "import krotov\n",
    "import qutip\n",
    "import numpy as np\n",
    "import scipy"
   ]
  },
  {
   "cell_type": "markdown",
   "id": "0642bd05",
   "metadata": {},
   "source": [
    "For visualization, we will use the `matplotlib` package"
   ]
  },
  {
   "cell_type": "code",
   "execution_count": null,
   "id": "7f5407a6",
   "metadata": {},
   "outputs": [],
   "source": [
    "import matplotlib\n",
    "import matplotlib.pylab as plt"
   ]
  },
  {
   "cell_type": "code",
   "execution_count": null,
   "id": "032ebe25",
   "metadata": {},
   "outputs": [],
   "source": [
    "# Some utilities for showing hints and solutions\n",
    "from utils.exercise_3_gate import *"
   ]
  },
  {
   "cell_type": "markdown",
   "id": "b9491803",
   "metadata": {},
   "source": [
    "## Model"
   ]
  },
  {
   "cell_type": "markdown",
   "id": "344aa369",
   "metadata": {},
   "source": [
    "We consider a generic two-qubit Hamiltonian (motivated from the example of two\n",
    "superconducting transmon qubits, truncated to the logical subspace),\n",
    "\n",
    "$$\n",
    "\\begin{equation}\n",
    "  \\op{H}(t)\n",
    "    = - \\frac{\\omega_1}{2} \\op{\\sigma}_{z}^{(1)}\n",
    "      - \\frac{\\omega_2}{2} \\op{\\sigma}_{z}^{(2)}\n",
    "      + 2 J \\left(\n",
    "            \\op{\\sigma}_{x}^{(1)} \\op{\\sigma}_{x}^{(2)}\n",
    "            + \\op{\\sigma}_{y}^{(1)} \\op{\\sigma}_{y}^{(2)}\n",
    "        \\right)\n",
    "      + u(t) \\left(\n",
    "            \\op{\\sigma}_{x}^{(1)} + \\lambda \\op{\\sigma}_{x}^{(2)}\n",
    "        \\right),\n",
    "\\end{equation}\n",
    "$$\n",
    "\n",
    "where $\\omega_1$ and $\\omega_2$ are the energy level splitting of the\n",
    "respective qubit, $J$ is the effective coupling strength and $u(t)$ is the\n",
    "control field. $\\lambda$ defines the strength of the qubit-control coupling for\n",
    "qubit 2, relative to qubit 1.\n",
    "\n",
    "We use the following parameters:"
   ]
  },
  {
   "cell_type": "code",
   "execution_count": null,
   "id": "501b8a0d",
   "metadata": {},
   "outputs": [],
   "source": [
    "w1 = 1.1  # qubit 1 level splitting\n",
    "w2 = 2.1  # qubit 2 level splitting\n",
    "J = 0.2  # effective qubit coupling\n",
    "u0 = 0.3  # initial driving strength\n",
    "la = 1.1  # relative pulse coupling strength of second qubit\n",
    "T = 25.0  # final time\n",
    "nt = 250  # number of time steps\n",
    "\n",
    "tlist = np.linspace(0, T, nt)"
   ]
  },
  {
   "cell_type": "markdown",
   "id": "db33b956",
   "metadata": {},
   "source": [
    "These values are for illustrative purposes only, and do not correspond to any\n",
    "particular implementation of the superconducting architecture."
   ]
  },
  {
   "cell_type": "code",
   "execution_count": null,
   "id": "57543494",
   "metadata": {},
   "outputs": [],
   "source": [
    "def hamiltonian(Ω, w1=w1, w2=w2, J=J, la=la, u0=u0):\n",
    "    \"\"\"Two qubit Hamiltonian\n",
    "\n",
    "    Args:\n",
    "        w1 (float): energy separation of the first qubit levels\n",
    "        w2 (float): energy separation of the second qubit levels\n",
    "        J (float): effective coupling between both qubits\n",
    "        la (float): factor that pulse coupling strength differs for second qubit\n",
    "        u0 (float): constant amplitude of the driving field\n",
    "    \"\"\"\n",
    "    # local qubit Hamiltonians\n",
    "    Hq1 = 0.5 * w1 * np.diag([-1, 1])\n",
    "    Hq2 = 0.5 * w2 * np.diag([-1, 1])\n",
    "\n",
    "    # lift Hamiltonians to joint system operators\n",
    "    H0 = np.kron(Hq1, np.identity(2)) + np.kron(np.identity(2), Hq2)\n",
    "\n",
    "    # define the interaction Hamiltonian\n",
    "    sig_x = np.array([[0, 1], [1, 0]])\n",
    "    sig_y = np.array([[0, -1j], [1j, 0]])\n",
    "    Hint = 2 * J * (np.kron(sig_x, sig_x) + np.kron(sig_y, sig_y))\n",
    "    H0 = H0 + Hint\n",
    "\n",
    "    # define the drive Hamiltonian\n",
    "    H1 = np.kron(np.array([[0, 1], [1, 0]]), np.identity(2)) + la * np.kron(\n",
    "        np.identity(2), np.array([[0, 1], [1, 0]])\n",
    "    )\n",
    "\n",
    "    # convert Hamiltonians to QuTiP objects\n",
    "    H0 = qutip.Qobj(H0)\n",
    "    H1 = qutip.Qobj(H1)\n",
    "\n",
    "    return [H0, [H1, Ω]]"
   ]
  },
  {
   "cell_type": "markdown",
   "id": "f83b6bf2",
   "metadata": {},
   "source": [
    "The initial guess is defined as"
   ]
  },
  {
   "cell_type": "code",
   "execution_count": null,
   "id": "347a1f9a",
   "metadata": {},
   "outputs": [],
   "source": [
    "def eps0(t, args):\n",
    "    return u0 * krotov.shapes.flattop(\n",
    "        t, t_start=0, t_stop=T, t_rise=(T / 20), t_fall=(T / 20), func='sinsq'\n",
    "    )"
   ]
  },
  {
   "cell_type": "code",
   "execution_count": null,
   "id": "716936e5",
   "metadata": {
    "attributes": {
     "classes": [],
     "id": "",
     "n": "10"
    },
    "lines_to_next_cell": 2
   },
   "outputs": [],
   "source": [
    "def plot_pulse(pulse, tlist):\n",
    "    fig, ax = plt.subplots()\n",
    "    if callable(pulse):\n",
    "        pulse = np.array([pulse(t, args=None) for t in tlist])\n",
    "    ax.plot(tlist, pulse)\n",
    "    ax.set_xlabel('time')\n",
    "    ax.set_ylabel('pulse amplitude')\n",
    "    plt.show(fig)"
   ]
  },
  {
   "cell_type": "code",
   "execution_count": null,
   "id": "af39bf49",
   "metadata": {},
   "outputs": [],
   "source": [
    "plot_pulse(eps0, tlist)"
   ]
  },
  {
   "cell_type": "markdown",
   "id": "4c21fce7",
   "metadata": {},
   "source": [
    "Finally, we connect the Hamiltonian with this guess pulse."
   ]
  },
  {
   "cell_type": "code",
   "execution_count": null,
   "id": "e41ca48c",
   "metadata": {},
   "outputs": [],
   "source": [
    "H = hamiltonian(eps0, w1=w1, w2=w2, J=J, la=la, u0=u0)"
   ]
  },
  {
   "cell_type": "markdown",
   "id": "e3df0964",
   "metadata": {},
   "source": [
    "## Logical basis for two-qubit gates"
   ]
  },
  {
   "cell_type": "markdown",
   "id": "432ee444",
   "metadata": {},
   "source": [
    "For simplicity, we define the qubits in the *bare* basis, i.e.\n",
    "ignoring the static coupling $J$."
   ]
  },
  {
   "cell_type": "code",
   "execution_count": null,
   "id": "ef339013",
   "metadata": {},
   "outputs": [],
   "source": [
    "psi_00 = qutip.Qobj(np.kron(np.array([1, 0]), np.array([1, 0])))\n",
    "psi_01 = qutip.Qobj(np.kron(np.array([1, 0]), np.array([0, 1])))\n",
    "psi_10 = qutip.Qobj(np.kron(np.array([0, 1]), np.array([1, 0])))\n",
    "psi_11 = qutip.Qobj(np.kron(np.array([0, 1]), np.array([0, 1])))\n",
    "\n",
    "basis = [psi_00, psi_01, psi_10, psi_11]"
   ]
  },
  {
   "cell_type": "markdown",
   "id": "1a678243",
   "metadata": {},
   "source": [
    "## Optimizing for a specific quantum gate"
   ]
  },
  {
   "cell_type": "markdown",
   "id": "e88f61d0",
   "metadata": {},
   "source": [
    "Our target gate is $\\Op{O} = \\sqrt{\\text{iSWAP}}$:"
   ]
  },
  {
   "cell_type": "code",
   "execution_count": null,
   "id": "e11089dc",
   "metadata": {},
   "outputs": [],
   "source": [
    "SQRTISWAP = qutip.qip.operations.sqrtiswap()\n",
    "SQRTISWAP"
   ]
  },
  {
   "cell_type": "markdown",
   "id": "43df0723",
   "metadata": {},
   "source": [
    "The `krotov` package provides a function `get_objectives` which initializes the \"objectives\" containing the basis states and the target gate."
   ]
  },
  {
   "cell_type": "code",
   "execution_count": null,
   "id": "daf4f4fe",
   "metadata": {},
   "outputs": [],
   "source": [
    "objectives = krotov.gate_objectives(\n",
    "    basis_states=[psi_00, psi_01, psi_10, psi_11], gate=SQRTISWAP, H=H\n",
    ")\n",
    "objectives"
   ]
  },
  {
   "cell_type": "markdown",
   "id": "31fbdd22",
   "metadata": {},
   "source": [
    "This is one objective per basis function, with the basis state as the `initial_state` and a `target` state that is the gate applied that basis state. We can verify this for the second objective:"
   ]
  },
  {
   "cell_type": "code",
   "execution_count": null,
   "id": "7105931f",
   "metadata": {},
   "outputs": [],
   "source": [
    "objectives[1].initial_state"
   ]
  },
  {
   "cell_type": "code",
   "execution_count": null,
   "id": "08587470",
   "metadata": {},
   "outputs": [],
   "source": [
    "objectives[1].target"
   ]
  },
  {
   "cell_type": "markdown",
   "id": "41386de3",
   "metadata": {},
   "source": [
    "Because *any* state can be expanded in the basis, finding a control field so that the `initial_state` evolves to the `target` for all of the four objectives guarantees that we have successfully implemented the quantum gate."
   ]
  },
  {
   "cell_type": "markdown",
   "id": "177faf4d",
   "metadata": {},
   "source": [
    "We can analyze how all of the basis states evolve under the guess controls:"
   ]
  },
  {
   "cell_type": "code",
   "execution_count": null,
   "id": "3ec49bff",
   "metadata": {},
   "outputs": [],
   "source": [
    "guess_states = [objectives[i].mesolve(tlist).states[-1] for i in range(4)]"
   ]
  },
  {
   "cell_type": "markdown",
   "id": "e33f9337",
   "metadata": {},
   "source": [
    "The gate implemented by the guess controls can be found as follows"
   ]
  },
  {
   "cell_type": "code",
   "execution_count": null,
   "id": "8c812d7e",
   "metadata": {},
   "outputs": [],
   "source": [
    "U_guess = qutip.Qobj(\n",
    "    [[basis[i].overlap(guess_states[j]) for i in range(4)] for j in range(4)],\n",
    "    dims = [[2, 2], [2, 2]]\n",
    ")"
   ]
  },
  {
   "cell_type": "markdown",
   "id": "ce3dfe68",
   "metadata": {},
   "source": [
    "We will optimize these trajectories with a square-modulus functional"
   ]
  },
  {
   "cell_type": "markdown",
   "id": "5525800e",
   "metadata": {},
   "source": [
    "$$\n",
    "J_{T,sm}\n",
    "= 1 - \\Bigg\\vert\\frac{1}{4}\\sum_{k=1}^{4} \\underbrace{\\langle \\Psi_k(T) | \\Psi_k^{\\text{tgt}}\\rangle}_{\\equiv \\tau_k}\\Bigg\\vert^2\n",
    "= 1 - \\frac{1}{16} \\sum_{k,l=1}^{4} \\underbrace{\\langle \\Psi_l^{\\text{tgt}} | \\Psi_l(T) \\rangle}_{\\equiv\\tau_l^*} \\; \\underbrace{\\langle \\Psi_k(T) | \\Psi_k^{\\text{tgt}}\\rangle}_{\\equiv \\tau_k}\n",
    "$$\n",
    "\n",
    "where $\\ket{\\Psi_k(T)}$ is the result of forward-propagation the basis state $\\ket{\\phi_k}$ (where $\\ket{\\phi_1} = \\ket{00}$, $\\ket{\\phi_2} = \\ket{01}$, etc.)"
   ]
  },
  {
   "cell_type": "code",
   "execution_count": null,
   "id": "a93dec47",
   "metadata": {},
   "outputs": [],
   "source": [
    "from krotov.functionals import J_T_sm"
   ]
  },
  {
   "cell_type": "markdown",
   "id": "799f3f73",
   "metadata": {},
   "source": [
    "The initial value of the functional is"
   ]
  },
  {
   "cell_type": "code",
   "execution_count": null,
   "id": "a6699988",
   "metadata": {},
   "outputs": [],
   "source": [
    "J_T_sm(guess_states, objectives)"
   ]
  },
  {
   "cell_type": "markdown",
   "id": "18b0e3ff",
   "metadata": {},
   "source": [
    "which is the gate error"
   ]
  },
  {
   "cell_type": "code",
   "execution_count": null,
   "id": "e1127e8c",
   "metadata": {},
   "outputs": [],
   "source": [
    "1 - abs((U_guess.dag() * SQRTISWAP).tr() / 4)**2"
   ]
  },
  {
   "cell_type": "markdown",
   "id": "6c89f019",
   "metadata": {},
   "source": [
    "An illustration on the way the pulse update is computed in Krotov's method can be found in part (b) of the figure below."
   ]
  },
  {
   "cell_type": "markdown",
   "id": "d93f7ee5",
   "metadata": {},
   "source": [
    "<img src=\"../figures/schemes.svg\" alt=\"Schemes\" style=\"width: 1200px;\"/>"
   ]
  },
  {
   "cell_type": "markdown",
   "id": "ff7cade8",
   "metadata": {},
   "source": [
    "The figure is taken from from the paper [Goerz *et al.*, Quantum 6, 871 (2022)](https://quantum-journal.org/papers/q-2022-12-07-871/), where more details can be found.\n",
    "\n",
    "An essential feature of the schemes for Krotov's method is that it involves the\n",
    "backward propagation of a set of states $\\ket{\\chi_k}$ with the boundary condition\n",
    "\n",
    "$$\n",
    "\\ket{\\chi_k(T)} = - \\frac{\\partial J_T}{\\partial \\bra{\\Psi_k(T)}}\n",
    "$$\n",
    "\n",
    "The same backward propagation with the same boundary condition can also be used in GRAPE, although we will not explore the use of GRAPE further in this example."
   ]
  },
  {
   "cell_type": "markdown",
   "id": "84f256e4",
   "metadata": {},
   "source": [
    "### Problem 1: boundary condition for the backward propagation"
   ]
  },
  {
   "cell_type": "markdown",
   "id": "5838863c",
   "metadata": {},
   "source": [
    "In the `krotov` package, a function that provides the $\\ket{\\chi_k(T)}$ states must be passed to the `krotov.optimize_pulses` function as `chi_constructor`. This is how the functional enters the equations for the iterative optimization in Krotov's algorithm!\n",
    "\n",
    "For the $J_{T,sm}$ as defined above, you will find that that $\\ket{\\chi_k(T)}$ are proportional to the target states $\\ket{\\Psi_k^{\\text{tgt}}}$. Calculate with pen and paper the derivative $-\\partial J_T / \\partial \\bra{\\Psi_k(T)}$ and fill in the proportionality factor $\\alpha$ below."
   ]
  },
  {
   "cell_type": "code",
   "execution_count": null,
   "id": "5505026a",
   "metadata": {},
   "outputs": [],
   "source": [
    "def chi_constructor(fw_states_T, objectives, **kwargs):\n",
    "    τ = np.array([fw_states_T[k].overlap(objectives[k].target) for k in range(4)])\n",
    "    α = # fill in the proportionality factor\n",
    "    chi_states = []\n",
    "    for k in range(4):\n",
    "        chi_states.append(\n",
    "            α * objectives[k].target\n",
    "        )\n",
    "    return chi_states"
   ]
  },
  {
   "cell_type": "code",
   "execution_count": null,
   "id": "0e55d7a7",
   "metadata": {},
   "outputs": [],
   "source": [
    "# problem_1.hint"
   ]
  },
  {
   "cell_type": "code",
   "execution_count": null,
   "id": "dd30477a",
   "metadata": {},
   "outputs": [],
   "source": [
    "# problem_1.solution"
   ]
  },
  {
   "cell_type": "markdown",
   "id": "e04f6eb7",
   "metadata": {},
   "source": [
    "Now, we collect the full optimization problem containing the list of trajectories, the optimization functional and the definition of `chi_constructor`. We also need some Krotov-specific `pulse_options`, which include the step width `lambda_a` and an update shape that scales the pulse update at each point in time and can be used to ensure the boundary condition that the field has to smoothly switch on from zero at the beginning and smoothly switch off to zero again at the end:"
   ]
  },
  {
   "cell_type": "code",
   "execution_count": null,
   "id": "6e976eae",
   "metadata": {},
   "outputs": [],
   "source": [
    "def S(t):\n",
    "    \"\"\"Shape function for the field update\"\"\"\n",
    "    return krotov.shapes.flattop(\n",
    "        t, t_start=0, t_stop=T, t_rise=T / 20, t_fall=T / 20, func='sinsq'\n",
    "    )"
   ]
  },
  {
   "cell_type": "code",
   "execution_count": null,
   "id": "59522b2b",
   "metadata": {},
   "outputs": [],
   "source": [
    "pulse_options = {H[1][1]: dict(lambda_a=1.0, update_shape=S)}"
   ]
  },
  {
   "cell_type": "code",
   "execution_count": null,
   "id": "aa1878f5",
   "metadata": {},
   "outputs": [],
   "source": [
    "opt_result = krotov.optimize_pulses(\n",
    "    objectives,\n",
    "    pulse_options=pulse_options,\n",
    "    tlist=tlist,\n",
    "    propagator=krotov.propagators.expm,\n",
    "    chi_constructor=chi_constructor,\n",
    "    info_hook=krotov.info_hooks.print_table(\n",
    "        J_T=krotov.functionals.J_T_sm,\n",
    "        show_g_a_int_per_pulse=False,\n",
    "        unicode=False,\n",
    "    ),\n",
    "    check_convergence=krotov.convergence.Or(\n",
    "        krotov.convergence.value_below(1e-2, name=\"J_T\"),\n",
    "        krotov.convergence.check_monotonic_error,\n",
    "    ),\n",
    "    iter_stop=100,\n",
    ")\n",
    "opt_result"
   ]
  },
  {
   "cell_type": "markdown",
   "id": "846c0dc1",
   "metadata": {},
   "source": [
    "Take a look at what happens if the `chi_constructor` function is implemented incorrectly. For example, use `τ` instead of `τ.conjugate()`, or try to use the wrong sign."
   ]
  },
  {
   "cell_type": "markdown",
   "id": "0d315e5d",
   "metadata": {},
   "source": [
    "We can plot the resulting control field:"
   ]
  },
  {
   "cell_type": "code",
   "execution_count": null,
   "id": "dbb21927",
   "metadata": {},
   "outputs": [],
   "source": [
    "plot_pulse(opt_result.optimized_controls[0], tlist)"
   ]
  },
  {
   "cell_type": "markdown",
   "id": "da99d78f",
   "metadata": {},
   "source": [
    "Would you consider this a good solution? Investigate how changing `lambda_a` influences the features of the optimized control field. You may want to limit the number of iterations in order to gain some quick intuition without having to spend a lot of time waiting for `optimize_pulses` obtain full convergence."
   ]
  },
  {
   "cell_type": "markdown",
   "id": "660f2df0",
   "metadata": {},
   "source": [
    "## Maximization of the gate concurrence"
   ]
  },
  {
   "cell_type": "markdown",
   "id": "1ac7363d",
   "metadata": {},
   "source": [
    "Building a quantum computer requires a \"universal gate\" set. Traditionally, this set consists of a specific two-qubit gate (often CNOT), and all single-qubit gates (under the assumption that single-qubit gates are \"easy\" to realize). However the universal set does not need to contain CNOT (or some other gate) *specifically*. What matters for universal quantum computing is the ability to create entanglement.\n",
    "\n",
    "To any two-qubit gate (any 4 × 4 unitary) a so-called \"gate concurrence\" can be computed, which is the maximum entanglement (i.e. concurrence) of a state that can be obtained by applying the gate to some separable input state. A `concurrence` function is implemented in the `weylchamber` package – the Weyl chamber is a mathematical structure which describes and classifies two-qubit gates in terms of entangling power and equivalence with respect to single-qubit operations. You can find an illustration of the Weyl chamber below."
   ]
  },
  {
   "cell_type": "markdown",
   "id": "17325df8",
   "metadata": {},
   "source": [
    "<img src=\"../figures/weylchamber.svg\" alt=\"Weyl chamber\" style=\"width: 800px;\"/>"
   ]
  },
  {
   "cell_type": "code",
   "execution_count": null,
   "id": "9e6fee60",
   "metadata": {},
   "outputs": [],
   "source": [
    "import weylchamber"
   ]
  },
  {
   "cell_type": "markdown",
   "id": "39968d3b",
   "metadata": {},
   "source": [
    "The gate concurrence is defined in terms of the \"Weyl Chamber coordinates\" $c_1$, $c_2$, $c_3$ that are the axes in the diagram."
   ]
  },
  {
   "cell_type": "markdown",
   "id": "386d8c3b",
   "metadata": {},
   "source": [
    "Most of the \"standard\" two-qubit gates like $\\sqrt{\\text{iSWAP}}$ and CNOT (points Q and L, respectively, in the diagram) are \"perfect entanglers\":"
   ]
  },
  {
   "cell_type": "code",
   "execution_count": null,
   "id": "e1690b9a",
   "metadata": {},
   "outputs": [],
   "source": [
    "weylchamber.concurrence(*weylchamber.c1c2c3(SQRTISWAP))"
   ]
  },
  {
   "cell_type": "markdown",
   "id": "ec2d803d",
   "metadata": {},
   "source": [
    "(Note: Please ignore any `RuntimeWarning` you might see the first time you run this function.)"
   ]
  },
  {
   "cell_type": "code",
   "execution_count": null,
   "id": "068b2683",
   "metadata": {},
   "outputs": [],
   "source": [
    "weylchamber.concurrence(*weylchamber.c1c2c3(qutip.qip.operations.cnot()))"
   ]
  },
  {
   "cell_type": "markdown",
   "id": "5da09e69",
   "metadata": {},
   "source": [
    "The gate concurrence of the identity or any other random $SU(2) \\times SU(2)$ matrix (corresponding to single-qubit gates) is zero:"
   ]
  },
  {
   "cell_type": "code",
   "execution_count": null,
   "id": "1a891d89",
   "metadata": {},
   "outputs": [],
   "source": [
    "weylchamber.concurrence(*weylchamber.c1c2c3(np.eye(4)))"
   ]
  },
  {
   "cell_type": "code",
   "execution_count": null,
   "id": "ec5fea4d",
   "metadata": {},
   "outputs": [],
   "source": [
    "def random_unitary(N):\n",
    "    H = np.random.rand(N, N)\n",
    "    return scipy.linalg.expm(1j * (H + H.conjugate().transpose()))\n",
    "\n",
    "U = qutip.tensor(qutip.Qobj(random_unitary(2)), qutip.Qobj(random_unitary(2)))\n",
    "weylchamber.concurrence(*weylchamber.c1c2c3(U))"
   ]
  },
  {
   "cell_type": "markdown",
   "id": "4326e9f9",
   "metadata": {},
   "source": [
    "In general, the gate concurrence of a random $4 \\times 4$ unitary is a number between 0 and 1; heavily skewing towards 1. Interestingly, the majority of $4 \\times 4$ unitaries are perfect entanglers!"
   ]
  },
  {
   "cell_type": "code",
   "execution_count": null,
   "id": "c73ebb83",
   "metadata": {},
   "outputs": [],
   "source": [
    "for _ in range(10):\n",
    "    print(weylchamber.concurrence(*weylchamber.c1c2c3(random_unitary(4))))"
   ]
  },
  {
   "cell_type": "markdown",
   "id": "42535ae4",
   "metadata": {},
   "source": [
    "This fact makes the gate concurrence an attractive optimization target: by optimizing the entangling power of the two-qubit gate without targeting a *specific* gate, we may identify the perfect entangler that is \"easiest\" to achieve with the given Hamiltonian."
   ]
  },
  {
   "cell_type": "markdown",
   "id": "313018fe",
   "metadata": {},
   "source": [
    "We can also check that the guess pulse indeed does not yet implement a perfect entangler. So let's get to work!"
   ]
  },
  {
   "cell_type": "code",
   "execution_count": null,
   "id": "6ef5e2f2",
   "metadata": {},
   "outputs": [],
   "source": [
    "weylchamber.concurrence(*weylchamber.c1c2c3(U_guess))"
   ]
  },
  {
   "cell_type": "markdown",
   "id": "dd1f385b",
   "metadata": {},
   "source": [
    "### Problem 2: Boundary condition (χ-states) for concurrence optimization"
   ]
  },
  {
   "cell_type": "markdown",
   "id": "566a3951",
   "metadata": {},
   "source": [
    "If we want to optimize the gate concurrence with Krotov's method, we would have to work out the boundary condition for the backward propagation, $\\ket{\\chi_k(T)} = -\\partial J_T / \\partial \\bra{\\Psi_k(T)}$.\n",
    "\n",
    "One issue is that that `c1c2c3` function takes a $4 \\times 4$ matrix `U` as an arguments, whereas the `chi_constructor` must be defined in terms of `fw_states_T`. Luckily, this issue is rather straightforward to solve. The conversion is simply given by\n",
    "\n",
    "$$\n",
    "\\ket{\\Psi_k(T)} = \\Op{U} \\ket{\\phi_k}\n",
    "\\quad \\Leftrightarrow \\quad\n",
    "U_{ij} = \\braket{\\phi_i|\\Op{U}|\\phi_j} = \\braket{\\phi_i | \\Psi_j(T)}\\,,\n",
    "$$\n",
    "\n",
    "where the $\\ket{\\phi_k}$ are the logical basis states and $\\ket{\\Psi_j(T)}$ are the states in `fw_states_T`.\n",
    "\n",
    "Beyond that, we would have to look at how the gate concurrence is calculated, either by looking at the original literature, [Kraus, Cirac. Phys. Rev. A 63, 062309 (2001)](https://arxiv.org/abs/quant-ph/0011050) and [Childs *et al.* Phys. Rev. A 68, 052311 (2003)](https://arxiv.org/abs/quant-ph/0307190). Alternatively, you may directly look at the code for the functions `c1c2c3` and `concurrence`:"
   ]
  },
  {
   "cell_type": "code",
   "execution_count": null,
   "id": "ae21db91",
   "metadata": {},
   "outputs": [],
   "source": [
    "??weylchamber.c1c2c3"
   ]
  },
  {
   "cell_type": "code",
   "execution_count": null,
   "id": "2436f975",
   "metadata": {},
   "outputs": [],
   "source": [
    "??weylchamber.concurrence"
   ]
  },
  {
   "cell_type": "markdown",
   "id": "d6516666",
   "metadata": {},
   "source": [
    "Explain with these code snippets why it would be difficult to calculate the derivative $\\frac{\\partial J_T}{\\partial \\bra{\\Psi_k(T)}}$."
   ]
  },
  {
   "cell_type": "code",
   "execution_count": null,
   "id": "0f3db652",
   "metadata": {},
   "outputs": [],
   "source": [
    "# problem_2.hint"
   ]
  },
  {
   "cell_type": "code",
   "execution_count": null,
   "id": "d0dc5d16",
   "metadata": {},
   "outputs": [],
   "source": [
    "# problem_2.solution"
   ]
  },
  {
   "cell_type": "markdown",
   "id": "52f28724",
   "metadata": {},
   "source": [
    "Since we cannot optimize the gate concurrence directly, we will have to find an alternative approach. The use of an alternative functional was demonstrated in\n",
    "[Watts *et. al*, Phys. Rev. A 91, 062306 (2015)](https://michaelgoerz.net/#WattsPRA2015) and [Goerz *et al.*, Phys. Rev. A 91, 062307 (2015)](https://michaelgoerz.net/#GoerzPRA2015)\n",
    "\n",
    "The basic idea is that the mathematical structure of the two-qubit gates in the Weyl chamber has a *geometric* interpretation. The set of perfect entanglers form a compact polyhedron inside the Weyl chamber (the shaded region in the diagram), and we can optimize for a perfect entangler by minimizing the geometric distance to the surface of that polyhedron.\n",
    "\n",
    "It can be shown that this geometric distance can be expressed in terms of the \"local invariants\" $g_3$, $g_2$, $g_3$, which are related to the Weyl chamber coordinates $c_1$, $c_2$, $c_3$, but unlike the Weyl chamber coordinates, the local invariants can be calculated analytically from the gate $\\op{U}$."
   ]
  },
  {
   "cell_type": "markdown",
   "id": "c6a5233f",
   "metadata": {},
   "source": [
    "This allows us to define the following \"perfect-entangler functional\",\n",
    "\n",
    "$$\n",
    "\\begin{equation}\n",
    "  F_{PE} = g_3 \\sqrt{g_1^2 + g_2^2} - g_1,\n",
    "\\end{equation}\n",
    "$$\n",
    "\n",
    "A list of four objectives that encode the minimization of $F_{PE}$ are\n",
    "generated by calling the `gate_objectives` function with the canonical basis,\n",
    "and `\"PE\"` as target \"gate\"."
   ]
  },
  {
   "cell_type": "code",
   "execution_count": null,
   "id": "9e586ab6",
   "metadata": {},
   "outputs": [],
   "source": [
    "objectives = krotov.gate_objectives(\n",
    "    basis_states=[psi_00, psi_01, psi_10, psi_11], gate=\"PE\", H=H\n",
    ")"
   ]
  },
  {
   "cell_type": "code",
   "execution_count": null,
   "id": "927efcd2",
   "metadata": {},
   "outputs": [],
   "source": [
    "objectives"
   ]
  },
  {
   "cell_type": "markdown",
   "id": "469a2da3",
   "metadata": {},
   "source": [
    "The initial states in these objectives are not the canonical basis states, but a Bell\n",
    "basis,"
   ]
  },
  {
   "cell_type": "code",
   "execution_count": null,
   "id": "8d1668f2",
   "metadata": {},
   "outputs": [],
   "source": [
    "for obj in objectives:\n",
    "    display(obj.initial_state)"
   ]
  },
  {
   "cell_type": "markdown",
   "id": "37e28df3",
   "metadata": {},
   "source": [
    "Since we don't know *which* perfect entangler the optimization result will\n",
    "implement, we cannot associate any \"target state\" with each objective, and the\n",
    "`target` attribute is set to the string 'PE'."
   ]
  },
  {
   "cell_type": "markdown",
   "id": "e43464e0",
   "metadata": {},
   "source": [
    "We can treat the above objectives as a \"black box\" - the only important\n",
    "consideration is that the `chi_constructor` that we will pass to\n",
    "`optimize_pulses` to calculating the boundary condition for the backwards\n",
    "propagation,\n",
    "\n",
    "$$\n",
    "\\begin{equation}\n",
    "  \\ket{\\chi_{k}} = \\frac{\\partial F_{PE}}{\\partial \\bra{\\phi_k}} \\Bigg|_{\\ket{\\phi_{k}(T)}}\\,,\n",
    "\\end{equation}\n",
    "$$\n",
    "\n",
    "must be consistent with how the `objectives` are set up. For the perfect-entangler functional, the calculation of the $\\ket{\\chi_{k}}$ is relatively\n",
    "complicated. The `weylchamber` package contains a suitable routine that\n",
    "works on the `objectives` exactly as defined above (specifically, under the\n",
    "assumption that the $\\ket{\\phi_k}$ are the appropriate Bell states):"
   ]
  },
  {
   "cell_type": "code",
   "execution_count": null,
   "id": "d91de49f",
   "metadata": {},
   "outputs": [],
   "source": [
    "help(weylchamber.perfect_entanglers.make_PE_krotov_chi_constructor)"
   ]
  },
  {
   "cell_type": "code",
   "execution_count": null,
   "id": "bcb7d04d",
   "metadata": {},
   "outputs": [],
   "source": [
    "chi_constructor = weylchamber.perfect_entanglers.make_PE_krotov_chi_constructor(\n",
    "    [psi_00, psi_01, psi_10, psi_11]\n",
    ")"
   ]
  },
  {
   "cell_type": "markdown",
   "id": "73d77959",
   "metadata": {},
   "source": [
    "We define the `pulse_options` with the step width `lambda_a` and the `update_shape`, ensuring that the control field is well-behaved at the edges of the time grid:"
   ]
  },
  {
   "cell_type": "code",
   "execution_count": null,
   "id": "7ee48dda",
   "metadata": {},
   "outputs": [],
   "source": [
    "pulse_options = {H[1][1]: dict(lambda_a=1.0e2, update_shape=S)}"
   ]
  },
  {
   "cell_type": "markdown",
   "id": "aabc82f2",
   "metadata": {},
   "source": [
    "We will use a custom `info_hook` to analyze each iteration in a bit more detail:"
   ]
  },
  {
   "cell_type": "code",
   "execution_count": null,
   "id": "6759f0b6",
   "metadata": {},
   "outputs": [],
   "source": [
    "def print_fidelity(**args):\n",
    "    basis = [objectives[i].initial_state for i in [0, 1, 2, 3]]\n",
    "    states = [args['fw_states_T'][i] for i in [0, 1, 2, 3]]\n",
    "    U = weylchamber.gates.gate(basis, states)\n",
    "    c1, c2, c3 = weylchamber.coordinates.c1c2c3(weylchamber.from_magic(U))\n",
    "    g1, g2, g3 = weylchamber.local_invariants.g1g2g3_from_c1c2c3(c1, c2, c3)\n",
    "    conc = weylchamber.perfect_entanglers.concurrence(c1, c2, c3)\n",
    "    F_PE = weylchamber.perfect_entanglers.F_PE(g1, g2, g3)\n",
    "    print(\"    F_PE: %f\\n    gate conc.: %f\" % (F_PE, conc))\n",
    "    return F_PE, [c1, c2, c3]"
   ]
  },
  {
   "cell_type": "markdown",
   "id": "6672d8da",
   "metadata": {},
   "source": [
    "The values return by this function will be stored in `Result.info_vals`, and we may also use them in a custom convergence check:"
   ]
  },
  {
   "cell_type": "code",
   "execution_count": null,
   "id": "b0aa4c24",
   "metadata": {},
   "outputs": [],
   "source": [
    "def check_PE(result):\n",
    "    # extract F_PE from (F_PE, [c1, c2, c3])\n",
    "    F_PE = result.info_vals[-1][0]\n",
    "    if F_PE <= 0:\n",
    "        return \"achieved perfect entangler\"\n",
    "    else:\n",
    "        return None"
   ]
  },
  {
   "cell_type": "code",
   "execution_count": null,
   "id": "a7ba6433",
   "metadata": {},
   "outputs": [],
   "source": [
    "opt_result = krotov.optimize_pulses(\n",
    "    objectives,\n",
    "    pulse_options=pulse_options,\n",
    "    tlist=tlist,\n",
    "    propagator=krotov.propagators.expm,\n",
    "    chi_constructor=chi_constructor,\n",
    "    info_hook=krotov.info_hooks.chain(\n",
    "        krotov.info_hooks.print_debug_information, print_fidelity\n",
    "    ),\n",
    "    check_convergence=check_PE,\n",
    "    iter_stop=20,\n",
    ")\n",
    "opt_result"
   ]
  },
  {
   "cell_type": "markdown",
   "id": "bc5bbd8e",
   "metadata": {},
   "source": [
    "The final optimized control field looks like this:"
   ]
  },
  {
   "cell_type": "code",
   "execution_count": null,
   "id": "0e8d2f11",
   "metadata": {
    "attributes": {
     "classes": [],
     "id": "",
     "n": "17"
    }
   },
   "outputs": [],
   "source": [
    "plot_pulse(opt_result.optimized_controls[0], tlist)"
   ]
  },
  {
   "cell_type": "markdown",
   "id": "674e033e",
   "metadata": {},
   "source": [
    "Note how much easier this optimization was (from a numerical perspective) than the direct optimization towards the $\\sqrt{\\text{iSWAP}}$ gate!"
   ]
  },
  {
   "cell_type": "markdown",
   "id": "a4ab1fdf",
   "metadata": {},
   "source": [
    "## Next steps\n",
    "\n",
    "The [Julia version of this exercise](../Julia/jl_exercise_3_4_gate.ipynb) goes\n",
    "considerably farther than the simplified model used here: It considers a\n",
    "logical subsystem embedded in a larger Hilbert space, along with more realistic\n",
    "parameters. It also uses semi-automatic differentiation to directly optimize\n",
    "the non-analytic gate concurrence. Furthermore, it contains optimization with GRAPE\n",
    "in addition to Krotov's method.\n",
    "\n",
    "You may also continue with [further examples from the documentation of the\n",
    "`krotov` package](https://qucontrol.github.io/krotov/v1.2.1/09_examples.html)\n",
    "which are beyond the scope of this tutorial. These include many interesting setups, e.g., the\n",
    "optimization of quantum gates in open quantum systems."
   ]
  },
  {
   "cell_type": "markdown",
   "id": "755e464b",
   "metadata": {},
   "source": [
    "<!-- Autofooter begin -->\n",
    "\n",
    "---\n",
    "\n",
    "[⬆︎ jump to top](#navtitle_3_4_py)\n",
    "<!-- Autofooter end -->"
   ]
  }
 ],
 "metadata": {
  "kernelspec": {
   "display_name": "Python 3",
   "language": "python",
   "name": "python3"
  },
  "language_info": {
   "codemirror_mode": {
    "name": "ipython",
    "version": 3
   },
   "file_extension": ".py",
   "mimetype": "text/x-python",
   "name": "python",
   "nbconvert_exporter": "python",
   "pygments_lexer": "ipython3",
   "version": "3.9.2"
  }
 },
 "nbformat": 4,
 "nbformat_minor": 5
}
