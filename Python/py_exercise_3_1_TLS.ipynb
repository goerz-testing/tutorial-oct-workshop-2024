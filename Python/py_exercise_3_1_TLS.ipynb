{
 "cells": [
  {
   "cell_type": "markdown",
   "id": "0dffef7c",
   "metadata": {},
   "source": [
    "<!-- Autoheader begin -->\n",
    "<hr/>\n",
    "<div id=\"navtitle_3_1_py\" style=\"text-align:center; font-size:16px\">III.1 Population Inversion in a Two-Level-System using Krotov's Method</div>\n",
    "<hr/>\n",
    "<table style=\"width: 100%\">\n",
    "  <tr>\n",
    "    <th rowspan=\"2\" style=\"width:33%; text-align:center; font-size:16px\">\n",
    "        <a href=\"py_exercise_2_3_chiral.ipynb\">$\\leftarrow$ previous notebook </a><br>\n",
    "        <a href=\"py_exercise_2_3_chiral.ipynb\" style=\"font-size:13px\">II.3 Parameter Optimization of Three-Wave Mixing in a Three-Level System</a>\n",
    "    </th>\n",
    "    <td style=\"width:33%; text-align:center; font-size:16px\">\n",
    "        <a href=\"py_exercise_2_1_TLS.ipynb\">$\\uparrow$ previous part $\\uparrow$</a><br>\n",
    "        <a href=\"py_exercise_2_1_TLS.ipynb\" style=\"font-size:13px\">II.1 Population Inversion in a Two-Level-System using Parameter Optimization</a>\n",
    "    </td>\n",
    "    <th rowspan=\"2\" style=\"width:33%; text-align:center; font-size:16px\">\n",
    "        <a href=\"py_exercise_3_2_lambda.ipynb\">next notebook $\\rightarrow$</a><br>\n",
    "        <a href=\"py_exercise_3_2_lambda.ipynb\" style=\"font-size:13px\">III.2 Optimal Control for STIRAP</a>\n",
    "    </th>\n",
    "  </tr>\n",
    "  <tr style=\"width: 100%\">\n",
    "    <td style=\"width:33%; text-align:center; font-size:16px\">\n",
    "    </td>\n",
    "  </tr>\n",
    "</table>\n",
    "\n",
    "<div style=\"text-align: right;font-size: 16px\"><a href=\"../Julia/jl_exercise_3_1_TLS.ipynb\">👉 Julia version</a></div>\n",
    "\n",
    "---\n",
    "<!-- Autoheader end -->"
   ]
  },
  {
   "cell_type": "markdown",
   "id": "3e632cbe",
   "metadata": {},
   "source": [
    "# Population Inversion in a Two-Level-System using Krotov's Method"
   ]
  },
  {
   "cell_type": "markdown",
   "id": "28ecd6a5",
   "metadata": {},
   "source": [
    "$\\newcommand{tr}[0]{\\operatorname{tr}}\n",
    "\\newcommand{diag}[0]{\\operatorname{diag}}\n",
    "\\newcommand{abs}[0]{\\operatorname{abs}}\n",
    "\\newcommand{pop}[0]{\\operatorname{pop}}\n",
    "\\newcommand{aux}[0]{\\text{aux}}\n",
    "\\newcommand{opt}[0]{\\text{opt}}\n",
    "\\newcommand{tgt}[0]{\\text{tgt}}\n",
    "\\newcommand{init}[0]{\\text{init}}\n",
    "\\newcommand{lab}[0]{\\text{lab}}\n",
    "\\newcommand{rwa}[0]{\\text{rwa}}\n",
    "\\newcommand{bra}[1]{\\langle#1\\vert}\n",
    "\\newcommand{ket}[1]{\\vert#1\\rangle}\n",
    "\\newcommand{Bra}[1]{\\left\\langle#1\\right\\vert}\n",
    "\\newcommand{Ket}[1]{\\left\\vert#1\\right\\rangle}\n",
    "\\newcommand{Braket}[2]{\\left\\langle #1\\vphantom{#2} \\mid\n",
    "#2\\vphantom{#1}\\right\\rangle}\n",
    "\\newcommand{op}[1]{\\hat{#1}}\n",
    "\\newcommand{Op}[1]{\\hat{#1}}\n",
    "\\newcommand{dd}[0]{\\,\\text{d}}\n",
    "\\newcommand{Liouville}[0]{\\mathcal{L}}\n",
    "\\newcommand{DynMap}[0]{\\mathcal{E}}\n",
    "\\newcommand{identity}[0]{\\mathbf{1}}\n",
    "\\newcommand{Norm}[1]{\\lVert#1\\rVert}\n",
    "\\newcommand{Abs}[1]{\\left\\vert#1\\right\\vert}\n",
    "\\newcommand{avg}[1]{\\langle#1\\rangle}\n",
    "\\newcommand{Avg}[1]{\\left\\langle#1\\right\\rangle}\n",
    "\\newcommand{AbsSq}[1]{\\left\\vert#1\\right\\vert^2}\n",
    "\\newcommand{Re}[0]{\\operatorname{Re}}\n",
    "\\newcommand{Im}[0]{\\operatorname{Im}}$"
   ]
  },
  {
   "cell_type": "markdown",
   "id": "58ff874e",
   "metadata": {
    "slideshow": {
     "slide_type": ""
    }
   },
   "source": [
    "This notebook is the first illustration of using a complete optimal control framework with\n",
    "gradient-based methods. It considers the example of inverting the\n",
    "population in a two-level system that we have already explored in \n",
    "[Exercise I.1](py_exercise_1_1_TLS.ipynb) and \n",
    "[Exercise II.1](py_exercise_2_1_TLS.ipynb). These previous notebooks were aimed at finding control solutions by\n",
    "tuning a small number of analytical parameters for a simple pulse shape,\n",
    "either by hand, or by using a gradient-free numerical optimization method, respectively.\n",
    "\n",
    "In this notebook, you will learn how to use numerical optimization to find\n",
    "control fields $E(t)$ which are not limited to a simple, predefined analytical shape.\n",
    "Instead, we treat the value of $E(t)$ at every point $t$ of a finely sampled time grid as an independent\n",
    "control parameter. This allows for a lot of control parameters (as many as\n",
    "there are points on the time grid) and thus a lot of freedom to find optimal solutions. Gradient-free methods are only suitable for a small amount of control parameters and are thus not appropriate for such a task. Instead, we employ methods which take into account the *gradient* of the optimization functional with respect to the control parameters (the values $E(t)$). Two of the more established methods for gradient-based optimization of fields $E(t)$ (approximated as piecewise-constant on a fine time grid) are \"GRadient Ascent Pulse Engineering\" (GRAPE) and\n",
    "Krotov's method.\n",
    "\n",
    "You will learn here the use of the [`krotov` Python\n",
    "package](https://github.com/qucontrol/krotov) to formulate and solve the\n",
    "control problem."
   ]
  },
  {
   "cell_type": "code",
   "execution_count": null,
   "id": "987b9049",
   "metadata": {},
   "outputs": [],
   "source": [
    "import krotov"
   ]
  },
  {
   "cell_type": "markdown",
   "id": "450614ad",
   "metadata": {},
   "source": [
    "Despite the fact that the two-level system can also directly be solved with simpler approaches, this example still serves as a nice playground to to show you the tools and general approach for a general control problem that cannot be solved by varying a few parameters only."
   ]
  },
  {
   "cell_type": "markdown",
   "id": "81edd24c",
   "metadata": {},
   "source": [
    "## Setup"
   ]
  },
  {
   "cell_type": "markdown",
   "id": "e0797367",
   "metadata": {},
   "source": [
    "First, we need to load some of the libraries needed throughout this notebook."
   ]
  },
  {
   "cell_type": "code",
   "execution_count": null,
   "id": "d06ab1a8",
   "metadata": {},
   "outputs": [],
   "source": [
    "import numpy as np  # package for numerical functions such as cos, sin, etc.\n",
    "import qutip  # QUantum Toolbox In Python\n",
    "import matplotlib  # package for plotting\n",
    "import matplotlib.pylab as plt\n",
    "\n",
    "# Some functions for easy access:\n",
    "from numpy import pi, sqrt, exp, sin, cos"
   ]
  },
  {
   "cell_type": "markdown",
   "id": "14350c8c",
   "metadata": {},
   "source": [
    "We are using some Bloch sphere visualizations in this tutorial that benefit\n",
    "from being interactive, so we will activate an interactive backend for\n",
    "`matplotlib`:"
   ]
  },
  {
   "cell_type": "code",
   "execution_count": null,
   "id": "6bdf6511",
   "metadata": {},
   "outputs": [],
   "source": [
    "%matplotlib widget"
   ]
  },
  {
   "cell_type": "markdown",
   "id": "9fc6239f",
   "metadata": {},
   "source": [
    "Note that this requires the `ipympl` package to be installed in the same\n",
    "version both in the project environment and in the environment providing the\n",
    "Jupyter application. If you are having trouble with the plots in this\n",
    "notebook, delete the above cell, restart the kernel, and rerun the notebook.\n",
    "The plots won't be interactive, but you willl still be able to follow along this\n",
    "tutorial.\n"
   ]
  },
  {
   "cell_type": "markdown",
   "id": "2e74d335",
   "metadata": {},
   "source": [
    "## Define the Hamiltonian"
   ]
  },
  {
   "cell_type": "markdown",
   "id": "aa1805c1",
   "metadata": {},
   "source": [
    "In the\n",
    "following the Hamiltonian, guess field, and states are defined.\n",
    "\n",
    "The Hamiltonian\n",
    "$\\op{H}_{0} = - \\frac{\\omega}{2} \\op{\\sigma}_{z}$\n",
    "represents a\n",
    "simple qubit with energy\n",
    "level splitting $\\omega$ in the canonical basis\n",
    "$\\{\\ket{0},\\ket{1}\\}$. The control\n",
    "field\n",
    "$\\epsilon(t)$ is assumed to couple via\n",
    "the\n",
    "Hamiltonian $\\op{H}_{1}(t) =\n",
    "\\epsilon(t) \\op{\\sigma}_{x}$ to the qubit,\n",
    "i.e., the control\n",
    "field effectively\n",
    "drives\n",
    "transitions between the two basis states."
   ]
  },
  {
   "cell_type": "code",
   "execution_count": null,
   "id": "a60a969a",
   "metadata": {},
   "outputs": [],
   "source": [
    "def ham_and_states(omega=1.0, eps0=(lambda t, args: 1.0)):\n",
    "    \"\"\"Two-level-system Hamiltonian\n",
    "\n",
    "    Args:\n",
    "        omega (float): energy separation of the qubit levels\n",
    "        eps0 (func): The driving field eps0(t, args)\n",
    "    \"\"\"\n",
    "    H0 = -0.5 * omega * qutip.operators.sigmaz()\n",
    "    H1 = qutip.operators.sigmax()\n",
    "\n",
    "    psi0 = qutip.Qobj(np.array([1, 0]))  # State |0⟩\n",
    "    psi1 = qutip.Qobj(np.array([0, 1]))  # State |1⟩\n",
    "\n",
    "    return ([H0, [H1, eps0]], psi0, psi1)"
   ]
  },
  {
   "cell_type": "markdown",
   "id": "42431f53",
   "metadata": {},
   "source": [
    "In addition, we define a shape function $S(t)$ which takes care of\n",
    "experimental limits such as the necessity of finite ramps\n",
    "at the beginning and\n",
    "end of the control field."
   ]
  },
  {
   "cell_type": "code",
   "execution_count": null,
   "id": "e898ed1c",
   "metadata": {},
   "outputs": [],
   "source": [
    "def S(t):\n",
    "    \"\"\"Shape function for the initial and field update\"\"\"\n",
    "    return krotov.shapes.flattop(\n",
    "        t, t_start=0, t_stop=10, t_rise=0.5, t_fall=0.5, func=\"sinsq\"\n",
    "    )"
   ]
  },
  {
   "cell_type": "markdown",
   "id": "4aac3736",
   "metadata": {},
   "source": [
    "This shape function will be used in two contexts: First, in the optimization with Krotov's method later on in this tutorial, it will shape the pulse update, ensuring that the boundary conditions are maintained in every iteration of the optimization.\n",
    "\n",
    "Second, we will also use $S(t)$ to multiply the guess field `eps0` when calling `ham_and_states`:"
   ]
  },
  {
   "cell_type": "code",
   "execution_count": null,
   "id": "2db6dd28",
   "metadata": {},
   "outputs": [],
   "source": [
    "def shape_field(eps0):\n",
    "    \"\"\"Applies the shape function S(t) to the guess field\"\"\"\n",
    "    eps0_shaped = lambda t, args: eps0(t, args) * S(t)\n",
    "    return eps0_shaped"
   ]
  },
  {
   "cell_type": "markdown",
   "id": "55cfad32",
   "metadata": {},
   "source": [
    "This allows playing around with different functions for `eps0` that may or may not have suitable boundary conditions."
   ]
  },
  {
   "cell_type": "markdown",
   "id": "79a15fcd",
   "metadata": {},
   "source": [
    "## Simulate dynamics of the guess field"
   ]
  },
  {
   "cell_type": "markdown",
   "id": "9df856c8",
   "metadata": {},
   "source": [
    "Before heading towards the optimization\n",
    "procedure, we first simulate the\n",
    "dynamics under the guess field\n",
    "$\\epsilon_{0}(t)$."
   ]
  },
  {
   "cell_type": "markdown",
   "id": "6e23a147",
   "metadata": {},
   "source": [
    "However, before we can propagate the state under the guess field, we need to define the time grid of the\n",
    "dynamics. As an example, we define the\n",
    "initial state to be at time $t=0$ and\n",
    "consider a total propagation time of\n",
    "$T=4$. The entire time grid is divided into\n",
    "$n_{t}=80$ equidistant time steps (corresponding to 81 time grid points)."
   ]
  },
  {
   "cell_type": "code",
   "execution_count": null,
   "id": "97d367ef",
   "metadata": {},
   "outputs": [],
   "source": [
    "tlist = np.linspace(0, 10, 81)"
   ]
  },
  {
   "cell_type": "markdown",
   "id": "5589a9b8",
   "metadata": {},
   "source": [
    "Naturally, we also have to define the guess pulse itself."
   ]
  },
  {
   "cell_type": "code",
   "execution_count": null,
   "id": "bcb1021e",
   "metadata": {},
   "outputs": [],
   "source": [
    "def guess_pulse(t, args):\n",
    "    A = .1\n",
    "    σ = 2\n",
    "    E = A * exp(-((t - 5) ** 2) / (2 * σ ** 2)) * cos(3*t)\n",
    "    return E"
   ]
  },
  {
   "cell_type": "markdown",
   "id": "992383f1",
   "metadata": {},
   "source": [
    "In the Hamiltonian, we multiply `guess_pulse` with the shape $S(t)$ via `shape_field` as mentioned above:"
   ]
  },
  {
   "cell_type": "code",
   "execution_count": null,
   "id": "2a5b9108",
   "metadata": {},
   "outputs": [],
   "source": [
    "H, psi0, psi1 = ham_and_states(eps0=shape_field(guess_pulse))"
   ]
  },
  {
   "cell_type": "markdown",
   "id": "04ba103b",
   "metadata": {},
   "source": [
    "Feel free to play around with `guess_pulse` and the construction of the\n",
    "Hamiltonian."
   ]
  },
  {
   "cell_type": "markdown",
   "id": "686bb4dd",
   "metadata": {},
   "source": [
    "The total field looks as follows:"
   ]
  },
  {
   "cell_type": "code",
   "execution_count": null,
   "id": "0bd7bd46",
   "metadata": {},
   "outputs": [],
   "source": [
    "def plot_pulse(pulse, tlist):\n",
    "    fig, ax = plt.subplots(figsize=(8, 5))\n",
    "    if callable(pulse):\n",
    "        pulse = np.array([pulse(t, args=None) for t in tlist])\n",
    "    ax.plot(tlist, pulse)\n",
    "    ax.set_xlabel(\"time\")\n",
    "    ax.set_ylabel(\"pulse amplitude\")\n",
    "    plt.show(fig)\n",
    "\n",
    "\n",
    "plt.close(\"all\")\n",
    "plot_pulse(H[1][1], tlist)"
   ]
  },
  {
   "cell_type": "markdown",
   "id": "7140b0ab",
   "metadata": {},
   "source": [
    "Then, we solve the equation of motion for the initial state\n",
    "$\\ket{\\Psi_{\\init}}=\\ket{0}$ and the Hamiltonian $\\op{H}(t)$ generating its\n",
    "evolution. To this end, we define the projectors $\\op{P}_0 = \\ket{0}\\bra{0}$\n",
    "and $\\op{P}_1 = \\ket{1}\\bra{1}$ to compute their expectation values.\n",
    "Afterwards, we plot the dynamics."
   ]
  },
  {
   "cell_type": "code",
   "execution_count": null,
   "id": "91c73147",
   "metadata": {},
   "outputs": [],
   "source": [
    "proj0 = psi0 * psi0.dag()\n",
    "proj1 = psi1 * psi1.dag()\n",
    "\n",
    "guess_dynamics = qutip.mesolve(H, psi0, tlist, e_ops=[proj0, proj1])\n",
    "\n",
    "\n",
    "def plot_population(result, ylim=None):\n",
    "    fig, ax = plt.subplots(figsize=(8, 5))\n",
    "    ax.plot(result.times, result.expect[0], label=\"0\")\n",
    "    ax.plot(result.times, result.expect[1], label=\"1\")\n",
    "    ax.legend()\n",
    "    ax.set_xlabel(\"time\")\n",
    "    ax.set_ylabel(\"population\")\n",
    "    if ylim is not None:\n",
    "        ax.set_ylim(ylim)\n",
    "    plt.show(fig)\n",
    "\n",
    "plt.close(\"all\")\n",
    "plot_population(guess_dynamics)"
   ]
  },
  {
   "cell_type": "markdown",
   "id": "614c8a3c",
   "metadata": {},
   "source": [
    "Note that there is a small amount of oscillation in the dynamics, which we can see by zooming in the dynamics of the $\\ket{1}$ state"
   ]
  },
  {
   "cell_type": "code",
   "execution_count": null,
   "id": "bb88b5df",
   "metadata": {},
   "outputs": [],
   "source": [
    "plt.close(\"all\")\n",
    "plot_population(guess_dynamics, ylim=(0, 0.0016))"
   ]
  },
  {
   "cell_type": "markdown",
   "id": "56534c0b",
   "metadata": {},
   "source": [
    "We can do the same again, but plot the trajectory on the Bloch sphere\n",
    "instead. Try to understand how the `mesolve` routine is different compared to\n",
    "the one for plotting the population."
   ]
  },
  {
   "cell_type": "code",
   "execution_count": null,
   "id": "955c209d",
   "metadata": {},
   "outputs": [],
   "source": [
    "σ_x = qutip.sigmax()\n",
    "σ_y = qutip.sigmay()\n",
    "σ_z = qutip.sigmaz()\n",
    "\n",
    "guess_dynamics = qutip.mesolve(H, psi0, tlist, e_ops=[σ_x, σ_y, σ_z])\n",
    "\n",
    "\n",
    "def plot_bloch(result):\n",
    "    b = qutip.Bloch(view=[-60, 30])\n",
    "    exp_x = result.expect[0]\n",
    "    exp_y = result.expect[1]\n",
    "    exp_z = result.expect[2]\n",
    "    b.point_color = plt.get_cmap(\"viridis_r\")(tlist / tlist[-1])  # set nice colormap\n",
    "    b.add_points([exp_x, exp_y, exp_z], \"m\")\n",
    "    b.frame_alpha = 0.1\n",
    "    b.make_sphere()\n",
    "    plt.show()\n",
    "\n",
    "plt.close(\"all\")\n",
    "plot_bloch(guess_dynamics)"
   ]
  },
  {
   "cell_type": "markdown",
   "id": "2f72debb",
   "metadata": {
    "slideshow": {
     "slide_type": ""
    }
   },
   "source": [
    "## Define the optimization target"
   ]
  },
  {
   "cell_type": "markdown",
   "id": "c1189a6e",
   "metadata": {
    "slideshow": {
     "slide_type": ""
    }
   },
   "source": [
    "We want to optimize a simple state-to-state\n",
    "transfer\n",
    "from initial state $\\ket{\\Psi_{\\init}} = \\ket{0}$ to the target state\n",
    "$\\ket{\\Psi_{\\tgt}} = \\ket{1}$, which we want to reach at final time $T$. Note\n",
    "that we also have to pass the Hamiltonian $\\op{H}(t)$ that determines the\n",
    "dynamics of\n",
    "the system."
   ]
  },
  {
   "cell_type": "markdown",
   "id": "675bed03",
   "metadata": {},
   "source": [
    "From a mathematical perspective we optimize the guess field $\\epsilon_{0}(t)$ such\n",
    "that the intended state-to-state transfer $\\ket{\\Psi_{\\init}} \\rightarrow\n",
    "\\ket{\\Psi_{\\tgt}}$ is solved.\n",
    "To this end, we\n",
    "choose the functional to be $F = F_{ss}$ with\n",
    "\\begin{equation}\n",
    "F_{ss}\n",
    "=\n",
    "\\left|\\Braket{\\Psi(T)}{\\Psi_{\\tgt}}\\right|^2\n",
    "\\end{equation}\n",
    "\n",
    "with\n",
    "$\\ket{\\Psi(T)}$ the\n",
    "forward propagated state of $\\ket{\\Psi_{\\init}}$. Maximizing $F_{ss}$ is equivalent to minimizing the infidelity which we employ as our optimization functional, i.e."
   ]
  },
  {
   "cell_type": "code",
   "execution_count": null,
   "id": "f85f1cea",
   "metadata": {},
   "outputs": [],
   "source": [
    "? krotov.functionals.J_T_ss"
   ]
  },
  {
   "cell_type": "markdown",
   "id": "1f7f4b9b",
   "metadata": {},
   "source": [
    "The functional is evaluated based on the initial state forward-propagated under a specific time-dependent Hamiltonian $\\Op{H}(t)$ and considers the overlap with the associated target state. The initial state, Hamiltonian, and target state are collected in an `Objective` object that will be passed to the `J_T_ss` function."
   ]
  },
  {
   "cell_type": "code",
   "execution_count": null,
   "id": "755d5177",
   "metadata": {},
   "outputs": [],
   "source": [
    "objectives = [krotov.Objective(initial_state=psi0, target=psi1, H=H)]"
   ]
  },
  {
   "cell_type": "markdown",
   "id": "4e4eb3f1",
   "metadata": {},
   "source": [
    "The *result* of the propagation is available to `J_T_ss` as `fw_states_T`."
   ]
  },
  {
   "cell_type": "markdown",
   "id": "d625034b",
   "metadata": {},
   "source": [
    "## Using Krotov's method"
   ]
  },
  {
   "cell_type": "markdown",
   "id": "85cae8af",
   "metadata": {
    "slideshow": {
     "slide_type": ""
    }
   },
   "source": [
    "In an optimization with Krotov's method, we have the option of using $S(t)$ as the `update_shape` for\n",
    "$\\epsilon_0(t)$. Wherever $S(t)$ is zero, the optimization will not change the\n",
    "value of the control from the original guess. In general, this shape function can be different from the one used to shape the guess pulse. In addition, we have to choose `lambda_a` for each control\n",
    "field. This parameter controls the magnitude of the updates for the respective fields in each iterative step of the optimization algorithm. These options are collected in a dictionary of `pulse_options`:"
   ]
  },
  {
   "cell_type": "code",
   "execution_count": null,
   "id": "f61f1610",
   "metadata": {},
   "outputs": [],
   "source": [
    "pulse_options = {H[1][1]: dict(lambda_a=25, update_shape=S)}"
   ]
  },
  {
   "cell_type": "markdown",
   "id": "930729c0",
   "metadata": {},
   "source": [
    "We can now collect everything into a call to `optimize_pulse`:"
   ]
  },
  {
   "cell_type": "code",
   "execution_count": null,
   "id": "53307a60",
   "metadata": {},
   "outputs": [],
   "source": [
    "oct_result = krotov.optimize_pulses(\n",
    "    objectives,\n",
    "    pulse_options=pulse_options,\n",
    "    tlist=tlist,\n",
    "    propagator=krotov.propagators.expm,\n",
    "    chi_constructor=krotov.functionals.chis_ss,\n",
    "    info_hook=krotov.info_hooks.print_table(\n",
    "        J_T=krotov.functionals.J_T_ss,\n",
    "        show_g_a_int_per_pulse=False,\n",
    "        unicode=False,\n",
    "    ),\n",
    "    check_convergence=krotov.convergence.Or(\n",
    "        krotov.convergence.value_below(1e-3, name=\"J_T\"),\n",
    "        krotov.convergence.check_monotonic_error,\n",
    "    ),\n",
    "    iter_stop=50,\n",
    ")"
   ]
  },
  {
   "cell_type": "markdown",
   "id": "ddd11e00",
   "metadata": {},
   "source": [
    "## Simulate dynamics of the optimized field"
   ]
  },
  {
   "cell_type": "markdown",
   "id": "0896abfb",
   "metadata": {},
   "source": [
    "Having obtained the optimized control field, we can now plot it and calculate\n",
    "the population dynamics under this field."
   ]
  },
  {
   "cell_type": "code",
   "execution_count": null,
   "id": "cde3e03f",
   "metadata": {},
   "outputs": [],
   "source": [
    "plt.close(\"all\")\n",
    "plot_pulse(oct_result.optimized_controls[0], tlist)\n",
    "\n",
    "opt_dynamics = oct_result.optimized_objectives[0].mesolve(\n",
    "    tlist, e_ops=[proj0, proj1]\n",
    ")\n",
    "plot_population(opt_dynamics)\n",
    "\n",
    "opt_dynamics = oct_result.optimized_objectives[0].mesolve(\n",
    "    tlist, e_ops=[σ_x, σ_y, σ_z]\n",
    ")\n",
    "plot_bloch(opt_dynamics)"
   ]
  },
  {
   "cell_type": "markdown",
   "id": "f9478657",
   "metadata": {},
   "source": [
    "## Further Tasks\n",
    "\n",
    "1) Vary the numerical parameters `lambda_a` and $n_{t}$ to improve the\n",
    "optimization. You should be able to reach the desired fidelity of 99% within\n",
    "less than 50 iterations.\n",
    "\n",
    "2) Try to improve the guess pulse to speed up the convergence. Hint: The interesting\n",
    "parameters are `A` and $T$ resp. `t_stop` (Keep in mind to change it in the\n",
    "shape $S$ and in the time grid `tlist`). Note that a constant pulse might not be\n",
    "the best option as a guess pulse."
   ]
  },
  {
   "cell_type": "markdown",
   "id": "c9f40a67",
   "metadata": {},
   "source": [
    "## Next steps"
   ]
  },
  {
   "cell_type": "markdown",
   "id": "cd97c5a2",
   "metadata": {},
   "source": [
    "You are now ready to advance to a more sophisticated example for gradient-based optimization. For instance, [Exercise III.2](py_exercise_3_2_lambda.ipynb) covers the STIRAP protocol in the three-level lambda system. If you are more interested in gate optimization for quantum information applications, we recommend [Exercise III.4](py_exercise_3_4_gate.ipynb)."
   ]
  },
  {
   "cell_type": "markdown",
   "id": "8251c889",
   "metadata": {},
   "source": [
    "<!-- Autofooter begin -->\n",
    "\n",
    "---\n",
    "\n",
    "[⬆︎ jump to top](#navtitle_3_1_py)\n",
    "<!-- Autofooter end -->"
   ]
  }
 ],
 "metadata": {
  "kernelspec": {
   "display_name": "Python 3",
   "language": "python",
   "name": "python3"
  },
  "language_info": {
   "codemirror_mode": {
    "name": "ipython",
    "version": 3
   },
   "file_extension": ".py",
   "mimetype": "text/x-python",
   "name": "python",
   "nbconvert_exporter": "python",
   "pygments_lexer": "ipython3",
   "version": "3.9.2"
  }
 },
 "nbformat": 4,
 "nbformat_minor": 5
}
