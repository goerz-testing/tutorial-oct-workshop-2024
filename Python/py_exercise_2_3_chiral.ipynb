{
 "cells": [
  {
   "cell_type": "markdown",
   "id": "0cf68af0",
   "metadata": {},
   "source": [
    "<!-- Autoheader begin -->\n",
    "<hr/>\n",
    "<div id=\"navtitle_2_3_py\" style=\"text-align:center; font-size:16px\">II.3 Parameter Optimization of Three-Wave Mixing in a Three-Level System</div>\n",
    "<hr/>\n",
    "<table style=\"width: 100%\">\n",
    "  <tr>\n",
    "    <th rowspan=\"2\" style=\"width:33%; text-align:center; font-size:16px\">\n",
    "        <a href=\"py_exercise_2_2_lambda.ipynb\">$\\leftarrow$ previous notebook </a><br>\n",
    "        <a href=\"py_exercise_2_2_lambda.ipynb\" style=\"font-size:13px\">II.2 Parameter Optimization for STIRAP</a>\n",
    "    </th>\n",
    "    <td style=\"width:33%; text-align:center; font-size:16px\">\n",
    "        <a href=\"py_exercise_1_3_chirp.ipynb\">$\\uparrow$ previous part $\\uparrow$</a><br>\n",
    "        <a href=\"py_exercise_1_3_chirp.ipynb\" style=\"font-size:13px\">I.3 Interaction of a Two-Level-System with a Chirped Laser Pulse</a>\n",
    "    </td>\n",
    "    <th rowspan=\"2\" style=\"width:33%; text-align:center; font-size:16px\">\n",
    "        <a href=\"py_exercise_3_1_TLS.ipynb\">next notebook $\\rightarrow$</a><br>\n",
    "        <a href=\"py_exercise_3_1_TLS.ipynb\" style=\"font-size:13px\">III.1 Population Inversion in a Two-Level-System using Krotov's Method</a>\n",
    "    </th>\n",
    "  </tr>\n",
    "  <tr style=\"width: 100%\">\n",
    "    <td style=\"width:33%; text-align:center; font-size:16px\">\n",
    "        <a href=\"py_exercise_3_3_chiral.ipynb\" style=\"font-size:13px\">III.3 Using Krotov's method to separate chiral molecules</a><br>\n",
    "        <a href=\"py_exercise_3_3_chiral.ipynb\">$\\downarrow$ next part $\\downarrow$</a>\n",
    "    </td>\n",
    "  </tr>\n",
    "</table>\n",
    "\n",
    "<div style=\"text-align: right;font-size: 16px\"><a href=\"../Julia/jl_exercise_2_3_chiral.ipynb\">👉 Julia version</a></div>\n",
    "\n",
    "---\n",
    "<!-- Autoheader end -->"
   ]
  },
  {
   "cell_type": "markdown",
   "id": "b6ca6b7e",
   "metadata": {},
   "source": [
    "# Parameter Optimization of Three-Wave Mixing in a Three-Level System"
   ]
  },
  {
   "cell_type": "markdown",
   "id": "9a00c790",
   "metadata": {},
   "source": [
    "$\n",
    "\\newcommand{tr}[0]{\\operatorname{tr}}\n",
    "\\newcommand{diag}[0]{\\operatorname{diag}}\n",
    "\\newcommand{abs}[0]{\\operatorname{abs}}\n",
    "\\newcommand{pop}[0]{\\operatorname{pop}}\n",
    "\\newcommand{aux}[0]{\\text{aux}}\n",
    "\\newcommand{opt}[0]{\\text{opt}}\n",
    "\\newcommand{tgt}[0]{\\text{tgt}}\n",
    "\\newcommand{init}[0]{\\text{init}}\n",
    "\\newcommand{lab}[0]{\\text{lab}}\n",
    "\\newcommand{rwa}[0]{\\text{rwa}}\n",
    "\\newcommand{bra}[1]{\\langle#1\\vert}\n",
    "\\newcommand{ket}[1]{\\vert#1\\rangle}\n",
    "\\newcommand{Bra}[1]{\\left\\langle#1\\right\\vert}\n",
    "\\newcommand{Ket}[1]{\\left\\vert#1\\right\\rangle}\n",
    "\\newcommand{Braket}[2]{\\left\\langle #1\\vphantom{#2} \\mid #2\\vphantom{#1}\\right\\rangle}\n",
    "\\newcommand{op}[1]{\\hat{#1}}\n",
    "\\newcommand{Op}[1]{\\hat{#1}}\n",
    "\\newcommand{dd}[0]{\\,\\text{d}}\n",
    "\\newcommand{Liouville}[0]{\\mathcal{L}}\n",
    "\\newcommand{DynMap}[0]{\\mathcal{E}}\n",
    "\\newcommand{identity}[0]{\\mathbf{1}}\n",
    "\\newcommand{Norm}[1]{\\lVert#1\\rVert}\n",
    "\\newcommand{Abs}[1]{\\left\\vert#1\\right\\vert}\n",
    "\\newcommand{avg}[1]{\\langle#1\\rangle}\n",
    "\\newcommand{Avg}[1]{\\left\\langle#1\\right\\rangle}\n",
    "\\newcommand{AbsSq}[1]{\\left\\vert#1\\right\\vert^2}\n",
    "\\newcommand{Re}[0]{\\operatorname{Re}}\n",
    "\\newcommand{Im}[0]{\\operatorname{Im}}\n",
    "$"
   ]
  },
  {
   "cell_type": "markdown",
   "id": "7bc7e8db",
   "metadata": {},
   "source": [
    "This notebook performs optimization of three-wave mixing in a chiral three-level system.\n",
    "In this notebook you will learn how to use gradient-free parameter optimization via the `NLopt` package for the purpose of driving two three-level systems, representing the two mirror images (the so-called enantiomers) of a chiral molecules, such that they end up in distinct final states. This allows for the discrimination of enantiomers which is a central task in applications involving chiral molecules."
   ]
  },
  {
   "cell_type": "markdown",
   "id": "27651be4",
   "metadata": {},
   "source": [
    "## Setup"
   ]
  },
  {
   "cell_type": "markdown",
   "id": "d02ec586",
   "metadata": {},
   "source": [
    "We start with importing the necessary Python packages, among which are\n",
    "* `qutip`: a package for quantum modeling and dynamics\n",
    "* `nlopt`: an optimization package"
   ]
  },
  {
   "cell_type": "code",
   "execution_count": null,
   "id": "e42b9938",
   "metadata": {
    "tags": []
   },
   "outputs": [],
   "source": [
    "import sys\n",
    "import numpy as np\n",
    "import matplotlib.pyplot as plt\n",
    "%matplotlib inline\n",
    "import random\n",
    "pi = np.pi\n",
    "from qutip import *\n",
    "import nlopt\n",
    "\n",
    "# Some utilities for showing hints and solutions\n",
    "from utils.exercise_2_chiral import *"
   ]
  },
  {
   "cell_type": "markdown",
   "id": "f8a2f756",
   "metadata": {},
   "source": [
    "## Model\n",
    "\n",
    "<img src=\"../figures/3-level_mod.svg\" alt=\"Drawing\" style=\"width: 800px;\"/>\n",
    "\n",
    "The illustration above shows two a three-level model for a chiral molecules with the left and right side corresponding to the $+$(left), respectively $-$(right), enantiomer of the molecule.\n",
    "The three levels are connected with each other by an electric dipole transition. The only difference between the two enantiomers lies in the sign of the $\\mu_{c}$ component of the dipole transition moment. Our goal is to obtain 'enantioselectivity' which means that a sequence of microwave pulses applied to the two enantiomers starting in the same initial state will lead to two perfectly distinct final states."
   ]
  },
  {
   "cell_type": "markdown",
   "id": "b7359304",
   "metadata": {},
   "source": [
    "## Hamiltonian\n",
    "We begin by defining the function `total_enantiomer_ham`. This function returns the Hamiltonian (in the rotating frame) for the two enantiomers, i.e.,\n",
    "\n",
    "$$\n",
    "\\hat{H}_{I}^{(\\pm)}(t) = \\sum_{i=1}^{3} \\hat{H}_{i}^{(\\pm)}(t)\n",
    "$$\n",
    "\n",
    "with\n",
    "\n",
    "$$\n",
    "\\hat{H}_{1}^{(\\pm)}(t)\n",
    "=\n",
    "- E_{1}(t) \\mu_{b}^{(\\pm)}\n",
    "\\begin{pmatrix}\n",
    "  0 & e^{i \\phi_{1}} & 0 \\\\\n",
    "  e^{- i \\phi_{1}} & 0 & 0 \\\\\n",
    "  0 & 0 & 0 \\\\\n",
    "\\end{pmatrix},\n",
    "\\\\\n",
    "\\hat{H}_{2}^{(\\pm)}(t)\n",
    "=\n",
    "- E_{2}(t) \\mu_{a}^{(\\pm)}\n",
    "\\begin{pmatrix}\n",
    "  0 & 0 & 0 \\\\\n",
    "  0 & 0 & e^{i \\phi_{2}} \\\\\n",
    "  0 & e^{- i \\phi_{2}} & 0 \\\\\n",
    "\\end{pmatrix},\n",
    "\\\\\n",
    "\\hat{H}_{3}^{(\\pm)}(t)\n",
    "=\n",
    "- E_{3}(t) \\mu_{c}^{(\\pm)}\n",
    "\\begin{pmatrix}\n",
    "  0 & 0 & e^{i \\phi_{3}} \\\\\n",
    "  0 & 0 & 0 \\\\\n",
    "  e^{- i \\phi_{3}} & 0 & 0 \\\\\n",
    "\\end{pmatrix}\n",
    "$$\n",
    "\n",
    "and where\n",
    "\n",
    "$$\n",
    "E_{i}(t)\n",
    "=\n",
    "\\frac{E_{i,0}}{2}\n",
    "\\left[\\tanh(a (t - t_{i,1})) - \\tanh(a (t - t_{i,2}))\\right]\n",
    "$$\n",
    "\n",
    "for $i \\in \\left\\{1,2,3\\right\\}$ are the envelopes of the pulses with frequencies $\\omega, \\delta \\omega$ and $\\omega + \\delta \\omega$.\n",
    "\n",
    "The function takes three different sets of input parameters, which altogether specify the Hamiltonian and the control fields in their entirety. The three sets are, respectively:\n",
    "\n",
    "* `pulse_durations`: A list of the three durations $\\Delta t_{i} = t_{i,2} - t_{i,1}$ of each of the three fields $E_{i0}(t)$. Field $i$ is assumed to start when field $i-1$ ends. The first field starts at $t_{1,1}=0$.\n",
    "* `phis`: A list of the three real phases $\\phi_{i}$ for each field.\n",
    "* `Ei0s`: A list of the three real amplitudes $E_{i0}$ for each field.\n",
    "* `sign`: The string `+` or `-` specifies which Hamiltonian, i.e., $H_{I}^{(+)}(t)$ or $H_{I}^{(-)}(t)$, is retuned.\n",
    "* `a`: This is a parameter which controls how smooth each field is turned on and off. The larger `a` becomes, the more the field shapes $E_{i0}(t)$ resemble a rectangle."
   ]
  },
  {
   "cell_type": "code",
   "execution_count": null,
   "id": "85524bae",
   "metadata": {},
   "outputs": [],
   "source": [
    "# lists in python begin at index 0, so this shift is to offset the level indices for the list addresses\n",
    "shift = -1\n",
    "def total_enantiomer_ham(pulse_durations, phis, Ei0s, sign, a):\n",
    "    H_i_list = []\n",
    "\n",
    "    # i is the index of the currently treated level\n",
    "    for i in [1,2,3]:\n",
    "        # select the right phi_i, E_i0 and mu_i for Hamiltonian H_i\n",
    "        phi_i = phis[shift+i]\n",
    "        phase = np.exp(1j*phi_i)\n",
    "        phase_dag = np.conj(phase)\n",
    "\n",
    "        E_i0 = Ei0s[i-1]\n",
    "        mu_i = -1. if (sign == '-' and i == 3) else 1.\n",
    "\n",
    "        # define Hamiltonian H_i by connecting levels and pulses according to\n",
    "        # pulse 1: 1 <-> 2\n",
    "        # pulse 2: 2 <-> 3\n",
    "        # pulse 3: 1 <-> 3\n",
    "        if i == 1:\n",
    "            H_i = mu_i*Qobj([\n",
    "                [        0,    phase,        0],\n",
    "                [phase_dag,        0,        0],\n",
    "                [        0,        0,        0]])\n",
    "        if i == 2:\n",
    "            H_i = mu_i*Qobj([\n",
    "                [        0,        0,        0],\n",
    "                [        0,        0,    phase],\n",
    "                [        0,phase_dag,        0]])\n",
    "        if i == 3:\n",
    "            H_i = mu_i*Qobj([\n",
    "                [        0,        0,    phase],\n",
    "                [        0,        0,        0],\n",
    "                [phase_dag,        0,        0]])\n",
    "\n",
    "        # define the start and end time of the field that couples to Hamiltonian H_i\n",
    "        t_i1 = np.sum(pulse_durations[:shift+i])\n",
    "        t_i2 = t_i1 + pulse_durations[shift+i]\n",
    "\n",
    "        # specify the form of the control field\n",
    "        def guess_control(E_i0, a, t_i1, t_i2):\n",
    "            return lambda t,args : 0.5*E_i0*(np.tanh(a*(t-t_i1))-np.tanh(a*(t-t_i2)))\n",
    "\n",
    "        H_i_list.append([H_i, guess_control(E_i0, a, t_i1, t_i2)])\n",
    "\n",
    "    return H_i_list"
   ]
  },
  {
   "cell_type": "markdown",
   "id": "ba1e787d",
   "metadata": {},
   "source": [
    "We define the initial state as\n",
    "\n",
    "$$\n",
    "\\Psi_{\\pm}(0)\n",
    "=\n",
    "\\begin{pmatrix}\n",
    "  1 \\\\ 0 \\\\ 0\n",
    "\\end{pmatrix}.\n",
    "$$"
   ]
  },
  {
   "cell_type": "code",
   "execution_count": null,
   "id": "f08cb087",
   "metadata": {},
   "outputs": [],
   "source": [
    "# the initial state consists of three levels with population initially in the ground state\n",
    "psi_initial = Qobj([\n",
    "    [1],\n",
    "    [0],\n",
    "    [0]])"
   ]
  },
  {
   "cell_type": "markdown",
   "id": "4c2225a3",
   "metadata": {},
   "source": [
    "Our time grid is obtained by dividing $$t \\in \\left[0,1\\right]$$ into 100 equal intervals (remember that 100 intervals implies 101 points of the time grid)."
   ]
  },
  {
   "cell_type": "code",
   "execution_count": null,
   "id": "95b9efed",
   "metadata": {},
   "outputs": [],
   "source": [
    "tlist = np.linspace(0., 1., 101)"
   ]
  },
  {
   "cell_type": "markdown",
   "id": "65d9aa9c",
   "metadata": {},
   "source": [
    "## Problem 0 - Pulse parameterisation\n",
    "We begin by familiarizing ourselves with the pulse parameterization. In this notebook the pulses are formed by the difference between two hyperbolic tangent functions.\n",
    "`E0` controls the pulse amplitude, `a` controls how rectangular the pulse appears and `t_start` and `t_stop` determine when the pulse starts and ends.\n",
    "Try changing the arguments of `plot_parameterised_pulse`, such that the two curves match (an exact fit is difficult, it is sufficient to aim for a value of the calculated mismatch which is below one)."
   ]
  },
  {
   "cell_type": "code",
   "execution_count": null,
   "id": "d74a3d06",
   "metadata": {},
   "outputs": [],
   "source": [
    "def plot_parameterised_pulse(E0,a,t_start,t_stop):\n",
    "    tanh_pulse = 0.5 * E0 * (np.tanh(a*(tlist-t_start))-np.tanh(a*(tlist-t_stop)))\n",
    "    def target_pulse():\n",
    "        return 20*np.exp(-20*(tlist-0.5)**2)\n",
    "    mismatch = np.linalg.norm(tanh_pulse - target_pulse(), ord=1) / len(tlist)\n",
    "    plt.plot(tlist,tanh_pulse,label='your pulse', c='g' if mismatch < 1 else 'b')\n",
    "    plt.plot(tlist,target_pulse(),label='target pulse',c='orange')\n",
    "    plt.text(0.,20,'mismatch: {:8.4f}'.format(mismatch))\n",
    "    plt.legend()\n",
    "\n",
    "plot_parameterised_pulse(E0=3.14,a=500,t_start=0.15,t_stop=0.85)"
   ]
  },
  {
   "cell_type": "code",
   "execution_count": null,
   "id": "65561af7",
   "metadata": {},
   "outputs": [],
   "source": [
    "#problem_0.hint"
   ]
  },
  {
   "cell_type": "code",
   "execution_count": null,
   "id": "073a0ff4",
   "metadata": {},
   "outputs": [],
   "source": [
    "#problem_0.solution"
   ]
  },
  {
   "cell_type": "markdown",
   "id": "dfe97912",
   "metadata": {},
   "source": [
    "## Initialise optimization\n",
    "\n",
    "Now we can turn towards optimization. To this end, we use the optimization methods provided by the `nlopt` package. For simplicity, we use the well-known Nelder-Mead method. Note, however, that `nlopt` allows for a wide range of different methods.\n",
    "\n",
    "The `nlopt` for optimization requires a `loss` function, i.e. the optimization functional, which takes a set of real-valued parameters (called `x` here). One may also provide a function for the gradient but this is only required if a gradient-based optimization method is employed, which we do not study in this notebook on gradient-free optimization. Hence, we set the gradient to `None`.\n",
    "\n",
    "The `loss` function takes the list `x`, which contains our optimization parameters, i.e., all pulse durations, all phases $\\phi_{i}$ and all amplitudes $E_{i,0}$, on input and returns the error of the enantioselectivity protocol introduced above. Specifically, `loss` returns zero if and only if the dynamics obtained from the parameters in the set `x` transfers the initial state $\\Psi(0)$ perfectly into the target state, i.e.,\n",
    "\n",
    "$$\n",
    "\\Psi_{+}(0)\n",
    "\\longrightarrow\n",
    "\\Psi_{+}\\left(T\\right) =\n",
    "\\begin{pmatrix}\n",
    "  1 \\\\ 0 \\\\ 0\n",
    "\\end{pmatrix}\n",
    "$$\n",
    "\n",
    "for enantiomer `+` and\n",
    "\n",
    "$$\n",
    "\\Psi_{-}(0)\n",
    "\\longrightarrow\n",
    "\\Psi_{-}\\left(T\\right) =\n",
    "\\begin{pmatrix}\n",
    "  0 \\\\ 0 \\\\ 1\n",
    "\\end{pmatrix}\n",
    "$$\n",
    "\n",
    "for enantiomer `-`."
   ]
  },
  {
   "cell_type": "code",
   "execution_count": null,
   "id": "c6a29714",
   "metadata": {},
   "outputs": [],
   "source": [
    "def population(state,level):\n",
    "    return abs(state[shift+level][0][0])**2\n",
    "\n",
    "def loss(x, grad=None):\n",
    "    global iterations\n",
    "    global obtained_fidelities\n",
    "    iterations += 1\n",
    "    # map the optimization parameters from the set x to the three individual sets for times, phases and amplitudes\n",
    "    pulse_durations = [x[0],x[1],x[2]]\n",
    "    phis = [x[3],x[4],x[5]]\n",
    "    Ei0s = [x[6],x[7],x[8]]\n",
    "\n",
    "    # define the two Hamiltonians for the two enantiomers\n",
    "    Htot_plus = total_enantiomer_ham(pulse_durations, phis, Ei0s, '+', a=1000)\n",
    "    Htot_minus = total_enantiomer_ham(pulse_durations, phis, Ei0s, '-', a=1000)\n",
    "\n",
    "    # simulate the dynamics\n",
    "    results_plus = sesolve(Htot_plus, psi_initial, tlist)\n",
    "    results_minus = sesolve(Htot_minus, psi_initial, tlist)\n",
    "\n",
    "    # define the fidelity of the outcome\n",
    "    def fid(psi_plus, psi_minus):\n",
    "        return (population(psi_plus,level=1) + population(psi_minus,level=3))/2\n",
    "\n",
    "    # calculate the fidelity for the dynamics under the parameters from set x\n",
    "    fidelity = fid(results_plus.states[-1],results_minus.states[-1])\n",
    "    obtained_fidelities.append(fidelity)\n",
    "\n",
    "    print(f\"Iteration: {iterations:}, current fidelity {fidelity:8.4f}\", end=\"\\r\")\n",
    "    # return the error (this is our optimization functional)\n",
    "    return 1. - fidelity"
   ]
  },
  {
   "cell_type": "markdown",
   "id": "8eeb2c62",
   "metadata": {},
   "source": [
    "## Problem 1 - Run optimization\n",
    "\n",
    "Next, we can run the actual optimization. It requires us to define lower and upper bounds for all parameters that should be optimized. In our case, we choose\n",
    "\n",
    "$$\n",
    "0 \\leq t_{i,2} \\leq T=1,\n",
    "\\qquad\n",
    "0 \\leq \\phi_{i} \\leq 2 \\pi,\n",
    "\\qquad\n",
    "0 \\leq E_{i,0} \\leq 10.\n",
    "$$\n",
    "\n",
    "Note that we need to provide guess values for all nine parameters. The order that the parameters should appear in is:\n",
    "* `pulse_durations`\n",
    "* `phis`\n",
    "* `Ei0s`\n",
    "\n",
    "The choice of the guess values will often have an appreciable impact on the general success of the optimized solution and can even affect its form since many optimization problems allow for many different solutions.\n",
    "Your task is now to fill in the upper optimization bounds and to try different\n",
    "guesses to evaluate their impact on the optimization."
   ]
  },
  {
   "cell_type": "code",
   "execution_count": null,
   "id": "968c4bf6",
   "metadata": {},
   "outputs": [],
   "source": [
    "# define lower and upper bounds for three pulse durations, three phis and three E0s that are to be optimized\n",
    "bounds_lower = [0,0,0, 0,0,0, 0,0,0]\n",
    "bounds_upper = [insert_upper_bounds_here]\n",
    "\n",
    "## determine guess parameters for all parameters that are optimized\n",
    "# set guess parameters for all parameters that are optimized\n",
    "guess = [insert_guess_parameters_here]\n",
    "\n",
    "# specify the optimization method and the number of parameters that should be optimized\n",
    "# (given here by len(bounds_lower))\n",
    "opt = nlopt.opt(nlopt.LN_NELDERMEAD, len(bounds_lower))\n",
    "\n",
    "# set the lower and upper bound for the optimization\n",
    "opt.set_lower_bounds(bounds_lower)\n",
    "opt.set_upper_bounds(bounds_upper)\n",
    "opt.set_maxeval(500)\n",
    "\n",
    "# set the objective that should be optimized (note that this implies minimisation)\n",
    "opt.set_min_objective(loss)\n",
    "\n",
    "# fidelity above which the optimization should be stopped\n",
    "fid_min = 0.99\n",
    "\n",
    "# define below which value, i.e., error, to stop the optimization\n",
    "opt.set_stopval(1.-fid_min)\n",
    "\n",
    "# perform the optimization\n",
    "obtained_fidelities = []\n",
    "iterations = 0\n",
    "x = opt.optimize(guess)\n",
    "\n",
    "print('\\n\\nHighest fidelity reached: {:6.2f}%'.format(100.0*(1-opt.last_optimum_value())))\n",
    "if opt.last_optimum_value() > 1-fid_min:\n",
    "    print('\\tbad guess, please try again!')\n",
    "else:\n",
    "    print('\\tcongratulations, you have obtained enantio-selectivity!')"
   ]
  },
  {
   "cell_type": "code",
   "execution_count": null,
   "id": "ac645fcc",
   "metadata": {},
   "outputs": [],
   "source": [
    "#problem_1.hint"
   ]
  },
  {
   "cell_type": "code",
   "execution_count": null,
   "id": "4bbdac6a",
   "metadata": {},
   "outputs": [],
   "source": [
    "#problem_1.solution"
   ]
  },
  {
   "cell_type": "code",
   "execution_count": null,
   "id": "c61c831e",
   "metadata": {},
   "outputs": [],
   "source": [
    "# plot the results\n",
    "plt.plot(range(len(obtained_fidelities)),obtained_fidelities,marker='x')\n",
    "plt.xlabel('optimization iterations');\n",
    "plt.ylabel('fidelity');"
   ]
  },
  {
   "cell_type": "markdown",
   "id": "8473ff97",
   "metadata": {},
   "source": [
    "## Analyze optimization results\n",
    "After optimiziation we can verify the optimization result by plotting the pulses\n",
    "as well as the resulting dynamics.\n",
    "To this end, we define the Hamiltonians of the two enantiomers given the optimized parameters."
   ]
  },
  {
   "cell_type": "code",
   "execution_count": null,
   "id": "bd12b214",
   "metadata": {},
   "outputs": [],
   "source": [
    "Htot_plus  = total_enantiomer_ham([x[0], x[1], x[2]], [x[3], x[4], x[5]], [x[6], x[7], x[8]], '+', a=1000)\n",
    "Htot_minus = total_enantiomer_ham([x[0], x[1], x[2]], [x[3], x[4], x[5]], [x[6], x[7], x[8]], '-', a=1000)"
   ]
  },
  {
   "cell_type": "markdown",
   "id": "9f3df412",
   "metadata": {},
   "source": [
    "In order to visualize the optimized pulses, we plot them in the following."
   ]
  },
  {
   "cell_type": "code",
   "execution_count": null,
   "id": "7ee90d4d",
   "metadata": {},
   "outputs": [],
   "source": [
    "tlist = np.linspace(0., 1., 500)\n",
    "def plot_pulse(pulses, tlist):\n",
    "    fig, ax = plt.subplots()\n",
    "    for i, pulse in enumerate(pulses):\n",
    "        if callable(pulse):\n",
    "            pulse = np.array([pulse(t, args=None) for t in tlist])\n",
    "        ax.plot(tlist, pulse, label=r\"$E_{}$\".format(i+1))\n",
    "    plt.xlabel(\"time\")\n",
    "    plt.ylabel(\"amplitude\")\n",
    "    plt.legend()\n",
    "    plt.show(fig)\n",
    "\n",
    "plot_pulse([Htot_plus[0][1], Htot_plus[1][1], Htot_plus[2][1]], tlist)"
   ]
  },
  {
   "cell_type": "markdown",
   "id": "869ef5c4",
   "metadata": {},
   "source": [
    "Finally, we solve the dynamics of the two enantiomers (now using the optimized parameters) and plot their population dynamics."
   ]
  },
  {
   "cell_type": "code",
   "execution_count": null,
   "id": "438beafe",
   "metadata": {},
   "outputs": [],
   "source": [
    "def propagate_system(Htot, title):\n",
    "    # simulate the dynamics determined by Htot\n",
    "    results = sesolve(Htot, psi_initial, tlist)\n",
    "\n",
    "    # collect the arrays for the population in the three levels\n",
    "    c_1 = [(abs(state[0])**2).item() for state in results.states]\n",
    "    c_2 = [(abs(state[1])**2).item() for state in results.states]\n",
    "    c_3 = [(abs(state[2])**2).item() for state in results.states]\n",
    "    # plot the population dynamics\n",
    "    plt.plot(tlist, c_1, label=r\"$\\left\\|c_1\\right|^2$\")\n",
    "    plt.plot(tlist, c_2, label=r\"$\\left\\|c_2\\right|^2$\")\n",
    "    plt.plot(tlist, c_3, label=r\"$\\left\\|c_3\\right|^2$\")\n",
    "    plt.xlabel(\"time\")\n",
    "    plt.ylabel(\"population\")\n",
    "    plt.title(title)\n",
    "    plt.legend()\n",
    "    plt.show()\n",
    "\n",
    "# plot the population dynamics for both enantiomers\n",
    "propagate_system(Htot_plus, \"enantiomer +\")\n",
    "propagate_system(Htot_minus, \"enantiomer -\")"
   ]
  },
  {
   "cell_type": "markdown",
   "id": "3078555f",
   "metadata": {},
   "source": [
    "In the plots above you see how the population evolves under the influence of our parameterised pulses. If the optimization was successful, the populations of the two enantiomers at the final time $T$ should be entirely in the $\\Psi_{+}(T)$ (first level) and $\\Psi_{-}(T)$ (third level) target states, respectively."
   ]
  },
  {
   "cell_type": "markdown",
   "id": "1f2a51c5",
   "metadata": {},
   "source": [
    "## Next steps"
   ]
  },
  {
   "cell_type": "markdown",
   "id": "9732a005",
   "metadata": {},
   "source": [
    "This notebook is our final example for parameter optimization. Now you are ready to learn about gradient-based optimization. [Exercise III.2](py_exercise_3_2_lambda.ipynb) gives an introduction to this concept for the example of the STIRAP protocol. Alternatively, if you would like to stick with chiral molecules and three-wave-mixing, have a look at [Exercise III.3](py_exercise_3_3_chiral.ipynb), in which gradient-based opimization is employed for the problem you studied in this notebook."
   ]
  },
  {
   "cell_type": "markdown",
   "id": "a3b11d38",
   "metadata": {},
   "source": [
    "<!-- Autofooter begin -->\n",
    "\n",
    "---\n",
    "\n",
    "[⬆︎ jump to top](#navtitle_2_3_py)\n",
    "<!-- Autofooter end -->"
   ]
  }
 ],
 "metadata": {
  "kernelspec": {
   "display_name": "Python (local .venv)",
   "language": "python",
   "name": "python-localvenv"
  },
  "language_info": {
   "codemirror_mode": {
    "name": "ipython",
    "version": 3
   },
   "file_extension": ".py",
   "mimetype": "text/x-python",
   "name": "python",
   "nbconvert_exporter": "python",
   "pygments_lexer": "ipython3",
   "version": "3.10.14"
  }
 },
 "nbformat": 4,
 "nbformat_minor": 5
}
