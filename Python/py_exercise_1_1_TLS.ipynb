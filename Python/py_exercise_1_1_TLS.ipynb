{
 "cells": [
  {
   "cell_type": "markdown",
   "id": "7839bc2a",
   "metadata": {},
   "source": [
    "<!-- Autoheader begin -->\n",
    "<hr/>\n",
    "<div id=\"navtitle_1_1_py\" style=\"text-align:center; font-size:16px\">I.1 Population Inversion in a Two-Level-System</div>\n",
    "<hr/>\n",
    "<table style=\"width: 100%\">\n",
    "  <tr>\n",
    "    <th rowspan=\"2\" style=\"width:33%; text-align:center; font-size:16px\">\n",
    "    </th>\n",
    "    <td style=\"width:33%; text-align:center; font-size:16px\">\n",
    "    </td>\n",
    "    <th rowspan=\"2\" style=\"width:33%; text-align:center; font-size:16px\">\n",
    "        <a href=\"py_exercise_1_2_lambda.ipynb\">next notebook $\\rightarrow$</a><br>\n",
    "        <a href=\"py_exercise_1_2_lambda.ipynb\" style=\"font-size:13px\">I.2 Population Transfer in a Three-Level-System with STIRAP</a>\n",
    "    </th>\n",
    "  </tr>\n",
    "  <tr style=\"width: 100%\">\n",
    "    <td style=\"width:33%; text-align:center; font-size:16px\">\n",
    "        <a href=\"py_exercise_2_1_TLS.ipynb\" style=\"font-size:13px\">II.1 Population Inversion in a Two-Level-System using Parameter Optimization</a><br>\n",
    "        <a href=\"py_exercise_2_1_TLS.ipynb\">$\\downarrow$ next part $\\downarrow$</a>\n",
    "    </td>\n",
    "  </tr>\n",
    "</table>\n",
    "\n",
    "<div style=\"text-align: right;font-size: 16px\"><a href=\"../Julia/jl_exercise_1_1_TLS.ipynb\">👉 Julia version</a></div>\n",
    "\n",
    "---\n",
    "<!-- Autoheader end -->"
   ]
  },
  {
   "cell_type": "markdown",
   "id": "b4303c06",
   "metadata": {},
   "source": [
    "# Population Inversion in a Two-Level-System"
   ]
  },
  {
   "cell_type": "markdown",
   "id": "24815a90",
   "metadata": {},
   "source": [
    "The purpose of this notebook is to introduce you to the framework of Jupyter notebooks and to demonstrate how they can be used to simulate a simple quantum system - a two-level system. Jupyter notebooks allow to create and share interactive documents including live code and equations and to access them via a web browser. They can work with many programming languages running the calculations in the background - here we use Python. The goal of this notebook is to allow you to gain familiarity with a typical workflow in a Jupyter notebook while learning about the paradigmatic example of light-matter interaction: \"Rabi cycling\" in a two-level system. Rabi cycling is a term describing the periodic excitation and de-excitation due to coherent interaction with a light field. Working on this example will also allow you to get to know some useful Python packages for the numerical description and simulation of quantum systems."
   ]
  },
  {
   "cell_type": "markdown",
   "id": "fe3e03ca",
   "metadata": {},
   "source": [
    "## How to use this notebook"
   ]
  },
  {
   "cell_type": "markdown",
   "id": "3aa746d8",
   "metadata": {},
   "source": [
    "*You can evaluate all cells marked with `[n]:` by* **selecting it and hitting\n",
    "SHIFT+ENTER** *or the play button in the top panel.*\n",
    "\n",
    "Just go through the notebook and evaluate the cells one after another. You\n",
    "can also change the cell to play around with the values and reevaluate it. If\n",
    "you do so, make sure to evaluate all the cells that rely on the one you\n",
    "changed. Have fun!"
   ]
  },
  {
   "cell_type": "markdown",
   "id": "6b5da6f9",
   "metadata": {},
   "source": [
    "## Physical background"
   ]
  },
  {
   "cell_type": "markdown",
   "id": "7da15b3f",
   "metadata": {},
   "source": [
    "In this exercise we simulate the interaction of a two-level-system with a\n",
    "laser pulse.\n",
    "\n",
    "The Hamiltonian of the two-level-system is defined as\n",
    "\n",
    "$$\n",
    "\\hat{H}(t) = \\hat{H}_0 + \\hat{H}_1(t)\n",
    "\\;,\n",
    "$$\n",
    "\n",
    "where $\\hat{H}_0$ is the time-independent Hamiltonian of the system and\n",
    "$\\hat{H}_1(t)=E(t) \\, \\hat{V}$ describes the interaction with the field $E(t)$.\n",
    "\n",
    "Choosing the eigenstates of $\\hat{H}_0$ as a basis, $\\{|0⟩, |1⟩\\}$, we\n",
    "can represent the system Hamiltonian by\n",
    "\n",
    "$$\n",
    "\\hat{H}_0 = -\\frac{\\omega}{2}\n",
    "\\begin{pmatrix}\n",
    "1 & 0 \\\\\n",
    "0 & -1\n",
    "\\end{pmatrix}\n",
    "$$\n",
    "\n",
    "and the interaction operator $\\hat{V}$ by\n",
    "\n",
    "$$\n",
    "\\hat{V} = -\\mu_{01}\n",
    "\\begin{pmatrix}\n",
    "0 & 1 \\\\\n",
    "1 & 0\n",
    "\\end{pmatrix}\n",
    "\\;.\n",
    "$$\n",
    "\n",
    "Here, $\\omega>0$ is the energy splitting between the two levels and\n",
    "$\\mu_{01}$ is the transition matrix element.\n",
    "\n",
    "As you will find out by numerically simulating this system below, driving the\n",
    "system with a field $E(t)$ with a suitable frequency $\\omega$ induces\n",
    "resonant Rabi cycling, where the population perfectly cycles between the two\n",
    "levels."
   ]
  },
  {
   "cell_type": "markdown",
   "id": "c65e6bab",
   "metadata": {},
   "source": [
    "## Selected Python packages"
   ]
  },
  {
   "cell_type": "markdown",
   "id": "1b8496b9",
   "metadata": {},
   "source": [
    "The most important Python packages for numerics and data analysis are\n",
    "[NumPy](https://numpy.org/doc/stable/user/whatisnumpy.html) and\n",
    "[SciPy](https://docs.scipy.org/doc/scipy/reference/). NumPy provides you with\n",
    "the basic data structures (i.e. multidimensional arrays), functions for array\n",
    "manipulation (reshaping, summation etc.), elementary mathematical functions\n",
    "(`sqrt`, `exp`, `cos` etc.) and basic linear algebra (diagonalization etc.).\n",
    "\n",
    "Because `numpy` is so central for numerics in Python, it is customary to\n",
    "import it with an abbreviated name"
   ]
  },
  {
   "cell_type": "code",
   "execution_count": null,
   "id": "f2c823d0",
   "metadata": {},
   "outputs": [],
   "source": [
    "import numpy as np"
   ]
  },
  {
   "cell_type": "markdown",
   "id": "3e376efe",
   "metadata": {},
   "source": [
    "You may also import symbols and functions from `numpy` for ease of use."
   ]
  },
  {
   "cell_type": "code",
   "execution_count": null,
   "id": "368e5ef4",
   "metadata": {},
   "outputs": [],
   "source": [
    "from numpy import pi, sqrt, exp, sin, cos"
   ]
  },
  {
   "cell_type": "markdown",
   "id": "45b1269f",
   "metadata": {},
   "source": [
    "SciPy adds more specialized functionality like signal processing, regression,\n",
    "numerical integration, differential equation solvers and much more. We will\n",
    "not use it in this notebook, but in general, it should be part of your\n",
    "toolbox."
   ]
  },
  {
   "cell_type": "markdown",
   "id": "2bf93d23",
   "metadata": {},
   "source": [
    "The Python package [Matplotlib](https://matplotlib.org/) is the base package\n",
    "for 2d data visualisation. It closely resembles the plotting syntax from\n",
    "Matlab. It is customary to load the high-level `pyplot` interface from\n",
    "`matplotlib` as"
   ]
  },
  {
   "cell_type": "code",
   "execution_count": null,
   "id": "ebf68966",
   "metadata": {},
   "outputs": [],
   "source": [
    "import matplotlib.pyplot as plt"
   ]
  },
  {
   "cell_type": "markdown",
   "id": "9781428f",
   "metadata": {},
   "source": [
    "[QuTiP](https://qutip.org/) is a great package for simulating quantum\n",
    "mechanical systems. It is developed for simulating closed and open quantum\n",
    "systems with a focus on quantum information processing. In particular, it\n",
    "defines a data structure for quantum objects (`qutip.Qobj`) and comes with a\n",
    "solver for the Schrödinger and Master equation (`qutip.mesolve()`)."
   ]
  },
  {
   "cell_type": "code",
   "execution_count": null,
   "id": "43272494",
   "metadata": {},
   "outputs": [],
   "source": [
    "import qutip"
   ]
  },
  {
   "cell_type": "markdown",
   "id": "8fa0165f",
   "metadata": {},
   "source": [
    "## Let's start!"
   ]
  },
  {
   "cell_type": "markdown",
   "id": "c776773d",
   "metadata": {},
   "source": [
    "We start with defining the time interval for the propagation. For numerical\n",
    "calculations, we need to represent the time interval by a grid with a finite\n",
    "amount of grid points.\n",
    "\n",
    "Let the time grid start at `t_start=0` and end at `t_stop=50` with a total\n",
    "amount of `nt=10000` grid points. We can create such a grid with NumPy's\n",
    "`np.linspace()` function:"
   ]
  },
  {
   "cell_type": "code",
   "execution_count": null,
   "id": "3cd4cb3d",
   "metadata": {},
   "outputs": [],
   "source": [
    "t_start = 0\n",
    "t_stop = 50\n",
    "nt = 10000\n",
    "t = np.linspace(t_start, t_stop, nt)"
   ]
  },
  {
   "cell_type": "markdown",
   "id": "df38906c",
   "metadata": {},
   "source": [
    "## The model"
   ]
  },
  {
   "cell_type": "markdown",
   "id": "d2c62b79",
   "metadata": {},
   "source": [
    "Now we need to define the individual parts of the Hamiltonian. For the\n",
    "simulation use the following parameters:"
   ]
  },
  {
   "cell_type": "code",
   "execution_count": null,
   "id": "97058462",
   "metadata": {},
   "outputs": [],
   "source": [
    "ω = 10\n",
    "μ_01 = 1"
   ]
  },
  {
   "cell_type": "markdown",
   "id": "3dd0da57",
   "metadata": {},
   "source": [
    "Note that Python has some support for unicode. In the notebooks, we will use it to\n",
    "display Greek letters for variable names and operators.\n",
    "\n",
    "In Jupyter notebooks, you can type Greek letters by using LaTeX macros and pressing the\n",
    "Tab key to convert it. E.g. `\\omega[tab]` will be converted to `ω`, or `\\mu[tab]` becomes `μ`."
   ]
  },
  {
   "cell_type": "markdown",
   "id": "73065b75",
   "metadata": {},
   "source": [
    "We also need the matrix for the time independent Hamiltonian $\\hat{H}_0$ ..."
   ]
  },
  {
   "cell_type": "code",
   "execution_count": null,
   "id": "b5ac1806",
   "metadata": {},
   "outputs": [],
   "source": [
    "H0 = -ω/2 * qutip.Qobj(\n",
    "    np.array([[1,  0],\n",
    "              [0, -1]])\n",
    ")\n",
    "\n",
    "display(H0) # shows the result"
   ]
  },
  {
   "cell_type": "markdown",
   "id": "d9237880",
   "metadata": {},
   "source": [
    "... and the matrix for the interaction operator $\\hat{V}$"
   ]
  },
  {
   "cell_type": "code",
   "execution_count": null,
   "id": "942222ac",
   "metadata": {},
   "outputs": [],
   "source": [
    "V = -μ_01 * qutip.Qobj(\n",
    "    np.array([[0, 1],\n",
    "              [1, 0]])\n",
    ")\n",
    "\n",
    "display(V) # shows the result"
   ]
  },
  {
   "cell_type": "markdown",
   "id": "9dc3bf63",
   "metadata": {},
   "source": [
    "Next, we need to define the electric field `E` on the time grid `t`.\n",
    "\n",
    "We assume a Gaussian shaped pulse,\n",
    "\n",
    "$$\n",
    "E(t) = E_0 \\, e^{-(t-t_0)^2 / (2 \\tau^2)} \\, \\cos(\\omega_l (t-t_0) + \\phi)\n",
    "$$\n",
    "\n",
    "with the following parameters: $\\omega_l=\\omega$, $\\phi=0$, $E_0=0.2$ and\n",
    "$t_0=25$.\n",
    "\n",
    "When choosing a value for the pulse duration $\\tau$ one needs to be careful not to choose a duration larger than $7.5$, in order to ensure that the pulse fits completely onto our time grid."
   ]
  },
  {
   "cell_type": "code",
   "execution_count": null,
   "id": "fe61f4fc",
   "metadata": {},
   "outputs": [],
   "source": [
    "t_0 = 25\n",
    "ω_l = ω\n",
    "E0 = 0.2\n",
    "ϕ = 0\n",
    "τ = 2.5\n",
    "\n",
    "E = E0 * cos(ω_l * (t - t_0) + ϕ) * exp(-((t - t_0) ** 2) / (2 * τ ** 2))"
   ]
  },
  {
   "cell_type": "markdown",
   "id": "fa5072e4",
   "metadata": {},
   "source": [
    "Now we collect everything together and assemble the total Hamiltonian of our\n",
    "system. The QuTiP package wants us to store the Hamiltonian as nested list in\n",
    "the following form:"
   ]
  },
  {
   "cell_type": "code",
   "execution_count": null,
   "id": "a7ff0706",
   "metadata": {},
   "outputs": [],
   "source": [
    "H = [H0, [V, E]]"
   ]
  },
  {
   "cell_type": "markdown",
   "id": "61a577a2",
   "metadata": {},
   "source": [
    "As a last step in setting up the model, we define the two states."
   ]
  },
  {
   "cell_type": "code",
   "execution_count": null,
   "id": "b7375858",
   "metadata": {},
   "outputs": [],
   "source": [
    "ψ0 = qutip.Qobj(np.array([1, 0]))  # State |0⟩\n",
    "ψ1 = qutip.Qobj(np.array([0, 1]))  # State |1⟩\n",
    "\n",
    "display(ψ0, ψ1)  # shows the result"
   ]
  },
  {
   "cell_type": "markdown",
   "id": "4a34192e",
   "metadata": {},
   "source": [
    "## Propagation and results"
   ]
  },
  {
   "cell_type": "markdown",
   "id": "8f6e1471",
   "metadata": {},
   "source": [
    "Before we can start with the propagation, we first need to define the\n",
    "observables that we are interested in. For the present case, we are\n",
    "interested in the population dynamics. To track the population of the two\n",
    "levels, we define the projectors $\\hat{P}_{i} = |i⟩⟨i|$."
   ]
  },
  {
   "cell_type": "code",
   "execution_count": null,
   "id": "95d22242",
   "metadata": {},
   "outputs": [],
   "source": [
    "proj0 = ψ0 * ψ0.dag()\n",
    "proj1 = ψ1 * ψ1.dag()"
   ]
  },
  {
   "cell_type": "markdown",
   "id": "9c270e90",
   "metadata": {},
   "source": [
    "Having them set up, we can use QuTiP's **m**aster **e**quation **solve**r\n",
    "function to obtain the dynamics over time.\n",
    "As initial state of our simulation we choose the ground state, $|0⟩$."
   ]
  },
  {
   "cell_type": "code",
   "execution_count": null,
   "id": "bda1e1e8",
   "metadata": {},
   "outputs": [],
   "source": [
    "output = qutip.mesolve(H, ψ0, t, e_ops=[proj0, proj1])"
   ]
  },
  {
   "cell_type": "markdown",
   "id": "5414b100",
   "metadata": {},
   "source": [
    "Now let's plot the population dynamics:"
   ]
  },
  {
   "cell_type": "code",
   "execution_count": null,
   "id": "f8fd8be5",
   "metadata": {},
   "outputs": [],
   "source": [
    "fig, ax = plt.subplots()\n",
    "ax.plot(t, np.abs(E) / np.abs(E).max(), '-', color='lightgrey', label='|E|')\n",
    "ax.plot(t, output.expect[0], '-', label=r'$|0\\rangle$')\n",
    "ax.plot(t, output.expect[1], '--', label=r'$|1\\rangle$')\n",
    "ax.set_xlim(t.min(), t.max())\n",
    "ax.set_xlabel('Time')\n",
    "ax.set_ylabel('Population')\n",
    "ax.legend()\n",
    "plt.show()"
   ]
  },
  {
   "cell_type": "markdown",
   "id": "9009b551",
   "metadata": {},
   "source": [
    "Play with the pulse parameters and observe how this affects the population\n",
    "dynamics. Can you find a combination of parameters that produces a complete\n",
    "population inversion? What do you need to obtain a full Rabi cycle? What\n",
    "happens if you change the frequency of the laser pulse?"
   ]
  },
  {
   "cell_type": "markdown",
   "id": "061770af",
   "metadata": {},
   "source": [
    "## Next steps"
   ]
  },
  {
   "cell_type": "markdown",
   "id": "6bf131b1",
   "metadata": {},
   "source": [
    "Continue with [Exercise I.2](py_exercise_1_2_lambda.ipynb) to learn about about slightly more advanced light-matter-interaction in a three-level system, or with [Exercise I.3](py_exercise_1_3_chirp.ipynb) about the interaction of the same two-level-system with a *chirped* laser pulse. [Exercise II.1](py_exercise_2_1_TLS.ipynb) explains how to find the proper parameters to achieve the population inversion discussed above with a gradient-free optimization. [Exercise III.1](py_exercise_3_1_TLS.ipynb) does the same with a gradient-based approach (Krotov's method and GRAPE)."
   ]
  },
  {
   "cell_type": "markdown",
   "id": "29d85e2d",
   "metadata": {},
   "source": [
    "<!-- Autofooter begin -->\n",
    "\n",
    "---\n",
    "\n",
    "[⬆︎ jump to top](#navtitle_1_1_py)\n",
    "<!-- Autofooter end -->"
   ]
  }
 ],
 "metadata": {
  "kernelspec": {
   "display_name": "Python 3",
   "language": "python",
   "name": "python3"
  },
  "language_info": {
   "codemirror_mode": {
    "name": "ipython",
    "version": 3
   },
   "file_extension": ".py",
   "mimetype": "text/x-python",
   "name": "python",
   "nbconvert_exporter": "python",
   "pygments_lexer": "ipython3",
   "version": "3.9.2"
  }
 },
 "nbformat": 4,
 "nbformat_minor": 5
}
