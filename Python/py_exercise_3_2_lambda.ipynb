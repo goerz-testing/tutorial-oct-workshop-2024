{
 "cells": [
  {
   "cell_type": "markdown",
   "id": "1d38a736",
   "metadata": {},
   "source": [
    "<!-- Autoheader begin -->\n",
    "<hr/>\n",
    "<div id=\"navtitle_3_2_py\" style=\"text-align:center; font-size:16px\">III.2 Optimal Control for STIRAP</div>\n",
    "<hr/>\n",
    "<table style=\"width: 100%\">\n",
    "  <tr>\n",
    "    <th rowspan=\"2\" style=\"width:33%; text-align:center; font-size:16px\">\n",
    "        <a href=\"py_exercise_3_1_TLS.ipynb\">$\\leftarrow$ previous notebook </a><br>\n",
    "        <a href=\"py_exercise_3_1_TLS.ipynb\" style=\"font-size:13px\">III.1 Population Inversion in a Two-Level-System using Krotov's Method</a>\n",
    "    </th>\n",
    "    <td style=\"width:33%; text-align:center; font-size:16px\">\n",
    "        <a href=\"py_exercise_2_2_lambda.ipynb\">$\\uparrow$ previous part $\\uparrow$</a><br>\n",
    "        <a href=\"py_exercise_2_2_lambda.ipynb\" style=\"font-size:13px\">II.2 Parameter Optimization for STIRAP</a>\n",
    "    </td>\n",
    "    <th rowspan=\"2\" style=\"width:33%; text-align:center; font-size:16px\">\n",
    "        <a href=\"py_exercise_3_3_chiral.ipynb\">next notebook $\\rightarrow$</a><br>\n",
    "        <a href=\"py_exercise_3_3_chiral.ipynb\" style=\"font-size:13px\">III.3 Using Krotov's method to separate chiral molecules</a>\n",
    "    </th>\n",
    "  </tr>\n",
    "  <tr style=\"width: 100%\">\n",
    "    <td style=\"width:33%; text-align:center; font-size:16px\">\n",
    "    </td>\n",
    "  </tr>\n",
    "</table>\n",
    "\n",
    "<div style=\"text-align: right;font-size: 16px\"><a href=\"../Julia/jl_exercise_3_2_lambda.ipynb\">👉 Julia version</a></div>\n",
    "\n",
    "---\n",
    "<!-- Autoheader end -->"
   ]
  },
  {
   "cell_type": "markdown",
   "id": "cbb710a0",
   "metadata": {},
   "source": [
    "# Optimal Control for STIRAP"
   ]
  },
  {
   "cell_type": "markdown",
   "id": "f1ada535",
   "metadata": {
    "slideshow": {
     "slide_type": ""
    }
   },
   "source": [
    "$\\newcommand{tr}[0]{\\operatorname{tr}}\n",
    "\\newcommand{diag}[0]{\\operatorname{diag}}\n",
    "\\newcommand{abs}[0]{\\operatorname{abs}}\n",
    "\\newcommand{pop}[0]{\\operatorname{pop}}\n",
    "\\newcommand{aux}[0]{\\text{aux}}\n",
    "\\newcommand{opt}[0]{\\text{opt}}\n",
    "\\newcommand{tgt}[0]{\\text{tgt}}\n",
    "\\newcommand{init}[0]{\\text{init}}\n",
    "\\newcommand{lab}[0]{\\text{lab}}\n",
    "\\newcommand{rwa}[0]{\\text{rwa}}\n",
    "\\newcommand{bra}[1]{\\langle#1\\vert}\n",
    "\\newcommand{ket}[1]{\\vert#1\\rangle}\n",
    "\\newcommand{Bra}[1]{\\left\\langle#1\\right\\vert}\n",
    "\\newcommand{Ket}[1]{\\left\\vert#1\\right\\rangle}\n",
    "\\newcommand{Braket}[2]{\\left\\langle #1\\vphantom{#2} \\mid #2\\vphantom{#1}\\right\\rangle}\n",
    "\\newcommand{Ketbra}[2]{\\left\\vert#1\\vphantom{#2} \\right\\rangle \\hspace{-0.2em} \\left\\langle #2\\vphantom{#1}\\right\\vert}\n",
    "\\newcommand{e}[1]{\\mathrm{e}^{#1}}\n",
    "\\newcommand{op}[1]{\\hat{#1}}\n",
    "\\newcommand{Op}[1]{\\hat{#1}}\n",
    "\\newcommand{dd}[0]{\\,\\text{d}}\n",
    "\\newcommand{Liouville}[0]{\\mathcal{L}}\n",
    "\\newcommand{DynMap}[0]{\\mathcal{E}}\n",
    "\\newcommand{identity}[0]{\\mathbf{1}}\n",
    "\\newcommand{Norm}[1]{\\lVert#1\\rVert}\n",
    "\\newcommand{Abs}[1]{\\left\\vert#1\\right\\vert}\n",
    "\\newcommand{avg}[1]{\\langle#1\\rangle}\n",
    "\\newcommand{Avg}[1]{\\left\\langle#1\\right\\rangle}\n",
    "\\newcommand{AbsSq}[1]{\\left\\vert#1\\right\\vert^2}\n",
    "\\newcommand{Re}[0]{\\operatorname{Re}}\n",
    "\\newcommand{Im}[0]{\\operatorname{Im}}\n",
    "\\newcommand{toP}[0]{\\omega_{12}}\n",
    "\\newcommand{toS}[0]{\\omega_{23}}\n",
    "\\newcommand{oft}[0]{\\left(t\\right)}\n",
    "$"
   ]
  },
  {
   "cell_type": "markdown",
   "id": "afa345e6",
   "metadata": {
    "slideshow": {
     "slide_type": ""
    }
   },
   "source": [
    "In this notebook, you will learn how to optimize the STIRAP protocol for the lambda system we have studied already in [Exercise I.2](py_exercise_1_2_lambda.ipynb) and [Exercise II.2](py_exercise_2_2_lambda.ipynb) using the [`krotov` Python package](https://github.com/qucontrol/krotov), similarly to [Exercise III.1](py_exercise_3_1_TLS.ipynb)."
   ]
  },
  {
   "cell_type": "markdown",
   "id": "d281a649",
   "metadata": {},
   "source": [
    "## Setup"
   ]
  },
  {
   "cell_type": "code",
   "execution_count": null,
   "id": "3843328d",
   "metadata": {},
   "outputs": [],
   "source": [
    "import qutip # QUantum Toolbox In Python\n",
    "import qutip as qt # QUantum Toolbox In Python\n",
    "import numpy as np # package for numerical functions such as cos, sin, etc.\n",
    "import scipy\n",
    "import matplotlib # package for plotting\n",
    "import matplotlib.pylab as plt\n",
    "\n",
    "import krotov # package for optimizing with krotov\n",
    "\n",
    "from utils.exercise_3_lambda import *"
   ]
  },
  {
   "cell_type": "markdown",
   "id": "e305c9ef",
   "metadata": {},
   "source": [
    "## Model"
   ]
  },
  {
   "cell_type": "markdown",
   "id": "54b77ae2",
   "metadata": {},
   "source": [
    "Our model consists of the \"Lambda system\" shown below which we already discussed\n",
    "in the respective notebooks in part 1 and part 2.\n",
    "As a reminder, the Hamiltonian in the rotating frame is given by:\n",
    "\n",
    "\\begin{align*}\n",
    "  H = \\begin{pmatrix}\n",
    "        0                    & \\frac{1}{2}\\Omega_{P}^{*}(t) & 0 \\\\\n",
    "    \\frac{1}{2}\\Omega_{P}(t) & \\Delta_P                     & \\frac{1}{2}\\Omega_{S}^{*}(t)\\\\\n",
    "        0                    & \\frac{1}{2}\\Omega_{S}(t)     & \\Delta_P-\\Delta_S\n",
    "  \\end{pmatrix}\n",
    "\\end{align*}\n",
    "\n",
    "where we use the same definitions as in [Exercise I.2](py_exercise_1_2_lambda.ipynb), i.e.\n",
    "\n",
    "$\\Delta_{\\mathrm{P}} = \\left(\\omega_2 - \\omega_1\\right) - \\omega_{\\mathrm{P}}$ and\n",
    "$\\Delta_{\\mathrm{S}} = \\left(\\omega_2 - \\omega_3 \\right) - \\omega_{\\mathrm{S}}$.\n",
    "\n",
    "Note that the Rabi frequencies are complex, i.e.\n",
    "\n",
    "$\\Omega_{\\mathrm{P}} = \\Omega^{(1)}_{\\mathrm{P}} + i\\Omega^{(2)}_{\\mathrm{P}}$ and\n",
    "$\\Omega_{\\mathrm{S}} = \\Omega^{(1)}_{\\mathrm{S}} + i\\Omega^{(2)}_{\\mathrm{S}}$.\n",
    "\n",
    "In the following, we will optimize the real and imaginary part of\n",
    "$\\Omega_{\\mathrm{S}}$ and $\\Omega_{\\mathrm{P}}$ independently.\n",
    "\n",
    "<center><img src=\"../figures/lambda_system_levels.png\" alt=\"Lambda system considered in this notebook\" width=\"500\"></center>"
   ]
  },
  {
   "cell_type": "markdown",
   "id": "1e67335d",
   "metadata": {},
   "source": [
    "First, we set up the Hamiltonian using QuTiP."
   ]
  },
  {
   "cell_type": "code",
   "execution_count": null,
   "id": "eb813df4",
   "metadata": {},
   "outputs": [],
   "source": [
    "# Parameters\n",
    "ω1 = 0.0\n",
    "ω2 = 10.0\n",
    "ω3 = 5.0\n",
    "ω_P = 9.5  # 10.#\n",
    "ω_S = 4.5  #  5.#"
   ]
  },
  {
   "cell_type": "code",
   "execution_count": null,
   "id": "9c78dcd9",
   "metadata": {},
   "outputs": [],
   "source": [
    "Δ_P = (ω2 - ω1) - ω_P\n",
    "Δ_S = (ω2 - ω3) - ω_S"
   ]
  },
  {
   "cell_type": "markdown",
   "id": "c3b9e9bc",
   "metadata": {
    "slideshow": {
     "slide_type": ""
    }
   },
   "source": [
    "We begin with the drift Hamltonian:"
   ]
  },
  {
   "cell_type": "code",
   "execution_count": null,
   "id": "82cb111e",
   "metadata": {},
   "outputs": [],
   "source": [
    "H0 = qt.Qobj(np.diag([0, Δ_P, Δ_P - Δ_S]))"
   ]
  },
  {
   "cell_type": "markdown",
   "id": "9d9de43b",
   "metadata": {
    "slideshow": {
     "slide_type": ""
    }
   },
   "source": [
    "Next, we define the \"pump\" Hamiltonian:"
   ]
  },
  {
   "cell_type": "code",
   "execution_count": null,
   "id": "982f2e94",
   "metadata": {},
   "outputs": [],
   "source": [
    "H1P_re = qt.Qobj([[0, 1, 0], [1, 0, 0], [0, 0, 0]]) / 2\n",
    "H1P_im = qt.Qobj([[0, 1j, 0], [-1j, 0, 0], [0, 0, 0]]) / 2"
   ]
  },
  {
   "cell_type": "markdown",
   "id": "7ebf2a14",
   "metadata": {
    "slideshow": {
     "slide_type": ""
    }
   },
   "source": [
    "And lastly, the \"Stokes\" Hamiltonian:"
   ]
  },
  {
   "cell_type": "code",
   "execution_count": null,
   "id": "66eefeb2",
   "metadata": {},
   "outputs": [],
   "source": [
    "H1S_re = qt.Qobj([[0, 0, 0], [0, 0, 1], [0, 1, 0]]) / 2\n",
    "H1S_im = qt.Qobj([[0, 0, 0], [0, 0, 1j], [0, -1j, 0]]) / 2"
   ]
  },
  {
   "cell_type": "markdown",
   "id": "009772b0",
   "metadata": {},
   "source": [
    "The final part of the Hamiltonian's setup is their combination to the total Hamiltonian (cf. ['Using Krotov with\n",
    "QuTiP'](https://qucontrol.github.io/krotov/v1.2.1/08_qutip_usage.html)). We\n",
    "leave the control field undefined for now (`None`). This will be amended in\n",
    "the following section."
   ]
  },
  {
   "cell_type": "code",
   "execution_count": null,
   "id": "a7c6d66b",
   "metadata": {},
   "outputs": [],
   "source": [
    "H = [H0, [H1P_re, None], [H1P_im, None], [H1S_re, None], [H1S_im, None]]"
   ]
  },
  {
   "cell_type": "markdown",
   "id": "1bd40abf",
   "metadata": {},
   "source": [
    "## Guess pulses"
   ]
  },
  {
   "cell_type": "markdown",
   "id": "4695ffbc",
   "metadata": {},
   "source": [
    "We choose an initial guess consisting of two low-intensity Blackman pulses.\n",
    "Initially, these are chosen to be real-valued. That is, the guess for the control Hamiltonians governing the imaginary part of the Rabi frequencies will be zero. We define two constructors that return\n",
    "functions with the required interface."
   ]
  },
  {
   "cell_type": "code",
   "execution_count": null,
   "id": "92808d3e",
   "metadata": {},
   "outputs": [],
   "source": [
    "def shape_field_real(t_start, t_stop, eps0):\n",
    "    def field_shaped(t, args):\n",
    "        return eps0 * krotov.shapes.blackman(t, t_start, t_stop)\n",
    "\n",
    "    return field_shaped"
   ]
  },
  {
   "cell_type": "code",
   "execution_count": null,
   "id": "10b244c1",
   "metadata": {},
   "outputs": [],
   "source": [
    "def shape_field_imag():\n",
    "    def field_shaped(t, args):\n",
    "        return 0\n",
    "\n",
    "    return field_shaped"
   ]
  },
  {
   "cell_type": "markdown",
   "id": "caa220cb",
   "metadata": {},
   "source": [
    "We can use these to update the pulses in the Hamiltonian"
   ]
  },
  {
   "cell_type": "code",
   "execution_count": null,
   "id": "2ac22a63",
   "metadata": {},
   "outputs": [],
   "source": [
    "H[1][1] = shape_field_real(t_start=1, t_stop=5, eps0=1)\n",
    "H[2][1] = shape_field_imag()\n",
    "H[3][1] = shape_field_real(t_start=0, t_stop=4, eps0=1)\n",
    "H[4][1] = shape_field_imag()"
   ]
  },
  {
   "cell_type": "markdown",
   "id": "8f0bc24f",
   "metadata": {},
   "source": [
    "These pulses are defined on the following time grid"
   ]
  },
  {
   "cell_type": "code",
   "execution_count": null,
   "id": "1201b8e7",
   "metadata": {},
   "outputs": [],
   "source": [
    "tlist = np.linspace(0.0, 5, 501)"
   ]
  },
  {
   "cell_type": "markdown",
   "id": "aa3b02d7",
   "metadata": {},
   "source": [
    "and look as follows"
   ]
  },
  {
   "cell_type": "code",
   "execution_count": null,
   "id": "90f9c87c",
   "metadata": {},
   "outputs": [],
   "source": [
    "def plot_pulse(pulse, tlist, ax, title):\n",
    "    if callable(pulse):\n",
    "        pulse = np.array([pulse(t, args=None) for t in tlist])\n",
    "    ax.plot(tlist, pulse)\n",
    "    ax.set_xlabel('time')\n",
    "    ax.set_ylabel('pulse amplitude')\n",
    "    ax.set_title(title)"
   ]
  },
  {
   "cell_type": "code",
   "execution_count": null,
   "id": "918133ea",
   "metadata": {},
   "outputs": [],
   "source": [
    "fig, ax = plt.subplots(2, 2)\n",
    "plot_pulse(H[1][1], tlist, ax[0, 0], title='$\\\\mathrm{Re}[\\\\Omega_P]$')\n",
    "plot_pulse(H[2][1], tlist, ax[0, 1], title='$\\\\mathrm{Im}[\\\\Omega_P]$')\n",
    "plot_pulse(H[3][1], tlist, ax[1, 0], title='$\\\\mathrm{Re}[\\\\Omega_S]$')\n",
    "plot_pulse(H[4][1], tlist, ax[1, 1], title='$\\\\mathrm{Im}[\\\\Omega_S]$')\n",
    "plt.tight_layout()\n",
    "plt.show(fig)"
   ]
  },
  {
   "cell_type": "markdown",
   "id": "045961b8",
   "metadata": {},
   "source": [
    "After having set up everything, let's see how good our guess is!\n",
    "To that end, we simulate the dynamics of the initial state"
   ]
  },
  {
   "cell_type": "code",
   "execution_count": null,
   "id": "e96197b1",
   "metadata": {
    "slideshow": {
     "slide_type": ""
    }
   },
   "outputs": [],
   "source": [
    "ket1 = qt.basis(3, 0)"
   ]
  },
  {
   "cell_type": "markdown",
   "id": "23f0a627",
   "metadata": {},
   "source": [
    "To keep track of the populations, we define the following projectors:"
   ]
  },
  {
   "cell_type": "code",
   "execution_count": null,
   "id": "ea4d880c",
   "metadata": {},
   "outputs": [],
   "source": [
    "proj1 = qt.projection(3, 0, 0)\n",
    "proj2 = qt.projection(3, 1, 1)\n",
    "proj3 = qt.projection(3, 2, 2)"
   ]
  },
  {
   "cell_type": "code",
   "execution_count": null,
   "id": "a40e622b",
   "metadata": {},
   "outputs": [],
   "source": [
    "guess_dynamics = qutip.mesolve(H, ket1, tlist, e_ops=[proj1, proj2, proj3])"
   ]
  },
  {
   "cell_type": "code",
   "execution_count": null,
   "id": "51415475",
   "metadata": {},
   "outputs": [],
   "source": [
    "fig, ax = plt.subplots()\n",
    "ax.plot(\n",
    "    guess_dynamics.times,\n",
    "    guess_dynamics.expect[0],\n",
    "    label=r'$|\\langle 1|\\psi|1\\rangle|^2$',\n",
    ")\n",
    "ax.plot(\n",
    "    guess_dynamics.times,\n",
    "    guess_dynamics.expect[1],\n",
    "    label=r'$|\\langle 2|\\psi|2\\rangle|^2$',\n",
    ")\n",
    "ax.plot(\n",
    "    guess_dynamics.times,\n",
    "    guess_dynamics.expect[2],\n",
    "    label=r'$|\\langle 3|\\psi|3\\rangle|^2$',\n",
    ")\n",
    "ax.legend()\n",
    "ax.set_xlabel('time')\n",
    "ax.set_ylabel('population')\n",
    "plt.show(fig)"
   ]
  },
  {
   "cell_type": "markdown",
   "id": "c2f722e7",
   "metadata": {},
   "source": [
    "## Problem 1: Objective"
   ]
  },
  {
   "cell_type": "markdown",
   "id": "400fc00e",
   "metadata": {},
   "source": [
    "As already mentioned in the notebook for [Exercise III.1](py_exercise_3_1_TLS.ipynb), the\n",
    "[`optimize_pulse`](https://krotov.readthedocs.io/en/stable/API/krotov.optimize.html#krotov.optimize.optimize_pulses)\n",
    "method takes so-called \"objectives\". These contain the information about the\n",
    "quantum states that span the optimization, their dynamics, and the \"target\" of\n",
    "those dynamics.\n",
    "\n",
    "Try to define the objective according to our optimization goal of transferring\n",
    "$\\ket{1}$ to $\\ket{3}$"
   ]
  },
  {
   "cell_type": "code",
   "execution_count": null,
   "id": "feaba2f5",
   "metadata": {},
   "outputs": [],
   "source": [
    "ket3 = qt.basis(3, 2)"
   ]
  },
  {
   "cell_type": "code",
   "execution_count": null,
   "id": "c5078ee0",
   "metadata": {},
   "outputs": [],
   "source": [
    "objective = '---'"
   ]
  },
  {
   "cell_type": "code",
   "execution_count": null,
   "id": "2de4ca19",
   "metadata": {},
   "outputs": [],
   "source": [
    "#problem_1.hint\n",
    "#problem_1.solution"
   ]
  },
  {
   "cell_type": "markdown",
   "id": "80c61c10",
   "metadata": {},
   "source": [
    "## Problem 2: Specifying pulse options"
   ]
  },
  {
   "cell_type": "markdown",
   "id": "8487bd57",
   "metadata": {
    "slideshow": {
     "slide_type": ""
    }
   },
   "source": [
    "Now that our Hamiltonian is completely set up and the objective for our\n",
    "optimization is clear, we need to specify some parameters for Krotov's\n",
    "method, specifically, a dictionary of \"pulse options\"."
   ]
  },
  {
   "cell_type": "markdown",
   "id": "e81a0e5a",
   "metadata": {},
   "source": [
    "First, we define a \"pulse shape\". This must be a function in the range [0, 1]\n",
    "which switch on from zero at the beginning of the time grid, and goes back down\n",
    "to zero again at the end of the time grid. It furthermore scales the pulse update in\n",
    "Krotov's method at each point in time, and thus ensures that the physical\n",
    "boundary conditions of the control fields are maintained (i.e. they must remain\n",
    "zero at the beginning and end of the time grid). We begin with the following choice"
   ]
  },
  {
   "cell_type": "code",
   "execution_count": null,
   "id": "d5faea19",
   "metadata": {
    "slideshow": {
     "slide_type": ""
    }
   },
   "outputs": [],
   "source": [
    "def update_shape(t):\n",
    "    \"\"\"Scales the Krotov methods update of the pulse value at the time t\"\"\"\n",
    "    return krotov.shapes.flattop(t, 0.0, 5.0, t_rise=0.0001, func='sinsq')"
   ]
  },
  {
   "cell_type": "markdown",
   "id": "634791f6",
   "metadata": {},
   "source": [
    "**a)** Experiment with the `t_rise` parameter and plot the update shape with\n",
    "the following cell. Choose a reasonable value.\n",
    "\n",
    "Feel free to return to this point later on to experiment with the pulse shape and its impact on the\n",
    "optimization result."
   ]
  },
  {
   "cell_type": "code",
   "execution_count": null,
   "id": "09a34590",
   "metadata": {},
   "outputs": [],
   "source": [
    "fig, ax = plt.subplots()\n",
    "ax.plot(tlist, np.vectorize(update_shape)(tlist))\n",
    "ax.set_xlabel('time')\n",
    "ax.set_ylabel('update shape')\n",
    "plt.show(fig)"
   ]
  },
  {
   "cell_type": "code",
   "execution_count": null,
   "id": "8deba81b",
   "metadata": {},
   "outputs": [],
   "source": [
    "#problem_2a.solution"
   ]
  },
  {
   "cell_type": "markdown",
   "id": "4ea0be7b",
   "metadata": {},
   "source": [
    "In addition to the \"update shape\", the pulse options must also include\n",
    "a parameter $\\lambda_a$ which determines the overall magnitude of the pulse\n",
    "update in each iteration. In Krotov's update equation, the update at each\n",
    "point in time is scaled with an overall factor of $S(t)/\\lambda_a$, so larger\n",
    "values of update suppress the update, while smaller values increase the\n",
    "update, but tend to make the update more \"spiky\" and may lead to unphysical\n",
    "results. Here, we start with a relatively safe (i.e. large) value of $\\lambda_a =\n",
    "100$.\n",
    "\n",
    "**b)** After setting up the optimization in problem 3, return and choose a\n",
    "better value $\\lambda_a$ that yields faster convergence but does not produce\n",
    "unphysical pulses."
   ]
  },
  {
   "cell_type": "code",
   "execution_count": null,
   "id": "7717b9da",
   "metadata": {},
   "outputs": [],
   "source": [
    "lambda_a = 100\n",
    "pulse_options = {\n",
    "    H[1][1]: dict(lambda_a=lambda_a, update_shape=update_shape),\n",
    "    H[2][1]: dict(lambda_a=lambda_a, update_shape=update_shape),\n",
    "    H[3][1]: dict(lambda_a=lambda_a, update_shape=update_shape),\n",
    "    H[4][1]: dict(lambda_a=lambda_a, update_shape=update_shape)\n",
    "}"
   ]
  },
  {
   "cell_type": "code",
   "execution_count": null,
   "id": "403a2885",
   "metadata": {},
   "outputs": [],
   "source": [
    "#problem_2b.hint\n",
    "#problem_2b.solution"
   ]
  },
  {
   "cell_type": "markdown",
   "id": "c4f34e33",
   "metadata": {},
   "source": [
    "## Problem 3: Optimization with Krotov's method"
   ]
  },
  {
   "cell_type": "markdown",
   "id": "5c146531",
   "metadata": {},
   "source": [
    "Finally, we can use the `krotov` package's `optimize_pulses` with all the\n",
    "information we build up in the previous examples.\n",
    "\n",
    "Fill in the following missing values, which are indicated by\n",
    "`'###############'` below. Proceed as follows:\n",
    "\n",
    "**a)** Recall the API of the `optimize_pulses` function by looking at the [documentation](https://krotov.readthedocs.io/en/stable/API/krotov.optimize.html#krotov.optimize.optimize_pulses).\n",
    "\n",
    "**b)** Which functional (and therefore which `chi_constructor`) do we need here?\n",
    "\n",
    "Check the corresponding section in the [documentation](https://qucontrol.github.io/krotov/v1.0.0/07_krotovs_method.html#optimization-functional)\n",
    "and choose from the [functionals\n",
    "module](https://krotov.readthedocs.io/en/stable/API/krotov.functionals.html).\n",
    "\n",
    "**c)** What do the values for the `check_convergence` and `iter_stop`\n",
    "argument mean? Make a reasonable choice here.\n",
    "\n",
    "\n",
    "**d)** Maybe your optimization is slow to converge. Adjust the relevant\n",
    "parameters to obtain a better convergence (and thus better results in less time).\n",
    "\n",
    "Ensure that the changes you apply lead to reasonable results. If one wants to optimize for an experiment, the optimized pulses need to be physical such that they can be implemented in practice.\n"
   ]
  },
  {
   "cell_type": "code",
   "execution_count": null,
   "id": "96ea9f4a",
   "metadata": {
    "lines_to_next_cell": 2,
    "slideshow": {
     "slide_type": ""
    }
   },
   "outputs": [],
   "source": [
    "oct_result = krotov.optimize_pulses(\n",
    "    '#######a#######',\n",
    "    '#######a#######',\n",
    "    '#######a#######',\n",
    "    propagator=krotov.propagators.expm,\n",
    "    #\n",
    "    chi_constructor='#######b#######',\n",
    "    #\n",
    "    info_hook=krotov.info_hooks.print_table(\n",
    "        J_T='#######b#######',\n",
    "        unicode=True,\n",
    "    ),\n",
    "    check_convergence=krotov.convergence.Or(\n",
    "        krotov.convergence.value_below('#######c#######', name='J_T'),\n",
    "        krotov.convergence.delta_below('#######c#######'),\n",
    "        krotov.convergence.check_motonic_error,\n",
    "    ),\n",
    "    iter_stop='#######c#######',\n",
    ")"
   ]
  },
  {
   "cell_type": "code",
   "execution_count": null,
   "id": "95c7f8ab",
   "metadata": {},
   "outputs": [],
   "source": [
    "#problem_3b.hint"
   ]
  },
  {
   "cell_type": "code",
   "execution_count": null,
   "id": "5fa44859",
   "metadata": {},
   "outputs": [],
   "source": [
    "#problem_3c.hint"
   ]
  },
  {
   "cell_type": "code",
   "execution_count": null,
   "id": "7d01b875",
   "metadata": {},
   "outputs": [],
   "source": [
    "#problem_3d.hint"
   ]
  },
  {
   "cell_type": "code",
   "execution_count": null,
   "id": "984a0f56",
   "metadata": {},
   "outputs": [],
   "source": [
    "#problem_3.solution"
   ]
  },
  {
   "cell_type": "code",
   "execution_count": null,
   "id": "fce87c9d",
   "metadata": {},
   "outputs": [],
   "source": [
    "oct_result"
   ]
  },
  {
   "cell_type": "markdown",
   "id": "37ee3318",
   "metadata": {},
   "source": [
    "## Problem 4: Analyzing the results"
   ]
  },
  {
   "cell_type": "markdown",
   "id": "8a8e742f",
   "metadata": {},
   "source": [
    "Finally, we can have a look at our solution."
   ]
  },
  {
   "cell_type": "markdown",
   "id": "0d409cd2",
   "metadata": {},
   "source": [
    "**a)** Obtain the resulting objectives from the\n",
    "[oct_result](https://krotov.readthedocs.io/en/stable/API/krotov.result.html)\n",
    "and use mesolve to simulate the dynamics under the optimized pulse (as you did in\n",
    "3d))."
   ]
  },
  {
   "cell_type": "code",
   "execution_count": null,
   "id": "802edee8",
   "metadata": {},
   "outputs": [],
   "source": [
    "opt_dynamics = '-------'"
   ]
  },
  {
   "cell_type": "code",
   "execution_count": null,
   "id": "827f5484",
   "metadata": {},
   "outputs": [],
   "source": [
    "#problem_4a.hint\n",
    "#problem_4a.solution"
   ]
  },
  {
   "cell_type": "markdown",
   "id": "7e139148",
   "metadata": {},
   "source": [
    "After simulating the optimized dynamics we can plot them via"
   ]
  },
  {
   "cell_type": "code",
   "execution_count": null,
   "id": "bc18f8cc",
   "metadata": {},
   "outputs": [],
   "source": [
    "fig, ax = plt.subplots()\n",
    "ax.plot(opt_dynamics.times, opt_dynamics.expect[0], label='Projector 1')\n",
    "ax.plot(opt_dynamics.times, opt_dynamics.expect[1], label='Projector 2')\n",
    "ax.plot(opt_dynamics.times, opt_dynamics.expect[2], label='Projector 3')\n",
    "ax.legend()\n",
    "ax.set_xlabel('time')\n",
    "ax.set_ylabel('population')\n",
    "plt.show(fig)"
   ]
  },
  {
   "cell_type": "markdown",
   "id": "663ee038",
   "metadata": {},
   "source": [
    "Now we can also extract the optimized pulses and plot the amplitudes and\n",
    "phases of the pulses. To do this, you can use the following function, which\n",
    "takes the real and the imaginary part of the pulse and plot the amplitude and\n",
    "the phase:"
   ]
  },
  {
   "cell_type": "code",
   "execution_count": null,
   "id": "e2f1d108",
   "metadata": {},
   "outputs": [],
   "source": [
    "def plot_pulse_amplitude_and_phase(pulse_real, pulse_imaginary, tlist):\n",
    "    ax1 = plt.subplot(211)\n",
    "    ax2 = plt.subplot(212)\n",
    "    amplitudes = [\n",
    "        np.sqrt(x * x + y * y) for x, y in zip(pulse_real, pulse_imaginary)\n",
    "    ]\n",
    "    phases = [\n",
    "        np.arctan2(y, x) / np.pi for x, y in zip(pulse_real, pulse_imaginary)\n",
    "    ]\n",
    "    ax1.plot(tlist, amplitudes)\n",
    "    ax1.set_xlabel('time')\n",
    "    ax1.set_ylabel('pulse amplitude')\n",
    "    ax2.plot(tlist, phases)\n",
    "    ax2.set_xlabel('time')\n",
    "    ax2.set_ylabel('pulse phase (π)')\n",
    "    plt.show()"
   ]
  },
  {
   "cell_type": "markdown",
   "id": "734c6588",
   "metadata": {},
   "source": [
    "**b)** Plot the optimized controls, which are contained in the\n",
    "[oct_result](https://krotov.readthedocs.io/en/stable/API/krotov.result.html)."
   ]
  },
  {
   "cell_type": "code",
   "execution_count": null,
   "id": "7fa7c130",
   "metadata": {
    "lines_to_next_cell": 2
   },
   "outputs": [],
   "source": [
    "print(\"pump pulse amplitude and phase:\")\n",
    "plot_pulse_amplitude_and_phase(\n",
    "        \"--real-pump-controls--\",\n",
    "        \"--imag-pump-controls--\",\n",
    "        tlist\n",
    "    )"
   ]
  },
  {
   "cell_type": "code",
   "execution_count": null,
   "id": "57b7a90b",
   "metadata": {
    "lines_to_next_cell": 2
   },
   "outputs": [],
   "source": [
    "print(\"Stokes pulse amplitude and phase:\")\n",
    "plot_pulse_amplitude_and_phase(\n",
    "        \"--real-stokes-controls--\",\n",
    "        \"--imag-stokes-controls--\",\n",
    "        tlist\n",
    "    )"
   ]
  },
  {
   "cell_type": "code",
   "execution_count": null,
   "id": "3856993a",
   "metadata": {
    "lines_to_next_cell": 2
   },
   "outputs": [],
   "source": [
    "#problem_4b.solution"
   ]
  },
  {
   "cell_type": "markdown",
   "id": "1a2fd0a4",
   "metadata": {},
   "source": [
    "## Next steps"
   ]
  },
  {
   "cell_type": "markdown",
   "id": "38f40629",
   "metadata": {},
   "source": [
    "If you are interested in more examples of gradient-based optimization, have a look at [Exercise III.3](py_exercise_3_3_chiral.ipynb) which covers the topic of three-wave-mixing to distinguish between enantiomers of a chiral molecule. Alternatively, if you are more interested in gate optimization for quantum information applications, we recommend [Exercise III.4](py_exercise_3_4_gate.ipynb)."
   ]
  },
  {
   "cell_type": "markdown",
   "id": "7b730120",
   "metadata": {},
   "source": [
    "<!-- Autofooter begin -->\n",
    "\n",
    "---\n",
    "\n",
    "[⬆︎ jump to top](#navtitle_3_2_py)\n",
    "<!-- Autofooter end -->"
   ]
  }
 ],
 "metadata": {
  "jupytext": {
   "cell_metadata_json": true
  },
  "kernelspec": {
   "display_name": "Python 3",
   "language": "python",
   "name": "python3"
  },
  "language_info": {
   "codemirror_mode": {
    "name": "ipython",
    "version": 3
   },
   "file_extension": ".py",
   "mimetype": "text/x-python",
   "name": "python",
   "nbconvert_exporter": "python",
   "pygments_lexer": "ipython3",
   "version": "3.9.2"
  }
 },
 "nbformat": 4,
 "nbformat_minor": 5
}
