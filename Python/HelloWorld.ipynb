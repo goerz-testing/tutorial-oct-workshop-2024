{
 "cells": [
  {
   "cell_type": "markdown",
   "id": "47573a4f",
   "metadata": {},
   "source": [
    "# Hello World"
   ]
  },
  {
   "cell_type": "markdown",
   "id": "e1cd8566",
   "metadata": {},
   "source": [
    "This  notebook is to verify that the environment to complete this tutorial is\n",
    "working correctly after you have set it up according to the instructions in\n",
    "the [README](../README.md).\n",
    "\n",
    "You should be viewing this notebook inside the Jupyter Lab web application. The top of your window should show a menu and toolbar similar to this:\n",
    "\n",
    "<img src=\"../figures/toolbar_python.png\" alt=\"Jupyter Toolbar\" style=\"width: 800px;\"/>\n",
    "\n",
    "You can execute cells in the notebook (anything with `[ ]:` in front of it) by\n",
    "selecting it with the mouse and using the shortcut Shift-Enter, or by clicking\n",
    "the \"play\" button highlighted with the small red arrow in the above screenshot.\n",
    "\n",
    "Go through all the menus of Jupyter Lab and familiarize yourself with the\n",
    "available commands and shortcuts. Particularly important is the \"Command\n",
    "Palette\" (View menu), which you should be able to get with\n",
    "Command/Ctrl-Shift-C."
   ]
  },
  {
   "cell_type": "markdown",
   "id": "7b21204c-a250-4e6d-a4c0-a06d3d7490d5",
   "metadata": {},
   "source": [
    "## The Python project kernel"
   ]
  },
  {
   "cell_type": "markdown",
   "id": "7cc16ce2-c08d-4b52-848c-f06f75c87eaa",
   "metadata": {},
   "source": [
    "When you execute a code cell in a Jupyter notebook, the code in that cell is\n",
    "sent to a persistent \"kernel\" (a Python process, for this notebook) that\n",
    "executes the code and sends the resulting output back to the notebook for\n",
    "display. You can restart the kernel using the menu, the buttons in the toolbar,\n",
    "or the command palette.\n",
    "\n",
    "The currently active kernel is shown at the right of the toolbar (circled in\n",
    "red in the above screenshot). Make sure that it indicates \"Python (local\n",
    ".venv)\". If not, or if you got a \"Select Kernel\" popup when you opened this\n",
    "notebook, you did not install install the [`python-localvenv-kernel`\n",
    "package](https://github.com/goerz/python-localvenv-kernel) on your system. This\n",
    "kernel is not typically part of a standard Jupyter installation, so you have to\n",
    "install it by hand into the same environment that contains your main `jupyter`\n",
    "executable. Refer to the [README](../README.md) on installation instructions.\n",
    "\n",
    "You may also try the following:\n",
    "\n",
    "* Open a new notebook (the \"+\" button in the tab bar, or File > New > Notebook\n",
    "* in Jupyter's menu) and choose \"Python 3 (ipykernel)\" as the kernel. This is\n",
    "* the *default* kernel that lives in the same environment as the `jupyter`\n",
    "* executable. Then, run\n",
    "\n",
    "```\n",
    "%pip install python-localvenv-kernel\n",
    "```\n",
    "\n",
    "in the first code cell. Afterwards, switch the kernel from \"Python 3\n",
    "(ipykernel)\" to \"Python (local .venv)\". Then, close the notebook.\n",
    "\n",
    "Again, for any notebook that is part of the tutorial, the kernel should be\n",
    "\"Python (local .venv)\", *not* \"Python 3 (ipykernel)\".\n",
    "\n",
    "Let's make sure you can run some Julia code. Execute the following cell. It should print \"Hello World\"."
   ]
  },
  {
   "cell_type": "code",
   "execution_count": null,
   "id": "3aaf5137",
   "metadata": {},
   "outputs": [],
   "source": [
    "name = \"World\"\n",
    "print(f\"Hello {name}\")"
   ]
  },
  {
   "cell_type": "markdown",
   "id": "601551f4-3900-4eb6-aaf1-7aa7144cf5e7",
   "metadata": {},
   "source": [
    "## The Python project environment"
   ]
  },
  {
   "cell_type": "markdown",
   "id": "bbdf9c30-6f41-4658-a41e-6375817dd59c",
   "metadata": {},
   "source": [
    "The point of the `python-localvenv-kernel` kernel is that it has access to the \"project environment\" that contains all the necessary packages to run the notebooks in this tutorial and lives in the `.venv` subfolder of the tutorial root (the parent folder of the one containing this notebook). You must initialize this project environment separately , see the instructions in the [README](../README.md). In short, you should have executed\n",
    "\n",
    "```\n",
    "conda env create -p .venv -f environment.yml\n",
    "```\n",
    "\n",
    "in the root folder. To verify the environment, try loading one of the packages used in this tutorial:"
   ]
  },
  {
   "cell_type": "code",
   "execution_count": null,
   "id": "bc589cf0-6afa-4dda-86cb-cca364c69469",
   "metadata": {},
   "outputs": [],
   "source": [
    "import krotov"
   ]
  },
  {
   "cell_type": "markdown",
   "id": "1258dfef",
   "metadata": {},
   "source": [
    "If this runs without error, you are mostly likely in good shape. If you see `ModuleNotFoundError: No module named 'krotov'`, the kernel is not accessing the environment (or the environment has not been fully set up). See the [README](../README.md) for instructions.\n",
    "\n",
    "As a last resort, you can try\n",
    "\n",
    "```\n",
    "%pip install matplotlib\n",
    "%pip install nlopt==2.7.1\n",
    "%pip install scipy==1.12.0\n",
    "%pip install sympy==1.12.0\n",
    "%pip install ipympl==0.9.3\n",
    "%pip install ipywidgets==8.1.2\n",
    "%pip install qutip==4.7.5\n",
    "%pip install krotov==1.2.1\n",
    "%pip install weylchamber==0.4.0\n",
    "```\n",
    "\n",
    "You can also do that in the default \"Python 3 (ipykernel)\" if you absolutely cannot get the \"Python (local .venv)\" kernel to work (and only then!)\n",
    "\n",
    "Also double check your `qutip` version:"
   ]
  },
  {
   "cell_type": "code",
   "execution_count": null,
   "id": "85cb3f5b",
   "metadata": {},
   "outputs": [],
   "source": [
    "import qutip\n",
    "qutip.__version__"
   ]
  },
  {
   "cell_type": "markdown",
   "id": "46f9b892-3332-4e98-8c66-b114820f36de",
   "metadata": {},
   "source": [
    "This should show a `4.7` version, not `5.0`. The `krotov` package that will be used for optimal control in this tutorial does not yet support the recent `qutip-5.0` release."
   ]
  },
  {
   "cell_type": "markdown",
   "id": "74f8b3da-fba1-4319-a62e-adf85872229d",
   "metadata": {},
   "source": [
    "## Visualization"
   ]
  },
  {
   "cell_type": "markdown",
   "id": "ef07d27b-f80d-41b1-a610-3250638540d3",
   "metadata": {},
   "source": [
    "The standard package for plotting in Python is `matplotlib`, typically loaded with"
   ]
  },
  {
   "cell_type": "code",
   "execution_count": null,
   "id": "e0d4c8c9",
   "metadata": {},
   "outputs": [],
   "source": [
    "import matplotlib.pyplot as plt"
   ]
  },
  {
   "cell_type": "markdown",
   "id": "67bdd0c6",
   "metadata": {},
   "source": [
    "Try plotting something:"
   ]
  },
  {
   "cell_type": "code",
   "execution_count": null,
   "id": "472f021f",
   "metadata": {},
   "outputs": [],
   "source": [
    "import numpy as np\n",
    "x = np.linspace(0, 10, 20)\n",
    "y = np.random.rand(20)\n",
    "fig, ax = plt.subplots(figsize=(8, 5))\n",
    "ax.plot(x, y)\n",
    "plt.show(fig)"
   ]
  },
  {
   "cell_type": "markdown",
   "id": "8a485a8a",
   "metadata": {},
   "source": [
    "The plot should show up here in the notebook."
   ]
  },
  {
   "cell_type": "markdown",
   "id": "6fe96602-eda7-4241-af13-e72e128144f5",
   "metadata": {},
   "source": [
    "There is one exercise in this tutorial that benefits from interactive plotting. You can activate ineractive plots with"
   ]
  },
  {
   "cell_type": "code",
   "execution_count": null,
   "id": "115345d5-1213-4bdc-9a8c-ea7b2f71f4de",
   "metadata": {},
   "outputs": [],
   "source": [
    "%matplotlib widget"
   ]
  },
  {
   "cell_type": "markdown",
   "id": "1a54a91f-b1c0-4c35-b8e7-0ead16f234a1",
   "metadata": {},
   "source": [
    "And then, for example:"
   ]
  },
  {
   "cell_type": "code",
   "execution_count": null,
   "id": "94515fe1-1d97-4656-b295-bb15fabba62e",
   "metadata": {},
   "outputs": [],
   "source": [
    "def plot_bloch(x, y, z):\n",
    "    b = qutip.Bloch(view=[-60, 30])\n",
    "    b.add_points([x, y, z], \"m\")\n",
    "    b.frame_alpha = 0.1\n",
    "    b.make_sphere()\n",
    "    plt.show()\n",
    "\n",
    "plot_bloch(\n",
    "    np.random.rand(20),\n",
    "    np.random.rand(20),\n",
    "    np.random.rand(20),\n",
    ")"
   ]
  },
  {
   "cell_type": "markdown",
   "id": "64974c76-5399-41ac-8882-3943653453d5",
   "metadata": {},
   "source": [
    "If everything works correctly, you should be seeing a Bloch sphere above that you can rotate interactively by clicking and dragging with the mouse."
   ]
  },
  {
   "cell_type": "markdown",
   "id": "5e0dbbd8-2667-4654-ac09-28fb04430521",
   "metadata": {},
   "source": [
    "Interactive plots can be a little tricky to set up sometimes. Specifically, they rely on the `ipympl` package being installed in the same version both in the project environment and in the environment containing the `jupyter` executable."
   ]
  },
  {
   "cell_type": "code",
   "execution_count": null,
   "id": "13596ba7-727b-400a-89e5-735c061ad143",
   "metadata": {},
   "outputs": [],
   "source": [
    "import ipympl\n",
    "ipympl.__version__"
   ]
  },
  {
   "cell_type": "markdown",
   "id": "e68da5c3-cd6c-434b-afff-c10b33ec4bc5",
   "metadata": {},
   "source": [
    "To check the version of `ipympl` in the main (`jupyter`) environment, Create a new notebook (\"+\" button or file menu) with the default \"Python 3 (ipykernel)\" as the kernel; i.e., *not* \"Python (local .venv)\". Then copy and past the code from the above cell. It should report the same version for `ipympl` that is shown above."
   ]
  },
  {
   "cell_type": "markdown",
   "id": "9e5d311a-2012-4979-8415-996b111fda8a",
   "metadata": {},
   "source": [
    "If you cannot get interactive plots to work (mostly likely due to `ipympl` in the main `jupyter` environment, or due to a version mismatch), don't worry about it too much. You will still be able to follow the tutorial."
   ]
  },
  {
   "cell_type": "markdown",
   "id": "2b759b8a-0c49-4a29-a6fa-d31aaf358e8c",
   "metadata": {},
   "source": [
    "## Some tips for the rest of this tutorial"
   ]
  },
  {
   "cell_type": "markdown",
   "id": "7dc9ecdd-3d98-4f9f-9ddc-4b175ae6d6e2",
   "metadata": {},
   "source": [
    "#### Unicode"
   ]
  },
  {
   "cell_type": "markdown",
   "id": "59806f04-1326-4b4e-b268-614aa24f99e7",
   "metadata": {},
   "source": [
    "Python has some support for unicode. In the notebooks, we will use it to\n",
    "display Greek letters for variable names and operators.\n",
    "\n",
    "In Jupyter notebooks, you can type Greek letters by using LaTeX macros and pressing the\n",
    "Tab key to convert it. E.g. `\\alpha[tab]` will be converted to `α`, or `\\Psi[tab]` becomes `Ψ`."
   ]
  },
  {
   "cell_type": "markdown",
   "id": "414d0513-11ef-47dd-9e52-58a521b93188",
   "metadata": {},
   "source": [
    "Try it in the empty cell below:"
   ]
  },
  {
   "cell_type": "code",
   "execution_count": null,
   "id": "74b23ca8-1a52-4589-8940-cb03458fb870",
   "metadata": {},
   "outputs": [],
   "source": []
  },
  {
   "cell_type": "markdown",
   "id": "d5f84257-f2b0-4cd8-91e8-0059db024728",
   "metadata": {},
   "source": [
    "#### The help system"
   ]
  },
  {
   "cell_type": "markdown",
   "id": "6e17a472-3416-4ef8-b639-70f83c4b998a",
   "metadata": {},
   "source": [
    "Python has a built-in help system that you can access in the Jupyter notebook\n",
    "via the function `help`. This will show you the docstrings of the function.\n",
    "For example"
   ]
  },
  {
   "cell_type": "code",
   "execution_count": null,
   "id": "64be3056-9170-4795-9ada-6cb2ce0f21f2",
   "metadata": {},
   "outputs": [],
   "source": [
    "def hello_world():\n",
    "    \"\"\"\n",
    "    Print \"Hello World\"\n",
    "    \"\"\"\n",
    "    print(\"Hello World\")"
   ]
  },
  {
   "cell_type": "code",
   "execution_count": null,
   "id": "0d7bfdbb-15e5-45b8-a955-4456921dd531",
   "metadata": {},
   "outputs": [],
   "source": [
    "help(hello_world)"
   ]
  },
  {
   "cell_type": "markdown",
   "id": "8fdcb415-da5f-4361-97b7-f856ad6dea2a",
   "metadata": {
    "execution": {
     "iopub.execute_input": "2024-05-03T16:28:28.924366Z",
     "iopub.status.busy": "2024-05-03T16:28:28.923047Z",
     "iopub.status.idle": "2024-05-03T16:28:28.939030Z",
     "shell.execute_reply": "2024-05-03T16:28:28.937781Z",
     "shell.execute_reply.started": "2024-05-03T16:28:28.924120Z"
    }
   },
   "source": [
    "Alternatively, type `?` at the beginning of a cell, or `??` to also see the\n",
    "source code of the function:"
   ]
  },
  {
   "cell_type": "code",
   "execution_count": null,
   "id": "8202105c-e04c-49f2-9bcb-b211a0a07bc4",
   "metadata": {},
   "outputs": [],
   "source": [
    "? hello_world"
   ]
  },
  {
   "cell_type": "markdown",
   "id": "6a874321-3fc6-4484-af02-d4f302390027",
   "metadata": {},
   "source": [
    "(try this for built-in / library functions)"
   ]
  },
  {
   "cell_type": "markdown",
   "id": "eadb5a15-a06b-4c77-99f3-55d18ea45239",
   "metadata": {},
   "source": [
    "#### Comments"
   ]
  },
  {
   "cell_type": "markdown",
   "id": "5b26b269-c6ac-4164-8117-72015f171194",
   "metadata": {},
   "source": [
    "The `#` character indicates that the rest of the line is a comment. There is also\n",
    "a handy keyboard shortcut to comment out a block of code. Just mark the corresponding\n",
    "lines with your mouse and hit `Ctrl + /` (`Cmd + /` on macOS) and a `#` will appear in front of each line.\n",
    "You can do the same again to uncomment the marked lines."
   ]
  }
 ],
 "metadata": {
  "kernelspec": {
   "display_name": "Python (local .venv)",
   "language": "python",
   "name": "python-localvenv"
  },
  "language_info": {
   "codemirror_mode": {
    "name": "ipython",
    "version": 3
   },
   "file_extension": ".py",
   "mimetype": "text/x-python",
   "name": "python",
   "nbconvert_exporter": "python",
   "pygments_lexer": "ipython3",
   "version": "3.10.14"
  }
 },
 "nbformat": 4,
 "nbformat_minor": 5
}
