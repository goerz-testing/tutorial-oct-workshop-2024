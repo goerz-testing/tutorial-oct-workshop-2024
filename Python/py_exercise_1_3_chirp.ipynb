{
 "cells": [
  {
   "cell_type": "markdown",
   "id": "17257c98",
   "metadata": {},
   "source": [
    "<!-- Autoheader begin -->\n",
    "<hr/>\n",
    "<div id=\"navtitle_1_3_py\" style=\"text-align:center; font-size:16px\">I.3 Interaction of a Two-Level-System with a Chirped Laser Pulse</div>\n",
    "<hr/>\n",
    "<table style=\"width: 100%\">\n",
    "  <tr>\n",
    "    <th rowspan=\"2\" style=\"width:33%; text-align:center; font-size:16px\">\n",
    "        <a href=\"py_exercise_1_2_lambda.ipynb\">$\\leftarrow$ previous notebook </a><br>\n",
    "        <a href=\"py_exercise_1_2_lambda.ipynb\" style=\"font-size:13px\">I.2 Population Transfer in a Three-Level-System with STIRAP</a>\n",
    "    </th>\n",
    "    <td style=\"width:33%; text-align:center; font-size:16px\">\n",
    "    </td>\n",
    "    <th rowspan=\"2\" style=\"width:33%; text-align:center; font-size:16px\">\n",
    "        <a href=\"py_exercise_2_1_TLS.ipynb\">next notebook $\\rightarrow$</a><br>\n",
    "        <a href=\"py_exercise_2_1_TLS.ipynb\" style=\"font-size:13px\">II.1 Population Inversion in a Two-Level-System using Parameter Optimization</a>\n",
    "    </th>\n",
    "  </tr>\n",
    "  <tr style=\"width: 100%\">\n",
    "    <td style=\"width:33%; text-align:center; font-size:16px\">\n",
    "        <a href=\"py_exercise_2_3_chiral.ipynb\" style=\"font-size:13px\">II.3 Parameter Optimization of Three-Wave Mixing in a Three-Level System</a><br>\n",
    "        <a href=\"py_exercise_2_3_chiral.ipynb\">$\\downarrow$ next part $\\downarrow$</a>\n",
    "    </td>\n",
    "  </tr>\n",
    "</table>\n",
    "\n",
    "<div style=\"text-align: right;font-size: 16px\"><a href=\"../Julia/jl_exercise_1_3_chirp.ipynb\">👉 Julia version</a></div>\n",
    "\n",
    "---\n",
    "<!-- Autoheader end -->"
   ]
  },
  {
   "cell_type": "markdown",
   "id": "87731b22",
   "metadata": {},
   "source": [
    "# Interaction of a Two-Level-System with a Chirped Laser Pulse"
   ]
  },
  {
   "cell_type": "markdown",
   "id": "00902139",
   "metadata": {},
   "source": [
    "This notebook builds up upon the Rabi cycling in a two-level system from [Exercise I.1](py_exercise_1_1_TLS.ipynb) but considers a slightly more complicated form of the driving field - a *chirped* laser pulse. In this notebook you will do a little bit of programming yourself but we provide hints and solutions to guide you at every step. At the end of this notebook you will have learned how to perform a simple quantum dynamics simulation on your own and how to visualize your results.\n",
    "\n",
    "For the simulation you will use the [QuTiP](https://qutip.org/) python package. It defines a data structure for quantum objects (`qutip.Qobj`) and comes with a solver for the Schrödinger and Master equation (`qutip.mesolve()`)."
   ]
  },
  {
   "cell_type": "markdown",
   "id": "74c06e0f",
   "metadata": {},
   "source": [
    "## Setup"
   ]
  },
  {
   "cell_type": "markdown",
   "id": "3826b587",
   "metadata": {},
   "source": [
    "First, we need to load the required Python packages for the following simulations:"
   ]
  },
  {
   "cell_type": "code",
   "execution_count": null,
   "id": "4588073a",
   "metadata": {},
   "outputs": [],
   "source": [
    "import matplotlib.pyplot as plt  # for plotting\n",
    "import numpy as np               # for numerics\n",
    "import qutip                     # for quantum mechanics\n",
    "\n",
    "# Some functions for easy access:\n",
    "from numpy import pi, sqrt, exp, sin, cos\n",
    "\n",
    "# Some utilities for showing hints and solutions\n",
    "from utils.exercise_1_chirp import *"
   ]
  },
  {
   "cell_type": "markdown",
   "id": "6ca4f572",
   "metadata": {},
   "source": [
    "## Physical background"
   ]
  },
  {
   "cell_type": "markdown",
   "id": "401e5e61",
   "metadata": {},
   "source": [
    "Consider a two level system with eigenstates $|0\\rangle$ and $|1\\rangle$ and corresponding energies $-\\omega/2$ and $\\omega/2$.\n",
    "\n",
    "In this exercise we simulate the interaction of this system with a chirped laser pulse of the form\n",
    "\n",
    "$$\n",
    "E(t) = \\mathcal{E}(t) \\, \\cos(\\omega t + \\phi(t))\n",
    "\\,\n",
    "$$\n",
    "\n",
    "where $\\mathcal E(t)$ is the pulse envelope, $\\omega>0$ is the carrier frequency and $\\phi(t)$ is the time dependent phase. We assume a linear chirp, i.e.\n",
    "\n",
    "$$\n",
    "\\phi(t) = \\frac{\\alpha}{2} \\, t^2\n",
    "$$\n",
    "\n",
    "with $\\alpha>0$ and a Gaussian envelope with amplitude $E_0>0$ and width $\\tau>0$,\n",
    "\n",
    "$$\n",
    "\\mathcal E(t) = E_0 \\, e^{-\\frac{t^2}{2\\tau^2}}\n",
    "\\;.\n",
    "$$\n",
    "\n",
    "Going to the interaction picture and employing the rotating wave approximation leads to the following matrix representation of the total Hamiltonian in the basis $\\{|0\\rangle, |1\\rangle\\}$\n",
    "\n",
    "$$\n",
    "\\hat{H} = - \\frac{1}{2}\n",
    "\\begin{pmatrix}\n",
    "\\frac{\\partial\\phi}{\\partial t}(t) & \\mu\\,\\mathcal E(t) \\\\\n",
    "\\mu\\,\\mathcal E(t) & -\\frac{\\partial\\phi}{\\partial t}(t)\n",
    "\\end{pmatrix}\n",
    "$$\n",
    "\n",
    "with the transition matrix element $\\mu>0$.\n",
    "For technical reasons, we represent the Hamiltonian in the form\n",
    "\n",
    "$$\n",
    "\\hat{H} = \\hat{H}_1 \\, \\frac{\\partial\\phi}{\\partial t}(t) + \\hat{H}_2 \\, \\mathcal E(t)\n",
    "$$\n",
    "\n",
    "with\n",
    "\n",
    "\\begin{align}\n",
    "\\hat{H}_1 &= - \\frac{1}{2}\n",
    "\\begin{pmatrix}\n",
    "1 & 0 \\\\\n",
    "0 & -1\n",
    "\\end{pmatrix}\n",
    "\\;,\n",
    "\\\\\n",
    "\\hat{H}_2 &= - \\frac{\\mu}{2}\n",
    "\\begin{pmatrix}\n",
    "0 & 1 \\\\\n",
    "1 & 0\n",
    "\\end{pmatrix}\n",
    "\\;.\n",
    "\\end{align}"
   ]
  },
  {
   "cell_type": "markdown",
   "id": "fb4a51a6",
   "metadata": {},
   "source": [
    "## Let's start!"
   ]
  },
  {
   "cell_type": "markdown",
   "id": "ddee2f69",
   "metadata": {},
   "source": [
    "Start with defining the time grid for the propagation.\n",
    "Create an equidistant grid from `t_start=-250` to `t_stop=250` with a total amount of `Nt=5000` grid points."
   ]
  },
  {
   "cell_type": "code",
   "execution_count": null,
   "id": "1e78042c",
   "metadata": {},
   "outputs": [],
   "source": [
    "t = # enter your code here"
   ]
  },
  {
   "cell_type": "code",
   "execution_count": null,
   "id": "05702fcd",
   "metadata": {},
   "outputs": [],
   "source": [
    "#problem_1.hint"
   ]
  },
  {
   "cell_type": "code",
   "execution_count": null,
   "id": "b33a4d3c",
   "metadata": {},
   "outputs": [],
   "source": [
    "#problem_1.solution"
   ]
  },
  {
   "cell_type": "markdown",
   "id": "de7b9542",
   "metadata": {},
   "source": [
    "## The model"
   ]
  },
  {
   "cell_type": "markdown",
   "id": "8875fe6c",
   "metadata": {},
   "source": [
    "Now set up the individual parts of the Hamiltonian."
   ]
  },
  {
   "cell_type": "markdown",
   "id": "15f2fd75",
   "metadata": {},
   "source": [
    "Define the matrices for the operators $\\hat{H}_1$ and $\\hat{H}_2$ as `qutip.Qobj` with the coupling strength $\\mu=1$."
   ]
  },
  {
   "cell_type": "code",
   "execution_count": null,
   "id": "181cbcaf",
   "metadata": {},
   "outputs": [],
   "source": [
    "H1 = # enter your code here\n",
    "H2 = # enter your code here\n",
    "\n",
    "display(H1, H2) # shows the result"
   ]
  },
  {
   "cell_type": "code",
   "execution_count": null,
   "id": "bd5af31e",
   "metadata": {},
   "outputs": [],
   "source": [
    "#problem_2.hint"
   ]
  },
  {
   "cell_type": "code",
   "execution_count": null,
   "id": "4e4059c7",
   "metadata": {
    "lines_to_next_cell": 2
   },
   "outputs": [],
   "source": [
    "#problem_2.solution"
   ]
  },
  {
   "cell_type": "markdown",
   "id": "7fc87a7c",
   "metadata": {},
   "source": [
    "Next, define the field envelope `Env` and the derivative of the pulse phase `dϕ` on the time grid `t`.\n",
    "\n",
    "Set the amplitude $E_0=1$ and the pulse duration $\\tau=50$. Choose a chirp parameter $\\alpha$ in the range from 0.00001 to 1"
   ]
  },
  {
   "cell_type": "code",
   "execution_count": null,
   "id": "09279400",
   "metadata": {},
   "outputs": [],
   "source": [
    "Env = # enter your code here\n",
    "dϕ = # enter your code here"
   ]
  },
  {
   "cell_type": "code",
   "execution_count": null,
   "id": "1f9742a2",
   "metadata": {},
   "outputs": [],
   "source": [
    "#problem_3.hint"
   ]
  },
  {
   "cell_type": "code",
   "execution_count": null,
   "id": "426d5e48",
   "metadata": {},
   "outputs": [],
   "source": [
    "#problem_3.solution"
   ]
  },
  {
   "cell_type": "markdown",
   "id": "061c98a0",
   "metadata": {},
   "source": [
    "Now we can gather all ingredients and assemble the total Hamiltonian of the system. For the QuTiP package the Hamiltonian needs to be stored as nested list in the following form:"
   ]
  },
  {
   "cell_type": "code",
   "execution_count": null,
   "id": "4b6dd910",
   "metadata": {},
   "outputs": [],
   "source": [
    "H = [[H1, dϕ], [H2, Env]]"
   ]
  },
  {
   "cell_type": "markdown",
   "id": "1c89b58e",
   "metadata": {},
   "source": [
    "As a last step in setting up the model, define the two states as `qutip.Qobj`."
   ]
  },
  {
   "cell_type": "code",
   "execution_count": null,
   "id": "280d42ba",
   "metadata": {},
   "outputs": [],
   "source": [
    "psi0 = # enter your code here\n",
    "psi1 = # enter your code here\n",
    "\n",
    "display(psi0, psi1) # shows the result"
   ]
  },
  {
   "cell_type": "code",
   "execution_count": null,
   "id": "958a4e85",
   "metadata": {},
   "outputs": [],
   "source": [
    "#problem_4.hint"
   ]
  },
  {
   "cell_type": "code",
   "execution_count": null,
   "id": "be927287",
   "metadata": {},
   "outputs": [],
   "source": [
    "#problem_4.solution"
   ]
  },
  {
   "cell_type": "markdown",
   "id": "5e7d8926",
   "metadata": {},
   "source": [
    "## Propagation and results"
   ]
  },
  {
   "cell_type": "markdown",
   "id": "9630d47c",
   "metadata": {},
   "source": [
    "Before you can start with the propagation, you first need to define the observables. Here, you are interested in the population dynamics. To track the population of the two levels, define the projectors $\\hat{P}_{i} =\n",
    "|i\\rangle\\langle i|$."
   ]
  },
  {
   "cell_type": "code",
   "execution_count": null,
   "id": "b9232347",
   "metadata": {},
   "outputs": [],
   "source": [
    "proj0 = # enter your code here\n",
    "proj1 = # enter your code here"
   ]
  },
  {
   "cell_type": "code",
   "execution_count": null,
   "id": "f7ff65df",
   "metadata": {},
   "outputs": [],
   "source": [
    "#problem_5.hint"
   ]
  },
  {
   "cell_type": "code",
   "execution_count": null,
   "id": "930953cb",
   "metadata": {},
   "outputs": [],
   "source": [
    "#problem_5.solution"
   ]
  },
  {
   "cell_type": "markdown",
   "id": "0ba2772a",
   "metadata": {},
   "source": [
    "Now, use QuTiP's **m**aster **e**quation **solve**r function `qutip.mesolve()` to propagate the system.\n",
    "Choose the state $|0\\rangle$ as the initial state of your simulation."
   ]
  },
  {
   "cell_type": "code",
   "execution_count": null,
   "id": "8e9f08e9",
   "metadata": {},
   "outputs": [],
   "source": [
    "output = qutip.mesolve(...) # enter your code in place of \"...\")"
   ]
  },
  {
   "cell_type": "code",
   "execution_count": null,
   "id": "a085d2be",
   "metadata": {},
   "outputs": [],
   "source": [
    "#problem_6.hint"
   ]
  },
  {
   "cell_type": "code",
   "execution_count": null,
   "id": "efa063fc",
   "metadata": {},
   "outputs": [],
   "source": [
    "#problem_6.solution"
   ]
  },
  {
   "cell_type": "markdown",
   "id": "cb59da1a",
   "metadata": {},
   "source": [
    "Finally, plot the population dynamics."
   ]
  },
  {
   "cell_type": "code",
   "execution_count": null,
   "id": "7a51b00a",
   "metadata": {},
   "outputs": [],
   "source": [
    "# --> enter your code here <-- #"
   ]
  },
  {
   "cell_type": "code",
   "execution_count": null,
   "id": "5389970c",
   "metadata": {},
   "outputs": [],
   "source": [
    "#problem_7.hint"
   ]
  },
  {
   "cell_type": "code",
   "execution_count": null,
   "id": "c0153b48",
   "metadata": {},
   "outputs": [],
   "source": [
    "#problem_7.solution"
   ]
  },
  {
   "cell_type": "markdown",
   "id": "84feea57",
   "metadata": {},
   "source": [
    "## Adjust the parameters"
   ]
  },
  {
   "cell_type": "markdown",
   "id": "9e934ffc",
   "metadata": {},
   "source": [
    "Play with the pulse parameters and observe how this affects the population dynamics.\n",
    "\n",
    "\n",
    "### Task 1 - Variation of the chirp parameter\n",
    "\n",
    "Keep the pulse length fixed at $\\tau=50$ and vary the chirp parameter. Can you find a value of $\\alpha$ that produces a smooth transition from state $|0\\rangle$ to state $|1\\rangle$ without oscillations?\n",
    "\n",
    "\n",
    "\n",
    "### Task 2 - Variation of the pulse duration\n",
    "\n",
    "Keep the chirp parameter fixed at $\\alpha=0.001$ and vary the pulse length. Can you find a value of $\\tau$ that produces a smooth transition from state $|0\\rangle$ to state $|1\\rangle$ without oscillations?"
   ]
  },
  {
   "cell_type": "markdown",
   "id": "d48662d1",
   "metadata": {},
   "source": [
    "### Bonus task - Instantaneous eigenvalues\n",
    "\n",
    "Diagonalise $H(t)$ at every time step and plot the eigenvalues over time.\n",
    "\n",
    "This is a more advanced exercise for those of you who want a challenge!"
   ]
  },
  {
   "cell_type": "code",
   "execution_count": null,
   "id": "84d8f939",
   "metadata": {},
   "outputs": [],
   "source": [
    "# --> enter your code here <-- #"
   ]
  },
  {
   "cell_type": "code",
   "execution_count": null,
   "id": "b6160d1b",
   "metadata": {},
   "outputs": [],
   "source": [
    "#bonus.hint"
   ]
  },
  {
   "cell_type": "code",
   "execution_count": null,
   "id": "9471ae0d",
   "metadata": {},
   "outputs": [],
   "source": [
    "#bonus.solution"
   ]
  },
  {
   "cell_type": "markdown",
   "id": "5230a7df",
   "metadata": {},
   "source": [
    "## Next Steps\n",
    "\n",
    "Another fundamental example which highlights some basic principles of light-matter interaction can be found in [Example I.2](py_exercise_1_2_lambda.ipynb) - STIRAP in a three-level Lambda system. If you would like to advance from simulating dynamics to performing optimization of pulse parameters, we recommend to continue with [Part II](py_exercise_2_1_TLS.ipynb)."
   ]
  },
  {
   "cell_type": "markdown",
   "id": "9801cbf0",
   "metadata": {},
   "source": [
    "<!-- Autofooter begin -->\n",
    "\n",
    "---\n",
    "\n",
    "[⬆︎ jump to top](#navtitle_1_3_py)\n",
    "<!-- Autofooter end -->"
   ]
  }
 ],
 "metadata": {
  "kernelspec": {
   "display_name": "Python 3",
   "language": "python",
   "name": "python3"
  },
  "language_info": {
   "codemirror_mode": {
    "name": "ipython",
    "version": 3
   },
   "file_extension": ".py",
   "mimetype": "text/x-python",
   "name": "python",
   "nbconvert_exporter": "python",
   "pygments_lexer": "ipython3",
   "version": "3.9.2"
  }
 },
 "nbformat": 4,
 "nbformat_minor": 5
}
