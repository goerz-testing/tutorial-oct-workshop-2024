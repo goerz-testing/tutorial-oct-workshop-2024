{
 "cells": [
  {
   "cell_type": "markdown",
   "id": "5098ed9c",
   "metadata": {},
   "source": [
    "<!-- Autoheader begin -->\n",
    "<hr/>\n",
    "<div id=\"navtitle_2_1_py\" style=\"text-align:center; font-size:16px\">II.1 Population Inversion in a Two-Level-System using Parameter Optimization</div>\n",
    "<hr/>\n",
    "<table style=\"width: 100%\">\n",
    "  <tr>\n",
    "    <th rowspan=\"2\" style=\"width:33%; text-align:center; font-size:16px\">\n",
    "        <a href=\"py_exercise_1_3_chirp.ipynb\">$\\leftarrow$ previous notebook </a><br>\n",
    "        <a href=\"py_exercise_1_3_chirp.ipynb\" style=\"font-size:13px\">I.3 Interaction of a Two-Level-System with a Chirped Laser Pulse</a>\n",
    "    </th>\n",
    "    <td style=\"width:33%; text-align:center; font-size:16px\">\n",
    "        <a href=\"py_exercise_1_1_TLS.ipynb\">$\\uparrow$ previous part $\\uparrow$</a><br>\n",
    "        <a href=\"py_exercise_1_1_TLS.ipynb\" style=\"font-size:13px\">I.1 Population Inversion in a Two-Level-System</a>\n",
    "    </td>\n",
    "    <th rowspan=\"2\" style=\"width:33%; text-align:center; font-size:16px\">\n",
    "        <a href=\"py_exercise_2_2_lambda.ipynb\">next notebook $\\rightarrow$</a><br>\n",
    "        <a href=\"py_exercise_2_2_lambda.ipynb\" style=\"font-size:13px\">II.2 Parameter Optimization for STIRAP</a>\n",
    "    </th>\n",
    "  </tr>\n",
    "  <tr style=\"width: 100%\">\n",
    "    <td style=\"width:33%; text-align:center; font-size:16px\">\n",
    "        <a href=\"py_exercise_3_1_TLS.ipynb\" style=\"font-size:13px\">III.1 Population Inversion in a Two-Level-System using Krotov's Method</a><br>\n",
    "        <a href=\"py_exercise_3_1_TLS.ipynb\">$\\downarrow$ next part $\\downarrow$</a>\n",
    "    </td>\n",
    "  </tr>\n",
    "</table>\n",
    "\n",
    "<div style=\"text-align: right;font-size: 16px\"><a href=\"../Julia/jl_exercise_2_1_TLS.ipynb\">👉 Julia version</a></div>\n",
    "\n",
    "---\n",
    "<!-- Autoheader end -->"
   ]
  },
  {
   "cell_type": "markdown",
   "id": "529467c6",
   "metadata": {},
   "source": [
    "# Population Inversion in a Two-Level-System using Parameter Optimization"
   ]
  },
  {
   "cell_type": "markdown",
   "id": "ad95d265",
   "metadata": {},
   "source": [
    "$\\newcommand{tr}[0]{\\operatorname{tr}}\n",
    "\\newcommand{diag}[0]{\\operatorname{diag}}\n",
    "\\newcommand{abs}[0]{\\operatorname{abs}}\n",
    "\\newcommand{pop}[0]{\\operatorname{pop}}\n",
    "\\newcommand{aux}[0]{\\text{aux}}\n",
    "\\newcommand{opt}[0]{\\text{opt}}\n",
    "\\newcommand{tgt}[0]{\\text{tgt}}\n",
    "\\newcommand{init}[0]{\\text{init}}\n",
    "\\newcommand{lab}[0]{\\text{lab}}\n",
    "\\newcommand{rwa}[0]{\\text{rwa}}\n",
    "\\newcommand{bra}[1]{\\langle#1\\vert}\n",
    "\\newcommand{ket}[1]{\\vert#1\\rangle}\n",
    "\\newcommand{Bra}[1]{\\left\\langle#1\\right\\vert}\n",
    "\\newcommand{Ket}[1]{\\left\\vert#1\\right\\rangle}\n",
    "\\newcommand{Braket}[2]{\\left\\langle #1\\vphantom{#2} \\mid\n",
    "#2\\vphantom{#1}\\right\\rangle}\n",
    "\\newcommand{op}[1]{\\hat{#1}}\n",
    "\\newcommand{Op}[1]{\\hat{#1}}\n",
    "\\newcommand{dd}[0]{\\,\\text{d}}\n",
    "\\newcommand{Liouville}[0]{\\mathcal{L}}\n",
    "\\newcommand{DynMap}[0]{\\mathcal{E}}\n",
    "\\newcommand{identity}[0]{\\mathbf{1}}\n",
    "\\newcommand{Norm}[1]{\\lVert#1\\rVert}\n",
    "\\newcommand{Abs}[1]{\\left\\vert#1\\right\\vert}\n",
    "\\newcommand{avg}[1]{\\langle#1\\rangle}\n",
    "\\newcommand{Avg}[1]{\\left\\langle#1\\right\\rangle}\n",
    "\\newcommand{AbsSq}[1]{\\left\\vert#1\\right\\vert^2}\n",
    "\\newcommand{Re}[0]{\\operatorname{Re}}\n",
    "\\newcommand{Im}[0]{\\operatorname{Im}}$"
   ]
  },
  {
   "cell_type": "markdown",
   "id": "73aefc4e",
   "metadata": {},
   "source": [
    "This notebook contains the code for running an optimization to achieve a\n",
    "population inversion in a two-level system.\n",
    "You will learn how to use the Python `NLopt` package in order to optimize a\n",
    "pulse shape by tuning the pulse parameters such as the pulse duration and intensity. The goal of the optimization is to drive the two-level system such that all the population is perfectly transferred from the ground to the excited state, similar to [Exercise I.1](py_exercise_1_1_TLS.ipynb). In this notebook we employ parameter optimization which searches the optimization landscape directly by evaluating the optimization functionals at different points of the parameter space."
   ]
  },
  {
   "cell_type": "markdown",
   "id": "e5521cac",
   "metadata": {},
   "source": [
    "## Setup"
   ]
  },
  {
   "cell_type": "markdown",
   "id": "35fa6800",
   "metadata": {},
   "source": [
    "First, we need to load some of the libraries that we will need throughout\n",
    "this notebook."
   ]
  },
  {
   "cell_type": "code",
   "execution_count": 2,
   "id": "d3a9196a",
   "metadata": {},
   "outputs": [],
   "source": [
    "import matplotlib.pylab as plt\n",
    "import numpy as np  # Package for numerical functions such as cos, sin, etc.\n",
    "import qutip  # QUantum Toolbox In Python\n",
    "import nlopt  # Package for optimization\n",
    "\n",
    "# Some utilities for showing hints and solutions\n",
    "from utils.exercise_2_TLS import *\n",
    "\n",
    "# Some functions for easy access:\n",
    "from numpy import pi, sqrt, exp, sin, cos"
   ]
  },
  {
   "cell_type": "markdown",
   "id": "49461feb",
   "metadata": {},
   "source": [
    "### Defining the Hamiltonian\n",
    "\n",
    "We begin by defining the Hamiltonian, the guess field as well as the initial and target states.\n",
    "\n",
    "The Hamiltonian $\\op{H}_{0} = - \\frac{\\omega}{2} \\op{\\sigma}_{z}$ represents\n",
    "a simple qubit with energy level splitting $\\omega$ in the basis\n",
    "$\\{\\ket{0},\\ket{1}\\}$. The control field $\\epsilon(t)$ is assumed to couple\n",
    "via the Hamiltonian $\\op{H}_{1}(t) = \\epsilon(t) \\op{\\sigma}_{x}$ to the\n",
    "qubit, i.e., the control field effectively drives transitions between both\n",
    "qubit states.\n",
    "\n",
    "In this notebook, we will optimize the amplitude $E_0$ and pulse length\n",
    "$\\Delta T = t_f - t_i$ of a pulse with a Blackman shape. For simplicity, we\n",
    "choose the carrier frequency of the pulse to match the energy splitting of\n",
    "the qubits. The pulse is then defined as\n",
    "\n",
    "$$\n",
    "\\epsilon(t) = E_0 \\cos(\\omega t) B(t; t_i, t_f)\n",
    "$$\n",
    "\n",
    "with the Blackman shape defined as\n",
    "\n",
    "$$\n",
    "B(t; t_i, t_f) =\n",
    "\\frac{1}{2}\\left(\n",
    "    1 - a - \\cos\\left(2\\pi \\frac{t - t_i}{t_f - t_i}\\right)\n",
    "    + a \\cos\\left(4\\pi \\frac{t - t_i}{t_f - t_i}\\right)\n",
    "\\right)\\,, \\text{ if } t_i < t < t_f;\n",
    "\\qquad B(t; t_i, t_f) = 0 \\text{ otherwise}\n",
    "$$\n",
    "\n",
    "with $a = 0.16$. A Blackman shape looks nearly identical to a Gaussian with a\n",
    "6-sigma interval between $t_i$ and $t_f$. Unlike the Gaussian, however, it\n",
    "will go exactly to zero at the edges. Thus, Blackman pulses are often\n",
    "preferable to Gaussians."
   ]
  },
  {
   "cell_type": "code",
   "execution_count": 3,
   "id": "6ab1fefc",
   "metadata": {},
   "outputs": [],
   "source": [
    "def make_blackman_pulse(omega, E_0, t_i, t_f):\n",
    "    \"\"\"Constructor a control function with Blackman shaped pulse.\n",
    "\n",
    "    The resulting function takes parameters `t` and `args`, where `args` is\n",
    "    ignored.\n",
    "\n",
    "    Args:\n",
    "        omega (float): carrier frequency of the pulse\n",
    "        E_0   (float): pulse amplitude\n",
    "        t_i   (float): start of the pulse\n",
    "        t_f   (float): end of the pulse\n",
    "    \"\"\"\n",
    "\n",
    "    def blackman_pulse(t, args):\n",
    "        return (\n",
    "            (E_0 / 2.0)\n",
    "            * cos(omega * t)\n",
    "            * (\n",
    "                1\n",
    "                - 0.16\n",
    "                - cos(2 * pi * (t - t_i) / (t_f - t_i))\n",
    "                + 0.16 * cos(4 * pi * (t - t_i) / (t_f - t_i))\n",
    "            )\n",
    "            * np.where(np.logical_and(t > t_i, t < t_f), 1, 0)\n",
    "        )\n",
    "\n",
    "    return blackman_pulse\n",
    "\n",
    "\n",
    "def ham_and_states(omega, E_0, t_i, t_f):\n",
    "    \"\"\"Two-level-system Hamiltonian\n",
    "\n",
    "    Args:\n",
    "        omega (float): energy separation of the qubit levels\n",
    "        E_0    (float): pulse amplitude\n",
    "        t_i    (float): start of the pulse\n",
    "        t_f    (float): end of the pulse\n",
    "    \"\"\"\n",
    "    H0 = -0.5 * omega * qutip.operators.sigmaz()\n",
    "    H1 = qutip.operators.sigmax()\n",
    "\n",
    "    ket0 = qutip.Qobj(np.array([1, 0]))  # State |0⟩\n",
    "    ket1 = qutip.Qobj(np.array([0, 1]))  # State |1⟩\n",
    "\n",
    "    return ([H0, [H1, make_blackman_pulse(omega, E_0, t_i, t_f)]], ket0, ket1)"
   ]
  },
  {
   "cell_type": "markdown",
   "id": "4ebea485",
   "metadata": {},
   "source": [
    "## Simulating the dynamics with the guess field\n",
    "\n",
    "Before starting with the actual optimization, we first simulate the\n",
    "dynamics under a guess field $\\epsilon_{0}(t)$. To this end, we need to define\n",
    "the time grid of the dynamics. We define the initial state to\n",
    "be at time $t=0$ and consider a total propagation time of $T=10$. The entire\n",
    "time grid is divided into $5000$ equidistant time steps (corresponding to 5001 time grid\n",
    "points)."
   ]
  },
  {
   "cell_type": "code",
   "execution_count": 4,
   "id": "ae5e4bae",
   "metadata": {},
   "outputs": [],
   "source": [
    "T = 10.0\n",
    "nt = 5001\n",
    "\n",
    "tlist = np.linspace(0, T, nt)"
   ]
  },
  {
   "cell_type": "markdown",
   "id": "e45812e4",
   "metadata": {},
   "source": [
    "Next we define the guess pulse itself.\n",
    "Note that in the following, it is more convenient to use the\n",
    "pulse length `ΔT = t_f - t_i` instead of `t_i` and `t_f` as\n",
    "a parameter, since it reduces the number of control parameters by one."
   ]
  },
  {
   "cell_type": "code",
   "execution_count": 5,
   "id": "f39c2ae3",
   "metadata": {},
   "outputs": [],
   "source": [
    "omega = 12.0 # carrier frequency, should be sufficiently large\n",
    "E_0 = 0.5    # pulse amplitude\n",
    "ΔT  = 5.0    # pulse length\n",
    "# make pulse symmetric around the middle of the time interval\n",
    "t_i = T/2 - ΔT/1\n",
    "t_f = T/2 + ΔT/2\n",
    "\n",
    "H, ket0, ket1 = ham_and_states(omega, E_0, t_i, t_f)"
   ]
  },
  {
   "cell_type": "markdown",
   "id": "5c066707",
   "metadata": {},
   "source": [
    "Then, we solve the equation of motion for the initial state\n",
    "$\\ket{\\Psi_{\\init}}=\\ket{0}$ for the evolution generated by the Hamiltonian $\\op{H}(t)$. To this end, we define the projectors $\\op{P}_0 = \\ket{0}\\bra{0}$\n",
    "and $\\op{P}_1 = \\ket{1}\\bra{1}$ to track their expectation values."
   ]
  },
  {
   "cell_type": "code",
   "execution_count": 6,
   "id": "f1d863b2",
   "metadata": {},
   "outputs": [],
   "source": [
    "proj0 = ket0 * ket0.dag()\n",
    "proj1 = ket1 * ket1.dag()\n",
    "\n",
    "output = qutip.mesolve(H, ket0, tlist, e_ops=[proj0, proj1])"
   ]
  },
  {
   "cell_type": "markdown",
   "id": "841dba0e",
   "metadata": {},
   "source": [
    "Now we plot the absolute value of the field together with the population of\n",
    "the two levels as a function of time."
   ]
  },
  {
   "cell_type": "code",
   "execution_count": 7,
   "id": "2a8ce1bb",
   "metadata": {},
   "outputs": [
    {
     "data": {
      "image/png": "[encoded data removed]",
      "text/plain": [
       "<Figure size 432x288 with 1 Axes>"
      ]
     },
     "metadata": {
      "needs_background": "light"
     },
     "output_type": "display_data"
    }
   ],
   "source": [
    "E = H[1][1](tlist, args=None)  # extract pulse from Hamiltonian\n",
    "\n",
    "fig, ax = plt.subplots()\n",
    "ax.plot(tlist, np.abs(E)/np.abs(E).max(), '-', color='lightgrey', label='|E|')\n",
    "ax.plot(tlist, output.expect[0], '-', label=r'$|0\\rangle$')\n",
    "ax.plot(tlist, output.expect[1], '--', label=r'$|1\\rangle$')\n",
    "ax.set_xlim(tlist.min(), tlist.max())\n",
    "ax.set_xlabel('Time')\n",
    "ax.set_ylabel('Population')\n",
    "ax.legend()\n",
    "plt.show()"
   ]
  },
  {
   "cell_type": "markdown",
   "id": "600abe0c",
   "metadata": {},
   "source": [
    "## Problem 0 - Pulse parameterization\n",
    "\n",
    "As you can see, the guess pulse does a bad job in transferring the population\n",
    "from the ground to the excited state. Therefore, we first try to optimize the\n",
    "pulse parameters by hand to achieve a full population inversion.\n",
    "\n",
    "We begin by familiarizing ourselves with the pulse parameterization. For the\n",
    "Blackman shape, `E_0` controls the pulse amplitude, and `ΔT` determines the\n",
    "length of the pulse. Try changing the arguments of\n",
    "`evolve_and_plot_parameterized_pulse`, such that you achieve an infidelity\n",
    "below 0.001."
   ]
  },
  {
   "cell_type": "code",
   "execution_count": 8,
   "id": "d00cebad",
   "metadata": {},
   "outputs": [
    {
     "data": {
      "image/png": "[encoded data removed]",
      "text/plain": [
       "<Figure size 432x288 with 1 Axes>"
      ]
     },
     "metadata": {
      "needs_background": "light"
     },
     "output_type": "display_data"
    }
   ],
   "source": [
    "def evolve_and_plot_parameterized_pulse(E_0, ΔT, omega=omega, tlist=tlist):\n",
    "\n",
    "    T = tlist[-1]\n",
    "    t_i = T / 2 - ΔT / 2\n",
    "    t_f = T / 2 + ΔT / 2\n",
    "\n",
    "    H, ket0, ket1 = ham_and_states(omega, E_0, t_i, t_f)\n",
    "    E = H[1][1](tlist, args=None)  # extract the pulse from H\n",
    "\n",
    "    proj0 = ket0 * ket0.dag()\n",
    "    proj1 = ket1 * ket1.dag()\n",
    "\n",
    "    output = qutip.mesolve(H, ket0, tlist, e_ops=[proj0, proj1])\n",
    "    infidelity = 1 - output.expect[1][-1]\n",
    "\n",
    "    fig, ax = plt.subplots()\n",
    "    ax.plot(\n",
    "        tlist, np.abs(E) / np.abs(E).max(), '-', color='lightgrey', label='|E|'\n",
    "    )\n",
    "    ax.plot(tlist, output.expect[0], '-', label=r'$|0\\rangle$')\n",
    "    ax.plot(tlist, output.expect[1], '--', label=r'$|1\\rangle$')\n",
    "    ax.set_xlim(tlist.min(), tlist.max())\n",
    "    ax.set_xlabel('Time')\n",
    "    ax.set_ylabel('Population')\n",
    "    plt.text(0.2, 0.94, 'infidelity: {:8.4f}'.format(infidelity))\n",
    "    plt.legend()\n",
    "\n",
    "evolve_and_plot_parameterized_pulse(E_0=0.5, ΔT=5.0)"
   ]
  },
  {
   "cell_type": "code",
   "execution_count": 9,
   "id": "4c330080",
   "metadata": {},
   "outputs": [
    {
     "data": {
      "text/html": [
       "<p style=\"color:#b8860b;font-size:20px;\">Hint:</p>"
      ],
      "text/plain": [
       "<IPython.core.display.HTML object>"
      ]
     },
     "metadata": {},
     "output_type": "display_data"
    },
    {
     "data": {
      "text/markdown": [
       "\n",
       "Start varying parameters to get close to a population of 1 in state $\\ket{1}$.\n",
       "Find an order-of-magnitude value for each free parameter. Then iterate over\n",
       "the parameters and bisect the value for each parameter to refine the value.\n"
      ],
      "text/plain": [
       "<IPython.core.display.Markdown object>"
      ]
     },
     "metadata": {},
     "output_type": "display_data"
    }
   ],
   "source": [
    "problem_0.hint"
   ]
  },
  {
   "cell_type": "code",
   "execution_count": 10,
   "id": "163e780d",
   "metadata": {},
   "outputs": [
    {
     "data": {
      "text/html": [
       "<p style=\"color:#6495ed;font-size:20px;\">Solution:</p>"
      ],
      "text/plain": [
       "<IPython.core.display.HTML object>"
      ]
     },
     "metadata": {},
     "output_type": "display_data"
    },
    {
     "data": {
      "text/markdown": [
       "\n",
       "A reasonably good set of parameters obtained by hand might be this:\n",
       "\n",
       "```python\n",
       "evolve_and_plot_parameterized_pulse(E_0=0.92,ΔT=8.0)\n",
       "```\n"
      ],
      "text/plain": [
       "<IPython.core.display.Markdown object>"
      ]
     },
     "metadata": {},
     "output_type": "display_data"
    }
   ],
   "source": [
    "problem_0.solution"
   ]
  },
  {
   "cell_type": "markdown",
   "id": "66b8e6c5",
   "metadata": {},
   "source": [
    "## Initialize optimization\n",
    "\n",
    "Now we can turn towards optimization. To this end, we use the optimization methods provided by the `nlopt` package. For simplicity, we use the well-known Nelder-Mead method. Note, however, that `nlopt` allows for a wide range of different methods.\n",
    "\n",
    "The `nlopt` for optimization requires a `loss` function, i.e. the optimization functional, which takes a set of real-valued parameters (called `x` here). One may also provide a function for the gradient but this is only required if a gradient-based optimization method is employed, which we do not study in this notebook on gradient-free optimization. Hence, we set the gradient to `None`.\n",
    "\n",
    "The `loss` function takes the list `x`, which contains our optimization parameters, i.e., the amplitude $E_{0}$ and the pulse duration $\\Delta T$ on input, and returns the infidelity. Specifically, `loss` returns zero if and only if the dynamics obtained from the parameters in the set `x` transfers the initial state $\\ket{\\Psi(0)}$ perfectly into the target state, i.e.,\n",
    "\n",
    "$$\n",
    "\\ket{\\Psi(0)} =\n",
    "\\ket{0}\n",
    "\\longrightarrow\n",
    "\\ket{\\Psi\\left(T\\right)} =\n",
    "\\ket{1}\n",
    "$$"
   ]
  },
  {
   "cell_type": "code",
   "execution_count": 17,
   "id": "873f9cbc",
   "metadata": {},
   "outputs": [],
   "source": [
    "def population(state, level):\n",
    "    return abs(state[level][0][0]) ** 2\n",
    "\n",
    "def loss(x, grad=None):\n",
    "    global iterations\n",
    "    global obtained_fidelities\n",
    "    global omega\n",
    "    global tlist\n",
    "    iterations += 1\n",
    "    # map the optimization parameters from the set x to the amplitude and duration\n",
    "    E_0 = x[0]\n",
    "    ΔT = x[1]\n",
    "    T = tlist[-1]\n",
    "    t_i = T / 2 - ΔT / 2\n",
    "    t_f = T / 2 + ΔT / 2\n",
    "    # define the Hamiltonian\n",
    "    H, ket0, ket1 = ham_and_states(omega, E_0, t_i, t_f)\n",
    "\n",
    "    # simulate the dynamics\n",
    "    output = qutip.mesolve(H, ket0, tlist)\n",
    "\n",
    "    # define the fidelity of the outcome\n",
    "    def fid(psi):\n",
    "        return population(psi, level=1)\n",
    "\n",
    "    # calculate the fidelity for the dynamics under the parameters from set x\n",
    "    fidelity = fid(output.states[-1])\n",
    "    obtained_fidelities.append(fidelity)\n",
    "\n",
    "    print(\n",
    "        f\"Iteration: {iterations:}, current fidelity {fidelity:8.4f}\", end=\"\\r\"\n",
    "    )\n",
    "    # return the error (this is our optimization functional)\n",
    "    return 1.0 - fidelity"
   ]
  },
  {
   "cell_type": "markdown",
   "id": "400d087f",
   "metadata": {},
   "source": [
    "## Problem 1 - Run optimization\n",
    "\n",
    "Next, we can run the actual optimization. It requires us to define lower and\n",
    "upper bounds for all parameters that should be optimized. In our case, we\n",
    "choose\n",
    "\n",
    "$$\n",
    "0 \\leq E_{0} \\leq 10,\n",
    "\\qquad\n",
    "0 \\leq \\Delta T \\leq T.\n",
    "$$\n",
    "\n",
    "Note that we need to provide guess values for the two parameters. The order\n",
    "that the parameters should appear in is as follows\n",
    "\n",
    "* `E_0`\n",
    "* `ΔT`\n",
    "\n",
    "The choice of the guess values will often have an appreciable impact on the general success of the optimized solution and can even affect its form since many optimization problems allow for many different solutions.\n",
    "Your task is now to fill in the upper optimization bounds and to try different\n",
    "guesses to evaluate their impact on the optimization."
   ]
  },
  {
   "cell_type": "code",
   "execution_count": 23,
   "id": "f9a93e6d",
   "metadata": {},
   "outputs": [
    {
     "name": "stdout",
     "output_type": "stream",
     "text": [
      "Iteration: 15, current fidelity   0.9995\n",
      "\n",
      "Highest fidelity reached:  99.95%\n",
      "\tcongratulations, you have obtained population inversion!\n"
     ]
    }
   ],
   "source": [
    "# define lower and upper bounds for E_0 and pulse duration that are to be optimized\n",
    "bounds_lower = [0,0]\n",
    "bounds_upper = [10.0,T]\n",
    "\n",
    "## determine guess parameters for all parameters that are optimized\n",
    "# set guess parameters for all parameters that are optimized\n",
    "guess = [0.5,5.0]\n",
    "\n",
    "# specify the optimization method and the number of parameters that should be optimized\n",
    "# (given here by len(bounds_lower))\n",
    "opt = nlopt.opt(nlopt.LN_NELDERMEAD, len(bounds_lower))\n",
    "\n",
    "# set the lower and upper bound for the optimization\n",
    "opt.set_lower_bounds(bounds_lower)\n",
    "opt.set_upper_bounds(bounds_upper)\n",
    "opt.set_maxeval(500)\n",
    "\n",
    "# set the objective that should be optimized (note that this implies minimization)\n",
    "opt.set_min_objective(loss)\n",
    "\n",
    "# fidelity above which the optimization should be stopped\n",
    "fid_min = 0.999\n",
    "\n",
    "# define below which value, i.e., error, to stop the optimization\n",
    "opt.set_stopval(1.-fid_min)\n",
    "\n",
    "# perform the optimization\n",
    "obtained_fidelities = []\n",
    "iterations = 0\n",
    "x = opt.optimize(guess)\n",
    "\n",
    "print('\\n\\nHighest fidelity reached: {:6.2f}%'.format(100.0*(1-opt.last_optimum_value())))\n",
    "if opt.last_optimum_value() > 1-fid_min:\n",
    "    print('\\tbad guess, please try again!')\n",
    "else:\n",
    "    print('\\tcongratulations, you have obtained population inversion!')"
   ]
  },
  {
   "cell_type": "code",
   "execution_count": 5,
   "id": "910e4a06",
   "metadata": {},
   "outputs": [],
   "source": [
    "# problem_1.hint"
   ]
  },
  {
   "cell_type": "code",
   "execution_count": 19,
   "id": "9b71c54e",
   "metadata": {},
   "outputs": [
    {
     "data": {
      "text/html": [
       "<p style=\"color:#6495ed;font-size:20px;\">Solution:</p>"
      ],
      "text/plain": [
       "<IPython.core.display.HTML object>"
      ]
     },
     "metadata": {},
     "output_type": "display_data"
    },
    {
     "data": {
      "text/markdown": [
       "\n",
       "```python\n",
       "bounds_lower = [0,0]\n",
       "bounds_upper = [10.0, T]\n",
       "guess = [0.5, 5.0]\n",
       "```\n"
      ],
      "text/plain": [
       "<IPython.core.display.Markdown object>"
      ]
     },
     "metadata": {},
     "output_type": "display_data"
    }
   ],
   "source": [
    "problem_1.solution"
   ]
  },
  {
   "cell_type": "code",
   "execution_count": 21,
   "id": "7491e3be",
   "metadata": {},
   "outputs": [
    {
     "data": {
      "text/plain": [
       "Text(0, 0.5, 'fidelity')"
      ]
     },
     "execution_count": 21,
     "metadata": {},
     "output_type": "execute_result"
    },
    {
     "data": {
      "image/png": "[encoded data removed]",
      "text/plain": [
       "<Figure size 432x288 with 1 Axes>"
      ]
     },
     "metadata": {
      "needs_background": "light"
     },
     "output_type": "display_data"
    }
   ],
   "source": [
    "# plot the results\n",
    "plt.plot(range(len(obtained_fidelities)), obtained_fidelities, marker='x')\n",
    "plt.xlabel('optimization iterations')\n",
    "plt.ylabel('fidelity')"
   ]
  },
  {
   "cell_type": "markdown",
   "id": "c9e72fbe",
   "metadata": {},
   "source": [
    "## Analyze optimization results\n",
    "\n",
    "After the optimization we can verify the optimization result by plotting the\n",
    "pulse as well as the resulting dynamics."
   ]
  },
  {
   "cell_type": "code",
   "execution_count": 22,
   "id": "95543007",
   "metadata": {},
   "outputs": [
    {
     "name": "stdout",
     "output_type": "stream",
     "text": [
      "E_0 = 1.041\n",
      "ΔT  = 7.236\n"
     ]
    },
    {
     "data": {
      "image/png": "[encoded data removed]",
      "text/plain": [
       "<Figure size 432x288 with 1 Axes>"
      ]
     },
     "metadata": {
      "needs_background": "light"
     },
     "output_type": "display_data"
    }
   ],
   "source": [
    "evolve_and_plot_parameterized_pulse(E_0=x[0], ΔT=x[1])\n",
    "print('E_0 = {:.3f}\\nΔT  = {:.3f}'.format(x[0], x[1]))"
   ]
  },
  {
   "cell_type": "markdown",
   "id": "8fb63c8a",
   "metadata": {},
   "source": [
    "Try to vary the guess parameters and obtain different solutions. Can\n",
    "you obtain a pulse which only brings half the population to the excited state? Or a pulse which makes the population go to the excited state and then perfectly back to the ground state again?\n",
    "\n",
    "It turns out that for these optimization tasks in this problem there is an infinite amount of solutions.\n",
    "This is because already a single parameter would be sufficient to\n",
    "achieve the target objective and we over-parameterize the problem with\n",
    "two parameters. However, in an actual experiment, there are often additional\n",
    "constraints, e.g., on the maximum amplitude. Set the upper bound for\n",
    "$E_0$ to $2.0$ (make sure to set the guess value a bit below that).\n",
    "Can you still obtain solutions with $\\Delta T <3.5$?"
   ]
  },
  {
   "cell_type": "markdown",
   "id": "e09f45ed",
   "metadata": {},
   "source": [
    "## Next steps"
   ]
  },
  {
   "cell_type": "markdown",
   "id": "7be21b61",
   "metadata": {},
   "source": [
    "To continue exploring the optimization of parameterized pulses with NLOpt in a more complex system, you can proceed with [Exercise II.2](py_exercise_2_2_lambda.ipynb) for the optimization of STIRAP in a three-level system.\n",
    "Alternatively, if you are interested in optimization with a gradient-based approach, we recommend to have a look at [Exercise III.1](py_exercise_3_1_TLS.ipynb) in which Krotov's method is used for the opimization you studied in this notebook."
   ]
  },
  {
   "cell_type": "markdown",
   "id": "321aff91",
   "metadata": {},
   "source": [
    "<!-- Autofooter begin -->\n",
    "\n",
    "---\n",
    "\n",
    "[⬆︎ jump to top](#navtitle_2_1_py)\n",
    "<!-- Autofooter end -->"
   ]
  }
 ],
 "metadata": {
  "kernelspec": {
   "display_name": "Python (local .venv)",
   "language": "python",
   "name": "python-localvenv"
  },
  "language_info": {
   "codemirror_mode": {
    "name": "ipython",
    "version": 3
   },
   "file_extension": ".py",
   "mimetype": "text/x-python",
   "name": "python",
   "nbconvert_exporter": "python",
   "pygments_lexer": "ipython3",
   "version": "3.10.14"
  }
 },
 "nbformat": 4,
 "nbformat_minor": 5
}
