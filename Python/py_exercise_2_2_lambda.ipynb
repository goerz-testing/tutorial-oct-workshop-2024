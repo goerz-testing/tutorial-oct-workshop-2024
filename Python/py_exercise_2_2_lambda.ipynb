{
 "cells": [
  {
   "cell_type": "markdown",
   "id": "399c930c",
   "metadata": {},
   "source": [
    "<!-- Autoheader begin -->\n",
    "<hr/>\n",
    "<div id=\"navtitle_2_2_py\" style=\"text-align:center; font-size:16px\">II.2 Parameter Optimization for STIRAP</div>\n",
    "<hr/>\n",
    "<table style=\"width: 100%\">\n",
    "  <tr>\n",
    "    <th rowspan=\"2\" style=\"width:33%; text-align:center; font-size:16px\">\n",
    "        <a href=\"py_exercise_2_1_TLS.ipynb\">$\\leftarrow$ previous notebook </a><br>\n",
    "        <a href=\"py_exercise_2_1_TLS.ipynb\" style=\"font-size:13px\">II.1 Population Inversion in a Two-Level-System using Parameter Optimization</a>\n",
    "    </th>\n",
    "    <td style=\"width:33%; text-align:center; font-size:16px\">\n",
    "        <a href=\"py_exercise_1_2_lambda.ipynb\">$\\uparrow$ previous part $\\uparrow$</a><br>\n",
    "        <a href=\"py_exercise_1_2_lambda.ipynb\" style=\"font-size:13px\">I.2 Population Transfer in a Three-Level-System with STIRAP</a>\n",
    "    </td>\n",
    "    <th rowspan=\"2\" style=\"width:33%; text-align:center; font-size:16px\">\n",
    "        <a href=\"py_exercise_2_3_chiral.ipynb\">next notebook $\\rightarrow$</a><br>\n",
    "        <a href=\"py_exercise_2_3_chiral.ipynb\" style=\"font-size:13px\">II.3 Parameter Optimization of Three-Wave Mixing in a Three-Level System</a>\n",
    "    </th>\n",
    "  </tr>\n",
    "  <tr style=\"width: 100%\">\n",
    "    <td style=\"width:33%; text-align:center; font-size:16px\">\n",
    "        <a href=\"py_exercise_3_2_lambda.ipynb\" style=\"font-size:13px\">III.2 Optimal Control for STIRAP</a><br>\n",
    "        <a href=\"py_exercise_3_2_lambda.ipynb\">$\\downarrow$ next part $\\downarrow$</a>\n",
    "    </td>\n",
    "  </tr>\n",
    "</table>\n",
    "\n",
    "<div style=\"text-align: right;font-size: 16px\"><a href=\"../Julia/jl_exercise_2_2_lambda.ipynb\">👉 Julia version</a></div>\n",
    "\n",
    "---\n",
    "<!-- Autoheader end -->"
   ]
  },
  {
   "cell_type": "markdown",
   "id": "58599176",
   "metadata": {},
   "source": [
    "# Parameter Optimization for STIRAP"
   ]
  },
  {
   "cell_type": "markdown",
   "id": "2532d42d",
   "metadata": {},
   "source": [
    "$\\newcommand{tr}[0]{\\operatorname{tr}}\n",
    "\\newcommand{diag}[0]{\\operatorname{diag}}\n",
    "\\newcommand{abs}[0]{\\operatorname{abs}}\n",
    "\\newcommand{pop}[0]{\\operatorname{pop}}\n",
    "\\newcommand{aux}[0]{\\text{aux}}\n",
    "\\newcommand{opt}[0]{\\text{opt}}\n",
    "\\newcommand{tgt}[0]{\\text{tgt}}\n",
    "\\newcommand{init}[0]{\\text{init}}\n",
    "\\newcommand{lab}[0]{\\text{lab}}\n",
    "\\newcommand{rwa}[0]{\\text{rwa}}\n",
    "\\newcommand{bra}[1]{\\langle#1\\vert}\n",
    "\\newcommand{ket}[1]{\\vert#1\\rangle}\n",
    "\\newcommand{Bra}[1]{\\left\\langle#1\\right\\vert}\n",
    "\\newcommand{Ket}[1]{\\left\\vert#1\\right\\rangle}\n",
    "\\newcommand{Braket}[2]{\\left\\langle #1\\vphantom{#2} \\mid\n",
    "#2\\vphantom{#1}\\right\\rangle}\n",
    "\\newcommand{op}[1]{\\hat{#1}}\n",
    "\\newcommand{Op}[1]{\\hat{#1}}\n",
    "\\newcommand{dd}[0]{\\,\\text{d}}\n",
    "\\newcommand{Liouville}[0]{\\mathcal{L}}\n",
    "\\newcommand{DynMap}[0]{\\mathcal{E}}\n",
    "\\newcommand{identity}[0]{\\mathbf{1}}\n",
    "\\newcommand{Norm}[1]{\\lVert#1\\rVert}\n",
    "\\newcommand{Abs}[1]{\\left\\vert#1\\right\\vert}\n",
    "\\newcommand{avg}[1]{\\langle#1\\rangle}\n",
    "\\newcommand{Avg}[1]{\\left\\langle#1\\right\\rangle}\n",
    "\\newcommand{AbsSq}[1]{\\left\\vert#1\\right\\vert^2}\n",
    "\\newcommand{Re}[0]{\\operatorname{Re}}\n",
    "\\newcommand{Im}[0]{\\operatorname{Im}}$"
   ]
  },
  {
   "cell_type": "markdown",
   "id": "d1b4944d",
   "metadata": {},
   "source": [
    "In this notebook we return to the three-level-system in a Lambda configuration introduced in [Exercise I.2](py_exercise_1_2_lambda.ipynb). Our goal remains to achieve population transform from level 1 to level 3 without populating the intermediate level 2. In this notebook you will learn how to use gradient-free parameter optimization for this purpose. A particularly important part of the optimization is the definition of an appropriate optimization functional which incorporates the goal to avoid populating level 2 as an additional condition."
   ]
  },
  {
   "cell_type": "markdown",
   "id": "fa315432",
   "metadata": {},
   "source": [
    "## Setup"
   ]
  },
  {
   "cell_type": "code",
   "execution_count": null,
   "id": "95b9243e",
   "metadata": {},
   "outputs": [],
   "source": [
    "import qutip as qt  # QUantum Toolbox In Python\n",
    "import numpy as np  # package for numerical functions such as cos, sin, etc.\n",
    "import matplotlib.pylab as plt\n",
    "import nlopt\n",
    "import functools\n",
    "from scipy.integrate import complex_ode\n",
    "\n",
    "# Some utilities for showing hints and solutions\n",
    "from utils.exercise_2_lambda import *"
   ]
  },
  {
   "cell_type": "markdown",
   "id": "760fa7f6",
   "metadata": {},
   "source": [
    "## Model"
   ]
  },
  {
   "cell_type": "markdown",
   "id": "d9aa6f3b",
   "metadata": {},
   "source": [
    "As a reminder, the STIRAP Hamiltonian is given by the following expression\n",
    "\n",
    "\\begin{align} H_{\\text{STIRAP}}=\\begin{pmatrix}0 & \\frac{1}{2}\\Omega^{*}_{\\text{P}}(t)\\\\\n",
    "\\frac{1}{2}\\Omega_{\\text{P}}(t) & \\Delta_\\text{P} & \\frac{1}{2}\\Omega^{*}_{\\text{S}}(t)\\\\\n",
    "& \\frac{1}{2}\\Omega_{\\text{S}}(t) & \\Delta_\\text{P}-\\Delta_\\text{S} \\end{pmatrix}\n",
    "\\end{align}\n",
    "\n",
    "and gives rise to a level scheme in a Lambda configuration\n",
    "\n",
    "<center><img src=\"../figures/lambda_system_levels.png\" alt=\"Lambda system considered in this notebook\" width=\"500\"></center>\n",
    "\n",
    "We now use parameter optimization to find the right pulse shapes, assuming once again a Gaussian pulse shape for simplicity. Furthermore we assume to be on two-photon resonance and fix the single-photon detuning at $\\Delta \\equiv \n",
    "\\Delta_\\text{P} = 1$ which defines a reference energy. Therefore there are 3 parameters for each pulse which can be individually tuned: Its temporal position, its temporal width and its strength resulting. All in all, we have a total of 6 parameters.\n",
    "\n",
    "Our functional will thus take a list of these 6 parameters as an input to calculate how close we are to the following two goals:\n",
    "\n",
    " 1. At final time, all population should be in state 3.\n",
    " 2. Throughout the evolution, population in 2 should be kept as close to zero as possible.\n",
    "\n",
    "A straightforward approach to construct functionals which take multiple physical goals into account is to simply sum up functionals for each of the individual goals. In our case this is achieved with the following definition,\n",
    "\n",
    "\\begin{align}\n",
    "    \\mathcal{F} &= \\Braket{3}{\\psi (t_f)} - \\frac{1}{T} \\int_{t_i}^{t_f} \\Braket{2}{\\psi(t)} dt \\,,\n",
    "\\end{align}\n",
    "\n",
    "where $t_i$, $t_f$ is the initial resp. final time and $T=t_f - t_i$ is the\n",
    "total duration of the protocol. This fidelity has a maximum value of $1$ corresponding to both goals being achieved perfectly, i.e., the final state of the evolution is $\\ket{3}$ and there is no poulation in $\\ket{2}$ during the\n",
    "entire protocol. Since we frame our optimizations as minimizations, we thus attempt to minimize the functional $1 - \\mathcal{F}$ in the following.\n",
    "\n",
    "The optimization functional will in the following be encoded by the function `f_stirap` which can be passed to the\n",
    "non-linear optimization library `nlopt`."
   ]
  },
  {
   "cell_type": "markdown",
   "id": "76576fb5",
   "metadata": {},
   "source": [
    "## Shape functions"
   ]
  },
  {
   "cell_type": "markdown",
   "id": "74182667",
   "metadata": {},
   "source": [
    "First we define the pulse shape functions and the Hamiltonian."
   ]
  },
  {
   "cell_type": "code",
   "execution_count": null,
   "id": "58d2baf0",
   "metadata": {},
   "outputs": [],
   "source": [
    "def gaussian_shape(t, kwargs):\n",
    "    \"\"\"\n",
    "    Gaussian shape function centered around kwargs[\"t_0\"] with width kwargs[\"\\sigma\"]^2\n",
    "    \"\"\"\n",
    "    return np.exp(-1/2*(t - kwargs[\"t_0\"])**2/kwargs[\"σ\"]**2) / np.sqrt(2*np.pi*kwargs[\"σ\"])"
   ]
  },
  {
   "cell_type": "code",
   "execution_count": null,
   "id": "dafcbe04",
   "metadata": {},
   "outputs": [],
   "source": [
    "def pump_shape(t, kwargs):\n",
    "    \"\"\"\n",
    "    Shape function for the pump pulse\n",
    "    \"\"\"\n",
    "    return gaussian_shape(t, {\"t_0\": kwargs[\"t_p\"], \"σ\": kwargs[\"σ_p\"]})"
   ]
  },
  {
   "cell_type": "code",
   "execution_count": null,
   "id": "6655a03f",
   "metadata": {},
   "outputs": [],
   "source": [
    "def stokes_shape(t, kwargs):\n",
    "    \"\"\"\n",
    "    Shape function for the Stokes pulse\n",
    "    \"\"\"\n",
    "    return gaussian_shape(t, {\"t_0\": kwargs[\"t_s\"], \"σ\": kwargs[\"σ_s\"]})"
   ]
  },
  {
   "cell_type": "code",
   "execution_count": null,
   "id": "c1e67b01",
   "metadata": {},
   "outputs": [],
   "source": [
    "def h_stirap(t, kwargs, qutip=True):\n",
    "    \"\"\"\n",
    "    Function returning the STIRAP Hamiltonian as a QuTiP object\n",
    "    \"\"\"\n",
    "    Ω_p = pump_shape(t, kwargs)\n",
    "    Ω_s = stokes_shape(t, kwargs)\n",
    "\n",
    "    out = np.zeros(shape=(3,3), dtype=complex)\n",
    "    out[1,1] = kwargs[\"Δ\"]\n",
    "\n",
    "    out[0,1] = kwargs[\"d_12\"] * Ω_p / 2\n",
    "    out[1,0] = np.conj(out[0,1])\n",
    "\n",
    "    out[1,2] = kwargs[\"d_23\"] * Ω_s / 2\n",
    "    out[2,1] = np.conj(out[1,2])\n",
    "\n",
    "    if qutip:\n",
    "        return qt.Qobj(out)\n",
    "    return out"
   ]
  },
  {
   "cell_type": "markdown",
   "id": "55b552f4",
   "metadata": {},
   "source": [
    "## Parameter optimization"
   ]
  },
  {
   "cell_type": "markdown",
   "id": "b7e8b08b",
   "metadata": {},
   "source": [
    "Now we can define the optimization functional. To speed up the optimization we will not use the solver provided by `QuTip` but rather the more efficient `scipy.integrate.complex_ode`."
   ]
  },
  {
   "cell_type": "code",
   "execution_count": null,
   "id": "d095551f",
   "metadata": {},
   "outputs": [],
   "source": [
    "def schroedinger_ode(t, y, kwargs):\n",
    "    \"\"\"\n",
    "    The Schroedinger differential equation\n",
    "    \"\"\"\n",
    "    h = h_stirap(t, kwargs, qutip=False)\n",
    "    return -1j*h @ y\n",
    "\n",
    "def f_stirap(x, grad=None):\n",
    "    \"\"\"\n",
    "    Functional for STIRAP parameter optimization\n",
    "    \"\"\"\n",
    "    global iterations\n",
    "    global obtained_functional_values\n",
    "    iterations += 1\n",
    "    kwargs = {\n",
    "    \"t_p\": x[0], # Center of the Pump pulse\n",
    "    \"t_s\": x[1], # Center of the Stokes pulse\n",
    "\n",
    "    \"σ_p\": x[2], # Width of the Pump pulse\n",
    "    \"σ_s\": x[3], # Width of the Stokes pulse\n",
    "\n",
    "    \"Δ\": 1, # Single-photon detuning\n",
    "    \"d_12\": x[4], # Electric-dipole moment for 1-2 transition / Pump Strength\n",
    "    \"d_23\": x[5], # Electric-dipole moment for 2-3 transition / Stokes Strength\n",
    "    }\n",
    "\n",
    "    schroedinger_ode_with_args = functools.partial(schroedinger_ode, kwargs=kwargs)\n",
    "    ode_solver = complex_ode(schroedinger_ode_with_args)\n",
    "    ode_solver = ode_solver.set_initial_value(np.array(psi_0)[:,0], t_list.min())\n",
    "\n",
    "    y_sol, t_sol = [ode_solver.y], [ode_solver.t]\n",
    "    while ode_solver.successful() and ode_solver.t < t_list.max():\n",
    "        ode_solver.integrate(ode_solver.t+dt)\n",
    "        y_sol.append(ode_solver.y)\n",
    "        t_sol.append(ode_solver.t)\n",
    "    y_sol, t_sol = np.array(y_sol), np.array(t_sol)\n",
    "\n",
    "    functional_value = 1 - (abs(y_sol[-1,-1])**2 - np.sum(np.abs(y_sol[:,1])**2)/len(t_sol))\n",
    "\n",
    "    obtained_values.append(functional_value)\n",
    "\n",
    "    print(f\"Iteration: {iterations:}, current functional value {functional_value:8.4f}\", end=\"\\r\")\n",
    "    return functional_value\n",
    "\n",
    "t_list, dt = np.linspace(-400, 400, 100, retstep=True) # time-interval\n",
    "\n",
    "p1, p2, p3 = qt.projection(3,0,0), qt.projection(3,1,1), qt.projection(3,2,2)\n",
    "\n",
    "psi_0 = qt.basis(3, 0) # initial state\n",
    "print(\"Initial state: \")\n",
    "display(psi_0)"
   ]
  },
  {
   "cell_type": "markdown",
   "id": "44e287fc",
   "metadata": {},
   "source": [
    "### Problem 1: Choosing a guess pulse and running the optimization"
   ]
  },
  {
   "cell_type": "markdown",
   "id": "39a2a6d1",
   "metadata": {},
   "source": [
    "In order for the optimization to be successful, we need to specify bounds for\n",
    "the optimization parameters. Moreover, the result of the optimization heavily\n",
    "depends on the initial guess parameters. Try finding a set of initial\n",
    "parameters that will converge to 99% fidelity!"
   ]
  },
  {
   "cell_type": "code",
   "execution_count": null,
   "id": "53c26ba8",
   "metadata": {},
   "outputs": [],
   "source": [
    "# define lower and upper bounds for three pulse durations, three phis and three\n",
    "# E0s that are to be optimized\n",
    "bounds_lower = [-200,-200, 10,10, 0,0]\n",
    "bounds_upper = [200,200, 80,80, 100,100]\n",
    "\n",
    "## determine guess parameters for all parameters that are optimized\n",
    "# set guess parameters for all parameters that are optimized\n",
    "# The order is [t_p, t_s, σ_p, σ_s, d_12, d_23]\n",
    "guess=[insert_guess_parameters_here]\n",
    "\n",
    "# specify the optimization method and the number of parameters that should be optimized\n",
    "# (given here by len(bounds_lower))\n",
    "opt = nlopt.opt(nlopt.LN_NELDERMEAD, len(bounds_lower))\n",
    "\n",
    "# set the lower and upper bound for the optimization\n",
    "opt.set_lower_bounds(bounds_lower)\n",
    "opt.set_upper_bounds(bounds_upper)\n",
    "opt.set_maxeval(200)\n",
    "\n",
    "# set the objective that should be optimized (note that this implies minimisation)\n",
    "opt.set_min_objective(f_stirap)\n",
    "\n",
    "# fidelity above which the optimization should be stopped\n",
    "fid_min = 0.99\n",
    "\n",
    "# define below which value, i.e., error, to stop the optimization\n",
    "opt.set_stopval(1.-fid_min)\n",
    "\n",
    "# perform the optimization\n",
    "obtained_values = []\n",
    "iterations = 0\n",
    "x = opt.optimize(guess)\n",
    "\n",
    "print('\\n\\nHighest fidelity reached: {:6.2f}%'.format(100.0*(1.-opt.last_optimum_value())))\n",
    "if opt.last_optimum_value() > 1-fid_min:\n",
    "    print('\\tbad guess, please try again!')\n",
    "else:\n",
    "    print('\\tcongratulations, you have found a perfect STIRAP protocol!')"
   ]
  },
  {
   "cell_type": "code",
   "execution_count": null,
   "id": "6e25ab51",
   "metadata": {
    "lines_to_next_cell": 0
   },
   "outputs": [],
   "source": [
    "#problem_1.hint\n",
    "#problem_1.solution"
   ]
  },
  {
   "cell_type": "markdown",
   "id": "3556e4c6",
   "metadata": {},
   "source": [
    "## Analyze optimization results"
   ]
  },
  {
   "cell_type": "markdown",
   "id": "b6466a2c",
   "metadata": {},
   "source": [
    "Finally, let's have a look at the optimized results:"
   ]
  },
  {
   "cell_type": "code",
   "execution_count": null,
   "id": "9fe83dbc",
   "metadata": {
    "lines_to_next_cell": 2
   },
   "outputs": [],
   "source": [
    "kwargs = {\n",
    "    \"t_p\": x[0], # Center of the Pump pulse\n",
    "    \"t_s\": x[1], # Center of the Stokes pulse\n",
    "\n",
    "    \"σ_p\": x[2], # Width of the Pump pulse\n",
    "    \"σ_s\": x[3], # Width of the Stokes pulse\n",
    "\n",
    "    \"Δ\": 1, # Single-photon detuning\n",
    "    \"d_12\": x[4], # Electric-dipole moment for 1-2 transition / Pump Strength\n",
    "    \"d_23\": x[5], # Electric-dipole moment for 2-3 transition / Stokes Strength\n",
    "    }\n",
    "\n",
    "se_result = qt.sesolve(h_stirap, psi_0, t_list, args=kwargs, e_ops=[p1,p2,p3])\n",
    "\n",
    "fig, ax = plt.subplots(1,2, figsize=(10,4))\n",
    "\n",
    "ax[0].plot(t_list, pump_shape(t_list, kwargs), label=\"pump\")\n",
    "ax[0].plot(t_list, stokes_shape(t_list, kwargs), label=\"stokes\")\n",
    "ax[0].set_xlabel(\"time\")\n",
    "ax[0].set_ylabel(r\"$\\Omega(t)$\")\n",
    "ax[0].legend()\n",
    "\n",
    "for i_state, population in enumerate(se_result.expect):\n",
    "    ax[1].plot(t_list, population, label=f\"level {i_state+1}\")\n",
    "ax[1].legend()\n",
    "ax[1].set_xlabel(\"time\")\n",
    "ax[1].set_ylabel(\"Populations\")\n",
    "plt.show()"
   ]
  },
  {
   "cell_type": "markdown",
   "id": "3bf97404",
   "metadata": {},
   "source": [
    "## Next steps"
   ]
  },
  {
   "cell_type": "markdown",
   "id": "125148d4",
   "metadata": {},
   "source": [
    "To go another step up in system complexity with parameter optimization we recommend [Exercise II.3](py_exercise_2_3_chiral.ipynb) which discusses the very interesting case of three-wave-mixing in a chiral molecule modelled by a three-level system. Alternatively, if you are interested in optimization with a gradient-based approach, we recommend to have a look at [Exercise III.2](py_exercise_3_2_lambda.ipynb)  in which Krotov's method is used for the opimization you studied in this notebook."
   ]
  },
  {
   "cell_type": "markdown",
   "id": "15230e81",
   "metadata": {},
   "source": [
    "<!-- Autofooter begin -->\n",
    "\n",
    "---\n",
    "\n",
    "[⬆︎ jump to top](#navtitle_2_2_py)\n",
    "<!-- Autofooter end -->"
   ]
  }
 ],
 "metadata": {
  "kernelspec": {
   "display_name": "Python 3",
   "language": "python",
   "name": "python3"
  },
  "language_info": {
   "codemirror_mode": {
    "name": "ipython",
    "version": 3
   },
   "file_extension": ".py",
   "mimetype": "text/x-python",
   "name": "python",
   "nbconvert_exporter": "python",
   "pygments_lexer": "ipython3",
   "version": "3.9.2"
  }
 },
 "nbformat": 4,
 "nbformat_minor": 5
}
